{
 "cells": [
  {
   "cell_type": "code",
   "execution_count": 1,
   "metadata": {},
   "outputs": [],
   "source": [
    "import os\n",
    "import numpy as np\n",
    "import pandas as pd\n",
    "from sklearn.metrics import roc_auc_score\n",
    "from sklearn.metrics import recall_score\n",
    "from sklearn.metrics import precision_score\n",
    "from sklearn.metrics import confusion_matrix\n",
    "from sklearn.preprocessing import LabelEncoder\n",
    "from sklearn.model_selection import StratifiedKFold\n",
    "\n",
    "from matplotlib import pyplot as plt\n",
    "import seaborn as sns\n",
    "import torch\n",
    "import torch.nn as nn\n",
    "from pytorch_tabnet.tab_model import TabNetClassifier"
   ]
  },
  {
   "cell_type": "code",
   "execution_count": 2,
   "metadata": {},
   "outputs": [],
   "source": [
    "#!pip install \"git+https://github.com/dreamquark-ai/tabnet.git@develop#egg=pytorch_tabnet\" --upgrade"
   ]
  },
  {
   "cell_type": "code",
   "execution_count": 2,
   "metadata": {},
   "outputs": [],
   "source": [
    "train=pd.read_csv('../train.csv')\n",
    "test=pd.read_csv('../test.csv')\n",
    "train=train.drop('FRST_RCV_DT', axis=1)\n",
    "test=test.drop('FRST_RCV_DT', axis=1)\n",
    "target='FDS_CATH'"
   ]
  },
  {
   "cell_type": "code",
   "execution_count": 3,
   "metadata": {},
   "outputs": [
    {
     "data": {
      "text/plain": [
       "Index(['NIGHT_ACDNT_YN', 'ACDNT_CLAS_CD2', 'CAR_TYPE_NM', 'INSR_TYPE_NM',\n",
       "       'NON_FALT_CLAS_CD', 'INDM_EXPC_CD', 'OAI_FALT_RATE_G', 'CURE_YN',\n",
       "       'LBS_START', 'FRAUD_DOUBT_CD', 'DISPATCH_TOWING', 'DRUNK_A',\n",
       "       'NO_LICENSE', 'DRUNK_YN', 'LICNS_TYPE_CD', 'DRIVER_VOCTN_TST_GAP_G',\n",
       "       'LIC_2MOTO', 'DRIVER_LICNS_STAT', 'LICNS_CANCEL_YN',\n",
       "       'DRIVER_INFO_AGREE', 'ACDNT_TOTAL_TEXT_1', 'FDS_CATH'],\n",
       "      dtype='object')"
      ]
     },
     "execution_count": 3,
     "metadata": {},
     "output_type": "execute_result"
    }
   ],
   "source": [
    "train.columns"
   ]
  },
  {
   "cell_type": "code",
   "execution_count": 4,
   "metadata": {},
   "outputs": [
    {
     "name": "stdout",
     "output_type": "stream",
     "text": [
      "(118888, 22)\n",
      "(17661, 22)\n"
     ]
    }
   ],
   "source": [
    "print(train.shape)\n",
    "print(test.shape)"
   ]
  },
  {
   "cell_type": "code",
   "execution_count": 5,
   "metadata": {},
   "outputs": [
    {
     "name": "stdout",
     "output_type": "stream",
     "text": [
      "0    0.969812\n",
      "1    0.030188\n",
      "Name: FDS_CATH, dtype: float64\n"
     ]
    }
   ],
   "source": [
    "print(train['FDS_CATH'].value_counts()/len(train))"
   ]
  },
  {
   "cell_type": "code",
   "execution_count": 6,
   "metadata": {},
   "outputs": [
    {
     "name": "stdout",
     "output_type": "stream",
     "text": [
      "0    0.987034\n",
      "1    0.012966\n",
      "Name: FDS_CATH, dtype: float64\n"
     ]
    }
   ],
   "source": [
    "print(test['FDS_CATH'].value_counts()/len(test))"
   ]
  },
  {
   "cell_type": "markdown",
   "metadata": {},
   "source": [
    "# **train 데이터 정제**"
   ]
  },
  {
   "cell_type": "code",
   "execution_count": 7,
   "metadata": {},
   "outputs": [
    {
     "name": "stdout",
     "output_type": "stream",
     "text": [
      "NIGHT_ACDNT_YN 2\n",
      "ACDNT_CLAS_CD2 4\n",
      "CAR_TYPE_NM 8\n",
      "INSR_TYPE_NM 4\n",
      "NON_FALT_CLAS_CD 3\n",
      "INDM_EXPC_CD 3\n",
      "OAI_FALT_RATE_G 7\n",
      "CURE_YN 3\n",
      "LBS_START 2\n",
      "FRAUD_DOUBT_CD 2\n",
      "DISPATCH_TOWING 4\n",
      "DRUNK_A 2\n",
      "NO_LICENSE 2\n",
      "DRUNK_YN 2\n",
      "LICNS_TYPE_CD 4\n",
      "DRIVER_VOCTN_TST_GAP_G 7\n",
      "LIC_2MOTO 3\n",
      "DRIVER_LICNS_STAT 3\n",
      "LICNS_CANCEL_YN 2\n",
      "DRIVER_INFO_AGREE 2\n",
      "ACDNT_TOTAL_TEXT_1 4\n",
      "FDS_CATH 2\n"
     ]
    }
   ],
   "source": [
    "nunique = train.nunique()\n",
    "types = train.dtypes\n",
    "\n",
    "categorical_columns=[]\n",
    "categorical_dims ={}\n",
    "\n",
    "for col in train.columns:\n",
    "    if types[col] == 'object' or nunique[col] <200:\n",
    "        print(col, train[col].nunique())\n",
    "        l_enc= LabelEncoder()\n",
    "        train[col]= train[col].fillna(\"VV_likely\")\n",
    "        train[col]= l_enc.fit_transform(train[col].values)\n",
    "        categorical_columns.append(col)\n",
    "        categorical_dims[col] = len(l_enc.classes_)\n",
    "    else:\n",
    "        train.fillna(train.loc[train_indices, col].mean(), inplace=True)"
   ]
  },
  {
   "cell_type": "markdown",
   "metadata": {},
   "source": [
    "# **데이터 전처리 및 모델링**"
   ]
  },
  {
   "cell_type": "code",
   "execution_count": 8,
   "metadata": {},
   "outputs": [],
   "source": [
    "features =[col for col in train.columns if col not in [target]]\n",
    "cat_idxs = [i for i, f in enumerate(features) if f in categorical_columns]\n",
    "cat_dims = [categorical_dims[f] for i, f in enumerate(features) if f in categorical_columns]"
   ]
  },
  {
   "cell_type": "code",
   "execution_count": 9,
   "metadata": {},
   "outputs": [],
   "source": [
    "train_x=train[features].values\n",
    "train_y=train[target].values"
   ]
  },
  {
   "cell_type": "code",
   "execution_count": 10,
   "metadata": {},
   "outputs": [
    {
     "name": "stdout",
     "output_type": "stream",
     "text": [
      "Device used : cpu\n"
     ]
    }
   ],
   "source": [
    "clf=TabNetClassifier(cat_idxs=cat_idxs,\n",
    "                    cat_dims=cat_dims,\n",
    "                     cat_emb_dim=10, \n",
    "                     optimizer_fn = torch.optim.Adam, \n",
    "                     optimizer_params=dict(lr=1e-2),\n",
    "                     scheduler_params={'step_size':50, \"gamma\":0.9},\n",
    "                     scheduler_fn = torch.optim.lr_scheduler.StepLR, \n",
    "                     mask_type = 'sparsemax' #sparsemax, entmax\n",
    "                    )"
   ]
  },
  {
   "cell_type": "code",
   "execution_count": 12,
   "metadata": {},
   "outputs": [
    {
     "name": "stdout",
     "output_type": "stream",
     "text": [
      "========================1=================================\n",
      "epoch 0  | loss: 0.66676 | train_auc: 0.64617 | valid_auc: 0.64208 |  0:00:34s\n",
      "epoch 1  | loss: 0.60135 | train_auc: 0.73032 | valid_auc: 0.72319 |  0:01:09s\n",
      "epoch 2  | loss: 0.58553 | train_auc: 0.74897 | valid_auc: 0.7424  |  0:01:43s\n",
      "epoch 3  | loss: 0.57647 | train_auc: 0.75947 | valid_auc: 0.74854 |  0:02:16s\n",
      "epoch 4  | loss: 0.56679 | train_auc: 0.76648 | valid_auc: 0.74078 |  0:04:24s\n",
      "epoch 5  | loss: 0.5624  | train_auc: 0.77183 | valid_auc: 0.7438  |  0:06:14s\n",
      "epoch 6  | loss: 0.56098 | train_auc: 0.77111 | valid_auc: 0.74529 |  0:06:53s\n",
      "epoch 7  | loss: 0.5603  | train_auc: 0.77573 | valid_auc: 0.74594 |  0:07:27s\n",
      "epoch 8  | loss: 0.56183 | train_auc: 0.77529 | valid_auc: 0.74631 |  0:07:59s\n",
      "epoch 9  | loss: 0.55852 | train_auc: 0.78046 | valid_auc: 0.75397 |  0:08:31s\n",
      "Stop training because you reached max_epochs = 10 with best_epoch = 9 and best_valid_auc = 0.75397\n",
      "Best weights from best epoch are automatically used!\n",
      "========================2=================================\n",
      "epoch 0  | loss: 0.55983 | train_auc: 0.77525 | valid_auc: 0.74895 |  0:00:34s\n",
      "epoch 1  | loss: 0.5551  | train_auc: 0.77327 | valid_auc: 0.74585 |  0:01:05s\n",
      "epoch 2  | loss: 0.55704 | train_auc: 0.77856 | valid_auc: 0.73551 |  0:01:35s\n",
      "epoch 3  | loss: 0.54759 | train_auc: 0.78418 | valid_auc: 0.73067 |  0:02:06s\n",
      "epoch 4  | loss: 0.54215 | train_auc: 0.79552 | valid_auc: 0.73219 |  0:02:37s\n",
      "epoch 5  | loss: 0.53673 | train_auc: 0.80188 | valid_auc: 0.72584 |  0:03:08s\n",
      "epoch 6  | loss: 0.53226 | train_auc: 0.79765 | valid_auc: 0.7151  |  0:03:39s\n",
      "epoch 7  | loss: 0.52671 | train_auc: 0.81373 | valid_auc: 0.71969 |  0:04:11s\n",
      "epoch 8  | loss: 0.52463 | train_auc: 0.81111 | valid_auc: 0.71231 |  0:04:42s\n",
      "epoch 9  | loss: 0.51679 | train_auc: 0.82187 | valid_auc: 0.72082 |  0:05:13s\n",
      "Stop training because you reached max_epochs = 10 with best_epoch = 0 and best_valid_auc = 0.74895\n",
      "Best weights from best epoch are automatically used!\n",
      "========================3=================================\n",
      "epoch 0  | loss: 0.55943 | train_auc: 0.76393 | valid_auc: 0.73758 |  0:00:36s\n",
      "epoch 1  | loss: 0.55099 | train_auc: 0.77946 | valid_auc: 0.74537 |  0:01:07s\n",
      "epoch 2  | loss: 0.54677 | train_auc: 0.79124 | valid_auc: 0.74389 |  0:01:38s\n",
      "epoch 3  | loss: 0.5415  | train_auc: 0.79017 | valid_auc: 0.74178 |  0:02:10s\n",
      "epoch 4  | loss: 0.54166 | train_auc: 0.79571 | valid_auc: 0.7398  |  0:02:42s\n",
      "epoch 5  | loss: 0.53587 | train_auc: 0.80005 | valid_auc: 0.74311 |  0:03:14s\n",
      "epoch 6  | loss: 0.53309 | train_auc: 0.80419 | valid_auc: 0.73658 |  0:03:46s\n",
      "epoch 7  | loss: 0.53248 | train_auc: 0.80222 | valid_auc: 0.74563 |  0:04:17s\n",
      "epoch 8  | loss: 0.52895 | train_auc: 0.80453 | valid_auc: 0.73484 |  0:04:47s\n",
      "epoch 9  | loss: 0.52159 | train_auc: 0.82299 | valid_auc: 0.73237 |  0:05:20s\n",
      "Stop training because you reached max_epochs = 10 with best_epoch = 7 and best_valid_auc = 0.74563\n",
      "Best weights from best epoch are automatically used!\n",
      "========================4=================================\n",
      "epoch 0  | loss: 0.54083 | train_auc: 0.79737 | valid_auc: 0.77952 |  0:00:30s\n",
      "epoch 1  | loss: 0.53022 | train_auc: 0.80173 | valid_auc: 0.75745 |  0:01:00s\n",
      "epoch 2  | loss: 0.52737 | train_auc: 0.80404 | valid_auc: 0.75978 |  0:01:31s\n",
      "epoch 3  | loss: 0.51797 | train_auc: 0.81905 | valid_auc: 0.757   |  0:02:01s\n",
      "epoch 4  | loss: 0.51409 | train_auc: 0.82013 | valid_auc: 0.75815 |  0:02:32s\n",
      "epoch 5  | loss: 0.50937 | train_auc: 0.83271 | valid_auc: 0.74329 |  0:03:04s\n",
      "epoch 6  | loss: 0.50099 | train_auc: 0.82967 | valid_auc: 0.74343 |  0:03:34s\n",
      "epoch 7  | loss: 0.50047 | train_auc: 0.83259 | valid_auc: 0.73265 |  0:04:04s\n",
      "epoch 8  | loss: 0.50393 | train_auc: 0.83417 | valid_auc: 0.74181 |  0:04:36s\n",
      "epoch 9  | loss: 0.49593 | train_auc: 0.84379 | valid_auc: 0.73865 |  0:05:12s\n",
      "Stop training because you reached max_epochs = 10 with best_epoch = 0 and best_valid_auc = 0.77952\n",
      "Best weights from best epoch are automatically used!\n",
      "========================5=================================\n",
      "epoch 0  | loss: 0.54122 | train_auc: 0.79926 | valid_auc: 0.79339 |  0:00:30s\n",
      "epoch 1  | loss: 0.53221 | train_auc: 0.79025 | valid_auc: 0.7789  |  0:01:01s\n",
      "epoch 2  | loss: 0.52623 | train_auc: 0.80208 | valid_auc: 0.769   |  0:01:32s\n",
      "epoch 3  | loss: 0.51649 | train_auc: 0.81677 | valid_auc: 0.77062 |  0:02:01s\n",
      "epoch 4  | loss: 0.51573 | train_auc: 0.82468 | valid_auc: 0.77172 |  0:02:32s\n",
      "epoch 5  | loss: 0.51293 | train_auc: 0.8242  | valid_auc: 0.76735 |  0:03:02s\n",
      "epoch 6  | loss: 0.50508 | train_auc: 0.82616 | valid_auc: 0.75469 |  0:03:34s\n",
      "epoch 7  | loss: 0.50422 | train_auc: 0.83359 | valid_auc: 0.74863 |  0:04:05s\n",
      "epoch 8  | loss: 0.50032 | train_auc: 0.84386 | valid_auc: 0.74518 |  0:04:41s\n",
      "epoch 9  | loss: 0.49017 | train_auc: 0.84227 | valid_auc: 0.74255 |  0:05:12s\n",
      "Stop training because you reached max_epochs = 10 with best_epoch = 0 and best_valid_auc = 0.79339\n",
      "Best weights from best epoch are automatically used!\n"
     ]
    }
   ],
   "source": [
    "folds=StratifiedKFold(n_splits=5, shuffle=True, random_state=42)\n",
    "max_epochs=10\n",
    "\n",
    "for n_fold, (train_index, val_index) in enumerate(folds.split(train_x, train_y)):\n",
    "    \n",
    "    print(f\"========================{n_fold+1}=================================\")\n",
    "    X_train, X_val = train_x[train_index], train_x[val_index]\n",
    "    y_train, y_val = train_y[train_index], train_y[val_index]\n",
    "    \n",
    "    clf.fit(X_train=X_train, y_train=y_train,\n",
    "           eval_set=[(X_train, y_train), (X_val, y_val)],\n",
    "           eval_name=['train', 'valid'],\n",
    "            eval_metric=['auc'],\n",
    "            max_epochs=max_epochs, patience=20, batch_size=1024, virtual_batch_size =128, num_workers=1, weights=1, drop_last=False,\n",
    "           )\n",
    "             \n",
    "    PATH='/home/users/adk8400153/AXA_FDS/tabnet_model/clf_'+str(n_fold) +'.pth'\n",
    "    torch.save(clf, PATH)"
   ]
  },
  {
   "cell_type": "markdown",
   "metadata": {},
   "source": [
    "# **test data 정제**"
   ]
  },
  {
   "cell_type": "code",
   "execution_count": 54,
   "metadata": {},
   "outputs": [
    {
     "name": "stdout",
     "output_type": "stream",
     "text": [
      "NIGHT_ACDNT_YN 2\n",
      "ACDNT_CLAS_CD2 4\n",
      "CAR_TYPE_NM 7\n",
      "INSR_TYPE_NM 4\n",
      "NON_FALT_CLAS_CD 3\n",
      "INDM_EXPC_CD 3\n",
      "OAI_FALT_RATE_G 7\n",
      "CURE_YN 3\n",
      "LBS_START 2\n",
      "FRAUD_DOUBT_CD 2\n",
      "DISPATCH_TOWING 4\n",
      "DRUNK_A 2\n",
      "NO_LICENSE 2\n",
      "DRUNK_YN 2\n",
      "LICNS_TYPE_CD 4\n",
      "DRIVER_VOCTN_TST_GAP_G 7\n",
      "LIC_2MOTO 3\n",
      "DRIVER_LICNS_STAT 3\n",
      "LICNS_CANCEL_YN 2\n",
      "DRIVER_INFO_AGREE 2\n",
      "ACDNT_TOTAL_TEXT_1 4\n",
      "FDS_CATH 2\n"
     ]
    }
   ],
   "source": [
    "#nunique = train.nunique()\n",
    "#types = train.dtypes\n",
    "\n",
    "categorical_columns=[]\n",
    "categorical_dims ={}\n",
    "\n",
    "for col in test.columns:\n",
    "    if types[col] == 'object' or nunique[col] <200:\n",
    "        print(col, test[col].nunique())\n",
    "        l_enc= LabelEncoder()\n",
    "        test[col]= test[col].fillna(\"VV_likely\")\n",
    "        test[col]= l_enc.fit_transform(test[col].values)\n",
    "        categorical_columns.append(col)\n",
    "        categorical_dims[col] = len(l_enc.classes_)\n",
    "    else:\n",
    "        test.fillna(test.loc[:, col].mean(), inplace=True)\n",
    "        \n",
    "\n",
    "test_x=test[features].values\n",
    "test_y=test[target].values"
   ]
  },
  {
   "cell_type": "code",
   "execution_count": 55,
   "metadata": {},
   "outputs": [
    {
     "data": {
      "text/plain": [
       "(17661,)"
      ]
     },
     "execution_count": 55,
     "metadata": {},
     "output_type": "execute_result"
    }
   ],
   "source": [
    "test_y.shape"
   ]
  },
  {
   "cell_type": "markdown",
   "metadata": {},
   "source": [
    "# **test 결과 확인**"
   ]
  },
  {
   "cell_type": "code",
   "execution_count": 15,
   "metadata": {},
   "outputs": [],
   "source": [
    "#test 정답 도출\n",
    "test_prediction=np.zeros((test.shape[0], 2))\n",
    "for n_fold in range(5):\n",
    "    PATH='/home/users/adk8400153/AXA_FDS/tabnet_model/clf_'+str(n_fold)+'.pth'\n",
    "    model=torch.load(PATH)\n",
    "    test_prediction += model.predict_proba(test_x)/5"
   ]
  },
  {
   "cell_type": "code",
   "execution_count": 16,
   "metadata": {},
   "outputs": [
    {
     "name": "stdout",
     "output_type": "stream",
     "text": [
      "AUC score: 0.7707206893511105\n",
      "precision score:0.030148706457526993\n",
      "recall score: 0.6462882096069869\n"
     ]
    },
    {
     "data": {
      "text/plain": [
       "Text(0.5, 24.0, 'Predicted label')"
      ]
     },
     "execution_count": 16,
     "metadata": {},
     "output_type": "execute_result"
    },
    {
     "data": {
      "image/png": "[encoded data removed]",
      "text/plain": [
       "<Figure size 360x360 with 2 Axes>"
      ]
     },
     "metadata": {
      "needs_background": "light"
     },
     "output_type": "display_data"
    }
   ],
   "source": [
    "test_preds=np.argmax(test_prediction, axis=1)\n",
    "print(f'AUC score: {roc_auc_score(y_score=test_prediction[:,1], y_true=test_y)}')\n",
    "print(f'precision score:{precision_score(test_y, test_preds)}')\n",
    "print(f'recall score: {recall_score(test_y, test_preds)}')\n",
    "cm=confusion_matrix(test_y, test_preds)\n",
    "plt.figure(figsize=(5,5))\n",
    "sns.heatmap(cm, annot=True, fmt=\"d\")\n",
    "plt.title(\"Confision matrix\")\n",
    "plt.ylabel(\"Actual label\")\n",
    "plt.xlabel(\"Predicted label\")"
   ]
  },
  {
   "cell_type": "code",
   "execution_count": 17,
   "metadata": {},
   "outputs": [
    {
     "data": {
      "text/plain": [
       "array([[0.44119745, 0.5588025 ],\n",
       "       [0.52171519, 0.47828484],\n",
       "       [0.96931471, 0.03068523],\n",
       "       ...,\n",
       "       [0.43793021, 0.56206978],\n",
       "       [0.62986757, 0.37013246],\n",
       "       [0.40504406, 0.59495595]])"
      ]
     },
     "execution_count": 17,
     "metadata": {},
     "output_type": "execute_result"
    }
   ],
   "source": [
    "test_prediction"
   ]
  },
  {
   "cell_type": "code",
   "execution_count": 18,
   "metadata": {},
   "outputs": [],
   "source": [
    "test_prediction=pd.DataFrame(test_prediction, columns=['p0', 'p1'])\n",
    "score=pd.concat([test[[target]], test_prediction['p1']], axis=1)\n",
    "score.sort_values('p1', ascending=False, inplace=True)\n",
    "score=score.reset_index().drop('index', axis=1).copy()"
   ]
  },
  {
   "cell_type": "code",
   "execution_count": 19,
   "metadata": {},
   "outputs": [],
   "source": [
    "n_group=10\n",
    "group=['G01','G02','G03','G04','G05','G06','G07','G08','G09','G10']\n",
    "bins=round(len(score)/n_group)\n",
    "bins_1=len(score)-bins*(n_group-1)\n",
    "\n",
    "group_list=[]\n",
    "for i in range(n_group):\n",
    "    if i <n_group-1:\n",
    "        group_list.append(np.repeat(group[i], bins).tolist())\n",
    "    else:\n",
    "        group_list.append(np.repeat(group[i], bins_1).tolist())\n",
    "    \n",
    "import itertools\n",
    "group_list=list(itertools.chain(*group_list))\n",
    "score['group']=pd.Series(group_list)\n",
    "\n",
    "function_list=['count','sum','mean']\n",
    "table=score.groupby(['group']).agg(function_list).reset_index()"
   ]
  },
  {
   "cell_type": "code",
   "execution_count": 20,
   "metadata": {},
   "outputs": [
    {
     "data": {
      "text/html": [
       "<div>\n",
       "<style scoped>\n",
       "    .dataframe tbody tr th:only-of-type {\n",
       "        vertical-align: middle;\n",
       "    }\n",
       "\n",
       "    .dataframe tbody tr th {\n",
       "        vertical-align: top;\n",
       "    }\n",
       "\n",
       "    .dataframe thead tr th {\n",
       "        text-align: left;\n",
       "    }\n",
       "</style>\n",
       "<table border=\"1\" class=\"dataframe\">\n",
       "  <thead>\n",
       "    <tr>\n",
       "      <th></th>\n",
       "      <th>group</th>\n",
       "      <th colspan=\"3\" halign=\"left\">FDS_CATH</th>\n",
       "      <th colspan=\"3\" halign=\"left\">p1</th>\n",
       "    </tr>\n",
       "    <tr>\n",
       "      <th></th>\n",
       "      <th></th>\n",
       "      <th>count</th>\n",
       "      <th>sum</th>\n",
       "      <th>mean</th>\n",
       "      <th>count</th>\n",
       "      <th>sum</th>\n",
       "      <th>mean</th>\n",
       "    </tr>\n",
       "  </thead>\n",
       "  <tbody>\n",
       "    <tr>\n",
       "      <th>0</th>\n",
       "      <td>G01</td>\n",
       "      <td>1766</td>\n",
       "      <td>100</td>\n",
       "      <td>0.056625</td>\n",
       "      <td>1766</td>\n",
       "      <td>1261.402540</td>\n",
       "      <td>0.714271</td>\n",
       "    </tr>\n",
       "    <tr>\n",
       "      <th>1</th>\n",
       "      <td>G02</td>\n",
       "      <td>1766</td>\n",
       "      <td>27</td>\n",
       "      <td>0.015289</td>\n",
       "      <td>1766</td>\n",
       "      <td>1031.645325</td>\n",
       "      <td>0.584171</td>\n",
       "    </tr>\n",
       "    <tr>\n",
       "      <th>2</th>\n",
       "      <td>G03</td>\n",
       "      <td>1766</td>\n",
       "      <td>26</td>\n",
       "      <td>0.014723</td>\n",
       "      <td>1766</td>\n",
       "      <td>918.559120</td>\n",
       "      <td>0.520135</td>\n",
       "    </tr>\n",
       "    <tr>\n",
       "      <th>3</th>\n",
       "      <td>G04</td>\n",
       "      <td>1766</td>\n",
       "      <td>17</td>\n",
       "      <td>0.009626</td>\n",
       "      <td>1766</td>\n",
       "      <td>810.002935</td>\n",
       "      <td>0.458665</td>\n",
       "    </tr>\n",
       "    <tr>\n",
       "      <th>4</th>\n",
       "      <td>G05</td>\n",
       "      <td>1766</td>\n",
       "      <td>20</td>\n",
       "      <td>0.011325</td>\n",
       "      <td>1766</td>\n",
       "      <td>719.761679</td>\n",
       "      <td>0.407566</td>\n",
       "    </tr>\n",
       "    <tr>\n",
       "      <th>5</th>\n",
       "      <td>G06</td>\n",
       "      <td>1766</td>\n",
       "      <td>15</td>\n",
       "      <td>0.008494</td>\n",
       "      <td>1766</td>\n",
       "      <td>643.981311</td>\n",
       "      <td>0.364655</td>\n",
       "    </tr>\n",
       "    <tr>\n",
       "      <th>6</th>\n",
       "      <td>G07</td>\n",
       "      <td>1766</td>\n",
       "      <td>10</td>\n",
       "      <td>0.005663</td>\n",
       "      <td>1766</td>\n",
       "      <td>520.157844</td>\n",
       "      <td>0.294540</td>\n",
       "    </tr>\n",
       "    <tr>\n",
       "      <th>7</th>\n",
       "      <td>G08</td>\n",
       "      <td>1766</td>\n",
       "      <td>8</td>\n",
       "      <td>0.004530</td>\n",
       "      <td>1766</td>\n",
       "      <td>363.617320</td>\n",
       "      <td>0.205899</td>\n",
       "    </tr>\n",
       "    <tr>\n",
       "      <th>8</th>\n",
       "      <td>G09</td>\n",
       "      <td>1766</td>\n",
       "      <td>2</td>\n",
       "      <td>0.001133</td>\n",
       "      <td>1766</td>\n",
       "      <td>176.670194</td>\n",
       "      <td>0.100040</td>\n",
       "    </tr>\n",
       "    <tr>\n",
       "      <th>9</th>\n",
       "      <td>G10</td>\n",
       "      <td>1767</td>\n",
       "      <td>4</td>\n",
       "      <td>0.002264</td>\n",
       "      <td>1767</td>\n",
       "      <td>62.001602</td>\n",
       "      <td>0.035089</td>\n",
       "    </tr>\n",
       "  </tbody>\n",
       "</table>\n",
       "</div>"
      ],
      "text/plain": [
       "  group FDS_CATH                   p1                       \n",
       "           count  sum      mean count          sum      mean\n",
       "0   G01     1766  100  0.056625  1766  1261.402540  0.714271\n",
       "1   G02     1766   27  0.015289  1766  1031.645325  0.584171\n",
       "2   G03     1766   26  0.014723  1766   918.559120  0.520135\n",
       "3   G04     1766   17  0.009626  1766   810.002935  0.458665\n",
       "4   G05     1766   20  0.011325  1766   719.761679  0.407566\n",
       "5   G06     1766   15  0.008494  1766   643.981311  0.364655\n",
       "6   G07     1766   10  0.005663  1766   520.157844  0.294540\n",
       "7   G08     1766    8  0.004530  1766   363.617320  0.205899\n",
       "8   G09     1766    2  0.001133  1766   176.670194  0.100040\n",
       "9   G10     1767    4  0.002264  1767    62.001602  0.035089"
      ]
     },
     "execution_count": 20,
     "metadata": {},
     "output_type": "execute_result"
    }
   ],
   "source": [
    "table"
   ]
  },
  {
   "cell_type": "code",
   "execution_count": 15,
   "metadata": {},
   "outputs": [
    {
     "data": {
      "text/plain": [
       "[<matplotlib.lines.Line2D at 0x7f0cd18aa668>]"
      ]
     },
     "execution_count": 15,
     "metadata": {},
     "output_type": "execute_result"
    },
    {
     "data": {
      "image/png": "[encoded data removed]",
      "text/plain": [
       "<Figure size 432x288 with 1 Axes>"
      ]
     },
     "metadata": {
      "needs_background": "light"
     },
     "output_type": "display_data"
    }
   ],
   "source": [
    "plt.plot(table['group'], table['FDS_CATH']['mean'],'bo--')"
   ]
  },
  {
   "cell_type": "code",
   "execution_count": 35,
   "metadata": {},
   "outputs": [
    {
     "data": {
      "image/png": "[encoded data removed]",
      "text/plain": [
       "<Figure size 1440x720 with 3 Axes>"
      ]
     },
     "metadata": {
      "needs_background": "light"
     },
     "output_type": "display_data"
    }
   ],
   "source": [
    "explain_matrix, masks = model.explain(test_x)\n",
    "\n",
    "fig, axs = plt.subplots(1, 3, figsize=(20,10))\n",
    "for i in range(3):\n",
    "    axs[i].imshow(masks[i][:50])\n",
    "    axs[i].set_title(f\"mask {i}\")"
   ]
  },
  {
   "cell_type": "code",
   "execution_count": 69,
   "metadata": {},
   "outputs": [
    {
     "data": {
      "text/plain": [
       "Text(0, 0.5, 'sample number')"
      ]
     },
     "execution_count": 69,
     "metadata": {},
     "output_type": "execute_result"
    },
    {
     "data": {
      "image/png": "[encoded data removed]",
      "text/plain": [
       "<Figure size 432x288 with 1 Axes>"
      ]
     },
     "metadata": {
      "needs_background": "light"
     },
     "output_type": "display_data"
    }
   ],
   "source": [
    "final_masks=np.zeros((masks[0].shape[0], masks[0].shape[1] ))\n",
    "for i in range(3):\n",
    "    final_masks +=masks[0]\n",
    "plt.imshow(final_masks[:10])\n",
    "plt.title(\"Feature Importance by sample(0~10 sample)\")\n",
    "plt.xlabel(\"Feature number\")\n",
    "plt.ylabel(\"sample number\")"
   ]
  },
  {
   "cell_type": "code",
   "execution_count": 46,
   "metadata": {},
   "outputs": [],
   "source": [
    "final_masks_percent=np.sum(final_masks, axis=0)"
   ]
  },
  {
   "cell_type": "code",
   "execution_count": 65,
   "metadata": {},
   "outputs": [
    {
     "data": {
      "text/plain": [
       "array([0.112878, 0.06245 , 0.047573, 0.000051, 0.      , 0.058923,\n",
       "       0.005204, 0.102737, 0.00198 , 0.000268, 0.000359, 0.20544 ,\n",
       "       0.017121, 0.018686, 0.181641, 0.01779 , 0.143759, 0.000602,\n",
       "       0.000031, 0.022506])"
      ]
     },
     "execution_count": 65,
     "metadata": {},
     "output_type": "execute_result"
    }
   ],
   "source": [
    "np.set_printoptions(precision=6, suppress=True)\n",
    "final_masks_percent/ np.sum(final_masks_percent)"
   ]
  },
  {
   "cell_type": "code",
   "execution_count": 21,
   "metadata": {},
   "outputs": [
    {
     "data": {
      "text/plain": [
       "<function print>"
      ]
     },
     "execution_count": 21,
     "metadata": {},
     "output_type": "execute_result"
    }
   ],
   "source": [
    "print"
   ]
  },
  {
   "cell_type": "code",
   "execution_count": 130,
   "metadata": {},
   "outputs": [],
   "source": [
    "table.to_csv('./tabnet_model/test_result_tabnet_5fold.csv', index=False)"
   ]
  },
  {
   "cell_type": "markdown",
   "metadata": {},
   "source": [
    "# **train 결과 도출**"
   ]
  },
  {
   "cell_type": "code",
   "execution_count": 22,
   "metadata": {},
   "outputs": [],
   "source": [
    "#train 정답 도출\n",
    "train_prediction=np.zeros((train.shape[0], 2))\n",
    "for n_fold in range(5):\n",
    "    PATH='/home/users/adk8400153/AXA_FDS/tabnet_model/clf_'+str(n_fold)+'.pth'\n",
    "    model=torch.load(PATH)\n",
    "    train_prediction += model.predict_proba(train_x)/5"
   ]
  },
  {
   "cell_type": "code",
   "execution_count": 23,
   "metadata": {},
   "outputs": [
    {
     "name": "stdout",
     "output_type": "stream",
     "text": [
      "AUC score: 0.8020582225852022\n",
      "precision score:0.07696344776488022\n",
      "recall score: 0.6946224575090555\n"
     ]
    },
    {
     "data": {
      "text/plain": [
       "Text(0.5, 24.0, 'Predicted label')"
      ]
     },
     "execution_count": 23,
     "metadata": {},
     "output_type": "execute_result"
    },
    {
     "data": {
      "image/png": "[encoded data removed]",
      "text/plain": [
       "<Figure size 360x360 with 2 Axes>"
      ]
     },
     "metadata": {
      "needs_background": "light"
     },
     "output_type": "display_data"
    }
   ],
   "source": [
    "train_preds=np.argmax(train_prediction, axis=1)\n",
    "print(f'AUC score: {roc_auc_score(y_score=train_prediction[:,1], y_true=train_y)}')\n",
    "print(f'precision score:{precision_score(train_y, train_preds)}')\n",
    "print(f'recall score: {recall_score(train_y, train_preds)}')\n",
    "cm=confusion_matrix(train_y, train_preds)\n",
    "plt.figure(figsize=(5,5))\n",
    "sns.heatmap(cm, annot=True, fmt=\"d\")\n",
    "plt.title(\"Confision matrix\")\n",
    "plt.ylabel(\"Actual label\")\n",
    "plt.xlabel(\"Predicted label\")"
   ]
  },
  {
   "cell_type": "code",
   "execution_count": 24,
   "metadata": {},
   "outputs": [],
   "source": [
    "train_prediction=pd.DataFrame(train_prediction, columns=['p0', 'p1'])\n",
    "score=pd.concat([train[[target]], train_prediction['p1']], axis=1)\n",
    "score.sort_values('p1', ascending=False, inplace=True)\n",
    "score=score.reset_index().drop('index', axis=1).copy()"
   ]
  },
  {
   "cell_type": "code",
   "execution_count": 25,
   "metadata": {},
   "outputs": [],
   "source": [
    "n_group=10\n",
    "group=['G01','G02','G03','G04','G05','G06','G07','G08','G09','G10']\n",
    "bins=round(len(score)/n_group)\n",
    "bins_1=len(score)-bins*(n_group-1)\n",
    "\n",
    "group_list=[]\n",
    "for i in range(n_group):\n",
    "    if i <n_group-1:\n",
    "        group_list.append(np.repeat(group[i], bins).tolist())\n",
    "    else:\n",
    "        group_list.append(np.repeat(group[i], bins_1).tolist())\n",
    "    \n",
    "import itertools\n",
    "group_list=list(itertools.chain(*group_list))\n",
    "score['group']=pd.Series(group_list)\n",
    "\n",
    "function_list=['count','sum','mean']\n",
    "table=score.groupby(['group']).agg(function_list).reset_index()"
   ]
  },
  {
   "cell_type": "code",
   "execution_count": 26,
   "metadata": {},
   "outputs": [
    {
     "data": {
      "text/plain": [
       "[<matplotlib.lines.Line2D at 0x7f18443d3f28>]"
      ]
     },
     "execution_count": 26,
     "metadata": {},
     "output_type": "execute_result"
    },
    {
     "data": {
      "image/png": "[encoded data removed]",
      "text/plain": [
       "<Figure size 432x288 with 1 Axes>"
      ]
     },
     "metadata": {
      "needs_background": "light"
     },
     "output_type": "display_data"
    }
   ],
   "source": [
    "plt.plot(table['group'], table['FDS_CATH']['mean'],'bo--')"
   ]
  },
  {
   "cell_type": "code",
   "execution_count": 27,
   "metadata": {},
   "outputs": [
    {
     "data": {
      "text/html": [
       "<div>\n",
       "<style scoped>\n",
       "    .dataframe tbody tr th:only-of-type {\n",
       "        vertical-align: middle;\n",
       "    }\n",
       "\n",
       "    .dataframe tbody tr th {\n",
       "        vertical-align: top;\n",
       "    }\n",
       "\n",
       "    .dataframe thead tr th {\n",
       "        text-align: left;\n",
       "    }\n",
       "</style>\n",
       "<table border=\"1\" class=\"dataframe\">\n",
       "  <thead>\n",
       "    <tr>\n",
       "      <th></th>\n",
       "      <th>group</th>\n",
       "      <th colspan=\"3\" halign=\"left\">FDS_CATH</th>\n",
       "      <th colspan=\"3\" halign=\"left\">p1</th>\n",
       "    </tr>\n",
       "    <tr>\n",
       "      <th></th>\n",
       "      <th></th>\n",
       "      <th>count</th>\n",
       "      <th>sum</th>\n",
       "      <th>mean</th>\n",
       "      <th>count</th>\n",
       "      <th>sum</th>\n",
       "      <th>mean</th>\n",
       "    </tr>\n",
       "  </thead>\n",
       "  <tbody>\n",
       "    <tr>\n",
       "      <th>0</th>\n",
       "      <td>G01</td>\n",
       "      <td>11889</td>\n",
       "      <td>1546</td>\n",
       "      <td>0.130036</td>\n",
       "      <td>11889</td>\n",
       "      <td>8733.102717</td>\n",
       "      <td>0.734553</td>\n",
       "    </tr>\n",
       "    <tr>\n",
       "      <th>1</th>\n",
       "      <td>G02</td>\n",
       "      <td>11889</td>\n",
       "      <td>618</td>\n",
       "      <td>0.051981</td>\n",
       "      <td>11889</td>\n",
       "      <td>7058.496841</td>\n",
       "      <td>0.593700</td>\n",
       "    </tr>\n",
       "    <tr>\n",
       "      <th>2</th>\n",
       "      <td>G03</td>\n",
       "      <td>11889</td>\n",
       "      <td>434</td>\n",
       "      <td>0.036504</td>\n",
       "      <td>11889</td>\n",
       "      <td>6157.437067</td>\n",
       "      <td>0.517910</td>\n",
       "    </tr>\n",
       "    <tr>\n",
       "      <th>3</th>\n",
       "      <td>G04</td>\n",
       "      <td>11889</td>\n",
       "      <td>301</td>\n",
       "      <td>0.025318</td>\n",
       "      <td>11889</td>\n",
       "      <td>5391.203836</td>\n",
       "      <td>0.453462</td>\n",
       "    </tr>\n",
       "    <tr>\n",
       "      <th>4</th>\n",
       "      <td>G05</td>\n",
       "      <td>11889</td>\n",
       "      <td>248</td>\n",
       "      <td>0.020860</td>\n",
       "      <td>11889</td>\n",
       "      <td>4824.293944</td>\n",
       "      <td>0.405778</td>\n",
       "    </tr>\n",
       "    <tr>\n",
       "      <th>5</th>\n",
       "      <td>G06</td>\n",
       "      <td>11889</td>\n",
       "      <td>195</td>\n",
       "      <td>0.016402</td>\n",
       "      <td>11889</td>\n",
       "      <td>4351.556794</td>\n",
       "      <td>0.366015</td>\n",
       "    </tr>\n",
       "    <tr>\n",
       "      <th>6</th>\n",
       "      <td>G07</td>\n",
       "      <td>11889</td>\n",
       "      <td>154</td>\n",
       "      <td>0.012953</td>\n",
       "      <td>11889</td>\n",
       "      <td>3546.225304</td>\n",
       "      <td>0.298278</td>\n",
       "    </tr>\n",
       "    <tr>\n",
       "      <th>7</th>\n",
       "      <td>G08</td>\n",
       "      <td>11889</td>\n",
       "      <td>56</td>\n",
       "      <td>0.004710</td>\n",
       "      <td>11889</td>\n",
       "      <td>2592.743098</td>\n",
       "      <td>0.218079</td>\n",
       "    </tr>\n",
       "    <tr>\n",
       "      <th>8</th>\n",
       "      <td>G09</td>\n",
       "      <td>11889</td>\n",
       "      <td>29</td>\n",
       "      <td>0.002439</td>\n",
       "      <td>11889</td>\n",
       "      <td>1196.603926</td>\n",
       "      <td>0.100648</td>\n",
       "    </tr>\n",
       "    <tr>\n",
       "      <th>9</th>\n",
       "      <td>G10</td>\n",
       "      <td>11887</td>\n",
       "      <td>8</td>\n",
       "      <td>0.000673</td>\n",
       "      <td>11887</td>\n",
       "      <td>377.677037</td>\n",
       "      <td>0.031772</td>\n",
       "    </tr>\n",
       "  </tbody>\n",
       "</table>\n",
       "</div>"
      ],
      "text/plain": [
       "  group FDS_CATH                     p1                       \n",
       "           count   sum      mean  count          sum      mean\n",
       "0   G01    11889  1546  0.130036  11889  8733.102717  0.734553\n",
       "1   G02    11889   618  0.051981  11889  7058.496841  0.593700\n",
       "2   G03    11889   434  0.036504  11889  6157.437067  0.517910\n",
       "3   G04    11889   301  0.025318  11889  5391.203836  0.453462\n",
       "4   G05    11889   248  0.020860  11889  4824.293944  0.405778\n",
       "5   G06    11889   195  0.016402  11889  4351.556794  0.366015\n",
       "6   G07    11889   154  0.012953  11889  3546.225304  0.298278\n",
       "7   G08    11889    56  0.004710  11889  2592.743098  0.218079\n",
       "8   G09    11889    29  0.002439  11889  1196.603926  0.100648\n",
       "9   G10    11887     8  0.000673  11887   377.677037  0.031772"
      ]
     },
     "execution_count": 27,
     "metadata": {},
     "output_type": "execute_result"
    }
   ],
   "source": [
    "table"
   ]
  },
  {
   "cell_type": "code",
   "execution_count": 121,
   "metadata": {},
   "outputs": [],
   "source": [
    "table.to_csv('./tabnet_model/train_result_tabnet_5fold.csv', index=False)"
   ]
  },
  {
   "cell_type": "markdown",
   "metadata": {},
   "source": [
    "# **언더샘플링 10% 제거**"
   ]
  },
  {
   "cell_type": "code",
   "execution_count": 11,
   "metadata": {},
   "outputs": [],
   "source": [
    "#train 정답 도출\n",
    "train_prediction=np.zeros((train.shape[0], 2))\n",
    "for n_fold in range(5):\n",
    "    PATH='/home/users/adk8400153/AXA_FDS/tabnet_model/clf_'+str(n_fold)+'.pth'\n",
    "    model=torch.load(PATH)\n",
    "    train_prediction += model.predict_proba(train_x)/5"
   ]
  },
  {
   "cell_type": "code",
   "execution_count": 17,
   "metadata": {},
   "outputs": [],
   "source": [
    "train_prediction=pd.DataFrame(train_prediction, columns=['p0', 'p1'])\n",
    "score=pd.concat([train[[target]], train_prediction['p1']], axis=1)\n",
    "score.sort_values('p1', ascending=False, inplace=True)\n",
    "score=score.reset_index().copy()"
   ]
  },
  {
   "cell_type": "code",
   "execution_count": 39,
   "metadata": {},
   "outputs": [],
   "source": [
    "remove_list=score.loc[score['FDS_CATH']==0, 'index'].values[:len(score)//10]\n",
    "total_list=train.index.tolist()\n",
    "not_remove_list=[x for x in total_list if x not in remove_list]"
   ]
  },
  {
   "cell_type": "code",
   "execution_count": 42,
   "metadata": {},
   "outputs": [],
   "source": [
    "new_train=train.loc[not_remove_list, :]"
   ]
  },
  {
   "cell_type": "code",
   "execution_count": 49,
   "metadata": {},
   "outputs": [
    {
     "data": {
      "text/plain": [
       "3589"
      ]
     },
     "execution_count": 49,
     "metadata": {},
     "output_type": "execute_result"
    }
   ],
   "source": [
    "new_train['FDS_CATH'].sum()"
   ]
  },
  {
   "cell_type": "code",
   "execution_count": 50,
   "metadata": {},
   "outputs": [],
   "source": [
    "new_train_x=new_train[features].values\n",
    "new_train_y=new_train[target].values"
   ]
  },
  {
   "cell_type": "code",
   "execution_count": 51,
   "metadata": {
    "collapsed": true,
    "jupyter": {
     "outputs_hidden": true
    }
   },
   "outputs": [
    {
     "name": "stdout",
     "output_type": "stream",
     "text": [
      "========================1=================================\n"
     ]
    },
    {
     "ename": "KeyboardInterrupt",
     "evalue": "",
     "output_type": "error",
     "traceback": [
      "\u001b[0;31m---------------------------------------------------------------------------\u001b[0m",
      "\u001b[0;31mKeyboardInterrupt\u001b[0m                         Traceback (most recent call last)",
      "\u001b[0;32m<ipython-input-51-bed4eb7ca22b>\u001b[0m in \u001b[0;36m<module>\u001b[0;34m\u001b[0m\n\u001b[1;32m     12\u001b[0m            \u001b[0meval_name\u001b[0m\u001b[0;34m=\u001b[0m\u001b[0;34m[\u001b[0m\u001b[0;34m'train'\u001b[0m\u001b[0;34m,\u001b[0m \u001b[0;34m'valid'\u001b[0m\u001b[0;34m]\u001b[0m\u001b[0;34m,\u001b[0m\u001b[0;34m\u001b[0m\u001b[0;34m\u001b[0m\u001b[0m\n\u001b[1;32m     13\u001b[0m             \u001b[0meval_metric\u001b[0m\u001b[0;34m=\u001b[0m\u001b[0;34m[\u001b[0m\u001b[0;34m'auc'\u001b[0m\u001b[0;34m]\u001b[0m\u001b[0;34m,\u001b[0m\u001b[0;34m\u001b[0m\u001b[0;34m\u001b[0m\u001b[0m\n\u001b[0;32m---> 14\u001b[0;31m             \u001b[0mmax_epochs\u001b[0m\u001b[0;34m=\u001b[0m\u001b[0mmax_epochs\u001b[0m\u001b[0;34m,\u001b[0m \u001b[0mpatience\u001b[0m\u001b[0;34m=\u001b[0m\u001b[0;36m20\u001b[0m\u001b[0;34m,\u001b[0m \u001b[0mbatch_size\u001b[0m\u001b[0;34m=\u001b[0m\u001b[0;36m1024\u001b[0m\u001b[0;34m,\u001b[0m \u001b[0mvirtual_batch_size\u001b[0m \u001b[0;34m=\u001b[0m\u001b[0;36m128\u001b[0m\u001b[0;34m,\u001b[0m \u001b[0mnum_workers\u001b[0m\u001b[0;34m=\u001b[0m\u001b[0;36m1\u001b[0m\u001b[0;34m,\u001b[0m \u001b[0mweights\u001b[0m\u001b[0;34m=\u001b[0m\u001b[0;36m1\u001b[0m\u001b[0;34m,\u001b[0m \u001b[0mdrop_last\u001b[0m\u001b[0;34m=\u001b[0m\u001b[0;32mFalse\u001b[0m\u001b[0;34m,\u001b[0m\u001b[0;34m\u001b[0m\u001b[0;34m\u001b[0m\u001b[0m\n\u001b[0m\u001b[1;32m     15\u001b[0m            )\n\u001b[1;32m     16\u001b[0m \u001b[0;34m\u001b[0m\u001b[0m\n",
      "\u001b[0;32m~/.local/lib/python3.6/site-packages/pytorch_tabnet/abstract_model.py\u001b[0m in \u001b[0;36mfit\u001b[0;34m(self, X_train, y_train, eval_set, eval_name, eval_metric, loss_fn, weights, max_epochs, patience, batch_size, virtual_batch_size, num_workers, drop_last, callbacks, pin_memory, from_unsupervised)\u001b[0m\n\u001b[1;32m    223\u001b[0m             \u001b[0mself\u001b[0m\u001b[0;34m.\u001b[0m\u001b[0m_callback_container\u001b[0m\u001b[0;34m.\u001b[0m\u001b[0mon_epoch_begin\u001b[0m\u001b[0;34m(\u001b[0m\u001b[0mepoch_idx\u001b[0m\u001b[0;34m)\u001b[0m\u001b[0;34m\u001b[0m\u001b[0;34m\u001b[0m\u001b[0m\n\u001b[1;32m    224\u001b[0m \u001b[0;34m\u001b[0m\u001b[0m\n\u001b[0;32m--> 225\u001b[0;31m             \u001b[0mself\u001b[0m\u001b[0;34m.\u001b[0m\u001b[0m_train_epoch\u001b[0m\u001b[0;34m(\u001b[0m\u001b[0mtrain_dataloader\u001b[0m\u001b[0;34m)\u001b[0m\u001b[0;34m\u001b[0m\u001b[0;34m\u001b[0m\u001b[0m\n\u001b[0m\u001b[1;32m    226\u001b[0m \u001b[0;34m\u001b[0m\u001b[0m\n\u001b[1;32m    227\u001b[0m             \u001b[0;31m# Apply predict epoch to all eval sets\u001b[0m\u001b[0;34m\u001b[0m\u001b[0;34m\u001b[0m\u001b[0;34m\u001b[0m\u001b[0m\n",
      "\u001b[0;32m~/.local/lib/python3.6/site-packages/pytorch_tabnet/abstract_model.py\u001b[0m in \u001b[0;36m_train_epoch\u001b[0;34m(self, train_loader)\u001b[0m\n\u001b[1;32m    434\u001b[0m             \u001b[0mself\u001b[0m\u001b[0;34m.\u001b[0m\u001b[0m_callback_container\u001b[0m\u001b[0;34m.\u001b[0m\u001b[0mon_batch_begin\u001b[0m\u001b[0;34m(\u001b[0m\u001b[0mbatch_idx\u001b[0m\u001b[0;34m)\u001b[0m\u001b[0;34m\u001b[0m\u001b[0;34m\u001b[0m\u001b[0m\n\u001b[1;32m    435\u001b[0m \u001b[0;34m\u001b[0m\u001b[0m\n\u001b[0;32m--> 436\u001b[0;31m             \u001b[0mbatch_logs\u001b[0m \u001b[0;34m=\u001b[0m \u001b[0mself\u001b[0m\u001b[0;34m.\u001b[0m\u001b[0m_train_batch\u001b[0m\u001b[0;34m(\u001b[0m\u001b[0mX\u001b[0m\u001b[0;34m,\u001b[0m \u001b[0my\u001b[0m\u001b[0;34m)\u001b[0m\u001b[0;34m\u001b[0m\u001b[0;34m\u001b[0m\u001b[0m\n\u001b[0m\u001b[1;32m    437\u001b[0m \u001b[0;34m\u001b[0m\u001b[0m\n\u001b[1;32m    438\u001b[0m             \u001b[0mself\u001b[0m\u001b[0;34m.\u001b[0m\u001b[0m_callback_container\u001b[0m\u001b[0;34m.\u001b[0m\u001b[0mon_batch_end\u001b[0m\u001b[0;34m(\u001b[0m\u001b[0mbatch_idx\u001b[0m\u001b[0;34m,\u001b[0m \u001b[0mbatch_logs\u001b[0m\u001b[0;34m)\u001b[0m\u001b[0;34m\u001b[0m\u001b[0;34m\u001b[0m\u001b[0m\n",
      "\u001b[0;32m~/.local/lib/python3.6/site-packages/pytorch_tabnet/abstract_model.py\u001b[0m in \u001b[0;36m_train_batch\u001b[0;34m(self, X, y)\u001b[0m\n\u001b[1;32m    469\u001b[0m             \u001b[0mparam\u001b[0m\u001b[0;34m.\u001b[0m\u001b[0mgrad\u001b[0m \u001b[0;34m=\u001b[0m \u001b[0;32mNone\u001b[0m\u001b[0;34m\u001b[0m\u001b[0;34m\u001b[0m\u001b[0m\n\u001b[1;32m    470\u001b[0m \u001b[0;34m\u001b[0m\u001b[0m\n\u001b[0;32m--> 471\u001b[0;31m         \u001b[0moutput\u001b[0m\u001b[0;34m,\u001b[0m \u001b[0mM_loss\u001b[0m \u001b[0;34m=\u001b[0m \u001b[0mself\u001b[0m\u001b[0;34m.\u001b[0m\u001b[0mnetwork\u001b[0m\u001b[0;34m(\u001b[0m\u001b[0mX\u001b[0m\u001b[0;34m)\u001b[0m\u001b[0;34m\u001b[0m\u001b[0;34m\u001b[0m\u001b[0m\n\u001b[0m\u001b[1;32m    472\u001b[0m \u001b[0;34m\u001b[0m\u001b[0m\n\u001b[1;32m    473\u001b[0m         \u001b[0mloss\u001b[0m \u001b[0;34m=\u001b[0m \u001b[0mself\u001b[0m\u001b[0;34m.\u001b[0m\u001b[0mcompute_loss\u001b[0m\u001b[0;34m(\u001b[0m\u001b[0moutput\u001b[0m\u001b[0;34m,\u001b[0m \u001b[0my\u001b[0m\u001b[0;34m)\u001b[0m\u001b[0;34m\u001b[0m\u001b[0;34m\u001b[0m\u001b[0m\n",
      "\u001b[0;32m/usr/local/lib64/python3.6/site-packages/torch/nn/modules/module.py\u001b[0m in \u001b[0;36m__call__\u001b[0;34m(self, *input, **kwargs)\u001b[0m\n\u001b[1;32m    548\u001b[0m             \u001b[0mresult\u001b[0m \u001b[0;34m=\u001b[0m \u001b[0mself\u001b[0m\u001b[0;34m.\u001b[0m\u001b[0m_slow_forward\u001b[0m\u001b[0;34m(\u001b[0m\u001b[0;34m*\u001b[0m\u001b[0minput\u001b[0m\u001b[0;34m,\u001b[0m \u001b[0;34m**\u001b[0m\u001b[0mkwargs\u001b[0m\u001b[0;34m)\u001b[0m\u001b[0;34m\u001b[0m\u001b[0;34m\u001b[0m\u001b[0m\n\u001b[1;32m    549\u001b[0m         \u001b[0;32melse\u001b[0m\u001b[0;34m:\u001b[0m\u001b[0;34m\u001b[0m\u001b[0;34m\u001b[0m\u001b[0m\n\u001b[0;32m--> 550\u001b[0;31m             \u001b[0mresult\u001b[0m \u001b[0;34m=\u001b[0m \u001b[0mself\u001b[0m\u001b[0;34m.\u001b[0m\u001b[0mforward\u001b[0m\u001b[0;34m(\u001b[0m\u001b[0;34m*\u001b[0m\u001b[0minput\u001b[0m\u001b[0;34m,\u001b[0m \u001b[0;34m**\u001b[0m\u001b[0mkwargs\u001b[0m\u001b[0;34m)\u001b[0m\u001b[0;34m\u001b[0m\u001b[0;34m\u001b[0m\u001b[0m\n\u001b[0m\u001b[1;32m    551\u001b[0m         \u001b[0;32mfor\u001b[0m \u001b[0mhook\u001b[0m \u001b[0;32min\u001b[0m \u001b[0mself\u001b[0m\u001b[0;34m.\u001b[0m\u001b[0m_forward_hooks\u001b[0m\u001b[0;34m.\u001b[0m\u001b[0mvalues\u001b[0m\u001b[0;34m(\u001b[0m\u001b[0;34m)\u001b[0m\u001b[0;34m:\u001b[0m\u001b[0;34m\u001b[0m\u001b[0;34m\u001b[0m\u001b[0m\n\u001b[1;32m    552\u001b[0m             \u001b[0mhook_result\u001b[0m \u001b[0;34m=\u001b[0m \u001b[0mhook\u001b[0m\u001b[0;34m(\u001b[0m\u001b[0mself\u001b[0m\u001b[0;34m,\u001b[0m \u001b[0minput\u001b[0m\u001b[0;34m,\u001b[0m \u001b[0mresult\u001b[0m\u001b[0;34m)\u001b[0m\u001b[0;34m\u001b[0m\u001b[0;34m\u001b[0m\u001b[0m\n",
      "\u001b[0;32m~/.local/lib/python3.6/site-packages/pytorch_tabnet/tab_network.py\u001b[0m in \u001b[0;36mforward\u001b[0;34m(self, x)\u001b[0m\n\u001b[1;32m    584\u001b[0m     \u001b[0;32mdef\u001b[0m \u001b[0mforward\u001b[0m\u001b[0;34m(\u001b[0m\u001b[0mself\u001b[0m\u001b[0;34m,\u001b[0m \u001b[0mx\u001b[0m\u001b[0;34m)\u001b[0m\u001b[0;34m:\u001b[0m\u001b[0;34m\u001b[0m\u001b[0;34m\u001b[0m\u001b[0m\n\u001b[1;32m    585\u001b[0m         \u001b[0mx\u001b[0m \u001b[0;34m=\u001b[0m \u001b[0mself\u001b[0m\u001b[0;34m.\u001b[0m\u001b[0membedder\u001b[0m\u001b[0;34m(\u001b[0m\u001b[0mx\u001b[0m\u001b[0;34m)\u001b[0m\u001b[0;34m\u001b[0m\u001b[0;34m\u001b[0m\u001b[0m\n\u001b[0;32m--> 586\u001b[0;31m         \u001b[0;32mreturn\u001b[0m \u001b[0mself\u001b[0m\u001b[0;34m.\u001b[0m\u001b[0mtabnet\u001b[0m\u001b[0;34m(\u001b[0m\u001b[0mx\u001b[0m\u001b[0;34m)\u001b[0m\u001b[0;34m\u001b[0m\u001b[0;34m\u001b[0m\u001b[0m\n\u001b[0m\u001b[1;32m    587\u001b[0m \u001b[0;34m\u001b[0m\u001b[0m\n\u001b[1;32m    588\u001b[0m     \u001b[0;32mdef\u001b[0m \u001b[0mforward_masks\u001b[0m\u001b[0;34m(\u001b[0m\u001b[0mself\u001b[0m\u001b[0;34m,\u001b[0m \u001b[0mx\u001b[0m\u001b[0;34m)\u001b[0m\u001b[0;34m:\u001b[0m\u001b[0;34m\u001b[0m\u001b[0;34m\u001b[0m\u001b[0m\n",
      "\u001b[0;32m/usr/local/lib64/python3.6/site-packages/torch/nn/modules/module.py\u001b[0m in \u001b[0;36m__call__\u001b[0;34m(self, *input, **kwargs)\u001b[0m\n\u001b[1;32m    548\u001b[0m             \u001b[0mresult\u001b[0m \u001b[0;34m=\u001b[0m \u001b[0mself\u001b[0m\u001b[0;34m.\u001b[0m\u001b[0m_slow_forward\u001b[0m\u001b[0;34m(\u001b[0m\u001b[0;34m*\u001b[0m\u001b[0minput\u001b[0m\u001b[0;34m,\u001b[0m \u001b[0;34m**\u001b[0m\u001b[0mkwargs\u001b[0m\u001b[0;34m)\u001b[0m\u001b[0;34m\u001b[0m\u001b[0;34m\u001b[0m\u001b[0m\n\u001b[1;32m    549\u001b[0m         \u001b[0;32melse\u001b[0m\u001b[0;34m:\u001b[0m\u001b[0;34m\u001b[0m\u001b[0;34m\u001b[0m\u001b[0m\n\u001b[0;32m--> 550\u001b[0;31m             \u001b[0mresult\u001b[0m \u001b[0;34m=\u001b[0m \u001b[0mself\u001b[0m\u001b[0;34m.\u001b[0m\u001b[0mforward\u001b[0m\u001b[0;34m(\u001b[0m\u001b[0;34m*\u001b[0m\u001b[0minput\u001b[0m\u001b[0;34m,\u001b[0m \u001b[0;34m**\u001b[0m\u001b[0mkwargs\u001b[0m\u001b[0;34m)\u001b[0m\u001b[0;34m\u001b[0m\u001b[0;34m\u001b[0m\u001b[0m\n\u001b[0m\u001b[1;32m    551\u001b[0m         \u001b[0;32mfor\u001b[0m \u001b[0mhook\u001b[0m \u001b[0;32min\u001b[0m \u001b[0mself\u001b[0m\u001b[0;34m.\u001b[0m\u001b[0m_forward_hooks\u001b[0m\u001b[0;34m.\u001b[0m\u001b[0mvalues\u001b[0m\u001b[0;34m(\u001b[0m\u001b[0;34m)\u001b[0m\u001b[0;34m:\u001b[0m\u001b[0;34m\u001b[0m\u001b[0;34m\u001b[0m\u001b[0m\n\u001b[1;32m    552\u001b[0m             \u001b[0mhook_result\u001b[0m \u001b[0;34m=\u001b[0m \u001b[0mhook\u001b[0m\u001b[0;34m(\u001b[0m\u001b[0mself\u001b[0m\u001b[0;34m,\u001b[0m \u001b[0minput\u001b[0m\u001b[0;34m,\u001b[0m \u001b[0mresult\u001b[0m\u001b[0;34m)\u001b[0m\u001b[0;34m\u001b[0m\u001b[0;34m\u001b[0m\u001b[0m\n",
      "\u001b[0;32m~/.local/lib/python3.6/site-packages/pytorch_tabnet/tab_network.py\u001b[0m in \u001b[0;36mforward\u001b[0;34m(self, x)\u001b[0m\n\u001b[1;32m    469\u001b[0m     \u001b[0;32mdef\u001b[0m \u001b[0mforward\u001b[0m\u001b[0;34m(\u001b[0m\u001b[0mself\u001b[0m\u001b[0;34m,\u001b[0m \u001b[0mx\u001b[0m\u001b[0;34m)\u001b[0m\u001b[0;34m:\u001b[0m\u001b[0;34m\u001b[0m\u001b[0;34m\u001b[0m\u001b[0m\n\u001b[1;32m    470\u001b[0m         \u001b[0mres\u001b[0m \u001b[0;34m=\u001b[0m \u001b[0;36m0\u001b[0m\u001b[0;34m\u001b[0m\u001b[0;34m\u001b[0m\u001b[0m\n\u001b[0;32m--> 471\u001b[0;31m         \u001b[0msteps_output\u001b[0m\u001b[0;34m,\u001b[0m \u001b[0mM_loss\u001b[0m \u001b[0;34m=\u001b[0m \u001b[0mself\u001b[0m\u001b[0;34m.\u001b[0m\u001b[0mencoder\u001b[0m\u001b[0;34m(\u001b[0m\u001b[0mx\u001b[0m\u001b[0;34m)\u001b[0m\u001b[0;34m\u001b[0m\u001b[0;34m\u001b[0m\u001b[0m\n\u001b[0m\u001b[1;32m    472\u001b[0m         \u001b[0mres\u001b[0m \u001b[0;34m=\u001b[0m \u001b[0mtorch\u001b[0m\u001b[0;34m.\u001b[0m\u001b[0msum\u001b[0m\u001b[0;34m(\u001b[0m\u001b[0mtorch\u001b[0m\u001b[0;34m.\u001b[0m\u001b[0mstack\u001b[0m\u001b[0;34m(\u001b[0m\u001b[0msteps_output\u001b[0m\u001b[0;34m,\u001b[0m \u001b[0mdim\u001b[0m\u001b[0;34m=\u001b[0m\u001b[0;36m0\u001b[0m\u001b[0;34m)\u001b[0m\u001b[0;34m,\u001b[0m \u001b[0mdim\u001b[0m\u001b[0;34m=\u001b[0m\u001b[0;36m0\u001b[0m\u001b[0;34m)\u001b[0m\u001b[0;34m\u001b[0m\u001b[0;34m\u001b[0m\u001b[0m\n\u001b[1;32m    473\u001b[0m \u001b[0;34m\u001b[0m\u001b[0m\n",
      "\u001b[0;32m/usr/local/lib64/python3.6/site-packages/torch/nn/modules/module.py\u001b[0m in \u001b[0;36m__call__\u001b[0;34m(self, *input, **kwargs)\u001b[0m\n\u001b[1;32m    548\u001b[0m             \u001b[0mresult\u001b[0m \u001b[0;34m=\u001b[0m \u001b[0mself\u001b[0m\u001b[0;34m.\u001b[0m\u001b[0m_slow_forward\u001b[0m\u001b[0;34m(\u001b[0m\u001b[0;34m*\u001b[0m\u001b[0minput\u001b[0m\u001b[0;34m,\u001b[0m \u001b[0;34m**\u001b[0m\u001b[0mkwargs\u001b[0m\u001b[0;34m)\u001b[0m\u001b[0;34m\u001b[0m\u001b[0;34m\u001b[0m\u001b[0m\n\u001b[1;32m    549\u001b[0m         \u001b[0;32melse\u001b[0m\u001b[0;34m:\u001b[0m\u001b[0;34m\u001b[0m\u001b[0;34m\u001b[0m\u001b[0m\n\u001b[0;32m--> 550\u001b[0;31m             \u001b[0mresult\u001b[0m \u001b[0;34m=\u001b[0m \u001b[0mself\u001b[0m\u001b[0;34m.\u001b[0m\u001b[0mforward\u001b[0m\u001b[0;34m(\u001b[0m\u001b[0;34m*\u001b[0m\u001b[0minput\u001b[0m\u001b[0;34m,\u001b[0m \u001b[0;34m**\u001b[0m\u001b[0mkwargs\u001b[0m\u001b[0;34m)\u001b[0m\u001b[0;34m\u001b[0m\u001b[0;34m\u001b[0m\u001b[0m\n\u001b[0m\u001b[1;32m    551\u001b[0m         \u001b[0;32mfor\u001b[0m \u001b[0mhook\u001b[0m \u001b[0;32min\u001b[0m \u001b[0mself\u001b[0m\u001b[0;34m.\u001b[0m\u001b[0m_forward_hooks\u001b[0m\u001b[0;34m.\u001b[0m\u001b[0mvalues\u001b[0m\u001b[0;34m(\u001b[0m\u001b[0;34m)\u001b[0m\u001b[0;34m:\u001b[0m\u001b[0;34m\u001b[0m\u001b[0;34m\u001b[0m\u001b[0m\n\u001b[1;32m    552\u001b[0m             \u001b[0mhook_result\u001b[0m \u001b[0;34m=\u001b[0m \u001b[0mhook\u001b[0m\u001b[0;34m(\u001b[0m\u001b[0mself\u001b[0m\u001b[0;34m,\u001b[0m \u001b[0minput\u001b[0m\u001b[0;34m,\u001b[0m \u001b[0mresult\u001b[0m\u001b[0;34m)\u001b[0m\u001b[0;34m\u001b[0m\u001b[0;34m\u001b[0m\u001b[0m\n",
      "\u001b[0;32m~/.local/lib/python3.6/site-packages/pytorch_tabnet/tab_network.py\u001b[0m in \u001b[0;36mforward\u001b[0;34m(self, x, prior)\u001b[0m\n\u001b[1;32m    166\u001b[0m             \u001b[0;31m# output\u001b[0m\u001b[0;34m\u001b[0m\u001b[0;34m\u001b[0m\u001b[0;34m\u001b[0m\u001b[0m\n\u001b[1;32m    167\u001b[0m             \u001b[0mmasked_x\u001b[0m \u001b[0;34m=\u001b[0m \u001b[0mtorch\u001b[0m\u001b[0;34m.\u001b[0m\u001b[0mmul\u001b[0m\u001b[0;34m(\u001b[0m\u001b[0mM\u001b[0m\u001b[0;34m,\u001b[0m \u001b[0mx\u001b[0m\u001b[0;34m)\u001b[0m\u001b[0;34m\u001b[0m\u001b[0;34m\u001b[0m\u001b[0m\n\u001b[0;32m--> 168\u001b[0;31m             \u001b[0mout\u001b[0m \u001b[0;34m=\u001b[0m \u001b[0mself\u001b[0m\u001b[0;34m.\u001b[0m\u001b[0mfeat_transformers\u001b[0m\u001b[0;34m[\u001b[0m\u001b[0mstep\u001b[0m\u001b[0;34m]\u001b[0m\u001b[0;34m(\u001b[0m\u001b[0mmasked_x\u001b[0m\u001b[0;34m)\u001b[0m\u001b[0;34m\u001b[0m\u001b[0;34m\u001b[0m\u001b[0m\n\u001b[0m\u001b[1;32m    169\u001b[0m             \u001b[0md\u001b[0m \u001b[0;34m=\u001b[0m \u001b[0mReLU\u001b[0m\u001b[0;34m(\u001b[0m\u001b[0;34m)\u001b[0m\u001b[0;34m(\u001b[0m\u001b[0mout\u001b[0m\u001b[0;34m[\u001b[0m\u001b[0;34m:\u001b[0m\u001b[0;34m,\u001b[0m \u001b[0;34m:\u001b[0m \u001b[0mself\u001b[0m\u001b[0;34m.\u001b[0m\u001b[0mn_d\u001b[0m\u001b[0;34m]\u001b[0m\u001b[0;34m)\u001b[0m\u001b[0;34m\u001b[0m\u001b[0;34m\u001b[0m\u001b[0m\n\u001b[1;32m    170\u001b[0m             \u001b[0msteps_output\u001b[0m\u001b[0;34m.\u001b[0m\u001b[0mappend\u001b[0m\u001b[0;34m(\u001b[0m\u001b[0md\u001b[0m\u001b[0;34m)\u001b[0m\u001b[0;34m\u001b[0m\u001b[0;34m\u001b[0m\u001b[0m\n",
      "\u001b[0;32m/usr/local/lib64/python3.6/site-packages/torch/nn/modules/module.py\u001b[0m in \u001b[0;36m__call__\u001b[0;34m(self, *input, **kwargs)\u001b[0m\n\u001b[1;32m    548\u001b[0m             \u001b[0mresult\u001b[0m \u001b[0;34m=\u001b[0m \u001b[0mself\u001b[0m\u001b[0;34m.\u001b[0m\u001b[0m_slow_forward\u001b[0m\u001b[0;34m(\u001b[0m\u001b[0;34m*\u001b[0m\u001b[0minput\u001b[0m\u001b[0;34m,\u001b[0m \u001b[0;34m**\u001b[0m\u001b[0mkwargs\u001b[0m\u001b[0;34m)\u001b[0m\u001b[0;34m\u001b[0m\u001b[0;34m\u001b[0m\u001b[0m\n\u001b[1;32m    549\u001b[0m         \u001b[0;32melse\u001b[0m\u001b[0;34m:\u001b[0m\u001b[0;34m\u001b[0m\u001b[0;34m\u001b[0m\u001b[0m\n\u001b[0;32m--> 550\u001b[0;31m             \u001b[0mresult\u001b[0m \u001b[0;34m=\u001b[0m \u001b[0mself\u001b[0m\u001b[0;34m.\u001b[0m\u001b[0mforward\u001b[0m\u001b[0;34m(\u001b[0m\u001b[0;34m*\u001b[0m\u001b[0minput\u001b[0m\u001b[0;34m,\u001b[0m \u001b[0;34m**\u001b[0m\u001b[0mkwargs\u001b[0m\u001b[0;34m)\u001b[0m\u001b[0;34m\u001b[0m\u001b[0;34m\u001b[0m\u001b[0m\n\u001b[0m\u001b[1;32m    551\u001b[0m         \u001b[0;32mfor\u001b[0m \u001b[0mhook\u001b[0m \u001b[0;32min\u001b[0m \u001b[0mself\u001b[0m\u001b[0;34m.\u001b[0m\u001b[0m_forward_hooks\u001b[0m\u001b[0;34m.\u001b[0m\u001b[0mvalues\u001b[0m\u001b[0;34m(\u001b[0m\u001b[0;34m)\u001b[0m\u001b[0;34m:\u001b[0m\u001b[0;34m\u001b[0m\u001b[0;34m\u001b[0m\u001b[0m\n\u001b[1;32m    552\u001b[0m             \u001b[0mhook_result\u001b[0m \u001b[0;34m=\u001b[0m \u001b[0mhook\u001b[0m\u001b[0;34m(\u001b[0m\u001b[0mself\u001b[0m\u001b[0;34m,\u001b[0m \u001b[0minput\u001b[0m\u001b[0;34m,\u001b[0m \u001b[0mresult\u001b[0m\u001b[0;34m)\u001b[0m\u001b[0;34m\u001b[0m\u001b[0;34m\u001b[0m\u001b[0m\n",
      "\u001b[0;32m~/.local/lib/python3.6/site-packages/pytorch_tabnet/tab_network.py\u001b[0m in \u001b[0;36mforward\u001b[0;34m(self, x)\u001b[0m\n\u001b[1;32m    704\u001b[0m \u001b[0;34m\u001b[0m\u001b[0m\n\u001b[1;32m    705\u001b[0m     \u001b[0;32mdef\u001b[0m \u001b[0mforward\u001b[0m\u001b[0;34m(\u001b[0m\u001b[0mself\u001b[0m\u001b[0;34m,\u001b[0m \u001b[0mx\u001b[0m\u001b[0;34m)\u001b[0m\u001b[0;34m:\u001b[0m\u001b[0;34m\u001b[0m\u001b[0;34m\u001b[0m\u001b[0m\n\u001b[0;32m--> 706\u001b[0;31m         \u001b[0mx\u001b[0m \u001b[0;34m=\u001b[0m \u001b[0mself\u001b[0m\u001b[0;34m.\u001b[0m\u001b[0mshared\u001b[0m\u001b[0;34m(\u001b[0m\u001b[0mx\u001b[0m\u001b[0;34m)\u001b[0m\u001b[0;34m\u001b[0m\u001b[0;34m\u001b[0m\u001b[0m\n\u001b[0m\u001b[1;32m    707\u001b[0m         \u001b[0mx\u001b[0m \u001b[0;34m=\u001b[0m \u001b[0mself\u001b[0m\u001b[0;34m.\u001b[0m\u001b[0mspecifics\u001b[0m\u001b[0;34m(\u001b[0m\u001b[0mx\u001b[0m\u001b[0;34m)\u001b[0m\u001b[0;34m\u001b[0m\u001b[0;34m\u001b[0m\u001b[0m\n\u001b[1;32m    708\u001b[0m         \u001b[0;32mreturn\u001b[0m \u001b[0mx\u001b[0m\u001b[0;34m\u001b[0m\u001b[0;34m\u001b[0m\u001b[0m\n",
      "\u001b[0;32m/usr/local/lib64/python3.6/site-packages/torch/nn/modules/module.py\u001b[0m in \u001b[0;36m__call__\u001b[0;34m(self, *input, **kwargs)\u001b[0m\n\u001b[1;32m    548\u001b[0m             \u001b[0mresult\u001b[0m \u001b[0;34m=\u001b[0m \u001b[0mself\u001b[0m\u001b[0;34m.\u001b[0m\u001b[0m_slow_forward\u001b[0m\u001b[0;34m(\u001b[0m\u001b[0;34m*\u001b[0m\u001b[0minput\u001b[0m\u001b[0;34m,\u001b[0m \u001b[0;34m**\u001b[0m\u001b[0mkwargs\u001b[0m\u001b[0;34m)\u001b[0m\u001b[0;34m\u001b[0m\u001b[0;34m\u001b[0m\u001b[0m\n\u001b[1;32m    549\u001b[0m         \u001b[0;32melse\u001b[0m\u001b[0;34m:\u001b[0m\u001b[0;34m\u001b[0m\u001b[0;34m\u001b[0m\u001b[0m\n\u001b[0;32m--> 550\u001b[0;31m             \u001b[0mresult\u001b[0m \u001b[0;34m=\u001b[0m \u001b[0mself\u001b[0m\u001b[0;34m.\u001b[0m\u001b[0mforward\u001b[0m\u001b[0;34m(\u001b[0m\u001b[0;34m*\u001b[0m\u001b[0minput\u001b[0m\u001b[0;34m,\u001b[0m \u001b[0;34m**\u001b[0m\u001b[0mkwargs\u001b[0m\u001b[0;34m)\u001b[0m\u001b[0;34m\u001b[0m\u001b[0;34m\u001b[0m\u001b[0m\n\u001b[0m\u001b[1;32m    551\u001b[0m         \u001b[0;32mfor\u001b[0m \u001b[0mhook\u001b[0m \u001b[0;32min\u001b[0m \u001b[0mself\u001b[0m\u001b[0;34m.\u001b[0m\u001b[0m_forward_hooks\u001b[0m\u001b[0;34m.\u001b[0m\u001b[0mvalues\u001b[0m\u001b[0;34m(\u001b[0m\u001b[0;34m)\u001b[0m\u001b[0;34m:\u001b[0m\u001b[0;34m\u001b[0m\u001b[0;34m\u001b[0m\u001b[0m\n\u001b[1;32m    552\u001b[0m             \u001b[0mhook_result\u001b[0m \u001b[0;34m=\u001b[0m \u001b[0mhook\u001b[0m\u001b[0;34m(\u001b[0m\u001b[0mself\u001b[0m\u001b[0;34m,\u001b[0m \u001b[0minput\u001b[0m\u001b[0;34m,\u001b[0m \u001b[0mresult\u001b[0m\u001b[0;34m)\u001b[0m\u001b[0;34m\u001b[0m\u001b[0;34m\u001b[0m\u001b[0m\n",
      "\u001b[0;32m~/.local/lib/python3.6/site-packages/pytorch_tabnet/tab_network.py\u001b[0m in \u001b[0;36mforward\u001b[0;34m(self, x)\u001b[0m\n\u001b[1;32m    741\u001b[0m         \u001b[0mscale\u001b[0m \u001b[0;34m=\u001b[0m \u001b[0mtorch\u001b[0m\u001b[0;34m.\u001b[0m\u001b[0msqrt\u001b[0m\u001b[0;34m(\u001b[0m\u001b[0mtorch\u001b[0m\u001b[0;34m.\u001b[0m\u001b[0mFloatTensor\u001b[0m\u001b[0;34m(\u001b[0m\u001b[0;34m[\u001b[0m\u001b[0;36m0.5\u001b[0m\u001b[0;34m]\u001b[0m\u001b[0;34m)\u001b[0m\u001b[0;34m.\u001b[0m\u001b[0mto\u001b[0m\u001b[0;34m(\u001b[0m\u001b[0mx\u001b[0m\u001b[0;34m.\u001b[0m\u001b[0mdevice\u001b[0m\u001b[0;34m)\u001b[0m\u001b[0;34m)\u001b[0m\u001b[0;34m\u001b[0m\u001b[0;34m\u001b[0m\u001b[0m\n\u001b[1;32m    742\u001b[0m         \u001b[0;32mif\u001b[0m \u001b[0mself\u001b[0m\u001b[0;34m.\u001b[0m\u001b[0mfirst\u001b[0m\u001b[0;34m:\u001b[0m  \u001b[0;31m# the first layer of the block has no scale multiplication\u001b[0m\u001b[0;34m\u001b[0m\u001b[0;34m\u001b[0m\u001b[0m\n\u001b[0;32m--> 743\u001b[0;31m             \u001b[0mx\u001b[0m \u001b[0;34m=\u001b[0m \u001b[0mself\u001b[0m\u001b[0;34m.\u001b[0m\u001b[0mglu_layers\u001b[0m\u001b[0;34m[\u001b[0m\u001b[0;36m0\u001b[0m\u001b[0;34m]\u001b[0m\u001b[0;34m(\u001b[0m\u001b[0mx\u001b[0m\u001b[0;34m)\u001b[0m\u001b[0;34m\u001b[0m\u001b[0;34m\u001b[0m\u001b[0m\n\u001b[0m\u001b[1;32m    744\u001b[0m             \u001b[0mlayers_left\u001b[0m \u001b[0;34m=\u001b[0m \u001b[0mrange\u001b[0m\u001b[0;34m(\u001b[0m\u001b[0;36m1\u001b[0m\u001b[0;34m,\u001b[0m \u001b[0mself\u001b[0m\u001b[0;34m.\u001b[0m\u001b[0mn_glu\u001b[0m\u001b[0;34m)\u001b[0m\u001b[0;34m\u001b[0m\u001b[0;34m\u001b[0m\u001b[0m\n\u001b[1;32m    745\u001b[0m         \u001b[0;32melse\u001b[0m\u001b[0;34m:\u001b[0m\u001b[0;34m\u001b[0m\u001b[0;34m\u001b[0m\u001b[0m\n",
      "\u001b[0;32m/usr/local/lib64/python3.6/site-packages/torch/nn/modules/module.py\u001b[0m in \u001b[0;36m__call__\u001b[0;34m(self, *input, **kwargs)\u001b[0m\n\u001b[1;32m    548\u001b[0m             \u001b[0mresult\u001b[0m \u001b[0;34m=\u001b[0m \u001b[0mself\u001b[0m\u001b[0;34m.\u001b[0m\u001b[0m_slow_forward\u001b[0m\u001b[0;34m(\u001b[0m\u001b[0;34m*\u001b[0m\u001b[0minput\u001b[0m\u001b[0;34m,\u001b[0m \u001b[0;34m**\u001b[0m\u001b[0mkwargs\u001b[0m\u001b[0;34m)\u001b[0m\u001b[0;34m\u001b[0m\u001b[0;34m\u001b[0m\u001b[0m\n\u001b[1;32m    549\u001b[0m         \u001b[0;32melse\u001b[0m\u001b[0;34m:\u001b[0m\u001b[0;34m\u001b[0m\u001b[0;34m\u001b[0m\u001b[0m\n\u001b[0;32m--> 550\u001b[0;31m             \u001b[0mresult\u001b[0m \u001b[0;34m=\u001b[0m \u001b[0mself\u001b[0m\u001b[0;34m.\u001b[0m\u001b[0mforward\u001b[0m\u001b[0;34m(\u001b[0m\u001b[0;34m*\u001b[0m\u001b[0minput\u001b[0m\u001b[0;34m,\u001b[0m \u001b[0;34m**\u001b[0m\u001b[0mkwargs\u001b[0m\u001b[0;34m)\u001b[0m\u001b[0;34m\u001b[0m\u001b[0;34m\u001b[0m\u001b[0m\n\u001b[0m\u001b[1;32m    551\u001b[0m         \u001b[0;32mfor\u001b[0m \u001b[0mhook\u001b[0m \u001b[0;32min\u001b[0m \u001b[0mself\u001b[0m\u001b[0;34m.\u001b[0m\u001b[0m_forward_hooks\u001b[0m\u001b[0;34m.\u001b[0m\u001b[0mvalues\u001b[0m\u001b[0;34m(\u001b[0m\u001b[0;34m)\u001b[0m\u001b[0;34m:\u001b[0m\u001b[0;34m\u001b[0m\u001b[0;34m\u001b[0m\u001b[0m\n\u001b[1;32m    552\u001b[0m             \u001b[0mhook_result\u001b[0m \u001b[0;34m=\u001b[0m \u001b[0mhook\u001b[0m\u001b[0;34m(\u001b[0m\u001b[0mself\u001b[0m\u001b[0;34m,\u001b[0m \u001b[0minput\u001b[0m\u001b[0;34m,\u001b[0m \u001b[0mresult\u001b[0m\u001b[0;34m)\u001b[0m\u001b[0;34m\u001b[0m\u001b[0;34m\u001b[0m\u001b[0m\n",
      "\u001b[0;32m~/.local/lib/python3.6/site-packages/pytorch_tabnet/tab_network.py\u001b[0m in \u001b[0;36mforward\u001b[0;34m(self, x)\u001b[0m\n\u001b[1;32m    771\u001b[0m     \u001b[0;32mdef\u001b[0m \u001b[0mforward\u001b[0m\u001b[0;34m(\u001b[0m\u001b[0mself\u001b[0m\u001b[0;34m,\u001b[0m \u001b[0mx\u001b[0m\u001b[0;34m)\u001b[0m\u001b[0;34m:\u001b[0m\u001b[0;34m\u001b[0m\u001b[0;34m\u001b[0m\u001b[0m\n\u001b[1;32m    772\u001b[0m         \u001b[0mx\u001b[0m \u001b[0;34m=\u001b[0m \u001b[0mself\u001b[0m\u001b[0;34m.\u001b[0m\u001b[0mfc\u001b[0m\u001b[0;34m(\u001b[0m\u001b[0mx\u001b[0m\u001b[0;34m)\u001b[0m\u001b[0;34m\u001b[0m\u001b[0;34m\u001b[0m\u001b[0m\n\u001b[0;32m--> 773\u001b[0;31m         \u001b[0mx\u001b[0m \u001b[0;34m=\u001b[0m \u001b[0mself\u001b[0m\u001b[0;34m.\u001b[0m\u001b[0mbn\u001b[0m\u001b[0;34m(\u001b[0m\u001b[0mx\u001b[0m\u001b[0;34m)\u001b[0m\u001b[0;34m\u001b[0m\u001b[0;34m\u001b[0m\u001b[0m\n\u001b[0m\u001b[1;32m    774\u001b[0m         \u001b[0mout\u001b[0m \u001b[0;34m=\u001b[0m \u001b[0mtorch\u001b[0m\u001b[0;34m.\u001b[0m\u001b[0mmul\u001b[0m\u001b[0;34m(\u001b[0m\u001b[0mx\u001b[0m\u001b[0;34m[\u001b[0m\u001b[0;34m:\u001b[0m\u001b[0;34m,\u001b[0m \u001b[0;34m:\u001b[0m \u001b[0mself\u001b[0m\u001b[0;34m.\u001b[0m\u001b[0moutput_dim\u001b[0m\u001b[0;34m]\u001b[0m\u001b[0;34m,\u001b[0m \u001b[0mtorch\u001b[0m\u001b[0;34m.\u001b[0m\u001b[0msigmoid\u001b[0m\u001b[0;34m(\u001b[0m\u001b[0mx\u001b[0m\u001b[0;34m[\u001b[0m\u001b[0;34m:\u001b[0m\u001b[0;34m,\u001b[0m \u001b[0mself\u001b[0m\u001b[0;34m.\u001b[0m\u001b[0moutput_dim\u001b[0m \u001b[0;34m:\u001b[0m\u001b[0;34m]\u001b[0m\u001b[0;34m)\u001b[0m\u001b[0;34m)\u001b[0m\u001b[0;34m\u001b[0m\u001b[0;34m\u001b[0m\u001b[0m\n\u001b[1;32m    775\u001b[0m         \u001b[0;32mreturn\u001b[0m \u001b[0mout\u001b[0m\u001b[0;34m\u001b[0m\u001b[0;34m\u001b[0m\u001b[0m\n",
      "\u001b[0;32m/usr/local/lib64/python3.6/site-packages/torch/nn/modules/module.py\u001b[0m in \u001b[0;36m__call__\u001b[0;34m(self, *input, **kwargs)\u001b[0m\n\u001b[1;32m    548\u001b[0m             \u001b[0mresult\u001b[0m \u001b[0;34m=\u001b[0m \u001b[0mself\u001b[0m\u001b[0;34m.\u001b[0m\u001b[0m_slow_forward\u001b[0m\u001b[0;34m(\u001b[0m\u001b[0;34m*\u001b[0m\u001b[0minput\u001b[0m\u001b[0;34m,\u001b[0m \u001b[0;34m**\u001b[0m\u001b[0mkwargs\u001b[0m\u001b[0;34m)\u001b[0m\u001b[0;34m\u001b[0m\u001b[0;34m\u001b[0m\u001b[0m\n\u001b[1;32m    549\u001b[0m         \u001b[0;32melse\u001b[0m\u001b[0;34m:\u001b[0m\u001b[0;34m\u001b[0m\u001b[0;34m\u001b[0m\u001b[0m\n\u001b[0;32m--> 550\u001b[0;31m             \u001b[0mresult\u001b[0m \u001b[0;34m=\u001b[0m \u001b[0mself\u001b[0m\u001b[0;34m.\u001b[0m\u001b[0mforward\u001b[0m\u001b[0;34m(\u001b[0m\u001b[0;34m*\u001b[0m\u001b[0minput\u001b[0m\u001b[0;34m,\u001b[0m \u001b[0;34m**\u001b[0m\u001b[0mkwargs\u001b[0m\u001b[0;34m)\u001b[0m\u001b[0;34m\u001b[0m\u001b[0;34m\u001b[0m\u001b[0m\n\u001b[0m\u001b[1;32m    551\u001b[0m         \u001b[0;32mfor\u001b[0m \u001b[0mhook\u001b[0m \u001b[0;32min\u001b[0m \u001b[0mself\u001b[0m\u001b[0;34m.\u001b[0m\u001b[0m_forward_hooks\u001b[0m\u001b[0;34m.\u001b[0m\u001b[0mvalues\u001b[0m\u001b[0;34m(\u001b[0m\u001b[0;34m)\u001b[0m\u001b[0;34m:\u001b[0m\u001b[0;34m\u001b[0m\u001b[0;34m\u001b[0m\u001b[0m\n\u001b[1;32m    552\u001b[0m             \u001b[0mhook_result\u001b[0m \u001b[0;34m=\u001b[0m \u001b[0mhook\u001b[0m\u001b[0;34m(\u001b[0m\u001b[0mself\u001b[0m\u001b[0;34m,\u001b[0m \u001b[0minput\u001b[0m\u001b[0;34m,\u001b[0m \u001b[0mresult\u001b[0m\u001b[0;34m)\u001b[0m\u001b[0;34m\u001b[0m\u001b[0;34m\u001b[0m\u001b[0m\n",
      "\u001b[0;32m~/.local/lib/python3.6/site-packages/pytorch_tabnet/tab_network.py\u001b[0m in \u001b[0;36mforward\u001b[0;34m(self, x)\u001b[0m\n\u001b[1;32m     34\u001b[0m     \u001b[0;32mdef\u001b[0m \u001b[0mforward\u001b[0m\u001b[0;34m(\u001b[0m\u001b[0mself\u001b[0m\u001b[0;34m,\u001b[0m \u001b[0mx\u001b[0m\u001b[0;34m)\u001b[0m\u001b[0;34m:\u001b[0m\u001b[0;34m\u001b[0m\u001b[0;34m\u001b[0m\u001b[0m\n\u001b[1;32m     35\u001b[0m         \u001b[0mchunks\u001b[0m \u001b[0;34m=\u001b[0m \u001b[0mx\u001b[0m\u001b[0;34m.\u001b[0m\u001b[0mchunk\u001b[0m\u001b[0;34m(\u001b[0m\u001b[0mint\u001b[0m\u001b[0;34m(\u001b[0m\u001b[0mnp\u001b[0m\u001b[0;34m.\u001b[0m\u001b[0mceil\u001b[0m\u001b[0;34m(\u001b[0m\u001b[0mx\u001b[0m\u001b[0;34m.\u001b[0m\u001b[0mshape\u001b[0m\u001b[0;34m[\u001b[0m\u001b[0;36m0\u001b[0m\u001b[0;34m]\u001b[0m \u001b[0;34m/\u001b[0m \u001b[0mself\u001b[0m\u001b[0;34m.\u001b[0m\u001b[0mvirtual_batch_size\u001b[0m\u001b[0;34m)\u001b[0m\u001b[0;34m)\u001b[0m\u001b[0;34m,\u001b[0m \u001b[0;36m0\u001b[0m\u001b[0;34m)\u001b[0m\u001b[0;34m\u001b[0m\u001b[0;34m\u001b[0m\u001b[0m\n\u001b[0;32m---> 36\u001b[0;31m         \u001b[0mres\u001b[0m \u001b[0;34m=\u001b[0m \u001b[0;34m[\u001b[0m\u001b[0mself\u001b[0m\u001b[0;34m.\u001b[0m\u001b[0mbn\u001b[0m\u001b[0;34m(\u001b[0m\u001b[0mx_\u001b[0m\u001b[0;34m)\u001b[0m \u001b[0;32mfor\u001b[0m \u001b[0mx_\u001b[0m \u001b[0;32min\u001b[0m \u001b[0mchunks\u001b[0m\u001b[0;34m]\u001b[0m\u001b[0;34m\u001b[0m\u001b[0;34m\u001b[0m\u001b[0m\n\u001b[0m\u001b[1;32m     37\u001b[0m \u001b[0;34m\u001b[0m\u001b[0m\n\u001b[1;32m     38\u001b[0m         \u001b[0;32mreturn\u001b[0m \u001b[0mtorch\u001b[0m\u001b[0;34m.\u001b[0m\u001b[0mcat\u001b[0m\u001b[0;34m(\u001b[0m\u001b[0mres\u001b[0m\u001b[0;34m,\u001b[0m \u001b[0mdim\u001b[0m\u001b[0;34m=\u001b[0m\u001b[0;36m0\u001b[0m\u001b[0;34m)\u001b[0m\u001b[0;34m\u001b[0m\u001b[0;34m\u001b[0m\u001b[0m\n",
      "\u001b[0;32m~/.local/lib/python3.6/site-packages/pytorch_tabnet/tab_network.py\u001b[0m in \u001b[0;36m<listcomp>\u001b[0;34m(.0)\u001b[0m\n\u001b[1;32m     34\u001b[0m     \u001b[0;32mdef\u001b[0m \u001b[0mforward\u001b[0m\u001b[0;34m(\u001b[0m\u001b[0mself\u001b[0m\u001b[0;34m,\u001b[0m \u001b[0mx\u001b[0m\u001b[0;34m)\u001b[0m\u001b[0;34m:\u001b[0m\u001b[0;34m\u001b[0m\u001b[0;34m\u001b[0m\u001b[0m\n\u001b[1;32m     35\u001b[0m         \u001b[0mchunks\u001b[0m \u001b[0;34m=\u001b[0m \u001b[0mx\u001b[0m\u001b[0;34m.\u001b[0m\u001b[0mchunk\u001b[0m\u001b[0;34m(\u001b[0m\u001b[0mint\u001b[0m\u001b[0;34m(\u001b[0m\u001b[0mnp\u001b[0m\u001b[0;34m.\u001b[0m\u001b[0mceil\u001b[0m\u001b[0;34m(\u001b[0m\u001b[0mx\u001b[0m\u001b[0;34m.\u001b[0m\u001b[0mshape\u001b[0m\u001b[0;34m[\u001b[0m\u001b[0;36m0\u001b[0m\u001b[0;34m]\u001b[0m \u001b[0;34m/\u001b[0m \u001b[0mself\u001b[0m\u001b[0;34m.\u001b[0m\u001b[0mvirtual_batch_size\u001b[0m\u001b[0;34m)\u001b[0m\u001b[0;34m)\u001b[0m\u001b[0;34m,\u001b[0m \u001b[0;36m0\u001b[0m\u001b[0;34m)\u001b[0m\u001b[0;34m\u001b[0m\u001b[0;34m\u001b[0m\u001b[0m\n\u001b[0;32m---> 36\u001b[0;31m         \u001b[0mres\u001b[0m \u001b[0;34m=\u001b[0m \u001b[0;34m[\u001b[0m\u001b[0mself\u001b[0m\u001b[0;34m.\u001b[0m\u001b[0mbn\u001b[0m\u001b[0;34m(\u001b[0m\u001b[0mx_\u001b[0m\u001b[0;34m)\u001b[0m \u001b[0;32mfor\u001b[0m \u001b[0mx_\u001b[0m \u001b[0;32min\u001b[0m \u001b[0mchunks\u001b[0m\u001b[0;34m]\u001b[0m\u001b[0;34m\u001b[0m\u001b[0;34m\u001b[0m\u001b[0m\n\u001b[0m\u001b[1;32m     37\u001b[0m \u001b[0;34m\u001b[0m\u001b[0m\n\u001b[1;32m     38\u001b[0m         \u001b[0;32mreturn\u001b[0m \u001b[0mtorch\u001b[0m\u001b[0;34m.\u001b[0m\u001b[0mcat\u001b[0m\u001b[0;34m(\u001b[0m\u001b[0mres\u001b[0m\u001b[0;34m,\u001b[0m \u001b[0mdim\u001b[0m\u001b[0;34m=\u001b[0m\u001b[0;36m0\u001b[0m\u001b[0;34m)\u001b[0m\u001b[0;34m\u001b[0m\u001b[0;34m\u001b[0m\u001b[0m\n",
      "\u001b[0;32m/usr/local/lib64/python3.6/site-packages/torch/nn/modules/module.py\u001b[0m in \u001b[0;36m__call__\u001b[0;34m(self, *input, **kwargs)\u001b[0m\n\u001b[1;32m    548\u001b[0m             \u001b[0mresult\u001b[0m \u001b[0;34m=\u001b[0m \u001b[0mself\u001b[0m\u001b[0;34m.\u001b[0m\u001b[0m_slow_forward\u001b[0m\u001b[0;34m(\u001b[0m\u001b[0;34m*\u001b[0m\u001b[0minput\u001b[0m\u001b[0;34m,\u001b[0m \u001b[0;34m**\u001b[0m\u001b[0mkwargs\u001b[0m\u001b[0;34m)\u001b[0m\u001b[0;34m\u001b[0m\u001b[0;34m\u001b[0m\u001b[0m\n\u001b[1;32m    549\u001b[0m         \u001b[0;32melse\u001b[0m\u001b[0;34m:\u001b[0m\u001b[0;34m\u001b[0m\u001b[0;34m\u001b[0m\u001b[0m\n\u001b[0;32m--> 550\u001b[0;31m             \u001b[0mresult\u001b[0m \u001b[0;34m=\u001b[0m \u001b[0mself\u001b[0m\u001b[0;34m.\u001b[0m\u001b[0mforward\u001b[0m\u001b[0;34m(\u001b[0m\u001b[0;34m*\u001b[0m\u001b[0minput\u001b[0m\u001b[0;34m,\u001b[0m \u001b[0;34m**\u001b[0m\u001b[0mkwargs\u001b[0m\u001b[0;34m)\u001b[0m\u001b[0;34m\u001b[0m\u001b[0;34m\u001b[0m\u001b[0m\n\u001b[0m\u001b[1;32m    551\u001b[0m         \u001b[0;32mfor\u001b[0m \u001b[0mhook\u001b[0m \u001b[0;32min\u001b[0m \u001b[0mself\u001b[0m\u001b[0;34m.\u001b[0m\u001b[0m_forward_hooks\u001b[0m\u001b[0;34m.\u001b[0m\u001b[0mvalues\u001b[0m\u001b[0;34m(\u001b[0m\u001b[0;34m)\u001b[0m\u001b[0;34m:\u001b[0m\u001b[0;34m\u001b[0m\u001b[0;34m\u001b[0m\u001b[0m\n\u001b[1;32m    552\u001b[0m             \u001b[0mhook_result\u001b[0m \u001b[0;34m=\u001b[0m \u001b[0mhook\u001b[0m\u001b[0;34m(\u001b[0m\u001b[0mself\u001b[0m\u001b[0;34m,\u001b[0m \u001b[0minput\u001b[0m\u001b[0;34m,\u001b[0m \u001b[0mresult\u001b[0m\u001b[0;34m)\u001b[0m\u001b[0;34m\u001b[0m\u001b[0;34m\u001b[0m\u001b[0m\n",
      "\u001b[0;32m/usr/local/lib64/python3.6/site-packages/torch/nn/modules/batchnorm.py\u001b[0m in \u001b[0;36mforward\u001b[0;34m(self, input)\u001b[0m\n\u001b[1;32m    104\u001b[0m             \u001b[0minput\u001b[0m\u001b[0;34m,\u001b[0m \u001b[0mself\u001b[0m\u001b[0;34m.\u001b[0m\u001b[0mrunning_mean\u001b[0m\u001b[0;34m,\u001b[0m \u001b[0mself\u001b[0m\u001b[0;34m.\u001b[0m\u001b[0mrunning_var\u001b[0m\u001b[0;34m,\u001b[0m \u001b[0mself\u001b[0m\u001b[0;34m.\u001b[0m\u001b[0mweight\u001b[0m\u001b[0;34m,\u001b[0m \u001b[0mself\u001b[0m\u001b[0;34m.\u001b[0m\u001b[0mbias\u001b[0m\u001b[0;34m,\u001b[0m\u001b[0;34m\u001b[0m\u001b[0;34m\u001b[0m\u001b[0m\n\u001b[1;32m    105\u001b[0m             \u001b[0mself\u001b[0m\u001b[0;34m.\u001b[0m\u001b[0mtraining\u001b[0m \u001b[0;32mor\u001b[0m \u001b[0;32mnot\u001b[0m \u001b[0mself\u001b[0m\u001b[0;34m.\u001b[0m\u001b[0mtrack_running_stats\u001b[0m\u001b[0;34m,\u001b[0m\u001b[0;34m\u001b[0m\u001b[0;34m\u001b[0m\u001b[0m\n\u001b[0;32m--> 106\u001b[0;31m             exponential_average_factor, self.eps)\n\u001b[0m\u001b[1;32m    107\u001b[0m \u001b[0;34m\u001b[0m\u001b[0m\n\u001b[1;32m    108\u001b[0m \u001b[0;34m\u001b[0m\u001b[0m\n",
      "\u001b[0;32m/usr/local/lib64/python3.6/site-packages/torch/nn/functional.py\u001b[0m in \u001b[0;36mbatch_norm\u001b[0;34m(input, running_mean, running_var, weight, bias, training, momentum, eps)\u001b[0m\n\u001b[1;32m   1921\u001b[0m     return torch.batch_norm(\n\u001b[1;32m   1922\u001b[0m         \u001b[0minput\u001b[0m\u001b[0;34m,\u001b[0m \u001b[0mweight\u001b[0m\u001b[0;34m,\u001b[0m \u001b[0mbias\u001b[0m\u001b[0;34m,\u001b[0m \u001b[0mrunning_mean\u001b[0m\u001b[0;34m,\u001b[0m \u001b[0mrunning_var\u001b[0m\u001b[0;34m,\u001b[0m\u001b[0;34m\u001b[0m\u001b[0;34m\u001b[0m\u001b[0m\n\u001b[0;32m-> 1923\u001b[0;31m         \u001b[0mtraining\u001b[0m\u001b[0;34m,\u001b[0m \u001b[0mmomentum\u001b[0m\u001b[0;34m,\u001b[0m \u001b[0meps\u001b[0m\u001b[0;34m,\u001b[0m \u001b[0mtorch\u001b[0m\u001b[0;34m.\u001b[0m\u001b[0mbackends\u001b[0m\u001b[0;34m.\u001b[0m\u001b[0mcudnn\u001b[0m\u001b[0;34m.\u001b[0m\u001b[0menabled\u001b[0m\u001b[0;34m\u001b[0m\u001b[0;34m\u001b[0m\u001b[0m\n\u001b[0m\u001b[1;32m   1924\u001b[0m     )\n\u001b[1;32m   1925\u001b[0m \u001b[0;34m\u001b[0m\u001b[0m\n",
      "\u001b[0;31mKeyboardInterrupt\u001b[0m: "
     ]
    }
   ],
   "source": [
    "folds=StratifiedKFold(n_splits=5, shuffle=True, random_state=42)\n",
    "max_epochs=10\n",
    "\n",
    "for n_fold, (train_index, val_index) in enumerate(folds.split(new_train_x, new_train_y)):\n",
    "    \n",
    "    print(f\"========================{n_fold+1}=================================\")\n",
    "    X_train, X_val = new_train_x[train_index], new_train_x[val_index]\n",
    "    y_train, y_val = new_train_y[train_index], new_train_y[val_index]\n",
    "    \n",
    "    clf.fit(X_train=X_train, y_train=y_train,\n",
    "           eval_set=[(X_train, y_train), (X_val, y_val)],\n",
    "           eval_name=['train', 'valid'],\n",
    "            eval_metric=['auc'],\n",
    "            max_epochs=max_epochs, patience=20, batch_size=1024, virtual_batch_size =128, num_workers=1, weights=1, drop_last=False,\n",
    "           )\n",
    "             \n",
    "    PATH='/home/users/adk8400153/AXA_FDS/tabnet_model/new_clf_'+str(n_fold) +'.pth'\n",
    "    torch.save(clf, PATH)"
   ]
  },
  {
   "cell_type": "code",
   "execution_count": 64,
   "metadata": {},
   "outputs": [],
   "source": [
    "#test 정답 도출\n",
    "test_prediction=np.zeros((test.shape[0], 2))\n",
    "for n_fold in range(5):\n",
    "    PATH='/home/users/adk8400153/AXA_FDS/tabnet_model/new_clf_'+str(n_fold)+'.pth'\n",
    "    model=torch.load(PATH)\n",
    "    test_prediction += model.predict_proba(test_x)/5"
   ]
  },
  {
   "cell_type": "code",
   "execution_count": 65,
   "metadata": {},
   "outputs": [
    {
     "name": "stdout",
     "output_type": "stream",
     "text": [
      "AUC score: 0.785083673853837\n",
      "precision score:0.034521916874858054\n",
      "recall score: 0.6637554585152838\n"
     ]
    },
    {
     "data": {
      "text/plain": [
       "Text(0.5, 24.0, 'Predicted label')"
      ]
     },
     "execution_count": 65,
     "metadata": {},
     "output_type": "execute_result"
    },
    {
     "data": {
      "image/png": "[encoded data removed]",
      "text/plain": [
       "<Figure size 360x360 with 2 Axes>"
      ]
     },
     "metadata": {
      "needs_background": "light"
     },
     "output_type": "display_data"
    }
   ],
   "source": [
    "test_preds=np.argmax(test_prediction, axis=1)\n",
    "print(f'AUC score: {roc_auc_score(y_score=test_prediction[:,1], y_true=test_y)}')\n",
    "print(f'precision score:{precision_score(test_y, test_preds)}')\n",
    "print(f'recall score: {recall_score(test_y, test_preds)}')\n",
    "cm=confusion_matrix(test_y, test_preds)\n",
    "plt.figure(figsize=(5,5))\n",
    "sns.heatmap(cm, annot=True, fmt=\"d\")\n",
    "plt.title(\"Confision matrix\")\n",
    "plt.ylabel(\"Actual label\")\n",
    "plt.xlabel(\"Predicted label\")"
   ]
  },
  {
   "cell_type": "code",
   "execution_count": 66,
   "metadata": {},
   "outputs": [],
   "source": [
    "test_prediction=pd.DataFrame(test_prediction, columns=['p0', 'p1'])\n",
    "score=pd.concat([test[[target]], test_prediction['p1']], axis=1)\n",
    "score.sort_values('p1', ascending=False, inplace=True)\n",
    "score=score.reset_index().drop('index', axis=1).copy()\n",
    "\n",
    "n_group=10\n",
    "group=['G01','G02','G03','G04','G05','G06','G07','G08','G09','G10']\n",
    "bins=round(len(score)/n_group)\n",
    "bins_1=len(score)-bins*(n_group-1)\n",
    "\n",
    "group_list=[]\n",
    "for i in range(n_group):\n",
    "    if i <n_group-1:\n",
    "        group_list.append(np.repeat(group[i], bins).tolist())\n",
    "    else:\n",
    "        group_list.append(np.repeat(group[i], bins_1).tolist())\n",
    "    \n",
    "import itertools\n",
    "group_list=list(itertools.chain(*group_list))\n",
    "score['group']=pd.Series(group_list)\n",
    "\n",
    "function_list=['count','sum','mean']\n",
    "table=score.groupby(['group']).agg(function_list).reset_index()"
   ]
  },
  {
   "cell_type": "code",
   "execution_count": 67,
   "metadata": {},
   "outputs": [
    {
     "data": {
      "text/html": [
       "<div>\n",
       "<style scoped>\n",
       "    .dataframe tbody tr th:only-of-type {\n",
       "        vertical-align: middle;\n",
       "    }\n",
       "\n",
       "    .dataframe tbody tr th {\n",
       "        vertical-align: top;\n",
       "    }\n",
       "\n",
       "    .dataframe thead tr th {\n",
       "        text-align: left;\n",
       "    }\n",
       "</style>\n",
       "<table border=\"1\" class=\"dataframe\">\n",
       "  <thead>\n",
       "    <tr>\n",
       "      <th></th>\n",
       "      <th>group</th>\n",
       "      <th colspan=\"3\" halign=\"left\">FDS_CATH</th>\n",
       "      <th colspan=\"3\" halign=\"left\">p1</th>\n",
       "    </tr>\n",
       "    <tr>\n",
       "      <th></th>\n",
       "      <th></th>\n",
       "      <th>count</th>\n",
       "      <th>sum</th>\n",
       "      <th>mean</th>\n",
       "      <th>count</th>\n",
       "      <th>sum</th>\n",
       "      <th>mean</th>\n",
       "    </tr>\n",
       "  </thead>\n",
       "  <tbody>\n",
       "    <tr>\n",
       "      <th>0</th>\n",
       "      <td>G01</td>\n",
       "      <td>1766</td>\n",
       "      <td>106</td>\n",
       "      <td>0.060023</td>\n",
       "      <td>1766</td>\n",
       "      <td>1547.705853</td>\n",
       "      <td>0.876391</td>\n",
       "    </tr>\n",
       "    <tr>\n",
       "      <th>1</th>\n",
       "      <td>G02</td>\n",
       "      <td>1766</td>\n",
       "      <td>35</td>\n",
       "      <td>0.019819</td>\n",
       "      <td>1766</td>\n",
       "      <td>1113.289371</td>\n",
       "      <td>0.630402</td>\n",
       "    </tr>\n",
       "    <tr>\n",
       "      <th>2</th>\n",
       "      <td>G03</td>\n",
       "      <td>1766</td>\n",
       "      <td>20</td>\n",
       "      <td>0.011325</td>\n",
       "      <td>1766</td>\n",
       "      <td>888.982138</td>\n",
       "      <td>0.503387</td>\n",
       "    </tr>\n",
       "    <tr>\n",
       "      <th>3</th>\n",
       "      <td>G04</td>\n",
       "      <td>1766</td>\n",
       "      <td>22</td>\n",
       "      <td>0.012458</td>\n",
       "      <td>1766</td>\n",
       "      <td>792.368651</td>\n",
       "      <td>0.448680</td>\n",
       "    </tr>\n",
       "    <tr>\n",
       "      <th>4</th>\n",
       "      <td>G05</td>\n",
       "      <td>1766</td>\n",
       "      <td>14</td>\n",
       "      <td>0.007928</td>\n",
       "      <td>1766</td>\n",
       "      <td>666.609296</td>\n",
       "      <td>0.377468</td>\n",
       "    </tr>\n",
       "    <tr>\n",
       "      <th>5</th>\n",
       "      <td>G06</td>\n",
       "      <td>1766</td>\n",
       "      <td>10</td>\n",
       "      <td>0.005663</td>\n",
       "      <td>1766</td>\n",
       "      <td>597.356039</td>\n",
       "      <td>0.338254</td>\n",
       "    </tr>\n",
       "    <tr>\n",
       "      <th>6</th>\n",
       "      <td>G07</td>\n",
       "      <td>1766</td>\n",
       "      <td>7</td>\n",
       "      <td>0.003964</td>\n",
       "      <td>1766</td>\n",
       "      <td>518.607573</td>\n",
       "      <td>0.293662</td>\n",
       "    </tr>\n",
       "    <tr>\n",
       "      <th>7</th>\n",
       "      <td>G08</td>\n",
       "      <td>1766</td>\n",
       "      <td>4</td>\n",
       "      <td>0.002265</td>\n",
       "      <td>1766</td>\n",
       "      <td>337.580310</td>\n",
       "      <td>0.191155</td>\n",
       "    </tr>\n",
       "    <tr>\n",
       "      <th>8</th>\n",
       "      <td>G09</td>\n",
       "      <td>1766</td>\n",
       "      <td>7</td>\n",
       "      <td>0.003964</td>\n",
       "      <td>1766</td>\n",
       "      <td>222.399597</td>\n",
       "      <td>0.125934</td>\n",
       "    </tr>\n",
       "    <tr>\n",
       "      <th>9</th>\n",
       "      <td>G10</td>\n",
       "      <td>1767</td>\n",
       "      <td>4</td>\n",
       "      <td>0.002264</td>\n",
       "      <td>1767</td>\n",
       "      <td>60.857704</td>\n",
       "      <td>0.034441</td>\n",
       "    </tr>\n",
       "  </tbody>\n",
       "</table>\n",
       "</div>"
      ],
      "text/plain": [
       "  group FDS_CATH                   p1                       \n",
       "           count  sum      mean count          sum      mean\n",
       "0   G01     1766  106  0.060023  1766  1547.705853  0.876391\n",
       "1   G02     1766   35  0.019819  1766  1113.289371  0.630402\n",
       "2   G03     1766   20  0.011325  1766   888.982138  0.503387\n",
       "3   G04     1766   22  0.012458  1766   792.368651  0.448680\n",
       "4   G05     1766   14  0.007928  1766   666.609296  0.377468\n",
       "5   G06     1766   10  0.005663  1766   597.356039  0.338254\n",
       "6   G07     1766    7  0.003964  1766   518.607573  0.293662\n",
       "7   G08     1766    4  0.002265  1766   337.580310  0.191155\n",
       "8   G09     1766    7  0.003964  1766   222.399597  0.125934\n",
       "9   G10     1767    4  0.002264  1767    60.857704  0.034441"
      ]
     },
     "execution_count": 67,
     "metadata": {},
     "output_type": "execute_result"
    }
   ],
   "source": [
    "table"
   ]
  },
  {
   "cell_type": "code",
   "execution_count": 68,
   "metadata": {},
   "outputs": [
    {
     "data": {
      "text/plain": [
       "[<matplotlib.lines.Line2D at 0x7fbfe106ff60>]"
      ]
     },
     "execution_count": 68,
     "metadata": {},
     "output_type": "execute_result"
    },
    {
     "data": {
      "image/png": "[encoded data removed]",
      "text/plain": [
       "<Figure size 432x288 with 1 Axes>"
      ]
     },
     "metadata": {
      "needs_background": "light"
     },
     "output_type": "display_data"
    }
   ],
   "source": [
    "plt.plot(table['group'], table['FDS_CATH']['mean'],'bo--')"
   ]
  },
  {
   "cell_type": "code",
   "execution_count": 69,
   "metadata": {},
   "outputs": [],
   "source": [
    "#train 정답 도출\n",
    "train_prediction=np.zeros((train.shape[0], 2))\n",
    "for n_fold in range(5):\n",
    "    PATH='/home/users/adk8400153/AXA_FDS/tabnet_model/new_clf_'+str(n_fold)+'.pth'\n",
    "    model=torch.load(PATH)\n",
    "    train_prediction += model.predict_proba(train_x)/5"
   ]
  },
  {
   "cell_type": "code",
   "execution_count": 70,
   "metadata": {},
   "outputs": [
    {
     "name": "stdout",
     "output_type": "stream",
     "text": [
      "AUC score: 0.7752566394233873\n",
      "precision score:0.07326007326007326\n",
      "recall score: 0.6352744497074394\n"
     ]
    },
    {
     "data": {
      "text/plain": [
       "Text(0.5, 24.0, 'Predicted label')"
      ]
     },
     "execution_count": 70,
     "metadata": {},
     "output_type": "execute_result"
    },
    {
     "data": {
      "image/png": "[encoded data removed]",
      "text/plain": [
       "<Figure size 360x360 with 2 Axes>"
      ]
     },
     "metadata": {
      "needs_background": "light"
     },
     "output_type": "display_data"
    }
   ],
   "source": [
    "train_preds=np.argmax(train_prediction, axis=1)\n",
    "print(f'AUC score: {roc_auc_score(y_score=train_prediction[:,1], y_true=train_y)}')\n",
    "print(f'precision score:{precision_score(train_y, train_preds)}')\n",
    "print(f'recall score: {recall_score(train_y, train_preds)}')\n",
    "cm=confusion_matrix(train_y, train_preds)\n",
    "plt.figure(figsize=(5,5))\n",
    "sns.heatmap(cm, annot=True, fmt=\"d\")\n",
    "plt.title(\"Confision matrix\")\n",
    "plt.ylabel(\"Actual label\")\n",
    "plt.xlabel(\"Predicted label\")"
   ]
  },
  {
   "cell_type": "code",
   "execution_count": 71,
   "metadata": {},
   "outputs": [],
   "source": [
    "train_prediction=pd.DataFrame(train_prediction, columns=['p0', 'p1'])\n",
    "score=pd.concat([train[[target]], train_prediction['p1']], axis=1)\n",
    "score.sort_values('p1', ascending=False, inplace=True)\n",
    "score=score.reset_index().drop('index', axis=1).copy()"
   ]
  },
  {
   "cell_type": "code",
   "execution_count": 72,
   "metadata": {},
   "outputs": [],
   "source": [
    "n_group=10\n",
    "group=['G01','G02','G03','G04','G05','G06','G07','G08','G09','G10']\n",
    "bins=round(len(score)/n_group)\n",
    "bins_1=len(score)-bins*(n_group-1)\n",
    "\n",
    "group_list=[]\n",
    "for i in range(n_group):\n",
    "    if i <n_group-1:\n",
    "        group_list.append(np.repeat(group[i], bins).tolist())\n",
    "    else:\n",
    "        group_list.append(np.repeat(group[i], bins_1).tolist())\n",
    "    \n",
    "import itertools\n",
    "group_list=list(itertools.chain(*group_list))\n",
    "score['group']=pd.Series(group_list)\n",
    "\n",
    "function_list=['count','sum','mean']\n",
    "table=score.groupby(['group']).agg(function_list).reset_index()"
   ]
  },
  {
   "cell_type": "code",
   "execution_count": 73,
   "metadata": {},
   "outputs": [
    {
     "data": {
      "text/html": [
       "<div>\n",
       "<style scoped>\n",
       "    .dataframe tbody tr th:only-of-type {\n",
       "        vertical-align: middle;\n",
       "    }\n",
       "\n",
       "    .dataframe tbody tr th {\n",
       "        vertical-align: top;\n",
       "    }\n",
       "\n",
       "    .dataframe thead tr th {\n",
       "        text-align: left;\n",
       "    }\n",
       "</style>\n",
       "<table border=\"1\" class=\"dataframe\">\n",
       "  <thead>\n",
       "    <tr>\n",
       "      <th></th>\n",
       "      <th>group</th>\n",
       "      <th colspan=\"3\" halign=\"left\">FDS_CATH</th>\n",
       "      <th colspan=\"3\" halign=\"left\">p1</th>\n",
       "    </tr>\n",
       "    <tr>\n",
       "      <th></th>\n",
       "      <th></th>\n",
       "      <th>count</th>\n",
       "      <th>sum</th>\n",
       "      <th>mean</th>\n",
       "      <th>count</th>\n",
       "      <th>sum</th>\n",
       "      <th>mean</th>\n",
       "    </tr>\n",
       "  </thead>\n",
       "  <tbody>\n",
       "    <tr>\n",
       "      <th>0</th>\n",
       "      <td>G01</td>\n",
       "      <td>11889</td>\n",
       "      <td>1458</td>\n",
       "      <td>0.122634</td>\n",
       "      <td>11889</td>\n",
       "      <td>10715.016747</td>\n",
       "      <td>0.901255</td>\n",
       "    </tr>\n",
       "    <tr>\n",
       "      <th>1</th>\n",
       "      <td>G02</td>\n",
       "      <td>11889</td>\n",
       "      <td>532</td>\n",
       "      <td>0.044747</td>\n",
       "      <td>11889</td>\n",
       "      <td>7712.054286</td>\n",
       "      <td>0.648671</td>\n",
       "    </tr>\n",
       "    <tr>\n",
       "      <th>2</th>\n",
       "      <td>G03</td>\n",
       "      <td>11889</td>\n",
       "      <td>435</td>\n",
       "      <td>0.036588</td>\n",
       "      <td>11889</td>\n",
       "      <td>6104.908458</td>\n",
       "      <td>0.513492</td>\n",
       "    </tr>\n",
       "    <tr>\n",
       "      <th>3</th>\n",
       "      <td>G04</td>\n",
       "      <td>11889</td>\n",
       "      <td>323</td>\n",
       "      <td>0.027168</td>\n",
       "      <td>11889</td>\n",
       "      <td>5342.024680</td>\n",
       "      <td>0.449325</td>\n",
       "    </tr>\n",
       "    <tr>\n",
       "      <th>4</th>\n",
       "      <td>G05</td>\n",
       "      <td>11889</td>\n",
       "      <td>283</td>\n",
       "      <td>0.023804</td>\n",
       "      <td>11889</td>\n",
       "      <td>4540.598381</td>\n",
       "      <td>0.381916</td>\n",
       "    </tr>\n",
       "    <tr>\n",
       "      <th>5</th>\n",
       "      <td>G06</td>\n",
       "      <td>11889</td>\n",
       "      <td>218</td>\n",
       "      <td>0.018336</td>\n",
       "      <td>11889</td>\n",
       "      <td>4062.873190</td>\n",
       "      <td>0.341734</td>\n",
       "    </tr>\n",
       "    <tr>\n",
       "      <th>6</th>\n",
       "      <td>G07</td>\n",
       "      <td>11889</td>\n",
       "      <td>178</td>\n",
       "      <td>0.014972</td>\n",
       "      <td>11889</td>\n",
       "      <td>3612.118845</td>\n",
       "      <td>0.303820</td>\n",
       "    </tr>\n",
       "    <tr>\n",
       "      <th>7</th>\n",
       "      <td>G08</td>\n",
       "      <td>11889</td>\n",
       "      <td>113</td>\n",
       "      <td>0.009505</td>\n",
       "      <td>11889</td>\n",
       "      <td>2454.662049</td>\n",
       "      <td>0.206465</td>\n",
       "    </tr>\n",
       "    <tr>\n",
       "      <th>8</th>\n",
       "      <td>G09</td>\n",
       "      <td>11889</td>\n",
       "      <td>36</td>\n",
       "      <td>0.003028</td>\n",
       "      <td>11889</td>\n",
       "      <td>1506.618876</td>\n",
       "      <td>0.126724</td>\n",
       "    </tr>\n",
       "    <tr>\n",
       "      <th>9</th>\n",
       "      <td>G10</td>\n",
       "      <td>11887</td>\n",
       "      <td>13</td>\n",
       "      <td>0.001094</td>\n",
       "      <td>11887</td>\n",
       "      <td>411.755420</td>\n",
       "      <td>0.034639</td>\n",
       "    </tr>\n",
       "  </tbody>\n",
       "</table>\n",
       "</div>"
      ],
      "text/plain": [
       "  group FDS_CATH                     p1                        \n",
       "           count   sum      mean  count           sum      mean\n",
       "0   G01    11889  1458  0.122634  11889  10715.016747  0.901255\n",
       "1   G02    11889   532  0.044747  11889   7712.054286  0.648671\n",
       "2   G03    11889   435  0.036588  11889   6104.908458  0.513492\n",
       "3   G04    11889   323  0.027168  11889   5342.024680  0.449325\n",
       "4   G05    11889   283  0.023804  11889   4540.598381  0.381916\n",
       "5   G06    11889   218  0.018336  11889   4062.873190  0.341734\n",
       "6   G07    11889   178  0.014972  11889   3612.118845  0.303820\n",
       "7   G08    11889   113  0.009505  11889   2454.662049  0.206465\n",
       "8   G09    11889    36  0.003028  11889   1506.618876  0.126724\n",
       "9   G10    11887    13  0.001094  11887    411.755420  0.034639"
      ]
     },
     "execution_count": 73,
     "metadata": {},
     "output_type": "execute_result"
    }
   ],
   "source": [
    "table"
   ]
  },
  {
   "cell_type": "code",
   "execution_count": 74,
   "metadata": {},
   "outputs": [
    {
     "data": {
      "text/plain": [
       "[<matplotlib.lines.Line2D at 0x7fbfd0256240>]"
      ]
     },
     "execution_count": 74,
     "metadata": {},
     "output_type": "execute_result"
    },
    {
     "data": {
      "image/png": "[encoded data removed]",
      "text/plain": [
       "<Figure size 432x288 with 1 Axes>"
      ]
     },
     "metadata": {
      "needs_background": "light"
     },
     "output_type": "display_data"
    }
   ],
   "source": [
    "plt.plot(table['group'], table['FDS_CATH']['mean'],'bo--')"
   ]
  },
  {
   "cell_type": "markdown",
   "metadata": {},
   "source": [
    "# **언더샘플링 20%제거**"
   ]
  },
  {
   "cell_type": "code",
   "execution_count": 75,
   "metadata": {},
   "outputs": [],
   "source": [
    "#train 정답 도출\n",
    "train_prediction=np.zeros((train.shape[0], 2))\n",
    "for n_fold in range(5):\n",
    "    PATH='/home/users/adk8400153/AXA_FDS/tabnet_model/clf_'+str(n_fold)+'.pth'\n",
    "    model=torch.load(PATH)\n",
    "    train_prediction += model.predict_proba(train_x)/5"
   ]
  },
  {
   "cell_type": "code",
   "execution_count": 76,
   "metadata": {},
   "outputs": [],
   "source": [
    "train_prediction=pd.DataFrame(train_prediction, columns=['p0', 'p1'])\n",
    "score=pd.concat([train[[target]], train_prediction['p1']], axis=1)\n",
    "score.sort_values('p1', ascending=False, inplace=True)\n",
    "score=score.reset_index().copy()"
   ]
  },
  {
   "cell_type": "code",
   "execution_count": 77,
   "metadata": {},
   "outputs": [],
   "source": [
    "remove_list=score.loc[score['FDS_CATH']==0, 'index'].values[:(len(score)//10)*2]\n",
    "total_list=train.index.tolist()\n",
    "not_remove_list=[x for x in total_list if x not in remove_list]"
   ]
  },
  {
   "cell_type": "code",
   "execution_count": 78,
   "metadata": {},
   "outputs": [],
   "source": [
    "new_train=train.loc[not_remove_list, :]"
   ]
  },
  {
   "cell_type": "code",
   "execution_count": 80,
   "metadata": {},
   "outputs": [
    {
     "data": {
      "text/plain": [
       "3589"
      ]
     },
     "execution_count": 80,
     "metadata": {},
     "output_type": "execute_result"
    }
   ],
   "source": [
    "new_train['FDS_CATH'].sum()"
   ]
  },
  {
   "cell_type": "code",
   "execution_count": 81,
   "metadata": {},
   "outputs": [],
   "source": [
    "new_train_x=new_train[features].values\n",
    "new_train_y=new_train[target].values"
   ]
  },
  {
   "cell_type": "code",
   "execution_count": 82,
   "metadata": {},
   "outputs": [
    {
     "name": "stdout",
     "output_type": "stream",
     "text": [
      "========================1=================================\n",
      "epoch 0  | loss: 0.44002 | train_auc: 0.86464 | valid_auc: 0.85179 |  0:00:23s\n",
      "epoch 1  | loss: 0.42641 | train_auc: 0.87716 | valid_auc: 0.85656 |  0:00:46s\n",
      "epoch 2  | loss: 0.41975 | train_auc: 0.86847 | valid_auc: 0.83953 |  0:01:13s\n",
      "epoch 3  | loss: 0.41217 | train_auc: 0.87065 | valid_auc: 0.83199 |  0:01:37s\n",
      "epoch 4  | loss: 0.40839 | train_auc: 0.89253 | valid_auc: 0.83133 |  0:02:00s\n",
      "epoch 5  | loss: 0.40776 | train_auc: 0.88521 | valid_auc: 0.83279 |  0:02:24s\n",
      "epoch 6  | loss: 0.40894 | train_auc: 0.8917  | valid_auc: 0.83634 |  0:02:50s\n",
      "epoch 7  | loss: 0.39972 | train_auc: 0.87611 | valid_auc: 0.80756 |  0:03:13s\n",
      "epoch 8  | loss: 0.38913 | train_auc: 0.89832 | valid_auc: 0.82853 |  0:03:37s\n",
      "epoch 9  | loss: 0.38656 | train_auc: 0.90153 | valid_auc: 0.817   |  0:03:59s\n",
      "Stop training because you reached max_epochs = 10 with best_epoch = 1 and best_valid_auc = 0.85656\n",
      "Best weights from best epoch are automatically used!\n",
      "========================2=================================\n",
      "epoch 0  | loss: 0.42552 | train_auc: 0.86992 | valid_auc: 0.85641 |  0:00:22s\n",
      "epoch 1  | loss: 0.41337 | train_auc: 0.86263 | valid_auc: 0.84183 |  0:00:45s\n",
      "epoch 2  | loss: 0.41323 | train_auc: 0.87387 | valid_auc: 0.84692 |  0:01:07s\n",
      "epoch 3  | loss: 0.40388 | train_auc: 0.88633 | valid_auc: 0.84587 |  0:01:29s\n",
      "epoch 4  | loss: 0.39549 | train_auc: 0.89722 | valid_auc: 0.85113 |  0:01:52s\n",
      "epoch 5  | loss: 0.39697 | train_auc: 0.90031 | valid_auc: 0.85112 |  0:02:17s\n",
      "epoch 6  | loss: 0.38938 | train_auc: 0.8959  | valid_auc: 0.84128 |  0:02:39s\n",
      "epoch 7  | loss: 0.38513 | train_auc: 0.90156 | valid_auc: 0.84059 |  0:03:02s\n",
      "epoch 8  | loss: 0.38122 | train_auc: 0.90618 | valid_auc: 0.83625 |  0:03:24s\n",
      "epoch 9  | loss: 0.3774  | train_auc: 0.91063 | valid_auc: 0.8412  |  0:03:50s\n",
      "Stop training because you reached max_epochs = 10 with best_epoch = 0 and best_valid_auc = 0.85641\n",
      "Best weights from best epoch are automatically used!\n",
      "========================3=================================\n",
      "epoch 0  | loss: 0.41773 | train_auc: 0.86998 | valid_auc: 0.84871 |  0:00:22s\n",
      "epoch 1  | loss: 0.40723 | train_auc: 0.88103 | valid_auc: 0.85458 |  0:00:45s\n",
      "epoch 2  | loss: 0.39857 | train_auc: 0.89297 | valid_auc: 0.84972 |  0:01:08s\n",
      "epoch 3  | loss: 0.39326 | train_auc: 0.89595 | valid_auc: 0.84701 |  0:01:30s\n",
      "epoch 4  | loss: 0.38978 | train_auc: 0.89757 | valid_auc: 0.85373 |  0:01:53s\n",
      "epoch 5  | loss: 0.39182 | train_auc: 0.89795 | valid_auc: 0.85193 |  0:02:15s\n",
      "epoch 6  | loss: 0.38252 | train_auc: 0.90594 | valid_auc: 0.84625 |  0:02:37s\n",
      "epoch 7  | loss: 0.37983 | train_auc: 0.90989 | valid_auc: 0.84072 |  0:03:00s\n",
      "epoch 8  | loss: 0.37817 | train_auc: 0.90883 | valid_auc: 0.83922 |  0:03:26s\n",
      "epoch 9  | loss: 0.37398 | train_auc: 0.91078 | valid_auc: 0.84458 |  0:03:49s\n",
      "Stop training because you reached max_epochs = 10 with best_epoch = 1 and best_valid_auc = 0.85458\n",
      "Best weights from best epoch are automatically used!\n",
      "========================4=================================\n",
      "epoch 0  | loss: 0.40899 | train_auc: 0.88126 | valid_auc: 0.86194 |  0:00:22s\n",
      "epoch 1  | loss: 0.3979  | train_auc: 0.89217 | valid_auc: 0.85079 |  0:00:44s\n",
      "epoch 2  | loss: 0.39673 | train_auc: 0.8907  | valid_auc: 0.84547 |  0:01:10s\n",
      "epoch 3  | loss: 0.39164 | train_auc: 0.88106 | valid_auc: 0.84195 |  0:01:32s\n",
      "epoch 4  | loss: 0.38871 | train_auc: 0.90626 | valid_auc: 0.85045 |  0:01:55s\n",
      "epoch 5  | loss: 0.37968 | train_auc: 0.91076 | valid_auc: 0.84493 |  0:02:19s\n",
      "epoch 6  | loss: 0.37644 | train_auc: 0.89814 | valid_auc: 0.83308 |  0:02:42s\n",
      "epoch 7  | loss: 0.37626 | train_auc: 0.90316 | valid_auc: 0.83332 |  0:03:05s\n",
      "epoch 8  | loss: 0.37509 | train_auc: 0.9148  | valid_auc: 0.83957 |  0:03:28s\n",
      "epoch 9  | loss: 0.37242 | train_auc: 0.90941 | valid_auc: 0.84231 |  0:03:51s\n",
      "Stop training because you reached max_epochs = 10 with best_epoch = 0 and best_valid_auc = 0.86194\n",
      "Best weights from best epoch are automatically used!\n",
      "========================5=================================\n",
      "epoch 0  | loss: 0.40202 | train_auc: 0.89365 | valid_auc: 0.86211 |  0:00:23s\n",
      "epoch 1  | loss: 0.3961  | train_auc: 0.89598 | valid_auc: 0.85926 |  0:00:50s\n",
      "epoch 2  | loss: 0.38832 | train_auc: 0.89851 | valid_auc: 0.8456  |  0:01:13s\n",
      "epoch 3  | loss: 0.38587 | train_auc: 0.8752  | valid_auc: 0.84214 |  0:01:36s\n",
      "epoch 4  | loss: 0.38178 | train_auc: 0.90247 | valid_auc: 0.84891 |  0:01:59s\n",
      "epoch 5  | loss: 0.37416 | train_auc: 0.91109 | valid_auc: 0.84832 |  0:02:24s\n",
      "epoch 6  | loss: 0.37573 | train_auc: 0.90789 | valid_auc: 0.84817 |  0:02:47s\n",
      "epoch 7  | loss: 0.37534 | train_auc: 0.90771 | valid_auc: 0.83314 |  0:03:09s\n",
      "epoch 8  | loss: 0.37001 | train_auc: 0.91848 | valid_auc: 0.84104 |  0:03:32s\n",
      "epoch 9  | loss: 0.36114 | train_auc: 0.9178  | valid_auc: 0.83143 |  0:03:55s\n",
      "Stop training because you reached max_epochs = 10 with best_epoch = 0 and best_valid_auc = 0.86211\n",
      "Best weights from best epoch are automatically used!\n"
     ]
    }
   ],
   "source": [
    "folds=StratifiedKFold(n_splits=5, shuffle=True, random_state=42)\n",
    "max_epochs=10\n",
    "\n",
    "for n_fold, (train_index, val_index) in enumerate(folds.split(new_train_x, new_train_y)):\n",
    "    \n",
    "    print(f\"========================{n_fold+1}=================================\")\n",
    "    X_train, X_val = new_train_x[train_index], new_train_x[val_index]\n",
    "    y_train, y_val = new_train_y[train_index], new_train_y[val_index]\n",
    "    \n",
    "    clf.fit(X_train=X_train, y_train=y_train,\n",
    "           eval_set=[(X_train, y_train), (X_val, y_val)],\n",
    "           eval_name=['train', 'valid'],\n",
    "            eval_metric=['auc'],\n",
    "            max_epochs=max_epochs, patience=20, batch_size=1024, virtual_batch_size =128, num_workers=1, weights=1, drop_last=False,\n",
    "           )\n",
    "             \n",
    "    PATH='/home/users/adk8400153/AXA_FDS/tabnet_model/new_clf_20%'+str(n_fold) +'.pth'\n",
    "    torch.save(clf, PATH)"
   ]
  },
  {
   "cell_type": "code",
   "execution_count": 83,
   "metadata": {},
   "outputs": [],
   "source": [
    "#test 정답 도출\n",
    "test_prediction=np.zeros((test.shape[0], 2))\n",
    "for n_fold in range(5):\n",
    "    PATH='/home/users/adk8400153/AXA_FDS/tabnet_model/new_clf_20%'+str(n_fold)+'.pth'\n",
    "    model=torch.load(PATH)\n",
    "    test_prediction += model.predict_proba(test_x)/5"
   ]
  },
  {
   "cell_type": "code",
   "execution_count": 84,
   "metadata": {},
   "outputs": [
    {
     "name": "stdout",
     "output_type": "stream",
     "text": [
      "AUC score: 0.7849179644522646\n",
      "precision score:0.03171788810086682\n",
      "recall score: 0.7030567685589519\n"
     ]
    },
    {
     "data": {
      "text/plain": [
       "Text(0.5, 24.0, 'Predicted label')"
      ]
     },
     "execution_count": 84,
     "metadata": {},
     "output_type": "execute_result"
    },
    {
     "data": {
      "image/png": "[encoded data removed]",
      "text/plain": [
       "<Figure size 360x360 with 2 Axes>"
      ]
     },
     "metadata": {
      "needs_background": "light"
     },
     "output_type": "display_data"
    }
   ],
   "source": [
    "test_preds=np.argmax(test_prediction, axis=1)\n",
    "print(f'AUC score: {roc_auc_score(y_score=test_prediction[:,1], y_true=test_y)}')\n",
    "print(f'precision score:{precision_score(test_y, test_preds)}')\n",
    "print(f'recall score: {recall_score(test_y, test_preds)}')\n",
    "cm=confusion_matrix(test_y, test_preds)\n",
    "plt.figure(figsize=(5,5))\n",
    "sns.heatmap(cm, annot=True, fmt=\"d\")\n",
    "plt.title(\"Confision matrix\")\n",
    "plt.ylabel(\"Actual label\")\n",
    "plt.xlabel(\"Predicted label\")"
   ]
  },
  {
   "cell_type": "code",
   "execution_count": 85,
   "metadata": {},
   "outputs": [],
   "source": [
    "test_prediction=pd.DataFrame(test_prediction, columns=['p0', 'p1'])\n",
    "score=pd.concat([test[[target]], test_prediction['p1']], axis=1)\n",
    "score.sort_values('p1', ascending=False, inplace=True)\n",
    "score=score.reset_index().drop('index', axis=1).copy()\n",
    "\n",
    "n_group=10\n",
    "group=['G01','G02','G03','G04','G05','G06','G07','G08','G09','G10']\n",
    "bins=round(len(score)/n_group)\n",
    "bins_1=len(score)-bins*(n_group-1)\n",
    "\n",
    "group_list=[]\n",
    "for i in range(n_group):\n",
    "    if i <n_group-1:\n",
    "        group_list.append(np.repeat(group[i], bins).tolist())\n",
    "    else:\n",
    "        group_list.append(np.repeat(group[i], bins_1).tolist())\n",
    "    \n",
    "import itertools\n",
    "group_list=list(itertools.chain(*group_list))\n",
    "score['group']=pd.Series(group_list)\n",
    "\n",
    "function_list=['count','sum','mean']\n",
    "table=score.groupby(['group']).agg(function_list).reset_index()"
   ]
  },
  {
   "cell_type": "code",
   "execution_count": 86,
   "metadata": {},
   "outputs": [
    {
     "data": {
      "text/html": [
       "<div>\n",
       "<style scoped>\n",
       "    .dataframe tbody tr th:only-of-type {\n",
       "        vertical-align: middle;\n",
       "    }\n",
       "\n",
       "    .dataframe tbody tr th {\n",
       "        vertical-align: top;\n",
       "    }\n",
       "\n",
       "    .dataframe thead tr th {\n",
       "        text-align: left;\n",
       "    }\n",
       "</style>\n",
       "<table border=\"1\" class=\"dataframe\">\n",
       "  <thead>\n",
       "    <tr>\n",
       "      <th></th>\n",
       "      <th>group</th>\n",
       "      <th colspan=\"3\" halign=\"left\">FDS_CATH</th>\n",
       "      <th colspan=\"3\" halign=\"left\">p1</th>\n",
       "    </tr>\n",
       "    <tr>\n",
       "      <th></th>\n",
       "      <th></th>\n",
       "      <th>count</th>\n",
       "      <th>sum</th>\n",
       "      <th>mean</th>\n",
       "      <th>count</th>\n",
       "      <th>sum</th>\n",
       "      <th>mean</th>\n",
       "    </tr>\n",
       "  </thead>\n",
       "  <tbody>\n",
       "    <tr>\n",
       "      <th>0</th>\n",
       "      <td>G01</td>\n",
       "      <td>1766</td>\n",
       "      <td>101</td>\n",
       "      <td>0.057191</td>\n",
       "      <td>1766</td>\n",
       "      <td>1690.029575</td>\n",
       "      <td>0.956982</td>\n",
       "    </tr>\n",
       "    <tr>\n",
       "      <th>1</th>\n",
       "      <td>G02</td>\n",
       "      <td>1766</td>\n",
       "      <td>41</td>\n",
       "      <td>0.023216</td>\n",
       "      <td>1766</td>\n",
       "      <td>1345.068542</td>\n",
       "      <td>0.761647</td>\n",
       "    </tr>\n",
       "    <tr>\n",
       "      <th>2</th>\n",
       "      <td>G03</td>\n",
       "      <td>1766</td>\n",
       "      <td>20</td>\n",
       "      <td>0.011325</td>\n",
       "      <td>1766</td>\n",
       "      <td>974.264533</td>\n",
       "      <td>0.551679</td>\n",
       "    </tr>\n",
       "    <tr>\n",
       "      <th>3</th>\n",
       "      <td>G04</td>\n",
       "      <td>1766</td>\n",
       "      <td>17</td>\n",
       "      <td>0.009626</td>\n",
       "      <td>1766</td>\n",
       "      <td>769.657761</td>\n",
       "      <td>0.435820</td>\n",
       "    </tr>\n",
       "    <tr>\n",
       "      <th>4</th>\n",
       "      <td>G05</td>\n",
       "      <td>1766</td>\n",
       "      <td>16</td>\n",
       "      <td>0.009060</td>\n",
       "      <td>1766</td>\n",
       "      <td>671.265668</td>\n",
       "      <td>0.380105</td>\n",
       "    </tr>\n",
       "    <tr>\n",
       "      <th>5</th>\n",
       "      <td>G06</td>\n",
       "      <td>1766</td>\n",
       "      <td>10</td>\n",
       "      <td>0.005663</td>\n",
       "      <td>1766</td>\n",
       "      <td>553.599774</td>\n",
       "      <td>0.313477</td>\n",
       "    </tr>\n",
       "    <tr>\n",
       "      <th>6</th>\n",
       "      <td>G07</td>\n",
       "      <td>1766</td>\n",
       "      <td>14</td>\n",
       "      <td>0.007928</td>\n",
       "      <td>1766</td>\n",
       "      <td>396.908375</td>\n",
       "      <td>0.224750</td>\n",
       "    </tr>\n",
       "    <tr>\n",
       "      <th>7</th>\n",
       "      <td>G08</td>\n",
       "      <td>1766</td>\n",
       "      <td>6</td>\n",
       "      <td>0.003398</td>\n",
       "      <td>1766</td>\n",
       "      <td>231.441091</td>\n",
       "      <td>0.131054</td>\n",
       "    </tr>\n",
       "    <tr>\n",
       "      <th>8</th>\n",
       "      <td>G09</td>\n",
       "      <td>1766</td>\n",
       "      <td>0</td>\n",
       "      <td>0.000000</td>\n",
       "      <td>1766</td>\n",
       "      <td>103.545566</td>\n",
       "      <td>0.058633</td>\n",
       "    </tr>\n",
       "    <tr>\n",
       "      <th>9</th>\n",
       "      <td>G10</td>\n",
       "      <td>1767</td>\n",
       "      <td>4</td>\n",
       "      <td>0.002264</td>\n",
       "      <td>1767</td>\n",
       "      <td>42.078320</td>\n",
       "      <td>0.023813</td>\n",
       "    </tr>\n",
       "  </tbody>\n",
       "</table>\n",
       "</div>"
      ],
      "text/plain": [
       "  group FDS_CATH                   p1                       \n",
       "           count  sum      mean count          sum      mean\n",
       "0   G01     1766  101  0.057191  1766  1690.029575  0.956982\n",
       "1   G02     1766   41  0.023216  1766  1345.068542  0.761647\n",
       "2   G03     1766   20  0.011325  1766   974.264533  0.551679\n",
       "3   G04     1766   17  0.009626  1766   769.657761  0.435820\n",
       "4   G05     1766   16  0.009060  1766   671.265668  0.380105\n",
       "5   G06     1766   10  0.005663  1766   553.599774  0.313477\n",
       "6   G07     1766   14  0.007928  1766   396.908375  0.224750\n",
       "7   G08     1766    6  0.003398  1766   231.441091  0.131054\n",
       "8   G09     1766    0  0.000000  1766   103.545566  0.058633\n",
       "9   G10     1767    4  0.002264  1767    42.078320  0.023813"
      ]
     },
     "execution_count": 86,
     "metadata": {},
     "output_type": "execute_result"
    }
   ],
   "source": [
    "table"
   ]
  },
  {
   "cell_type": "code",
   "execution_count": 87,
   "metadata": {},
   "outputs": [
    {
     "data": {
      "text/plain": [
       "[<matplotlib.lines.Line2D at 0x7fbfd01f9c18>]"
      ]
     },
     "execution_count": 87,
     "metadata": {},
     "output_type": "execute_result"
    },
    {
     "data": {
      "image/png": "[encoded data removed]",
      "text/plain": [
       "<Figure size 432x288 with 1 Axes>"
      ]
     },
     "metadata": {
      "needs_background": "light"
     },
     "output_type": "display_data"
    }
   ],
   "source": [
    "plt.plot(table['group'], table['FDS_CATH']['mean'],'bo--')"
   ]
  },
  {
   "cell_type": "code",
   "execution_count": 94,
   "metadata": {},
   "outputs": [],
   "source": [
    "#train 정답 도출\n",
    "train_prediction=np.zeros((train.shape[0], 2))\n",
    "for n_fold in range(5):\n",
    "    PATH='/home/users/adk8400153/AXA_FDS/tabnet_model/new_clf_20%'+str(n_fold)+'.pth'\n",
    "    model=torch.load(PATH)\n",
    "    train_prediction += model.predict_proba(train_x)/5"
   ]
  },
  {
   "cell_type": "code",
   "execution_count": 95,
   "metadata": {},
   "outputs": [
    {
     "name": "stdout",
     "output_type": "stream",
     "text": [
      "AUC score: 0.7964839420462689\n",
      "precision score:0.07093520447319372\n",
      "recall score: 0.7210922262468654\n"
     ]
    },
    {
     "data": {
      "text/plain": [
       "Text(0.5, 24.0, 'Predicted label')"
      ]
     },
     "execution_count": 95,
     "metadata": {},
     "output_type": "execute_result"
    },
    {
     "data": {
      "image/png": "[encoded data removed]",
      "text/plain": [
       "<Figure size 360x360 with 2 Axes>"
      ]
     },
     "metadata": {
      "needs_background": "light"
     },
     "output_type": "display_data"
    }
   ],
   "source": [
    "train_preds=np.argmax(train_prediction, axis=1)\n",
    "print(f'AUC score: {roc_auc_score(y_score=train_prediction[:,1], y_true=train_y)}')\n",
    "print(f'precision score:{precision_score(train_y, train_preds)}')\n",
    "print(f'recall score: {recall_score(train_y, train_preds)}')\n",
    "cm=confusion_matrix(train_y, train_preds)\n",
    "plt.figure(figsize=(5,5))\n",
    "sns.heatmap(cm, annot=True, fmt=\"d\")\n",
    "plt.title(\"Confision matrix\")\n",
    "plt.ylabel(\"Actual label\")\n",
    "plt.xlabel(\"Predicted label\")"
   ]
  },
  {
   "cell_type": "code",
   "execution_count": 96,
   "metadata": {},
   "outputs": [],
   "source": [
    "train_prediction=pd.DataFrame(train_prediction, columns=['p0', 'p1'])\n",
    "score=pd.concat([train[[target]], train_prediction['p1']], axis=1)\n",
    "score.sort_values('p1', ascending=False, inplace=True)\n",
    "score=score.reset_index().drop('index', axis=1).copy()"
   ]
  },
  {
   "cell_type": "code",
   "execution_count": 97,
   "metadata": {},
   "outputs": [],
   "source": [
    "n_group=10\n",
    "group=['G01','G02','G03','G04','G05','G06','G07','G08','G09','G10']\n",
    "bins=round(len(score)/n_group)\n",
    "bins_1=len(score)-bins*(n_group-1)\n",
    "\n",
    "group_list=[]\n",
    "for i in range(n_group):\n",
    "    if i <n_group-1:\n",
    "        group_list.append(np.repeat(group[i], bins).tolist())\n",
    "    else:\n",
    "        group_list.append(np.repeat(group[i], bins_1).tolist())\n",
    "    \n",
    "import itertools\n",
    "group_list=list(itertools.chain(*group_list))\n",
    "score['group']=pd.Series(group_list)\n",
    "\n",
    "function_list=['count','sum','mean']\n",
    "table=score.groupby(['group']).agg(function_list).reset_index()"
   ]
  },
  {
   "cell_type": "code",
   "execution_count": 98,
   "metadata": {},
   "outputs": [
    {
     "data": {
      "text/html": [
       "<div>\n",
       "<style scoped>\n",
       "    .dataframe tbody tr th:only-of-type {\n",
       "        vertical-align: middle;\n",
       "    }\n",
       "\n",
       "    .dataframe tbody tr th {\n",
       "        vertical-align: top;\n",
       "    }\n",
       "\n",
       "    .dataframe thead tr th {\n",
       "        text-align: left;\n",
       "    }\n",
       "</style>\n",
       "<table border=\"1\" class=\"dataframe\">\n",
       "  <thead>\n",
       "    <tr>\n",
       "      <th></th>\n",
       "      <th>group</th>\n",
       "      <th colspan=\"3\" halign=\"left\">FDS_CATH</th>\n",
       "      <th colspan=\"3\" halign=\"left\">p1</th>\n",
       "    </tr>\n",
       "    <tr>\n",
       "      <th></th>\n",
       "      <th></th>\n",
       "      <th>count</th>\n",
       "      <th>sum</th>\n",
       "      <th>mean</th>\n",
       "      <th>count</th>\n",
       "      <th>sum</th>\n",
       "      <th>mean</th>\n",
       "    </tr>\n",
       "  </thead>\n",
       "  <tbody>\n",
       "    <tr>\n",
       "      <th>0</th>\n",
       "      <td>G01</td>\n",
       "      <td>11889</td>\n",
       "      <td>1460</td>\n",
       "      <td>0.122803</td>\n",
       "      <td>11889</td>\n",
       "      <td>11620.338075</td>\n",
       "      <td>0.977402</td>\n",
       "    </tr>\n",
       "    <tr>\n",
       "      <th>1</th>\n",
       "      <td>G02</td>\n",
       "      <td>11889</td>\n",
       "      <td>674</td>\n",
       "      <td>0.056691</td>\n",
       "      <td>11889</td>\n",
       "      <td>9387.828085</td>\n",
       "      <td>0.789623</td>\n",
       "    </tr>\n",
       "    <tr>\n",
       "      <th>2</th>\n",
       "      <td>G03</td>\n",
       "      <td>11889</td>\n",
       "      <td>432</td>\n",
       "      <td>0.036336</td>\n",
       "      <td>11889</td>\n",
       "      <td>6859.296903</td>\n",
       "      <td>0.576945</td>\n",
       "    </tr>\n",
       "    <tr>\n",
       "      <th>3</th>\n",
       "      <td>G04</td>\n",
       "      <td>11889</td>\n",
       "      <td>311</td>\n",
       "      <td>0.026159</td>\n",
       "      <td>11889</td>\n",
       "      <td>5354.925337</td>\n",
       "      <td>0.450410</td>\n",
       "    </tr>\n",
       "    <tr>\n",
       "      <th>4</th>\n",
       "      <td>G05</td>\n",
       "      <td>11889</td>\n",
       "      <td>296</td>\n",
       "      <td>0.024897</td>\n",
       "      <td>11889</td>\n",
       "      <td>4623.856457</td>\n",
       "      <td>0.388919</td>\n",
       "    </tr>\n",
       "    <tr>\n",
       "      <th>5</th>\n",
       "      <td>G06</td>\n",
       "      <td>11889</td>\n",
       "      <td>211</td>\n",
       "      <td>0.017747</td>\n",
       "      <td>11889</td>\n",
       "      <td>3827.002614</td>\n",
       "      <td>0.321894</td>\n",
       "    </tr>\n",
       "    <tr>\n",
       "      <th>6</th>\n",
       "      <td>G07</td>\n",
       "      <td>11889</td>\n",
       "      <td>119</td>\n",
       "      <td>0.010009</td>\n",
       "      <td>11889</td>\n",
       "      <td>2920.079861</td>\n",
       "      <td>0.245612</td>\n",
       "    </tr>\n",
       "    <tr>\n",
       "      <th>7</th>\n",
       "      <td>G08</td>\n",
       "      <td>11889</td>\n",
       "      <td>64</td>\n",
       "      <td>0.005383</td>\n",
       "      <td>11889</td>\n",
       "      <td>1678.178868</td>\n",
       "      <td>0.141154</td>\n",
       "    </tr>\n",
       "    <tr>\n",
       "      <th>8</th>\n",
       "      <td>G09</td>\n",
       "      <td>11889</td>\n",
       "      <td>11</td>\n",
       "      <td>0.000925</td>\n",
       "      <td>11889</td>\n",
       "      <td>696.895473</td>\n",
       "      <td>0.058617</td>\n",
       "    </tr>\n",
       "    <tr>\n",
       "      <th>9</th>\n",
       "      <td>G10</td>\n",
       "      <td>11887</td>\n",
       "      <td>11</td>\n",
       "      <td>0.000925</td>\n",
       "      <td>11887</td>\n",
       "      <td>279.504571</td>\n",
       "      <td>0.023513</td>\n",
       "    </tr>\n",
       "  </tbody>\n",
       "</table>\n",
       "</div>"
      ],
      "text/plain": [
       "  group FDS_CATH                     p1                        \n",
       "           count   sum      mean  count           sum      mean\n",
       "0   G01    11889  1460  0.122803  11889  11620.338075  0.977402\n",
       "1   G02    11889   674  0.056691  11889   9387.828085  0.789623\n",
       "2   G03    11889   432  0.036336  11889   6859.296903  0.576945\n",
       "3   G04    11889   311  0.026159  11889   5354.925337  0.450410\n",
       "4   G05    11889   296  0.024897  11889   4623.856457  0.388919\n",
       "5   G06    11889   211  0.017747  11889   3827.002614  0.321894\n",
       "6   G07    11889   119  0.010009  11889   2920.079861  0.245612\n",
       "7   G08    11889    64  0.005383  11889   1678.178868  0.141154\n",
       "8   G09    11889    11  0.000925  11889    696.895473  0.058617\n",
       "9   G10    11887    11  0.000925  11887    279.504571  0.023513"
      ]
     },
     "execution_count": 98,
     "metadata": {},
     "output_type": "execute_result"
    }
   ],
   "source": [
    "table"
   ]
  },
  {
   "cell_type": "code",
   "execution_count": 99,
   "metadata": {},
   "outputs": [
    {
     "data": {
      "text/plain": [
       "[<matplotlib.lines.Line2D at 0x7fbfe0d409b0>]"
      ]
     },
     "execution_count": 99,
     "metadata": {},
     "output_type": "execute_result"
    },
    {
     "data": {
      "image/png": "[encoded data removed]",
      "text/plain": [
       "<Figure size 432x288 with 1 Axes>"
      ]
     },
     "metadata": {
      "needs_background": "light"
     },
     "output_type": "display_data"
    }
   ],
   "source": [
    "plt.plot(table['group'], table['FDS_CATH']['mean'],'bo--')"
   ]
  },
  {
   "cell_type": "markdown",
   "metadata": {},
   "source": [
    "# **언더샘플링 50%제거**"
   ]
  },
  {
   "cell_type": "code",
   "execution_count": 100,
   "metadata": {},
   "outputs": [],
   "source": [
    "#train 정답 도출\n",
    "train_prediction=np.zeros((train.shape[0], 2))\n",
    "for n_fold in range(5):\n",
    "    PATH='/home/users/adk8400153/AXA_FDS/tabnet_model/clf_'+str(n_fold)+'.pth'\n",
    "    model=torch.load(PATH)\n",
    "    train_prediction += model.predict_proba(train_x)/5"
   ]
  },
  {
   "cell_type": "code",
   "execution_count": 102,
   "metadata": {},
   "outputs": [],
   "source": [
    "train_prediction=pd.DataFrame(train_prediction, columns=['p0', 'p1'])\n",
    "score=pd.concat([train[[target]], train_prediction['p1']], axis=1)\n",
    "score.sort_values('p1', ascending=False, inplace=True)\n",
    "score=score.reset_index().copy()"
   ]
  },
  {
   "cell_type": "code",
   "execution_count": 103,
   "metadata": {},
   "outputs": [],
   "source": [
    "remove_list=score.loc[score['FDS_CATH']==0, 'index'].values[:(len(score)//10)*5]\n",
    "total_list=train.index.tolist()\n",
    "not_remove_list=[x for x in total_list if x not in remove_list]"
   ]
  },
  {
   "cell_type": "code",
   "execution_count": 104,
   "metadata": {},
   "outputs": [],
   "source": [
    "new_train=train.loc[not_remove_list, :]\n",
    "new_train_x=new_train[features].values\n",
    "new_train_y=new_train[target].values"
   ]
  },
  {
   "cell_type": "code",
   "execution_count": 105,
   "metadata": {},
   "outputs": [
    {
     "name": "stdout",
     "output_type": "stream",
     "text": [
      "========================1=================================\n",
      "epoch 0  | loss: 0.26939 | train_auc: 0.96248 | valid_auc: 0.94086 |  0:00:14s\n",
      "epoch 1  | loss: 0.23475 | train_auc: 0.96699 | valid_auc: 0.93842 |  0:00:29s\n",
      "epoch 2  | loss: 0.22488 | train_auc: 0.96987 | valid_auc: 0.93586 |  0:00:44s\n",
      "epoch 3  | loss: 0.21858 | train_auc: 0.95945 | valid_auc: 0.92231 |  0:00:58s\n",
      "epoch 4  | loss: 0.22086 | train_auc: 0.96707 | valid_auc: 0.93412 |  0:01:16s\n",
      "epoch 5  | loss: 0.21105 | train_auc: 0.97292 | valid_auc: 0.93859 |  0:01:31s\n",
      "epoch 6  | loss: 0.20935 | train_auc: 0.97552 | valid_auc: 0.93483 |  0:01:45s\n",
      "epoch 7  | loss: 0.2027  | train_auc: 0.97803 | valid_auc: 0.92969 |  0:02:00s\n",
      "epoch 8  | loss: 0.20094 | train_auc: 0.96664 | valid_auc: 0.93036 |  0:02:14s\n",
      "epoch 9  | loss: 0.20524 | train_auc: 0.96849 | valid_auc: 0.93246 |  0:02:28s\n",
      "Stop training because you reached max_epochs = 10 with best_epoch = 0 and best_valid_auc = 0.94086\n",
      "Best weights from best epoch are automatically used!\n",
      "========================2=================================\n",
      "epoch 0  | loss: 0.25447 | train_auc: 0.9579  | valid_auc: 0.95018 |  0:00:14s\n",
      "epoch 1  | loss: 0.23416 | train_auc: 0.96438 | valid_auc: 0.95639 |  0:00:28s\n",
      "epoch 2  | loss: 0.2278  | train_auc: 0.9694  | valid_auc: 0.95741 |  0:00:42s\n",
      "epoch 3  | loss: 0.22391 | train_auc: 0.9678  | valid_auc: 0.94947 |  0:00:56s\n",
      "epoch 4  | loss: 0.2164  | train_auc: 0.97287 | valid_auc: 0.95076 |  0:01:11s\n",
      "epoch 5  | loss: 0.21138 | train_auc: 0.9719  | valid_auc: 0.95102 |  0:01:25s\n",
      "epoch 6  | loss: 0.20317 | train_auc: 0.97264 | valid_auc: 0.94696 |  0:01:40s\n",
      "epoch 7  | loss: 0.20084 | train_auc: 0.9749  | valid_auc: 0.94295 |  0:01:54s\n",
      "epoch 8  | loss: 0.19765 | train_auc: 0.97568 | valid_auc: 0.94002 |  0:02:11s\n",
      "epoch 9  | loss: 0.19817 | train_auc: 0.97765 | valid_auc: 0.94129 |  0:02:26s\n",
      "Stop training because you reached max_epochs = 10 with best_epoch = 2 and best_valid_auc = 0.95741\n",
      "Best weights from best epoch are automatically used!\n",
      "========================3=================================\n",
      "epoch 0  | loss: 0.2324  | train_auc: 0.96582 | valid_auc: 0.96267 |  0:00:14s\n",
      "epoch 1  | loss: 0.22227 | train_auc: 0.97122 | valid_auc: 0.96591 |  0:00:28s\n",
      "epoch 2  | loss: 0.21813 | train_auc: 0.97294 | valid_auc: 0.96516 |  0:00:42s\n",
      "epoch 3  | loss: 0.21204 | train_auc: 0.97229 | valid_auc: 0.96181 |  0:00:56s\n",
      "epoch 4  | loss: 0.20441 | train_auc: 0.97246 | valid_auc: 0.95696 |  0:01:10s\n",
      "epoch 5  | loss: 0.21041 | train_auc: 0.96889 | valid_auc: 0.95211 |  0:01:27s\n",
      "epoch 6  | loss: 0.20652 | train_auc: 0.97345 | valid_auc: 0.9553  |  0:01:41s\n",
      "epoch 7  | loss: 0.19436 | train_auc: 0.97685 | valid_auc: 0.95417 |  0:01:55s\n",
      "epoch 8  | loss: 0.18898 | train_auc: 0.97812 | valid_auc: 0.95399 |  0:02:10s\n",
      "epoch 9  | loss: 0.19144 | train_auc: 0.97856 | valid_auc: 0.95131 |  0:02:24s\n",
      "Stop training because you reached max_epochs = 10 with best_epoch = 1 and best_valid_auc = 0.96591\n",
      "Best weights from best epoch are automatically used!\n",
      "========================4=================================\n",
      "epoch 0  | loss: 0.21653 | train_auc: 0.96675 | valid_auc: 0.95797 |  0:00:14s\n",
      "epoch 1  | loss: 0.20653 | train_auc: 0.97058 | valid_auc: 0.95663 |  0:00:28s\n",
      "epoch 2  | loss: 0.20366 | train_auc: 0.97446 | valid_auc: 0.95536 |  0:00:43s\n",
      "epoch 3  | loss: 0.20387 | train_auc: 0.97464 | valid_auc: 0.95444 |  0:00:57s\n",
      "epoch 4  | loss: 0.20598 | train_auc: 0.97681 | valid_auc: 0.94654 |  0:01:11s\n",
      "epoch 5  | loss: 0.19403 | train_auc: 0.97173 | valid_auc: 0.94487 |  0:01:26s\n",
      "epoch 6  | loss: 0.19308 | train_auc: 0.97614 | valid_auc: 0.94828 |  0:01:40s\n",
      "epoch 7  | loss: 0.19016 | train_auc: 0.97347 | valid_auc: 0.94269 |  0:01:54s\n",
      "epoch 8  | loss: 0.18467 | train_auc: 0.97969 | valid_auc: 0.93831 |  0:02:09s\n",
      "epoch 9  | loss: 0.18134 | train_auc: 0.97966 | valid_auc: 0.93855 |  0:02:26s\n",
      "Stop training because you reached max_epochs = 10 with best_epoch = 0 and best_valid_auc = 0.95797\n",
      "Best weights from best epoch are automatically used!\n",
      "========================5=================================\n",
      "epoch 0  | loss: 0.21867 | train_auc: 0.9704  | valid_auc: 0.95983 |  0:00:14s\n",
      "epoch 1  | loss: 0.21395 | train_auc: 0.96798 | valid_auc: 0.95489 |  0:00:28s\n",
      "epoch 2  | loss: 0.2046  | train_auc: 0.97269 | valid_auc: 0.95829 |  0:00:43s\n",
      "epoch 3  | loss: 0.20386 | train_auc: 0.97475 | valid_auc: 0.95735 |  0:00:57s\n",
      "epoch 4  | loss: 0.1954  | train_auc: 0.97647 | valid_auc: 0.9561  |  0:01:11s\n",
      "epoch 5  | loss: 0.19929 | train_auc: 0.97784 | valid_auc: 0.95489 |  0:01:29s\n",
      "epoch 6  | loss: 0.19608 | train_auc: 0.97855 | valid_auc: 0.95314 |  0:01:43s\n",
      "epoch 7  | loss: 0.19169 | train_auc: 0.97493 | valid_auc: 0.9537  |  0:01:57s\n",
      "epoch 8  | loss: 0.19835 | train_auc: 0.97822 | valid_auc: 0.9543  |  0:02:12s\n",
      "epoch 9  | loss: 0.18804 | train_auc: 0.97909 | valid_auc: 0.9521  |  0:02:27s\n",
      "Stop training because you reached max_epochs = 10 with best_epoch = 0 and best_valid_auc = 0.95983\n",
      "Best weights from best epoch are automatically used!\n"
     ]
    }
   ],
   "source": [
    "folds=StratifiedKFold(n_splits=5, shuffle=True, random_state=42)\n",
    "max_epochs=10\n",
    "\n",
    "for n_fold, (train_index, val_index) in enumerate(folds.split(new_train_x, new_train_y)):\n",
    "    \n",
    "    print(f\"========================{n_fold+1}=================================\")\n",
    "    X_train, X_val = new_train_x[train_index], new_train_x[val_index]\n",
    "    y_train, y_val = new_train_y[train_index], new_train_y[val_index]\n",
    "    \n",
    "    clf.fit(X_train=X_train, y_train=y_train,\n",
    "           eval_set=[(X_train, y_train), (X_val, y_val)],\n",
    "           eval_name=['train', 'valid'],\n",
    "            eval_metric=['auc'],\n",
    "            max_epochs=max_epochs, patience=20, batch_size=1024, virtual_batch_size =128, num_workers=1, weights=1, drop_last=False,\n",
    "           )\n",
    "             \n",
    "    PATH='/home/users/adk8400153/AXA_FDS/tabnet_model/new_clf_50%'+str(n_fold) +'.pth'\n",
    "    torch.save(clf, PATH)"
   ]
  },
  {
   "cell_type": "code",
   "execution_count": 106,
   "metadata": {},
   "outputs": [],
   "source": [
    "#test 정답 도출\n",
    "test_prediction=np.zeros((test.shape[0], 2))\n",
    "for n_fold in range(5):\n",
    "    PATH='/home/users/adk8400153/AXA_FDS/tabnet_model/new_clf_50%'+str(n_fold)+'.pth'\n",
    "    model=torch.load(PATH)\n",
    "    test_prediction += model.predict_proba(test_x)/5"
   ]
  },
  {
   "cell_type": "code",
   "execution_count": 107,
   "metadata": {},
   "outputs": [
    {
     "name": "stdout",
     "output_type": "stream",
     "text": [
      "AUC score: 0.7627021329042006\n",
      "precision score:0.022794378174087634\n",
      "recall score: 0.8427947598253275\n"
     ]
    },
    {
     "data": {
      "text/plain": [
       "Text(0.5, 24.0, 'Predicted label')"
      ]
     },
     "execution_count": 107,
     "metadata": {},
     "output_type": "execute_result"
    },
    {
     "data": {
      "image/png": "[encoded data removed]",
      "text/plain": [
       "<Figure size 360x360 with 2 Axes>"
      ]
     },
     "metadata": {
      "needs_background": "light"
     },
     "output_type": "display_data"
    }
   ],
   "source": [
    "test_preds=np.argmax(test_prediction, axis=1)\n",
    "print(f'AUC score: {roc_auc_score(y_score=test_prediction[:,1], y_true=test_y)}')\n",
    "print(f'precision score:{precision_score(test_y, test_preds)}')\n",
    "print(f'recall score: {recall_score(test_y, test_preds)}')\n",
    "cm=confusion_matrix(test_y, test_preds)\n",
    "plt.figure(figsize=(5,5))\n",
    "sns.heatmap(cm, annot=True, fmt=\"d\")\n",
    "plt.title(\"Confision matrix\")\n",
    "plt.ylabel(\"Actual label\")\n",
    "plt.xlabel(\"Predicted label\")"
   ]
  },
  {
   "cell_type": "code",
   "execution_count": 108,
   "metadata": {},
   "outputs": [],
   "source": [
    "test_prediction=pd.DataFrame(test_prediction, columns=['p0', 'p1'])\n",
    "score=pd.concat([test[[target]], test_prediction['p1']], axis=1)\n",
    "score.sort_values('p1', ascending=False, inplace=True)\n",
    "score=score.reset_index().drop('index', axis=1).copy()\n",
    "\n",
    "n_group=10\n",
    "group=['G01','G02','G03','G04','G05','G06','G07','G08','G09','G10']\n",
    "bins=round(len(score)/n_group)\n",
    "bins_1=len(score)-bins*(n_group-1)\n",
    "\n",
    "group_list=[]\n",
    "for i in range(n_group):\n",
    "    if i <n_group-1:\n",
    "        group_list.append(np.repeat(group[i], bins).tolist())\n",
    "    else:\n",
    "        group_list.append(np.repeat(group[i], bins_1).tolist())\n",
    "    \n",
    "import itertools\n",
    "group_list=list(itertools.chain(*group_list))\n",
    "score['group']=pd.Series(group_list)\n",
    "\n",
    "function_list=['count','sum','mean']\n",
    "table=score.groupby(['group']).agg(function_list).reset_index()"
   ]
  },
  {
   "cell_type": "code",
   "execution_count": 109,
   "metadata": {},
   "outputs": [
    {
     "data": {
      "text/html": [
       "<div>\n",
       "<style scoped>\n",
       "    .dataframe tbody tr th:only-of-type {\n",
       "        vertical-align: middle;\n",
       "    }\n",
       "\n",
       "    .dataframe tbody tr th {\n",
       "        vertical-align: top;\n",
       "    }\n",
       "\n",
       "    .dataframe thead tr th {\n",
       "        text-align: left;\n",
       "    }\n",
       "</style>\n",
       "<table border=\"1\" class=\"dataframe\">\n",
       "  <thead>\n",
       "    <tr>\n",
       "      <th></th>\n",
       "      <th>group</th>\n",
       "      <th colspan=\"3\" halign=\"left\">FDS_CATH</th>\n",
       "      <th colspan=\"3\" halign=\"left\">p1</th>\n",
       "    </tr>\n",
       "    <tr>\n",
       "      <th></th>\n",
       "      <th></th>\n",
       "      <th>count</th>\n",
       "      <th>sum</th>\n",
       "      <th>mean</th>\n",
       "      <th>count</th>\n",
       "      <th>sum</th>\n",
       "      <th>mean</th>\n",
       "    </tr>\n",
       "  </thead>\n",
       "  <tbody>\n",
       "    <tr>\n",
       "      <th>0</th>\n",
       "      <td>G01</td>\n",
       "      <td>1766</td>\n",
       "      <td>88</td>\n",
       "      <td>0.049830</td>\n",
       "      <td>1766</td>\n",
       "      <td>1764.509239</td>\n",
       "      <td>0.999156</td>\n",
       "    </tr>\n",
       "    <tr>\n",
       "      <th>1</th>\n",
       "      <td>G02</td>\n",
       "      <td>1766</td>\n",
       "      <td>38</td>\n",
       "      <td>0.021518</td>\n",
       "      <td>1766</td>\n",
       "      <td>1752.861287</td>\n",
       "      <td>0.992560</td>\n",
       "    </tr>\n",
       "    <tr>\n",
       "      <th>2</th>\n",
       "      <td>G03</td>\n",
       "      <td>1766</td>\n",
       "      <td>25</td>\n",
       "      <td>0.014156</td>\n",
       "      <td>1766</td>\n",
       "      <td>1697.245671</td>\n",
       "      <td>0.961068</td>\n",
       "    </tr>\n",
       "    <tr>\n",
       "      <th>3</th>\n",
       "      <td>G04</td>\n",
       "      <td>1766</td>\n",
       "      <td>24</td>\n",
       "      <td>0.013590</td>\n",
       "      <td>1766</td>\n",
       "      <td>1484.164803</td>\n",
       "      <td>0.840410</td>\n",
       "    </tr>\n",
       "    <tr>\n",
       "      <th>4</th>\n",
       "      <td>G05</td>\n",
       "      <td>1766</td>\n",
       "      <td>19</td>\n",
       "      <td>0.010759</td>\n",
       "      <td>1766</td>\n",
       "      <td>1024.329403</td>\n",
       "      <td>0.580028</td>\n",
       "    </tr>\n",
       "    <tr>\n",
       "      <th>5</th>\n",
       "      <td>G06</td>\n",
       "      <td>1766</td>\n",
       "      <td>13</td>\n",
       "      <td>0.007361</td>\n",
       "      <td>1766</td>\n",
       "      <td>611.932909</td>\n",
       "      <td>0.346508</td>\n",
       "    </tr>\n",
       "    <tr>\n",
       "      <th>6</th>\n",
       "      <td>G07</td>\n",
       "      <td>1766</td>\n",
       "      <td>6</td>\n",
       "      <td>0.003398</td>\n",
       "      <td>1766</td>\n",
       "      <td>333.144648</td>\n",
       "      <td>0.188644</td>\n",
       "    </tr>\n",
       "    <tr>\n",
       "      <th>7</th>\n",
       "      <td>G08</td>\n",
       "      <td>1766</td>\n",
       "      <td>11</td>\n",
       "      <td>0.006229</td>\n",
       "      <td>1766</td>\n",
       "      <td>155.359455</td>\n",
       "      <td>0.087973</td>\n",
       "    </tr>\n",
       "    <tr>\n",
       "      <th>8</th>\n",
       "      <td>G09</td>\n",
       "      <td>1766</td>\n",
       "      <td>1</td>\n",
       "      <td>0.000566</td>\n",
       "      <td>1766</td>\n",
       "      <td>49.077293</td>\n",
       "      <td>0.027790</td>\n",
       "    </tr>\n",
       "    <tr>\n",
       "      <th>9</th>\n",
       "      <td>G10</td>\n",
       "      <td>1767</td>\n",
       "      <td>4</td>\n",
       "      <td>0.002264</td>\n",
       "      <td>1767</td>\n",
       "      <td>22.007652</td>\n",
       "      <td>0.012455</td>\n",
       "    </tr>\n",
       "  </tbody>\n",
       "</table>\n",
       "</div>"
      ],
      "text/plain": [
       "  group FDS_CATH                  p1                       \n",
       "           count sum      mean count          sum      mean\n",
       "0   G01     1766  88  0.049830  1766  1764.509239  0.999156\n",
       "1   G02     1766  38  0.021518  1766  1752.861287  0.992560\n",
       "2   G03     1766  25  0.014156  1766  1697.245671  0.961068\n",
       "3   G04     1766  24  0.013590  1766  1484.164803  0.840410\n",
       "4   G05     1766  19  0.010759  1766  1024.329403  0.580028\n",
       "5   G06     1766  13  0.007361  1766   611.932909  0.346508\n",
       "6   G07     1766   6  0.003398  1766   333.144648  0.188644\n",
       "7   G08     1766  11  0.006229  1766   155.359455  0.087973\n",
       "8   G09     1766   1  0.000566  1766    49.077293  0.027790\n",
       "9   G10     1767   4  0.002264  1767    22.007652  0.012455"
      ]
     },
     "execution_count": 109,
     "metadata": {},
     "output_type": "execute_result"
    }
   ],
   "source": [
    "table"
   ]
  },
  {
   "cell_type": "code",
   "execution_count": 110,
   "metadata": {},
   "outputs": [
    {
     "data": {
      "text/plain": [
       "[<matplotlib.lines.Line2D at 0x7fbfe0eda1d0>]"
      ]
     },
     "execution_count": 110,
     "metadata": {},
     "output_type": "execute_result"
    },
    {
     "data": {
      "image/png": "[encoded data removed]",
      "text/plain": [
       "<Figure size 432x288 with 1 Axes>"
      ]
     },
     "metadata": {
      "needs_background": "light"
     },
     "output_type": "display_data"
    }
   ],
   "source": [
    "plt.plot(table['group'], table['FDS_CATH']['mean'],'bo--')"
   ]
  },
  {
   "cell_type": "code",
   "execution_count": 111,
   "metadata": {},
   "outputs": [],
   "source": [
    "#train 정답 도출\n",
    "train_prediction=np.zeros((train.shape[0], 2))\n",
    "for n_fold in range(5):\n",
    "    PATH='/home/users/adk8400153/AXA_FDS/tabnet_model/new_clf_50%'+str(n_fold)+'.pth'\n",
    "    model=torch.load(PATH)\n",
    "    train_prediction += model.predict_proba(train_x)/5"
   ]
  },
  {
   "cell_type": "code",
   "execution_count": 112,
   "metadata": {},
   "outputs": [
    {
     "name": "stdout",
     "output_type": "stream",
     "text": [
      "AUC score: 0.7789295930451204\n",
      "precision score:0.05419934334756647\n",
      "recall score: 0.887712454722764\n"
     ]
    },
    {
     "data": {
      "text/plain": [
       "Text(0.5, 24.0, 'Predicted label')"
      ]
     },
     "execution_count": 112,
     "metadata": {},
     "output_type": "execute_result"
    },
    {
     "data": {
      "image/png": "[encoded data removed]",
      "text/plain": [
       "<Figure size 360x360 with 2 Axes>"
      ]
     },
     "metadata": {
      "needs_background": "light"
     },
     "output_type": "display_data"
    }
   ],
   "source": [
    "train_preds=np.argmax(train_prediction, axis=1)\n",
    "print(f'AUC score: {roc_auc_score(y_score=train_prediction[:,1], y_true=train_y)}')\n",
    "print(f'precision score:{precision_score(train_y, train_preds)}')\n",
    "print(f'recall score: {recall_score(train_y, train_preds)}')\n",
    "cm=confusion_matrix(train_y, train_preds)\n",
    "plt.figure(figsize=(5,5))\n",
    "sns.heatmap(cm, annot=True, fmt=\"d\")\n",
    "plt.title(\"Confision matrix\")\n",
    "plt.ylabel(\"Actual label\")\n",
    "plt.xlabel(\"Predicted label\")"
   ]
  },
  {
   "cell_type": "code",
   "execution_count": 113,
   "metadata": {},
   "outputs": [],
   "source": [
    "train_prediction=pd.DataFrame(train_prediction, columns=['p0', 'p1'])\n",
    "score=pd.concat([train[[target]], train_prediction['p1']], axis=1)\n",
    "score.sort_values('p1', ascending=False, inplace=True)\n",
    "score=score.reset_index().drop('index', axis=1).copy()\n",
    "\n",
    "n_group=10\n",
    "group=['G01','G02','G03','G04','G05','G06','G07','G08','G09','G10']\n",
    "bins=round(len(score)/n_group)\n",
    "bins_1=len(score)-bins*(n_group-1)\n",
    "\n",
    "group_list=[]\n",
    "for i in range(n_group):\n",
    "    if i <n_group-1:\n",
    "        group_list.append(np.repeat(group[i], bins).tolist())\n",
    "    else:\n",
    "        group_list.append(np.repeat(group[i], bins_1).tolist())\n",
    "    \n",
    "import itertools\n",
    "group_list=list(itertools.chain(*group_list))\n",
    "score['group']=pd.Series(group_list)\n",
    "\n",
    "function_list=['count','sum','mean']\n",
    "table=score.groupby(['group']).agg(function_list).reset_index()"
   ]
  },
  {
   "cell_type": "code",
   "execution_count": 114,
   "metadata": {},
   "outputs": [
    {
     "data": {
      "text/html": [
       "<div>\n",
       "<style scoped>\n",
       "    .dataframe tbody tr th:only-of-type {\n",
       "        vertical-align: middle;\n",
       "    }\n",
       "\n",
       "    .dataframe tbody tr th {\n",
       "        vertical-align: top;\n",
       "    }\n",
       "\n",
       "    .dataframe thead tr th {\n",
       "        text-align: left;\n",
       "    }\n",
       "</style>\n",
       "<table border=\"1\" class=\"dataframe\">\n",
       "  <thead>\n",
       "    <tr>\n",
       "      <th></th>\n",
       "      <th>group</th>\n",
       "      <th colspan=\"3\" halign=\"left\">FDS_CATH</th>\n",
       "      <th colspan=\"3\" halign=\"left\">p1</th>\n",
       "    </tr>\n",
       "    <tr>\n",
       "      <th></th>\n",
       "      <th></th>\n",
       "      <th>count</th>\n",
       "      <th>sum</th>\n",
       "      <th>mean</th>\n",
       "      <th>count</th>\n",
       "      <th>sum</th>\n",
       "      <th>mean</th>\n",
       "    </tr>\n",
       "  </thead>\n",
       "  <tbody>\n",
       "    <tr>\n",
       "      <th>0</th>\n",
       "      <td>G01</td>\n",
       "      <td>11889</td>\n",
       "      <td>1259</td>\n",
       "      <td>0.105896</td>\n",
       "      <td>11889</td>\n",
       "      <td>11882.145645</td>\n",
       "      <td>0.999423</td>\n",
       "    </tr>\n",
       "    <tr>\n",
       "      <th>1</th>\n",
       "      <td>G02</td>\n",
       "      <td>11889</td>\n",
       "      <td>625</td>\n",
       "      <td>0.052570</td>\n",
       "      <td>11889</td>\n",
       "      <td>11828.454561</td>\n",
       "      <td>0.994907</td>\n",
       "    </tr>\n",
       "    <tr>\n",
       "      <th>2</th>\n",
       "      <td>G03</td>\n",
       "      <td>11889</td>\n",
       "      <td>491</td>\n",
       "      <td>0.041299</td>\n",
       "      <td>11889</td>\n",
       "      <td>11597.108846</td>\n",
       "      <td>0.975449</td>\n",
       "    </tr>\n",
       "    <tr>\n",
       "      <th>3</th>\n",
       "      <td>G04</td>\n",
       "      <td>11889</td>\n",
       "      <td>476</td>\n",
       "      <td>0.040037</td>\n",
       "      <td>11889</td>\n",
       "      <td>10726.229562</td>\n",
       "      <td>0.902198</td>\n",
       "    </tr>\n",
       "    <tr>\n",
       "      <th>4</th>\n",
       "      <td>G05</td>\n",
       "      <td>11889</td>\n",
       "      <td>351</td>\n",
       "      <td>0.029523</td>\n",
       "      <td>11889</td>\n",
       "      <td>7934.081295</td>\n",
       "      <td>0.667346</td>\n",
       "    </tr>\n",
       "    <tr>\n",
       "      <th>5</th>\n",
       "      <td>G06</td>\n",
       "      <td>11889</td>\n",
       "      <td>203</td>\n",
       "      <td>0.017075</td>\n",
       "      <td>11889</td>\n",
       "      <td>4217.457358</td>\n",
       "      <td>0.354736</td>\n",
       "    </tr>\n",
       "    <tr>\n",
       "      <th>6</th>\n",
       "      <td>G07</td>\n",
       "      <td>11889</td>\n",
       "      <td>115</td>\n",
       "      <td>0.009673</td>\n",
       "      <td>11889</td>\n",
       "      <td>2412.524339</td>\n",
       "      <td>0.202921</td>\n",
       "    </tr>\n",
       "    <tr>\n",
       "      <th>7</th>\n",
       "      <td>G08</td>\n",
       "      <td>11889</td>\n",
       "      <td>54</td>\n",
       "      <td>0.004542</td>\n",
       "      <td>11889</td>\n",
       "      <td>1241.496312</td>\n",
       "      <td>0.104424</td>\n",
       "    </tr>\n",
       "    <tr>\n",
       "      <th>8</th>\n",
       "      <td>G09</td>\n",
       "      <td>11889</td>\n",
       "      <td>6</td>\n",
       "      <td>0.000505</td>\n",
       "      <td>11889</td>\n",
       "      <td>373.729808</td>\n",
       "      <td>0.031435</td>\n",
       "    </tr>\n",
       "    <tr>\n",
       "      <th>9</th>\n",
       "      <td>G10</td>\n",
       "      <td>11887</td>\n",
       "      <td>9</td>\n",
       "      <td>0.000757</td>\n",
       "      <td>11887</td>\n",
       "      <td>152.694141</td>\n",
       "      <td>0.012845</td>\n",
       "    </tr>\n",
       "  </tbody>\n",
       "</table>\n",
       "</div>"
      ],
      "text/plain": [
       "  group FDS_CATH                     p1                        \n",
       "           count   sum      mean  count           sum      mean\n",
       "0   G01    11889  1259  0.105896  11889  11882.145645  0.999423\n",
       "1   G02    11889   625  0.052570  11889  11828.454561  0.994907\n",
       "2   G03    11889   491  0.041299  11889  11597.108846  0.975449\n",
       "3   G04    11889   476  0.040037  11889  10726.229562  0.902198\n",
       "4   G05    11889   351  0.029523  11889   7934.081295  0.667346\n",
       "5   G06    11889   203  0.017075  11889   4217.457358  0.354736\n",
       "6   G07    11889   115  0.009673  11889   2412.524339  0.202921\n",
       "7   G08    11889    54  0.004542  11889   1241.496312  0.104424\n",
       "8   G09    11889     6  0.000505  11889    373.729808  0.031435\n",
       "9   G10    11887     9  0.000757  11887    152.694141  0.012845"
      ]
     },
     "execution_count": 114,
     "metadata": {},
     "output_type": "execute_result"
    }
   ],
   "source": [
    "table"
   ]
  },
  {
   "cell_type": "code",
   "execution_count": 115,
   "metadata": {},
   "outputs": [
    {
     "data": {
      "text/plain": [
       "[<matplotlib.lines.Line2D at 0x7fbfe0b7b668>]"
      ]
     },
     "execution_count": 115,
     "metadata": {},
     "output_type": "execute_result"
    },
    {
     "data": {
      "image/png": "[encoded data removed]",
      "text/plain": [
       "<Figure size 432x288 with 1 Axes>"
      ]
     },
     "metadata": {
      "needs_background": "light"
     },
     "output_type": "display_data"
    }
   ],
   "source": [
    "plt.plot(table['group'], table['FDS_CATH']['mean'],'bo--')"
   ]
  },
  {
   "cell_type": "code",
   "execution_count": null,
   "metadata": {},
   "outputs": [],
   "source": []
  }
 ],
 "metadata": {
  "kernelspec": {
   "display_name": "Python 3",
   "language": "python",
   "name": "python3"
  },
  "language_info": {
   "codemirror_mode": {
    "name": "ipython",
    "version": 3
   },
   "file_extension": ".py",
   "mimetype": "text/x-python",
   "name": "python",
   "nbconvert_exporter": "python",
   "pygments_lexer": "ipython3",
   "version": "3.6.8"
  }
 },
 "nbformat": 4,
 "nbformat_minor": 4
}
