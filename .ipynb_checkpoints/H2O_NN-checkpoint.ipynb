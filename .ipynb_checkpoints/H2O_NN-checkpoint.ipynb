{
 "cells": [
  {
   "cell_type": "code",
   "execution_count": 1,
   "metadata": {},
   "outputs": [],
   "source": [
    "import os\n",
    "import numpy as np\n",
    "import pandas as pd\n",
    "import matplotlib.pyplot as plt\n",
    "import seaborn as sns\n",
    "\n",
    "from sklearn.metrics import roc_auc_score, recall_score, precision_score, confusion_matrix\n",
    "\n",
    "import h2o"
   ]
  },
  {
   "cell_type": "code",
   "execution_count": 2,
   "metadata": {},
   "outputs": [
    {
     "name": "stdout",
     "output_type": "stream",
     "text": [
      "Checking whether there is an H2O instance running at http://localhost:54321 . connected.\n",
      "Warning: Your H2O cluster version is too old (1 year, 9 months and 16 days)! Please download and install the latest version from http://h2o.ai/download/\n"
     ]
    },
    {
     "data": {
      "text/html": [
       "<div style=\"overflow:auto\"><table style=\"width:50%\"><tr><td>H2O cluster uptime:</td>\n",
       "<td>5 days 21 hours 34 mins</td></tr>\n",
       "<tr><td>H2O cluster timezone:</td>\n",
       "<td>Asia/Seoul</td></tr>\n",
       "<tr><td>H2O data parsing timezone:</td>\n",
       "<td>UTC</td></tr>\n",
       "<tr><td>H2O cluster version:</td>\n",
       "<td>3.26.0.10</td></tr>\n",
       "<tr><td>H2O cluster version age:</td>\n",
       "<td>1 year, 9 months and 16 days !!!</td></tr>\n",
       "<tr><td>H2O cluster name:</td>\n",
       "<td>h2o</td></tr>\n",
       "<tr><td>H2O cluster total nodes:</td>\n",
       "<td>1</td></tr>\n",
       "<tr><td>H2O cluster free memory:</td>\n",
       "<td>78.2 Gb</td></tr>\n",
       "<tr><td>H2O cluster total cores:</td>\n",
       "<td>64</td></tr>\n",
       "<tr><td>H2O cluster allowed cores:</td>\n",
       "<td>64</td></tr>\n",
       "<tr><td>H2O cluster status:</td>\n",
       "<td>locked, healthy</td></tr>\n",
       "<tr><td>H2O connection url:</td>\n",
       "<td>http://localhost:54321</td></tr>\n",
       "<tr><td>H2O connection proxy:</td>\n",
       "<td>{'http': None, 'https': None}</td></tr>\n",
       "<tr><td>H2O internal security:</td>\n",
       "<td>False</td></tr>\n",
       "<tr><td>H2O API Extensions:</td>\n",
       "<td>Amazon S3, XGBoost, Algos, AutoML, Core V3, TargetEncoder, Core V4</td></tr>\n",
       "<tr><td>Python version:</td>\n",
       "<td>3.6.8 final</td></tr></table></div>"
      ],
      "text/plain": [
       "--------------------------  ------------------------------------------------------------------\n",
       "H2O cluster uptime:         5 days 21 hours 34 mins\n",
       "H2O cluster timezone:       Asia/Seoul\n",
       "H2O data parsing timezone:  UTC\n",
       "H2O cluster version:        3.26.0.10\n",
       "H2O cluster version age:    1 year, 9 months and 16 days !!!\n",
       "H2O cluster name:           h2o\n",
       "H2O cluster total nodes:    1\n",
       "H2O cluster free memory:    78.2 Gb\n",
       "H2O cluster total cores:    64\n",
       "H2O cluster allowed cores:  64\n",
       "H2O cluster status:         locked, healthy\n",
       "H2O connection url:         http://localhost:54321\n",
       "H2O connection proxy:       {'http': None, 'https': None}\n",
       "H2O internal security:      False\n",
       "H2O API Extensions:         Amazon S3, XGBoost, Algos, AutoML, Core V3, TargetEncoder, Core V4\n",
       "Python version:             3.6.8 final\n",
       "--------------------------  ------------------------------------------------------------------"
      ]
     },
     "metadata": {},
     "output_type": "display_data"
    }
   ],
   "source": [
    "h2o.init(nthreads=10)"
   ]
  },
  {
   "cell_type": "code",
   "execution_count": 3,
   "metadata": {},
   "outputs": [
    {
     "name": "stdout",
     "output_type": "stream",
     "text": [
      "Parse progress: |█████████████████████████████████████████████████████████| 100%\n",
      "Parse progress: |█████████████████████████████████████████████████████████| 100%\n"
     ]
    }
   ],
   "source": [
    "train=h2o.import_file('../train.csv')\n",
    "test=h2o.import_file('../test.csv')"
   ]
  },
  {
   "cell_type": "code",
   "execution_count": 4,
   "metadata": {},
   "outputs": [],
   "source": [
    "x =train.columns\n",
    "y = 'FDS_CATH'\n",
    "x.remove(y)\n",
    "x.remove('FRST_RCV_DT')"
   ]
  },
  {
   "cell_type": "code",
   "execution_count": 5,
   "metadata": {},
   "outputs": [],
   "source": [
    "train[y] = train[y].asfactor()"
   ]
  },
  {
   "cell_type": "code",
   "execution_count": 6,
   "metadata": {},
   "outputs": [
    {
     "name": "stdout",
     "output_type": "stream",
     "text": [
      "deeplearning Model Build progress: |██████████████████████████████████████| 100%\n"
     ]
    }
   ],
   "source": [
    "from h2o.estimators.deeplearning import H2ODeepLearningEstimator\n",
    "from h2o.grid.grid_search import H2OGridSearch\n",
    "\n",
    "\n",
    "#activation_opt=[\"Rectifier\", \"RecifierWithDropout\",\"Maxout\",\"MaxoutWithDropout\"]\n",
    "#l1_opt = [0, 0.00001, 0.0001, 0.001, 0.01 ,0.1]\n",
    "#l2_opt = [0, 0.00001, 0.0001, 0.001, 0.01 ,0.1]\n",
    "#dl_params = {'activation': activation_opt, 'l1': l1_opt, 'l2':l2_opt}\n",
    "\n",
    "#search_criteria={'strategy': 'RandomDiscrete', 'max_runtime_secs':120, 'seed':1}\n",
    "\n",
    "\n",
    "#dl_grid = H2OGridSearch(model=H2ODeepLearningEstimator, \n",
    "#                        grid_id='dl_grid1',\n",
    "#                        hyper_params=dl_params,\n",
    "#                        search_criteria=search_criteria)\n",
    "#dl_grid.train(x=x, y=y,\n",
    "#              training_frame=train,\n",
    "#              hidden=[10, 10], \n",
    "#              hyper_params=dl_params,\n",
    "#             search_criteria=search_criteria)\n",
    "\n",
    "\n",
    "dl_fit = H2ODeepLearningEstimator(model_id='dl_fit', \n",
    "                                   epochs=20, \n",
    "                                   hidden=[10,10],\n",
    "                                   score_interval=1,          #used for early stopping\n",
    "                                   stopping_rounds=3,         #used for early stopping\n",
    "                                   stopping_metric='AUC',     #used for early stopping\n",
    "                                   stopping_tolerance=0.0005, #used for early stopping\n",
    "                                   seed=1)\n",
    "dl_fit.train(x=x, y=y, training_frame=train)"
   ]
  },
  {
   "cell_type": "code",
   "execution_count": 7,
   "metadata": {},
   "outputs": [],
   "source": [
    "def get_result(model, h2o_data, target, n_group=10):\n",
    "    pred_result=model.predict(h2o_data)\n",
    "    performance=model.model_performance(h2o_data)\n",
    "    pred_result.as_data_frame()\n",
    "\n",
    "    #h2oframe을 dataframe으로 변환\n",
    "    pred_result=h2o.as_list(pred_result, use_pandas=True)\n",
    "    h2o_data=h2o.as_list(h2o_data, use_pandas=True)\n",
    "\n",
    "    score=pd.concat([h2o_data[target].reset_index().drop('index', axis=1), pred_result['p1']], axis=1)\n",
    "    score.sort_values('p1', ascending=False, inplace=True)\n",
    "    score = score.reset_index().drop('index', axis = 1).copy()\n",
    "    \n",
    "    n_group=10\n",
    "    group=['G01','G02','G03','G04','G05','G06','G07','G08','G09','G10']\n",
    "    bins=round(len(score)/n_group)\n",
    "    bins_1=len(score)-bins*(n_group-1)\n",
    "\n",
    "    group_list=[]\n",
    "    for i in range(n_group):\n",
    "        if i <n_group-1:\n",
    "            group_list.append(np.repeat(group[i], bins).tolist())\n",
    "        else:\n",
    "            group_list.append(np.repeat(group[i], bins_1).tolist())\n",
    "\n",
    "    import itertools\n",
    "    group_list=list(itertools.chain(*group_list))\n",
    "    score['group']=pd.Series(group_list)\n",
    "\n",
    "    function_list=['count', 'sum','mean']\n",
    "    table=score.groupby(['group']).agg(function_list).reset_index()\n",
    "    \n",
    "    return score, table"
   ]
  },
  {
   "cell_type": "code",
   "execution_count": 19,
   "metadata": {},
   "outputs": [],
   "source": [
    "def make_plot(score, table):\n",
    "    \n",
    "    plt.figure(figsize=(10,5))\n",
    "    \n",
    "    plt.subplot(1, 2, 1)\n",
    "    plt.plot(table['group'], table['FDS_CATH']['mean'], 'bo--')\n",
    "    \n",
    "    y_true=score['FDS_CATH']\n",
    "    y_score=score['p1']\n",
    "    test_preds=np.where(y_score >0.5, 1, 0)\n",
    "    \n",
    "    print(f'precision score:{precision_score(y_true, test_preds)}')\n",
    "    print(f'recall score: {recall_score(y_true, test_preds)}')\n",
    "    print(f'auc acore:{roc_auc_score(y_true, y_score)}')\n",
    "    cm=confusion_matrix(y_true, test_preds)\n",
    "    \n",
    "    plt.subplot(1, 2, 2)\n",
    "    sns.heatmap(cm, annot=True, fmt=\"d\")\n",
    "    plt.title(\"Confision matrix\")\n",
    "    plt.ylabel(\"Actual label\")\n",
    "    plt.xlabel(\"Predicted label\")"
   ]
  },
  {
   "cell_type": "code",
   "execution_count": 17,
   "metadata": {},
   "outputs": [
    {
     "ename": "NameError",
     "evalue": "name 'y_true' is not defined",
     "output_type": "error",
     "traceback": [
      "\u001b[0;31m---------------------------------------------------------------------------\u001b[0m",
      "\u001b[0;31mNameError\u001b[0m                                 Traceback (most recent call last)",
      "\u001b[0;32m<ipython-input-17-97ab6c5e1193>\u001b[0m in \u001b[0;36m<module>\u001b[0;34m\u001b[0m\n\u001b[0;32m----> 1\u001b[0;31m \u001b[0mroc_auc_score\u001b[0m\u001b[0;34m(\u001b[0m\u001b[0my_true\u001b[0m\u001b[0;34m,\u001b[0m \u001b[0mtest_preds\u001b[0m\u001b[0;34m)\u001b[0m\u001b[0;34m\u001b[0m\u001b[0;34m\u001b[0m\u001b[0m\n\u001b[0m",
      "\u001b[0;31mNameError\u001b[0m: name 'y_true' is not defined"
     ]
    }
   ],
   "source": [
    "roc_auc_score(y_true, test_preds)"
   ]
  },
  {
   "cell_type": "code",
   "execution_count": 9,
   "metadata": {},
   "outputs": [
    {
     "name": "stdout",
     "output_type": "stream",
     "text": [
      "deeplearning prediction progress: |███████████████████████████████████████| 100%\n"
     ]
    }
   ],
   "source": [
    "test_score, test_table =get_result(dl_fit, test, target='FDS_CATH')"
   ]
  },
  {
   "cell_type": "code",
   "execution_count": 20,
   "metadata": {},
   "outputs": [
    {
     "name": "stdout",
     "output_type": "stream",
     "text": [
      "precision score:0.38095238095238093\n",
      "recall score: 0.06986899563318777\n",
      "auc acore:0.7813194526554588\n"
     ]
    },
    {
     "data": {
      "image/png": "[encoded data removed]",
      "text/plain": [
       "<Figure size 720x360 with 3 Axes>"
      ]
     },
     "metadata": {
      "needs_background": "light"
     },
     "output_type": "display_data"
    }
   ],
   "source": [
    "make_plot(test_score, test_table)"
   ]
  },
  {
   "cell_type": "code",
   "execution_count": 13,
   "metadata": {},
   "outputs": [
    {
     "data": {
      "text/html": [
       "<div>\n",
       "<style scoped>\n",
       "    .dataframe tbody tr th:only-of-type {\n",
       "        vertical-align: middle;\n",
       "    }\n",
       "\n",
       "    .dataframe tbody tr th {\n",
       "        vertical-align: top;\n",
       "    }\n",
       "\n",
       "    .dataframe thead tr th {\n",
       "        text-align: left;\n",
       "    }\n",
       "</style>\n",
       "<table border=\"1\" class=\"dataframe\">\n",
       "  <thead>\n",
       "    <tr>\n",
       "      <th></th>\n",
       "      <th>group</th>\n",
       "      <th colspan=\"3\" halign=\"left\">FDS_CATH</th>\n",
       "      <th colspan=\"3\" halign=\"left\">p1</th>\n",
       "    </tr>\n",
       "    <tr>\n",
       "      <th></th>\n",
       "      <th></th>\n",
       "      <th>count</th>\n",
       "      <th>sum</th>\n",
       "      <th>mean</th>\n",
       "      <th>count</th>\n",
       "      <th>sum</th>\n",
       "      <th>mean</th>\n",
       "    </tr>\n",
       "  </thead>\n",
       "  <tbody>\n",
       "    <tr>\n",
       "      <th>0</th>\n",
       "      <td>G01</td>\n",
       "      <td>1766</td>\n",
       "      <td>97</td>\n",
       "      <td>0.054926</td>\n",
       "      <td>1766</td>\n",
       "      <td>137.620644</td>\n",
       "      <td>0.077928</td>\n",
       "    </tr>\n",
       "    <tr>\n",
       "      <th>1</th>\n",
       "      <td>G02</td>\n",
       "      <td>1766</td>\n",
       "      <td>38</td>\n",
       "      <td>0.021518</td>\n",
       "      <td>1766</td>\n",
       "      <td>53.929020</td>\n",
       "      <td>0.030537</td>\n",
       "    </tr>\n",
       "    <tr>\n",
       "      <th>2</th>\n",
       "      <td>G03</td>\n",
       "      <td>1766</td>\n",
       "      <td>27</td>\n",
       "      <td>0.015289</td>\n",
       "      <td>1766</td>\n",
       "      <td>42.751523</td>\n",
       "      <td>0.024208</td>\n",
       "    </tr>\n",
       "    <tr>\n",
       "      <th>3</th>\n",
       "      <td>G04</td>\n",
       "      <td>1766</td>\n",
       "      <td>20</td>\n",
       "      <td>0.011325</td>\n",
       "      <td>1766</td>\n",
       "      <td>36.042644</td>\n",
       "      <td>0.020409</td>\n",
       "    </tr>\n",
       "    <tr>\n",
       "      <th>4</th>\n",
       "      <td>G05</td>\n",
       "      <td>1766</td>\n",
       "      <td>14</td>\n",
       "      <td>0.007928</td>\n",
       "      <td>1766</td>\n",
       "      <td>28.851569</td>\n",
       "      <td>0.016337</td>\n",
       "    </tr>\n",
       "    <tr>\n",
       "      <th>5</th>\n",
       "      <td>G06</td>\n",
       "      <td>1766</td>\n",
       "      <td>11</td>\n",
       "      <td>0.006229</td>\n",
       "      <td>1766</td>\n",
       "      <td>22.491491</td>\n",
       "      <td>0.012736</td>\n",
       "    </tr>\n",
       "    <tr>\n",
       "      <th>6</th>\n",
       "      <td>G07</td>\n",
       "      <td>1766</td>\n",
       "      <td>7</td>\n",
       "      <td>0.003964</td>\n",
       "      <td>1766</td>\n",
       "      <td>16.618308</td>\n",
       "      <td>0.009410</td>\n",
       "    </tr>\n",
       "    <tr>\n",
       "      <th>7</th>\n",
       "      <td>G08</td>\n",
       "      <td>1766</td>\n",
       "      <td>7</td>\n",
       "      <td>0.003964</td>\n",
       "      <td>1766</td>\n",
       "      <td>10.744609</td>\n",
       "      <td>0.006084</td>\n",
       "    </tr>\n",
       "    <tr>\n",
       "      <th>8</th>\n",
       "      <td>G09</td>\n",
       "      <td>1766</td>\n",
       "      <td>5</td>\n",
       "      <td>0.002831</td>\n",
       "      <td>1766</td>\n",
       "      <td>5.933831</td>\n",
       "      <td>0.003360</td>\n",
       "    </tr>\n",
       "    <tr>\n",
       "      <th>9</th>\n",
       "      <td>G10</td>\n",
       "      <td>1767</td>\n",
       "      <td>3</td>\n",
       "      <td>0.001698</td>\n",
       "      <td>1767</td>\n",
       "      <td>0.848599</td>\n",
       "      <td>0.000480</td>\n",
       "    </tr>\n",
       "  </tbody>\n",
       "</table>\n",
       "</div>"
      ],
      "text/plain": [
       "  group FDS_CATH                  p1                      \n",
       "           count sum      mean count         sum      mean\n",
       "0   G01     1766  97  0.054926  1766  137.620644  0.077928\n",
       "1   G02     1766  38  0.021518  1766   53.929020  0.030537\n",
       "2   G03     1766  27  0.015289  1766   42.751523  0.024208\n",
       "3   G04     1766  20  0.011325  1766   36.042644  0.020409\n",
       "4   G05     1766  14  0.007928  1766   28.851569  0.016337\n",
       "5   G06     1766  11  0.006229  1766   22.491491  0.012736\n",
       "6   G07     1766   7  0.003964  1766   16.618308  0.009410\n",
       "7   G08     1766   7  0.003964  1766   10.744609  0.006084\n",
       "8   G09     1766   5  0.002831  1766    5.933831  0.003360\n",
       "9   G10     1767   3  0.001698  1767    0.848599  0.000480"
      ]
     },
     "execution_count": 13,
     "metadata": {},
     "output_type": "execute_result"
    }
   ],
   "source": [
    "test_table"
   ]
  },
  {
   "cell_type": "code",
   "execution_count": 11,
   "metadata": {},
   "outputs": [
    {
     "name": "stdout",
     "output_type": "stream",
     "text": [
      "deeplearning prediction progress: |███████████████████████████████████████| 100%\n"
     ]
    }
   ],
   "source": [
    "train_score, train_table =get_result(dl_fit, train, target='FDS_CATH')"
   ]
  },
  {
   "cell_type": "code",
   "execution_count": 21,
   "metadata": {},
   "outputs": [
    {
     "name": "stdout",
     "output_type": "stream",
     "text": [
      "precision score:0.6935866983372921\n",
      "recall score: 0.08135971022568961\n",
      "auc acore:0.7646811519361446\n"
     ]
    },
    {
     "data": {
      "image/png": "[encoded data removed]",
      "text/plain": [
       "<Figure size 720x360 with 3 Axes>"
      ]
     },
     "metadata": {
      "needs_background": "light"
     },
     "output_type": "display_data"
    }
   ],
   "source": [
    "make_plot(train_score, train_table)"
   ]
  },
  {
   "cell_type": "code",
   "execution_count": 22,
   "metadata": {},
   "outputs": [
    {
     "data": {
      "text/html": [
       "<div>\n",
       "<style scoped>\n",
       "    .dataframe tbody tr th:only-of-type {\n",
       "        vertical-align: middle;\n",
       "    }\n",
       "\n",
       "    .dataframe tbody tr th {\n",
       "        vertical-align: top;\n",
       "    }\n",
       "\n",
       "    .dataframe thead tr th {\n",
       "        text-align: left;\n",
       "    }\n",
       "</style>\n",
       "<table border=\"1\" class=\"dataframe\">\n",
       "  <thead>\n",
       "    <tr>\n",
       "      <th></th>\n",
       "      <th>group</th>\n",
       "      <th colspan=\"3\" halign=\"left\">FDS_CATH</th>\n",
       "      <th colspan=\"3\" halign=\"left\">p1</th>\n",
       "    </tr>\n",
       "    <tr>\n",
       "      <th></th>\n",
       "      <th></th>\n",
       "      <th>count</th>\n",
       "      <th>sum</th>\n",
       "      <th>mean</th>\n",
       "      <th>count</th>\n",
       "      <th>sum</th>\n",
       "      <th>mean</th>\n",
       "    </tr>\n",
       "  </thead>\n",
       "  <tbody>\n",
       "    <tr>\n",
       "      <th>0</th>\n",
       "      <td>G01</td>\n",
       "      <td>11889</td>\n",
       "      <td>1417</td>\n",
       "      <td>0.119186</td>\n",
       "      <td>11889</td>\n",
       "      <td>1037.849310</td>\n",
       "      <td>0.087295</td>\n",
       "    </tr>\n",
       "    <tr>\n",
       "      <th>1</th>\n",
       "      <td>G02</td>\n",
       "      <td>11889</td>\n",
       "      <td>518</td>\n",
       "      <td>0.043570</td>\n",
       "      <td>11889</td>\n",
       "      <td>366.774179</td>\n",
       "      <td>0.030850</td>\n",
       "    </tr>\n",
       "    <tr>\n",
       "      <th>2</th>\n",
       "      <td>G03</td>\n",
       "      <td>11889</td>\n",
       "      <td>389</td>\n",
       "      <td>0.032719</td>\n",
       "      <td>11889</td>\n",
       "      <td>284.892678</td>\n",
       "      <td>0.023963</td>\n",
       "    </tr>\n",
       "    <tr>\n",
       "      <th>3</th>\n",
       "      <td>G04</td>\n",
       "      <td>11889</td>\n",
       "      <td>372</td>\n",
       "      <td>0.031289</td>\n",
       "      <td>11889</td>\n",
       "      <td>235.444655</td>\n",
       "      <td>0.019804</td>\n",
       "    </tr>\n",
       "    <tr>\n",
       "      <th>4</th>\n",
       "      <td>G05</td>\n",
       "      <td>11889</td>\n",
       "      <td>256</td>\n",
       "      <td>0.021533</td>\n",
       "      <td>11889</td>\n",
       "      <td>186.394828</td>\n",
       "      <td>0.015678</td>\n",
       "    </tr>\n",
       "    <tr>\n",
       "      <th>5</th>\n",
       "      <td>G06</td>\n",
       "      <td>11889</td>\n",
       "      <td>239</td>\n",
       "      <td>0.020103</td>\n",
       "      <td>11889</td>\n",
       "      <td>146.344051</td>\n",
       "      <td>0.012309</td>\n",
       "    </tr>\n",
       "    <tr>\n",
       "      <th>6</th>\n",
       "      <td>G07</td>\n",
       "      <td>11889</td>\n",
       "      <td>192</td>\n",
       "      <td>0.016149</td>\n",
       "      <td>11889</td>\n",
       "      <td>113.333778</td>\n",
       "      <td>0.009533</td>\n",
       "    </tr>\n",
       "    <tr>\n",
       "      <th>7</th>\n",
       "      <td>G08</td>\n",
       "      <td>11889</td>\n",
       "      <td>141</td>\n",
       "      <td>0.011860</td>\n",
       "      <td>11889</td>\n",
       "      <td>73.875922</td>\n",
       "      <td>0.006214</td>\n",
       "    </tr>\n",
       "    <tr>\n",
       "      <th>8</th>\n",
       "      <td>G09</td>\n",
       "      <td>11889</td>\n",
       "      <td>46</td>\n",
       "      <td>0.003869</td>\n",
       "      <td>11889</td>\n",
       "      <td>41.324638</td>\n",
       "      <td>0.003476</td>\n",
       "    </tr>\n",
       "    <tr>\n",
       "      <th>9</th>\n",
       "      <td>G10</td>\n",
       "      <td>11887</td>\n",
       "      <td>19</td>\n",
       "      <td>0.001598</td>\n",
       "      <td>11887</td>\n",
       "      <td>5.809332</td>\n",
       "      <td>0.000489</td>\n",
       "    </tr>\n",
       "  </tbody>\n",
       "</table>\n",
       "</div>"
      ],
      "text/plain": [
       "  group FDS_CATH                     p1                       \n",
       "           count   sum      mean  count          sum      mean\n",
       "0   G01    11889  1417  0.119186  11889  1037.849310  0.087295\n",
       "1   G02    11889   518  0.043570  11889   366.774179  0.030850\n",
       "2   G03    11889   389  0.032719  11889   284.892678  0.023963\n",
       "3   G04    11889   372  0.031289  11889   235.444655  0.019804\n",
       "4   G05    11889   256  0.021533  11889   186.394828  0.015678\n",
       "5   G06    11889   239  0.020103  11889   146.344051  0.012309\n",
       "6   G07    11889   192  0.016149  11889   113.333778  0.009533\n",
       "7   G08    11889   141  0.011860  11889    73.875922  0.006214\n",
       "8   G09    11889    46  0.003869  11889    41.324638  0.003476\n",
       "9   G10    11887    19  0.001598  11887     5.809332  0.000489"
      ]
     },
     "execution_count": 22,
     "metadata": {},
     "output_type": "execute_result"
    }
   ],
   "source": [
    "train_table"
   ]
  },
  {
   "cell_type": "code",
   "execution_count": null,
   "metadata": {},
   "outputs": [],
   "source": []
  }
 ],
 "metadata": {
  "kernelspec": {
   "display_name": "Python 3",
   "language": "python",
   "name": "python3"
  },
  "language_info": {
   "codemirror_mode": {
    "name": "ipython",
    "version": 3
   },
   "file_extension": ".py",
   "mimetype": "text/x-python",
   "name": "python",
   "nbconvert_exporter": "python",
   "pygments_lexer": "ipython3",
   "version": "3.6.8"
  }
 },
 "nbformat": 4,
 "nbformat_minor": 4
}
