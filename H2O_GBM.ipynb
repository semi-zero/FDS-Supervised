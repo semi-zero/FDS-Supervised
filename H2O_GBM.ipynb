{
 "cells": [
  {
   "cell_type": "markdown",
   "metadata": {},
   "source": [
    "# **H2O GBM**"
   ]
  },
  {
   "cell_type": "code",
   "execution_count": 1,
   "metadata": {},
   "outputs": [],
   "source": [
    "import os\n",
    "import numpy as np\n",
    "import pandas as pd\n",
    "import matplotlib.pyplot as plt\n",
    "import seaborn as sns\n",
    "\n",
    "from sklearn.metrics import roc_auc_score, recall_score, precision_score, confusion_matrix\n",
    "\n",
    "import h2o"
   ]
  },
  {
   "cell_type": "code",
   "execution_count": 2,
   "metadata": {},
   "outputs": [
    {
     "name": "stdout",
     "output_type": "stream",
     "text": [
      "Checking whether there is an H2O instance running at http://localhost:54321 . connected.\n",
      "Warning: Your H2O cluster version is too old (1 year, 9 months and 26 days)! Please download and install the latest version from http://h2o.ai/download/\n"
     ]
    },
    {
     "data": {
      "text/html": [
       "<div style=\"overflow:auto\"><table style=\"width:50%\"><tr><td>H2O cluster uptime:</td>\n",
       "<td>9 days 2 hours 26 mins</td></tr>\n",
       "<tr><td>H2O cluster timezone:</td>\n",
       "<td>Asia/Seoul</td></tr>\n",
       "<tr><td>H2O data parsing timezone:</td>\n",
       "<td>UTC</td></tr>\n",
       "<tr><td>H2O cluster version:</td>\n",
       "<td>3.26.0.10</td></tr>\n",
       "<tr><td>H2O cluster version age:</td>\n",
       "<td>1 year, 9 months and 26 days !!!</td></tr>\n",
       "<tr><td>H2O cluster name:</td>\n",
       "<td>h2o</td></tr>\n",
       "<tr><td>H2O cluster total nodes:</td>\n",
       "<td>1</td></tr>\n",
       "<tr><td>H2O cluster free memory:</td>\n",
       "<td>78.9 Gb</td></tr>\n",
       "<tr><td>H2O cluster total cores:</td>\n",
       "<td>64</td></tr>\n",
       "<tr><td>H2O cluster allowed cores:</td>\n",
       "<td>64</td></tr>\n",
       "<tr><td>H2O cluster status:</td>\n",
       "<td>locked, healthy</td></tr>\n",
       "<tr><td>H2O connection url:</td>\n",
       "<td>http://localhost:54321</td></tr>\n",
       "<tr><td>H2O connection proxy:</td>\n",
       "<td>{'http': None, 'https': None}</td></tr>\n",
       "<tr><td>H2O internal security:</td>\n",
       "<td>False</td></tr>\n",
       "<tr><td>H2O API Extensions:</td>\n",
       "<td>Amazon S3, XGBoost, Algos, AutoML, Core V3, TargetEncoder, Core V4</td></tr>\n",
       "<tr><td>Python version:</td>\n",
       "<td>3.6.8 final</td></tr></table></div>"
      ],
      "text/plain": [
       "--------------------------  ------------------------------------------------------------------\n",
       "H2O cluster uptime:         9 days 2 hours 26 mins\n",
       "H2O cluster timezone:       Asia/Seoul\n",
       "H2O data parsing timezone:  UTC\n",
       "H2O cluster version:        3.26.0.10\n",
       "H2O cluster version age:    1 year, 9 months and 26 days !!!\n",
       "H2O cluster name:           h2o\n",
       "H2O cluster total nodes:    1\n",
       "H2O cluster free memory:    78.9 Gb\n",
       "H2O cluster total cores:    64\n",
       "H2O cluster allowed cores:  64\n",
       "H2O cluster status:         locked, healthy\n",
       "H2O connection url:         http://localhost:54321\n",
       "H2O connection proxy:       {'http': None, 'https': None}\n",
       "H2O internal security:      False\n",
       "H2O API Extensions:         Amazon S3, XGBoost, Algos, AutoML, Core V3, TargetEncoder, Core V4\n",
       "Python version:             3.6.8 final\n",
       "--------------------------  ------------------------------------------------------------------"
      ]
     },
     "metadata": {},
     "output_type": "display_data"
    }
   ],
   "source": [
    "h2o.init(nthreads=10)"
   ]
  },
  {
   "cell_type": "code",
   "execution_count": 3,
   "metadata": {},
   "outputs": [
    {
     "name": "stdout",
     "output_type": "stream",
     "text": [
      "Parse progress: |█████████████████████████████████████████████████████████| 100%\n",
      "Parse progress: |█████████████████████████████████████████████████████████| 100%\n"
     ]
    }
   ],
   "source": [
    "train=h2o.import_file('../train.csv')\n",
    "test=h2o.import_file('../test.csv')"
   ]
  },
  {
   "cell_type": "code",
   "execution_count": 4,
   "metadata": {},
   "outputs": [],
   "source": [
    "x =train.columns\n",
    "y = 'FDS_CATH'\n",
    "x.remove(y)\n",
    "x.remove('FRST_RCV_DT')"
   ]
  },
  {
   "cell_type": "code",
   "execution_count": 5,
   "metadata": {},
   "outputs": [],
   "source": [
    "train[y] = train[y].asfactor()"
   ]
  },
  {
   "cell_type": "code",
   "execution_count": 6,
   "metadata": {},
   "outputs": [],
   "source": [
    "from h2o.estimators.gbm import H2OGradientBoostingEstimator\n",
    "from h2o.grid.grid_search import H2OGridSearch\n",
    "\n",
    "# GBM hyperparameters\n",
    "gbm_params = {'learn_rate': [i * 0.01 for i in range(1, 31)],  #updated\n",
    "                'max_depth': list(range(2, 11)),\n",
    "                'sample_rate': [0.9, 0.95, 1.0],  #updated\n",
    "                'col_sample_rate': [i * 0.1 for i in range(1, 11)]}\n",
    "\n",
    "# Search criteria\n",
    "search_criteria = {'strategy': 'RandomDiscrete', 'max_runtime_secs': 60}  #updated"
   ]
  },
  {
   "cell_type": "code",
   "execution_count": 7,
   "metadata": {},
   "outputs": [
    {
     "name": "stdout",
     "output_type": "stream",
     "text": [
      "gbm Grid Build progress: |████████████████████████████████████████████████| 100%\n"
     ]
    }
   ],
   "source": [
    "gbm_grid = H2OGridSearch(model=H2OGradientBoostingEstimator,\n",
    "                          grid_id='gbm_grid',\n",
    "                          hyper_params=gbm_params,\n",
    "                          search_criteria=search_criteria)\n",
    "gbm_grid.train(x=x, y=y, \n",
    "                training_frame=train,  \n",
    "                ntrees=100,\n",
    "                seed=1)"
   ]
  },
  {
   "cell_type": "code",
   "execution_count": 8,
   "metadata": {},
   "outputs": [],
   "source": [
    "def get_result(model, h2o_data, target, n_group=10):\n",
    "    pred_result=model.predict(h2o_data)\n",
    "    performance=model.model_performance(h2o_data)\n",
    "    pred_result.as_data_frame()\n",
    "\n",
    "    #h2oframe을 dataframe으로 변환\n",
    "    pred_result=h2o.as_list(pred_result, use_pandas=True)\n",
    "    h2o_data=h2o.as_list(h2o_data, use_pandas=True)\n",
    "\n",
    "    score=pd.concat([h2o_data[target].reset_index().drop('index', axis=1), pred_result['p1']], axis=1)\n",
    "    score.sort_values('p1', ascending=False, inplace=True)\n",
    "    score = score.reset_index().drop('index', axis = 1).copy()\n",
    "    \n",
    "    n_group=10\n",
    "    group=['G01','G02','G03','G04','G05','G06','G07','G08','G09','G10']\n",
    "    bins=round(len(score)/n_group)\n",
    "    bins_1=len(score)-bins*(n_group-1)\n",
    "\n",
    "    group_list=[]\n",
    "    for i in range(n_group):\n",
    "        if i <n_group-1:\n",
    "            group_list.append(np.repeat(group[i], bins).tolist())\n",
    "        else:\n",
    "            group_list.append(np.repeat(group[i], bins_1).tolist())\n",
    "\n",
    "    import itertools\n",
    "    group_list=list(itertools.chain(*group_list))\n",
    "    score['group']=pd.Series(group_list)\n",
    "\n",
    "    function_list=['count', 'sum','mean']\n",
    "    table=score.groupby(['group']).agg(function_list).reset_index()\n",
    "    \n",
    "    return score, table"
   ]
  },
  {
   "cell_type": "code",
   "execution_count": 9,
   "metadata": {},
   "outputs": [],
   "source": [
    "def make_plot(score, table):\n",
    "    \n",
    "    plt.figure(figsize=(10,5))\n",
    "    \n",
    "    plt.subplot(1, 2, 1)\n",
    "    plt.plot(table['group'], table['FDS_CATH']['mean'], 'bo--')\n",
    "    \n",
    "    y_true=score['FDS_CATH']\n",
    "    y_score=score['p1']\n",
    "    test_preds=np.where(y_score >0.5, 1, 0)\n",
    "    \n",
    "    print(f'precision score:{precision_score(y_true, test_preds)}')\n",
    "    print(f'recall score: {recall_score(y_true, test_preds)}')\n",
    "    print(f'auc acore:{roc_auc_score(y_true, y_score)}')\n",
    "    cm=confusion_matrix(y_true, test_preds)\n",
    "    \n",
    "    plt.subplot(1, 2, 2)\n",
    "    sns.heatmap(cm, annot=True, fmt=\"d\")\n",
    "    plt.title(\"Confision matrix\")\n",
    "    plt.ylabel(\"Actual label\")\n",
    "    plt.xlabel(\"Predicted label\")"
   ]
  },
  {
   "cell_type": "code",
   "execution_count": 10,
   "metadata": {},
   "outputs": [
    {
     "name": "stdout",
     "output_type": "stream",
     "text": [
      "gbm prediction progress: |████████████████████████████████████████████████| 100%\n"
     ]
    }
   ],
   "source": [
    "test_score, test_table =get_result(gbm_grid.get_grid(sort_by='f1', decreasing=True).models[0], test, target='FDS_CATH')"
   ]
  },
  {
   "cell_type": "code",
   "execution_count": 11,
   "metadata": {},
   "outputs": [
    {
     "name": "stdout",
     "output_type": "stream",
     "text": [
      "precision score:0.3770491803278688\n",
      "recall score: 0.10043668122270742\n",
      "auc acore:0.7670040642015588\n"
     ]
    },
    {
     "data": {
      "image/png": "[encoded data removed]",
      "text/plain": [
       "<Figure size 720x360 with 3 Axes>"
      ]
     },
     "metadata": {
      "needs_background": "light"
     },
     "output_type": "display_data"
    }
   ],
   "source": [
    "make_plot(test_score, test_table)"
   ]
  },
  {
   "cell_type": "code",
   "execution_count": 12,
   "metadata": {},
   "outputs": [
    {
     "data": {
      "text/html": [
       "<div>\n",
       "<style scoped>\n",
       "    .dataframe tbody tr th:only-of-type {\n",
       "        vertical-align: middle;\n",
       "    }\n",
       "\n",
       "    .dataframe tbody tr th {\n",
       "        vertical-align: top;\n",
       "    }\n",
       "\n",
       "    .dataframe thead tr th {\n",
       "        text-align: left;\n",
       "    }\n",
       "</style>\n",
       "<table border=\"1\" class=\"dataframe\">\n",
       "  <thead>\n",
       "    <tr>\n",
       "      <th></th>\n",
       "      <th>group</th>\n",
       "      <th colspan=\"3\" halign=\"left\">FDS_CATH</th>\n",
       "      <th colspan=\"3\" halign=\"left\">p1</th>\n",
       "    </tr>\n",
       "    <tr>\n",
       "      <th></th>\n",
       "      <th></th>\n",
       "      <th>count</th>\n",
       "      <th>sum</th>\n",
       "      <th>mean</th>\n",
       "      <th>count</th>\n",
       "      <th>sum</th>\n",
       "      <th>mean</th>\n",
       "    </tr>\n",
       "  </thead>\n",
       "  <tbody>\n",
       "    <tr>\n",
       "      <th>0</th>\n",
       "      <td>G01</td>\n",
       "      <td>1766</td>\n",
       "      <td>100</td>\n",
       "      <td>0.056625</td>\n",
       "      <td>1766</td>\n",
       "      <td>195.948205</td>\n",
       "      <td>0.110956</td>\n",
       "    </tr>\n",
       "    <tr>\n",
       "      <th>1</th>\n",
       "      <td>G02</td>\n",
       "      <td>1766</td>\n",
       "      <td>29</td>\n",
       "      <td>0.016421</td>\n",
       "      <td>1766</td>\n",
       "      <td>77.147076</td>\n",
       "      <td>0.043685</td>\n",
       "    </tr>\n",
       "    <tr>\n",
       "      <th>2</th>\n",
       "      <td>G03</td>\n",
       "      <td>1766</td>\n",
       "      <td>27</td>\n",
       "      <td>0.015289</td>\n",
       "      <td>1766</td>\n",
       "      <td>58.479886</td>\n",
       "      <td>0.033114</td>\n",
       "    </tr>\n",
       "    <tr>\n",
       "      <th>3</th>\n",
       "      <td>G04</td>\n",
       "      <td>1766</td>\n",
       "      <td>19</td>\n",
       "      <td>0.010759</td>\n",
       "      <td>1766</td>\n",
       "      <td>48.477795</td>\n",
       "      <td>0.027451</td>\n",
       "    </tr>\n",
       "    <tr>\n",
       "      <th>4</th>\n",
       "      <td>G05</td>\n",
       "      <td>1766</td>\n",
       "      <td>16</td>\n",
       "      <td>0.009060</td>\n",
       "      <td>1766</td>\n",
       "      <td>40.841663</td>\n",
       "      <td>0.023127</td>\n",
       "    </tr>\n",
       "    <tr>\n",
       "      <th>5</th>\n",
       "      <td>G06</td>\n",
       "      <td>1766</td>\n",
       "      <td>8</td>\n",
       "      <td>0.004530</td>\n",
       "      <td>1766</td>\n",
       "      <td>34.706391</td>\n",
       "      <td>0.019653</td>\n",
       "    </tr>\n",
       "    <tr>\n",
       "      <th>6</th>\n",
       "      <td>G07</td>\n",
       "      <td>1766</td>\n",
       "      <td>17</td>\n",
       "      <td>0.009626</td>\n",
       "      <td>1766</td>\n",
       "      <td>26.446300</td>\n",
       "      <td>0.014975</td>\n",
       "    </tr>\n",
       "    <tr>\n",
       "      <th>7</th>\n",
       "      <td>G08</td>\n",
       "      <td>1766</td>\n",
       "      <td>8</td>\n",
       "      <td>0.004530</td>\n",
       "      <td>1766</td>\n",
       "      <td>18.231904</td>\n",
       "      <td>0.010324</td>\n",
       "    </tr>\n",
       "    <tr>\n",
       "      <th>8</th>\n",
       "      <td>G09</td>\n",
       "      <td>1766</td>\n",
       "      <td>2</td>\n",
       "      <td>0.001133</td>\n",
       "      <td>1766</td>\n",
       "      <td>9.242187</td>\n",
       "      <td>0.005233</td>\n",
       "    </tr>\n",
       "    <tr>\n",
       "      <th>9</th>\n",
       "      <td>G10</td>\n",
       "      <td>1767</td>\n",
       "      <td>3</td>\n",
       "      <td>0.001698</td>\n",
       "      <td>1767</td>\n",
       "      <td>4.249411</td>\n",
       "      <td>0.002405</td>\n",
       "    </tr>\n",
       "  </tbody>\n",
       "</table>\n",
       "</div>"
      ],
      "text/plain": [
       "  group FDS_CATH                   p1                      \n",
       "           count  sum      mean count         sum      mean\n",
       "0   G01     1766  100  0.056625  1766  195.948205  0.110956\n",
       "1   G02     1766   29  0.016421  1766   77.147076  0.043685\n",
       "2   G03     1766   27  0.015289  1766   58.479886  0.033114\n",
       "3   G04     1766   19  0.010759  1766   48.477795  0.027451\n",
       "4   G05     1766   16  0.009060  1766   40.841663  0.023127\n",
       "5   G06     1766    8  0.004530  1766   34.706391  0.019653\n",
       "6   G07     1766   17  0.009626  1766   26.446300  0.014975\n",
       "7   G08     1766    8  0.004530  1766   18.231904  0.010324\n",
       "8   G09     1766    2  0.001133  1766    9.242187  0.005233\n",
       "9   G10     1767    3  0.001698  1767    4.249411  0.002405"
      ]
     },
     "execution_count": 12,
     "metadata": {},
     "output_type": "execute_result"
    }
   ],
   "source": [
    "test_table"
   ]
  },
  {
   "cell_type": "code",
   "execution_count": 13,
   "metadata": {},
   "outputs": [
    {
     "name": "stdout",
     "output_type": "stream",
     "text": [
      "gbm prediction progress: |████████████████████████████████████████████████| 100%\n"
     ]
    }
   ],
   "source": [
    "train_score, train_table =get_result(gbm_grid.get_grid(sort_by='f1', decreasing=True).models[0], train, target='FDS_CATH')"
   ]
  },
  {
   "cell_type": "code",
   "execution_count": 14,
   "metadata": {},
   "outputs": [
    {
     "name": "stdout",
     "output_type": "stream",
     "text": [
      "precision score:0.8906009244992296\n",
      "recall score: 0.16104764558372806\n",
      "auc acore:0.8248858164599873\n"
     ]
    },
    {
     "data": {
      "image/png": "[encoded data removed]",
      "text/plain": [
       "<Figure size 720x360 with 3 Axes>"
      ]
     },
     "metadata": {
      "needs_background": "light"
     },
     "output_type": "display_data"
    }
   ],
   "source": [
    "make_plot(train_score, train_table)"
   ]
  },
  {
   "cell_type": "code",
   "execution_count": 15,
   "metadata": {},
   "outputs": [
    {
     "data": {
      "text/html": [
       "<div>\n",
       "<style scoped>\n",
       "    .dataframe tbody tr th:only-of-type {\n",
       "        vertical-align: middle;\n",
       "    }\n",
       "\n",
       "    .dataframe tbody tr th {\n",
       "        vertical-align: top;\n",
       "    }\n",
       "\n",
       "    .dataframe thead tr th {\n",
       "        text-align: left;\n",
       "    }\n",
       "</style>\n",
       "<table border=\"1\" class=\"dataframe\">\n",
       "  <thead>\n",
       "    <tr>\n",
       "      <th></th>\n",
       "      <th>group</th>\n",
       "      <th colspan=\"3\" halign=\"left\">FDS_CATH</th>\n",
       "      <th colspan=\"3\" halign=\"left\">p1</th>\n",
       "    </tr>\n",
       "    <tr>\n",
       "      <th></th>\n",
       "      <th></th>\n",
       "      <th>count</th>\n",
       "      <th>sum</th>\n",
       "      <th>mean</th>\n",
       "      <th>count</th>\n",
       "      <th>sum</th>\n",
       "      <th>mean</th>\n",
       "    </tr>\n",
       "  </thead>\n",
       "  <tbody>\n",
       "    <tr>\n",
       "      <th>0</th>\n",
       "      <td>G01</td>\n",
       "      <td>11889</td>\n",
       "      <td>1823</td>\n",
       "      <td>0.153335</td>\n",
       "      <td>11889</td>\n",
       "      <td>1478.957236</td>\n",
       "      <td>0.124397</td>\n",
       "    </tr>\n",
       "    <tr>\n",
       "      <th>1</th>\n",
       "      <td>G02</td>\n",
       "      <td>11889</td>\n",
       "      <td>505</td>\n",
       "      <td>0.042476</td>\n",
       "      <td>11889</td>\n",
       "      <td>523.055968</td>\n",
       "      <td>0.043995</td>\n",
       "    </tr>\n",
       "    <tr>\n",
       "      <th>2</th>\n",
       "      <td>G03</td>\n",
       "      <td>11889</td>\n",
       "      <td>368</td>\n",
       "      <td>0.030953</td>\n",
       "      <td>11889</td>\n",
       "      <td>390.913318</td>\n",
       "      <td>0.032880</td>\n",
       "    </tr>\n",
       "    <tr>\n",
       "      <th>3</th>\n",
       "      <td>G04</td>\n",
       "      <td>11889</td>\n",
       "      <td>252</td>\n",
       "      <td>0.021196</td>\n",
       "      <td>11889</td>\n",
       "      <td>317.916198</td>\n",
       "      <td>0.026740</td>\n",
       "    </tr>\n",
       "    <tr>\n",
       "      <th>4</th>\n",
       "      <td>G05</td>\n",
       "      <td>11889</td>\n",
       "      <td>228</td>\n",
       "      <td>0.019177</td>\n",
       "      <td>11889</td>\n",
       "      <td>268.071268</td>\n",
       "      <td>0.022548</td>\n",
       "    </tr>\n",
       "    <tr>\n",
       "      <th>5</th>\n",
       "      <td>G06</td>\n",
       "      <td>11889</td>\n",
       "      <td>187</td>\n",
       "      <td>0.015729</td>\n",
       "      <td>11889</td>\n",
       "      <td>227.926190</td>\n",
       "      <td>0.019171</td>\n",
       "    </tr>\n",
       "    <tr>\n",
       "      <th>6</th>\n",
       "      <td>G07</td>\n",
       "      <td>11889</td>\n",
       "      <td>124</td>\n",
       "      <td>0.010430</td>\n",
       "      <td>11889</td>\n",
       "      <td>174.761115</td>\n",
       "      <td>0.014699</td>\n",
       "    </tr>\n",
       "    <tr>\n",
       "      <th>7</th>\n",
       "      <td>G08</td>\n",
       "      <td>11889</td>\n",
       "      <td>69</td>\n",
       "      <td>0.005804</td>\n",
       "      <td>11889</td>\n",
       "      <td>121.225131</td>\n",
       "      <td>0.010196</td>\n",
       "    </tr>\n",
       "    <tr>\n",
       "      <th>8</th>\n",
       "      <td>G09</td>\n",
       "      <td>11889</td>\n",
       "      <td>22</td>\n",
       "      <td>0.001850</td>\n",
       "      <td>11889</td>\n",
       "      <td>63.031420</td>\n",
       "      <td>0.005302</td>\n",
       "    </tr>\n",
       "    <tr>\n",
       "      <th>9</th>\n",
       "      <td>G10</td>\n",
       "      <td>11887</td>\n",
       "      <td>11</td>\n",
       "      <td>0.000925</td>\n",
       "      <td>11887</td>\n",
       "      <td>28.641975</td>\n",
       "      <td>0.002410</td>\n",
       "    </tr>\n",
       "  </tbody>\n",
       "</table>\n",
       "</div>"
      ],
      "text/plain": [
       "  group FDS_CATH                     p1                       \n",
       "           count   sum      mean  count          sum      mean\n",
       "0   G01    11889  1823  0.153335  11889  1478.957236  0.124397\n",
       "1   G02    11889   505  0.042476  11889   523.055968  0.043995\n",
       "2   G03    11889   368  0.030953  11889   390.913318  0.032880\n",
       "3   G04    11889   252  0.021196  11889   317.916198  0.026740\n",
       "4   G05    11889   228  0.019177  11889   268.071268  0.022548\n",
       "5   G06    11889   187  0.015729  11889   227.926190  0.019171\n",
       "6   G07    11889   124  0.010430  11889   174.761115  0.014699\n",
       "7   G08    11889    69  0.005804  11889   121.225131  0.010196\n",
       "8   G09    11889    22  0.001850  11889    63.031420  0.005302\n",
       "9   G10    11887    11  0.000925  11887    28.641975  0.002410"
      ]
     },
     "execution_count": 15,
     "metadata": {},
     "output_type": "execute_result"
    }
   ],
   "source": [
    "train_table"
   ]
  }
 ],
 "metadata": {
  "kernelspec": {
   "display_name": "Python 3",
   "language": "python",
   "name": "python3"
  },
  "language_info": {
   "codemirror_mode": {
    "name": "ipython",
    "version": 3
   },
   "file_extension": ".py",
   "mimetype": "text/x-python",
   "name": "python",
   "nbconvert_exporter": "python",
   "pygments_lexer": "ipython3",
   "version": "3.6.8"
  }
 },
 "nbformat": 4,
 "nbformat_minor": 4
}
