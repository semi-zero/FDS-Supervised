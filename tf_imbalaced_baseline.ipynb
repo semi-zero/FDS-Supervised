{
 "cells": [
  {
   "cell_type": "markdown",
   "metadata": {
    "id": "dUeKVCYTbcyT"
   },
   "source": [
    "#### Copyright 2019 The TensorFlow Authors."
   ]
  },
  {
   "cell_type": "code",
   "execution_count": 1,
   "metadata": {
    "cellView": "form",
    "id": "4ellrPx7tdxq"
   },
   "outputs": [],
   "source": [
    "#@title Licensed under the Apache License, Version 2.0 (the \"License\");\n",
    "# you may not use this file except in compliance with the License.\n",
    "# You may obtain a copy of the License at\n",
    "#\n",
    "# https://www.apache.org/licenses/LICENSE-2.0\n",
    "#\n",
    "# Unless required by applicable law or agreed to in writing, software\n",
    "# distributed under the License is distributed on an \"AS IS\" BASIS,\n",
    "# WITHOUT WARRANTIES OR CONDITIONS OF ANY KIND, either express or implied.\n",
    "# See the License for the specific language governing permissions and\n",
    "# limitations under the License."
   ]
  },
  {
   "cell_type": "markdown",
   "metadata": {
    "id": "7JfLUlawto_D"
   },
   "source": [
    "# 불균형 데이터 분류"
   ]
  },
  {
   "cell_type": "markdown",
   "metadata": {
    "id": "mthoSGBAOoX-"
   },
   "source": [
    "이 튜토리얼에서는 한 클래스의 예시의 수가 다른 클래스보다 훨씬 많은 불균형 데이터세트를 분류하는 방법을 소개합니다. Kaggle에서 호스팅 되는 [신용 카드 부정 행위 탐지 데이터세트](https://www.kaggle.com/mlg-ulb/creditcardfraud)를 사용하여 작업할 것입니다. 총 284,807건의 거래에서 492건의 부정거래만 적발하는 것이 목적입니다. [Keras](../../guide/keras/overview.ipynb)를 사용하여 모델 및 [클래스 가중치](https://www.tensorflow.org/versions/r2.0/api_docs/python/tf/keras/Model)를 정의하여 불균형 데이터로부터 모델을 학습할 수 있도록 할 것입니다.\n",
    "\n",
    "이 튜토리얼에서는 다음의 완전한 코드가 포함되어있습니다.:\n",
    "\n",
    "* Pandas를 사용하여 CSV 파일 로드.\n",
    "* 학습, 검증 및 테스트세트 작성.\n",
    "* Keras를 사용하여 모델을 정의하고 학습시키기(클래스 가중치 설정 포함).\n",
    "* 다양한 측정 기준(정밀도 및 재현 율 포함)을 사용하여 모델을 평가한다.\n",
    "* 불균형 데이터를 처리하기 위한 다음과 같은 기술을 사용해보십시오:\n",
    "    * 클래스 가중치 \n",
    "    * 오버샘플링\n"
   ]
  },
  {
   "cell_type": "markdown",
   "metadata": {
    "id": "kRHmSyHxEIhN"
   },
   "source": [
    "## 설정"
   ]
  },
  {
   "cell_type": "code",
   "execution_count": 30,
   "metadata": {
    "id": "JM7hDSNClfoK"
   },
   "outputs": [],
   "source": [
    "import tensorflow as tf\n",
    "from tensorflow import keras\n",
    "\n",
    "import os\n",
    "import tempfile\n",
    "\n",
    "import matplotlib as mpl\n",
    "import matplotlib.pyplot as plt\n",
    "import numpy as np\n",
    "import pandas as pd\n",
    "import seaborn as sns\n",
    "\n",
    "import sklearn\n",
    "from sklearn.metrics import confusion_matrix\n",
    "from sklearn.model_selection import train_test_split\n",
    "from sklearn.preprocessing import StandardScaler\n",
    "from sklearn.preprocessing import LabelEncoder\n",
    "from sklearn.preprocessing import OneHotEncoder"
   ]
  },
  {
   "cell_type": "code",
   "execution_count": 95,
   "metadata": {
    "id": "c8o1FHzD-_y_"
   },
   "outputs": [],
   "source": [
    "mpl.rcParams['figure.figsize'] = (12, 10)\n",
    "colors = plt.rcParams['axes.prop_cycle'].by_key()['color']"
   ]
  },
  {
   "cell_type": "markdown",
   "metadata": {},
   "source": [
    "### 데이터 불러오기 및 불균형 정도 확인"
   ]
  },
  {
   "cell_type": "code",
   "execution_count": 45,
   "metadata": {},
   "outputs": [],
   "source": [
    "train=pd.read_csv('train.csv')\n",
    "test=pd.read_csv('test.csv')"
   ]
  },
  {
   "cell_type": "code",
   "execution_count": 46,
   "metadata": {},
   "outputs": [
    {
     "name": "stdout",
     "output_type": "stream",
     "text": [
      "0    0.97118\n",
      "1    0.02882\n",
      "Name: FDS_CATH, dtype: float64\n",
      "0    0.985488\n",
      "1    0.014512\n",
      "Name: FDS_CATH, dtype: float64\n"
     ]
    }
   ],
   "source": [
    "print(train['FDS_CATH'].value_counts()/len(train))\n",
    "print(test['FDS_CATH'].value_counts()/len(test))"
   ]
  },
  {
   "cell_type": "code",
   "execution_count": 47,
   "metadata": {},
   "outputs": [],
   "source": [
    "train=train.drop('FRST_RCV_DT', axis=1)\n",
    "test=test.drop('FRST_RCV_DT', axis=1)"
   ]
  },
  {
   "cell_type": "code",
   "execution_count": 48,
   "metadata": {},
   "outputs": [
    {
     "data": {
      "text/html": [
       "<div>\n",
       "<style scoped>\n",
       "    .dataframe tbody tr th:only-of-type {\n",
       "        vertical-align: middle;\n",
       "    }\n",
       "\n",
       "    .dataframe tbody tr th {\n",
       "        vertical-align: top;\n",
       "    }\n",
       "\n",
       "    .dataframe thead th {\n",
       "        text-align: right;\n",
       "    }\n",
       "</style>\n",
       "<table border=\"1\" class=\"dataframe\">\n",
       "  <thead>\n",
       "    <tr style=\"text-align: right;\">\n",
       "      <th></th>\n",
       "      <th>ACDNT_CLAS_CD2</th>\n",
       "      <th>CAR_TYPE_NM</th>\n",
       "      <th>INSR_TYPE_NM</th>\n",
       "      <th>NON_FALT_CLAS_CD</th>\n",
       "      <th>INDM_EXPC_CD</th>\n",
       "      <th>OAI_FALT_RATE_G</th>\n",
       "      <th>CURE_YN</th>\n",
       "      <th>LBS_START</th>\n",
       "      <th>FRAUD_DOUBT_CD</th>\n",
       "      <th>DISPATCH_TOWING</th>\n",
       "      <th>...</th>\n",
       "      <th>NO_LICENSE</th>\n",
       "      <th>DRUNK_YN</th>\n",
       "      <th>LICNS_TYPE_CD</th>\n",
       "      <th>DRIVER_VOCTN_TST_GAP_G</th>\n",
       "      <th>LIC_2MOTO</th>\n",
       "      <th>DRIVER_LICNS_STAT</th>\n",
       "      <th>LICNS_CANCEL_YN</th>\n",
       "      <th>DRIVER_INFO_AGREE</th>\n",
       "      <th>ACDNT_TOTAL_TEXT_1</th>\n",
       "      <th>FDS_CATH</th>\n",
       "    </tr>\n",
       "  </thead>\n",
       "  <tbody>\n",
       "    <tr>\n",
       "      <th>0</th>\n",
       "      <td>G1</td>\n",
       "      <td>ME</td>\n",
       "      <td>PAP</td>\n",
       "      <td>G1</td>\n",
       "      <td>G1</td>\n",
       "      <td>G6</td>\n",
       "      <td>G1</td>\n",
       "      <td>G2</td>\n",
       "      <td>G2</td>\n",
       "      <td>G3</td>\n",
       "      <td>...</td>\n",
       "      <td>N</td>\n",
       "      <td>N</td>\n",
       "      <td>G5</td>\n",
       "      <td>G0</td>\n",
       "      <td>G1</td>\n",
       "      <td>G1</td>\n",
       "      <td>N</td>\n",
       "      <td>G3</td>\n",
       "      <td>NN</td>\n",
       "      <td>0</td>\n",
       "    </tr>\n",
       "    <tr>\n",
       "      <th>1</th>\n",
       "      <td>G2</td>\n",
       "      <td>RV</td>\n",
       "      <td>PAP</td>\n",
       "      <td>G1</td>\n",
       "      <td>G0</td>\n",
       "      <td>G1</td>\n",
       "      <td>G1</td>\n",
       "      <td>G1</td>\n",
       "      <td>G2</td>\n",
       "      <td>G3</td>\n",
       "      <td>...</td>\n",
       "      <td>N</td>\n",
       "      <td>N</td>\n",
       "      <td>G5</td>\n",
       "      <td>G0</td>\n",
       "      <td>G3</td>\n",
       "      <td>G3</td>\n",
       "      <td>N</td>\n",
       "      <td>G1</td>\n",
       "      <td>NN</td>\n",
       "      <td>0</td>\n",
       "    </tr>\n",
       "    <tr>\n",
       "      <th>2</th>\n",
       "      <td>G2</td>\n",
       "      <td>ME</td>\n",
       "      <td>PAP</td>\n",
       "      <td>G1</td>\n",
       "      <td>G1</td>\n",
       "      <td>G6</td>\n",
       "      <td>G1</td>\n",
       "      <td>G2</td>\n",
       "      <td>G2</td>\n",
       "      <td>G4</td>\n",
       "      <td>...</td>\n",
       "      <td>N</td>\n",
       "      <td>Y</td>\n",
       "      <td>G2</td>\n",
       "      <td>G0</td>\n",
       "      <td>G1</td>\n",
       "      <td>G1</td>\n",
       "      <td>N</td>\n",
       "      <td>G3</td>\n",
       "      <td>NY</td>\n",
       "      <td>0</td>\n",
       "    </tr>\n",
       "    <tr>\n",
       "      <th>3</th>\n",
       "      <td>G1</td>\n",
       "      <td>PO</td>\n",
       "      <td>BAP</td>\n",
       "      <td>G1</td>\n",
       "      <td>G1</td>\n",
       "      <td>G4</td>\n",
       "      <td>G1</td>\n",
       "      <td>G2</td>\n",
       "      <td>G2</td>\n",
       "      <td>G3</td>\n",
       "      <td>...</td>\n",
       "      <td>N</td>\n",
       "      <td>N</td>\n",
       "      <td>G2</td>\n",
       "      <td>G3</td>\n",
       "      <td>G1</td>\n",
       "      <td>G1</td>\n",
       "      <td>N</td>\n",
       "      <td>G3</td>\n",
       "      <td>NN</td>\n",
       "      <td>0</td>\n",
       "    </tr>\n",
       "    <tr>\n",
       "      <th>4</th>\n",
       "      <td>G2</td>\n",
       "      <td>ME</td>\n",
       "      <td>PAP</td>\n",
       "      <td>G1</td>\n",
       "      <td>G1</td>\n",
       "      <td>G1</td>\n",
       "      <td>G1</td>\n",
       "      <td>G1</td>\n",
       "      <td>G2</td>\n",
       "      <td>G4</td>\n",
       "      <td>...</td>\n",
       "      <td>N</td>\n",
       "      <td>N</td>\n",
       "      <td>G5</td>\n",
       "      <td>G0</td>\n",
       "      <td>G3</td>\n",
       "      <td>G3</td>\n",
       "      <td>N</td>\n",
       "      <td>G1</td>\n",
       "      <td>NN</td>\n",
       "      <td>0</td>\n",
       "    </tr>\n",
       "  </tbody>\n",
       "</table>\n",
       "<p>5 rows × 21 columns</p>\n",
       "</div>"
      ],
      "text/plain": [
       "  ACDNT_CLAS_CD2 CAR_TYPE_NM INSR_TYPE_NM NON_FALT_CLAS_CD INDM_EXPC_CD  \\\n",
       "0             G1          ME          PAP               G1           G1   \n",
       "1             G2          RV          PAP               G1           G0   \n",
       "2             G2          ME          PAP               G1           G1   \n",
       "3             G1          PO          BAP               G1           G1   \n",
       "4             G2          ME          PAP               G1           G1   \n",
       "\n",
       "  OAI_FALT_RATE_G CURE_YN LBS_START FRAUD_DOUBT_CD DISPATCH_TOWING  ...  \\\n",
       "0              G6      G1        G2             G2              G3  ...   \n",
       "1              G1      G1        G1             G2              G3  ...   \n",
       "2              G6      G1        G2             G2              G4  ...   \n",
       "3              G4      G1        G2             G2              G3  ...   \n",
       "4              G1      G1        G1             G2              G4  ...   \n",
       "\n",
       "  NO_LICENSE DRUNK_YN LICNS_TYPE_CD DRIVER_VOCTN_TST_GAP_G LIC_2MOTO  \\\n",
       "0          N        N            G5                     G0        G1   \n",
       "1          N        N            G5                     G0        G3   \n",
       "2          N        Y            G2                     G0        G1   \n",
       "3          N        N            G2                     G3        G1   \n",
       "4          N        N            G5                     G0        G3   \n",
       "\n",
       "  DRIVER_LICNS_STAT LICNS_CANCEL_YN DRIVER_INFO_AGREE ACDNT_TOTAL_TEXT_1  \\\n",
       "0                G1               N                G3                 NN   \n",
       "1                G3               N                G1                 NN   \n",
       "2                G1               N                G3                 NY   \n",
       "3                G1               N                G3                 NN   \n",
       "4                G3               N                G1                 NN   \n",
       "\n",
       "  FDS_CATH  \n",
       "0        0  \n",
       "1        0  \n",
       "2        0  \n",
       "3        0  \n",
       "4        0  \n",
       "\n",
       "[5 rows x 21 columns]"
      ]
     },
     "execution_count": 48,
     "metadata": {},
     "output_type": "execute_result"
    }
   ],
   "source": [
    "train.head()"
   ]
  },
  {
   "cell_type": "code",
   "execution_count": 60,
   "metadata": {},
   "outputs": [
    {
     "data": {
      "text/plain": [
       "dtype('O')"
      ]
     },
     "execution_count": 60,
     "metadata": {},
     "output_type": "execute_result"
    }
   ],
   "source": [
    "train['CAR_TYPE_NM'].dtype"
   ]
  },
  {
   "cell_type": "code",
   "execution_count": 61,
   "metadata": {},
   "outputs": [],
   "source": [
    "def labelencoding(data):\n",
    "    le = LabelEncoder()\n",
    "    for column in data.columns:\n",
    "        if data[column].dtype == 'O':\n",
    "            data[column]=le.fit_transform(data[column])\n",
    "        else : pass"
   ]
  },
  {
   "cell_type": "code",
   "execution_count": 62,
   "metadata": {},
   "outputs": [],
   "source": [
    "labelencoding(train)"
   ]
  },
  {
   "cell_type": "code",
   "execution_count": 63,
   "metadata": {},
   "outputs": [],
   "source": [
    "labelencoding(test)"
   ]
  },
  {
   "cell_type": "code",
   "execution_count": 64,
   "metadata": {},
   "outputs": [
    {
     "data": {
      "text/html": [
       "<div>\n",
       "<style scoped>\n",
       "    .dataframe tbody tr th:only-of-type {\n",
       "        vertical-align: middle;\n",
       "    }\n",
       "\n",
       "    .dataframe tbody tr th {\n",
       "        vertical-align: top;\n",
       "    }\n",
       "\n",
       "    .dataframe thead th {\n",
       "        text-align: right;\n",
       "    }\n",
       "</style>\n",
       "<table border=\"1\" class=\"dataframe\">\n",
       "  <thead>\n",
       "    <tr style=\"text-align: right;\">\n",
       "      <th></th>\n",
       "      <th>ACDNT_CLAS_CD2</th>\n",
       "      <th>CAR_TYPE_NM</th>\n",
       "      <th>INSR_TYPE_NM</th>\n",
       "      <th>NON_FALT_CLAS_CD</th>\n",
       "      <th>INDM_EXPC_CD</th>\n",
       "      <th>OAI_FALT_RATE_G</th>\n",
       "      <th>CURE_YN</th>\n",
       "      <th>LBS_START</th>\n",
       "      <th>FRAUD_DOUBT_CD</th>\n",
       "      <th>DISPATCH_TOWING</th>\n",
       "      <th>...</th>\n",
       "      <th>NO_LICENSE</th>\n",
       "      <th>DRUNK_YN</th>\n",
       "      <th>LICNS_TYPE_CD</th>\n",
       "      <th>DRIVER_VOCTN_TST_GAP_G</th>\n",
       "      <th>LIC_2MOTO</th>\n",
       "      <th>DRIVER_LICNS_STAT</th>\n",
       "      <th>LICNS_CANCEL_YN</th>\n",
       "      <th>DRIVER_INFO_AGREE</th>\n",
       "      <th>ACDNT_TOTAL_TEXT_1</th>\n",
       "      <th>FDS_CATH</th>\n",
       "    </tr>\n",
       "  </thead>\n",
       "  <tbody>\n",
       "    <tr>\n",
       "      <th>0</th>\n",
       "      <td>0</td>\n",
       "      <td>3</td>\n",
       "      <td>3</td>\n",
       "      <td>0</td>\n",
       "      <td>1</td>\n",
       "      <td>6</td>\n",
       "      <td>0</td>\n",
       "      <td>1</td>\n",
       "      <td>1</td>\n",
       "      <td>2</td>\n",
       "      <td>...</td>\n",
       "      <td>0</td>\n",
       "      <td>0</td>\n",
       "      <td>3</td>\n",
       "      <td>0</td>\n",
       "      <td>0</td>\n",
       "      <td>0</td>\n",
       "      <td>0</td>\n",
       "      <td>1</td>\n",
       "      <td>0</td>\n",
       "      <td>0</td>\n",
       "    </tr>\n",
       "    <tr>\n",
       "      <th>1</th>\n",
       "      <td>1</td>\n",
       "      <td>5</td>\n",
       "      <td>3</td>\n",
       "      <td>0</td>\n",
       "      <td>0</td>\n",
       "      <td>1</td>\n",
       "      <td>0</td>\n",
       "      <td>0</td>\n",
       "      <td>1</td>\n",
       "      <td>2</td>\n",
       "      <td>...</td>\n",
       "      <td>0</td>\n",
       "      <td>0</td>\n",
       "      <td>3</td>\n",
       "      <td>0</td>\n",
       "      <td>2</td>\n",
       "      <td>2</td>\n",
       "      <td>0</td>\n",
       "      <td>0</td>\n",
       "      <td>0</td>\n",
       "      <td>0</td>\n",
       "    </tr>\n",
       "    <tr>\n",
       "      <th>2</th>\n",
       "      <td>1</td>\n",
       "      <td>3</td>\n",
       "      <td>3</td>\n",
       "      <td>0</td>\n",
       "      <td>1</td>\n",
       "      <td>6</td>\n",
       "      <td>0</td>\n",
       "      <td>1</td>\n",
       "      <td>1</td>\n",
       "      <td>3</td>\n",
       "      <td>...</td>\n",
       "      <td>0</td>\n",
       "      <td>1</td>\n",
       "      <td>1</td>\n",
       "      <td>0</td>\n",
       "      <td>0</td>\n",
       "      <td>0</td>\n",
       "      <td>0</td>\n",
       "      <td>1</td>\n",
       "      <td>1</td>\n",
       "      <td>0</td>\n",
       "    </tr>\n",
       "    <tr>\n",
       "      <th>3</th>\n",
       "      <td>0</td>\n",
       "      <td>4</td>\n",
       "      <td>0</td>\n",
       "      <td>0</td>\n",
       "      <td>1</td>\n",
       "      <td>4</td>\n",
       "      <td>0</td>\n",
       "      <td>1</td>\n",
       "      <td>1</td>\n",
       "      <td>2</td>\n",
       "      <td>...</td>\n",
       "      <td>0</td>\n",
       "      <td>0</td>\n",
       "      <td>1</td>\n",
       "      <td>3</td>\n",
       "      <td>0</td>\n",
       "      <td>0</td>\n",
       "      <td>0</td>\n",
       "      <td>1</td>\n",
       "      <td>0</td>\n",
       "      <td>0</td>\n",
       "    </tr>\n",
       "    <tr>\n",
       "      <th>4</th>\n",
       "      <td>1</td>\n",
       "      <td>3</td>\n",
       "      <td>3</td>\n",
       "      <td>0</td>\n",
       "      <td>1</td>\n",
       "      <td>1</td>\n",
       "      <td>0</td>\n",
       "      <td>0</td>\n",
       "      <td>1</td>\n",
       "      <td>3</td>\n",
       "      <td>...</td>\n",
       "      <td>0</td>\n",
       "      <td>0</td>\n",
       "      <td>3</td>\n",
       "      <td>0</td>\n",
       "      <td>2</td>\n",
       "      <td>2</td>\n",
       "      <td>0</td>\n",
       "      <td>0</td>\n",
       "      <td>0</td>\n",
       "      <td>0</td>\n",
       "    </tr>\n",
       "  </tbody>\n",
       "</table>\n",
       "<p>5 rows × 21 columns</p>\n",
       "</div>"
      ],
      "text/plain": [
       "   ACDNT_CLAS_CD2  CAR_TYPE_NM  INSR_TYPE_NM  NON_FALT_CLAS_CD  INDM_EXPC_CD  \\\n",
       "0               0            3             3                 0             1   \n",
       "1               1            5             3                 0             0   \n",
       "2               1            3             3                 0             1   \n",
       "3               0            4             0                 0             1   \n",
       "4               1            3             3                 0             1   \n",
       "\n",
       "   OAI_FALT_RATE_G  CURE_YN  LBS_START  FRAUD_DOUBT_CD  DISPATCH_TOWING  ...  \\\n",
       "0                6        0          1               1                2  ...   \n",
       "1                1        0          0               1                2  ...   \n",
       "2                6        0          1               1                3  ...   \n",
       "3                4        0          1               1                2  ...   \n",
       "4                1        0          0               1                3  ...   \n",
       "\n",
       "   NO_LICENSE  DRUNK_YN  LICNS_TYPE_CD  DRIVER_VOCTN_TST_GAP_G  LIC_2MOTO  \\\n",
       "0           0         0              3                       0          0   \n",
       "1           0         0              3                       0          2   \n",
       "2           0         1              1                       0          0   \n",
       "3           0         0              1                       3          0   \n",
       "4           0         0              3                       0          2   \n",
       "\n",
       "   DRIVER_LICNS_STAT  LICNS_CANCEL_YN  DRIVER_INFO_AGREE  ACDNT_TOTAL_TEXT_1  \\\n",
       "0                  0                0                  1                   0   \n",
       "1                  2                0                  0                   0   \n",
       "2                  0                0                  1                   1   \n",
       "3                  0                0                  1                   0   \n",
       "4                  2                0                  0                   0   \n",
       "\n",
       "   FDS_CATH  \n",
       "0         0  \n",
       "1         0  \n",
       "2         0  \n",
       "3         0  \n",
       "4         0  \n",
       "\n",
       "[5 rows x 21 columns]"
      ]
     },
     "execution_count": 64,
     "metadata": {},
     "output_type": "execute_result"
    }
   ],
   "source": [
    "train.head()"
   ]
  },
  {
   "cell_type": "code",
   "execution_count": 65,
   "metadata": {},
   "outputs": [
    {
     "data": {
      "text/html": [
       "<div>\n",
       "<style scoped>\n",
       "    .dataframe tbody tr th:only-of-type {\n",
       "        vertical-align: middle;\n",
       "    }\n",
       "\n",
       "    .dataframe tbody tr th {\n",
       "        vertical-align: top;\n",
       "    }\n",
       "\n",
       "    .dataframe thead th {\n",
       "        text-align: right;\n",
       "    }\n",
       "</style>\n",
       "<table border=\"1\" class=\"dataframe\">\n",
       "  <thead>\n",
       "    <tr style=\"text-align: right;\">\n",
       "      <th></th>\n",
       "      <th>ACDNT_CLAS_CD2</th>\n",
       "      <th>CAR_TYPE_NM</th>\n",
       "      <th>INSR_TYPE_NM</th>\n",
       "      <th>NON_FALT_CLAS_CD</th>\n",
       "      <th>INDM_EXPC_CD</th>\n",
       "      <th>OAI_FALT_RATE_G</th>\n",
       "      <th>CURE_YN</th>\n",
       "      <th>LBS_START</th>\n",
       "      <th>FRAUD_DOUBT_CD</th>\n",
       "      <th>DISPATCH_TOWING</th>\n",
       "      <th>...</th>\n",
       "      <th>NO_LICENSE</th>\n",
       "      <th>DRUNK_YN</th>\n",
       "      <th>LICNS_TYPE_CD</th>\n",
       "      <th>DRIVER_VOCTN_TST_GAP_G</th>\n",
       "      <th>LIC_2MOTO</th>\n",
       "      <th>DRIVER_LICNS_STAT</th>\n",
       "      <th>LICNS_CANCEL_YN</th>\n",
       "      <th>DRIVER_INFO_AGREE</th>\n",
       "      <th>ACDNT_TOTAL_TEXT_1</th>\n",
       "      <th>FDS_CATH</th>\n",
       "    </tr>\n",
       "  </thead>\n",
       "  <tbody>\n",
       "    <tr>\n",
       "      <th>0</th>\n",
       "      <td>2</td>\n",
       "      <td>3</td>\n",
       "      <td>0</td>\n",
       "      <td>0</td>\n",
       "      <td>1</td>\n",
       "      <td>6</td>\n",
       "      <td>1</td>\n",
       "      <td>1</td>\n",
       "      <td>1</td>\n",
       "      <td>3</td>\n",
       "      <td>...</td>\n",
       "      <td>0</td>\n",
       "      <td>0</td>\n",
       "      <td>1</td>\n",
       "      <td>0</td>\n",
       "      <td>0</td>\n",
       "      <td>0</td>\n",
       "      <td>0</td>\n",
       "      <td>1</td>\n",
       "      <td>1</td>\n",
       "      <td>0</td>\n",
       "    </tr>\n",
       "    <tr>\n",
       "      <th>1</th>\n",
       "      <td>0</td>\n",
       "      <td>4</td>\n",
       "      <td>3</td>\n",
       "      <td>0</td>\n",
       "      <td>1</td>\n",
       "      <td>6</td>\n",
       "      <td>1</td>\n",
       "      <td>1</td>\n",
       "      <td>1</td>\n",
       "      <td>3</td>\n",
       "      <td>...</td>\n",
       "      <td>0</td>\n",
       "      <td>0</td>\n",
       "      <td>1</td>\n",
       "      <td>6</td>\n",
       "      <td>0</td>\n",
       "      <td>0</td>\n",
       "      <td>0</td>\n",
       "      <td>1</td>\n",
       "      <td>1</td>\n",
       "      <td>0</td>\n",
       "    </tr>\n",
       "    <tr>\n",
       "      <th>2</th>\n",
       "      <td>0</td>\n",
       "      <td>1</td>\n",
       "      <td>3</td>\n",
       "      <td>0</td>\n",
       "      <td>1</td>\n",
       "      <td>6</td>\n",
       "      <td>0</td>\n",
       "      <td>1</td>\n",
       "      <td>1</td>\n",
       "      <td>3</td>\n",
       "      <td>...</td>\n",
       "      <td>0</td>\n",
       "      <td>0</td>\n",
       "      <td>1</td>\n",
       "      <td>0</td>\n",
       "      <td>1</td>\n",
       "      <td>0</td>\n",
       "      <td>0</td>\n",
       "      <td>1</td>\n",
       "      <td>0</td>\n",
       "      <td>0</td>\n",
       "    </tr>\n",
       "    <tr>\n",
       "      <th>3</th>\n",
       "      <td>1</td>\n",
       "      <td>4</td>\n",
       "      <td>3</td>\n",
       "      <td>0</td>\n",
       "      <td>1</td>\n",
       "      <td>2</td>\n",
       "      <td>1</td>\n",
       "      <td>1</td>\n",
       "      <td>1</td>\n",
       "      <td>3</td>\n",
       "      <td>...</td>\n",
       "      <td>0</td>\n",
       "      <td>0</td>\n",
       "      <td>1</td>\n",
       "      <td>0</td>\n",
       "      <td>0</td>\n",
       "      <td>0</td>\n",
       "      <td>0</td>\n",
       "      <td>1</td>\n",
       "      <td>0</td>\n",
       "      <td>0</td>\n",
       "    </tr>\n",
       "    <tr>\n",
       "      <th>4</th>\n",
       "      <td>1</td>\n",
       "      <td>3</td>\n",
       "      <td>0</td>\n",
       "      <td>0</td>\n",
       "      <td>1</td>\n",
       "      <td>6</td>\n",
       "      <td>0</td>\n",
       "      <td>0</td>\n",
       "      <td>1</td>\n",
       "      <td>3</td>\n",
       "      <td>...</td>\n",
       "      <td>1</td>\n",
       "      <td>0</td>\n",
       "      <td>1</td>\n",
       "      <td>0</td>\n",
       "      <td>0</td>\n",
       "      <td>1</td>\n",
       "      <td>1</td>\n",
       "      <td>1</td>\n",
       "      <td>1</td>\n",
       "      <td>1</td>\n",
       "    </tr>\n",
       "  </tbody>\n",
       "</table>\n",
       "<p>5 rows × 21 columns</p>\n",
       "</div>"
      ],
      "text/plain": [
       "   ACDNT_CLAS_CD2  CAR_TYPE_NM  INSR_TYPE_NM  NON_FALT_CLAS_CD  INDM_EXPC_CD  \\\n",
       "0               2            3             0                 0             1   \n",
       "1               0            4             3                 0             1   \n",
       "2               0            1             3                 0             1   \n",
       "3               1            4             3                 0             1   \n",
       "4               1            3             0                 0             1   \n",
       "\n",
       "   OAI_FALT_RATE_G  CURE_YN  LBS_START  FRAUD_DOUBT_CD  DISPATCH_TOWING  ...  \\\n",
       "0                6        1          1               1                3  ...   \n",
       "1                6        1          1               1                3  ...   \n",
       "2                6        0          1               1                3  ...   \n",
       "3                2        1          1               1                3  ...   \n",
       "4                6        0          0               1                3  ...   \n",
       "\n",
       "   NO_LICENSE  DRUNK_YN  LICNS_TYPE_CD  DRIVER_VOCTN_TST_GAP_G  LIC_2MOTO  \\\n",
       "0           0         0              1                       0          0   \n",
       "1           0         0              1                       6          0   \n",
       "2           0         0              1                       0          1   \n",
       "3           0         0              1                       0          0   \n",
       "4           1         0              1                       0          0   \n",
       "\n",
       "   DRIVER_LICNS_STAT  LICNS_CANCEL_YN  DRIVER_INFO_AGREE  ACDNT_TOTAL_TEXT_1  \\\n",
       "0                  0                0                  1                   1   \n",
       "1                  0                0                  1                   1   \n",
       "2                  0                0                  1                   0   \n",
       "3                  0                0                  1                   0   \n",
       "4                  1                1                  1                   1   \n",
       "\n",
       "   FDS_CATH  \n",
       "0         0  \n",
       "1         0  \n",
       "2         0  \n",
       "3         0  \n",
       "4         1  \n",
       "\n",
       "[5 rows x 21 columns]"
      ]
     },
     "execution_count": 65,
     "metadata": {},
     "output_type": "execute_result"
    }
   ],
   "source": [
    "test.head()"
   ]
  },
  {
   "cell_type": "markdown",
   "metadata": {
    "id": "6qox6ryyzwdr"
   },
   "source": [
    "### 데이터 정리, 분할 및 정규화\n"
   ]
  },
  {
   "cell_type": "markdown",
   "metadata": {
    "id": "uSNgdQFFFQ6u"
   },
   "source": [
    "데이터 세트를 학습, 검증 및 테스트 세트로 분할합니다. 검증 세트는 모델 피팅 중에 손실 및 메트릭을 평가하는 데 사용되지만 모델이 이 데이터에 적합하지 않습니다. 테스트 세트는 훈련 단계에서 완전히 사용되지 않으며 모델이 새 데이터로 얼마나 잘 일반화되는지 평가하기 위해 마지막에만 사용됩니다. 이는 훈련 데이터 부족으로 인하여 [오버피팅](https://developers.google.com/machine-learning/crash-course/generalization/peril-of-overfitting) 이 중요한 문제인 데이터 세트에서 특히 더 중요합니다.\n",
    "\n",
    "정규화를 시켜야하나?"
   ]
  },
  {
   "cell_type": "code",
   "execution_count": 67,
   "metadata": {
    "id": "xfxhKg7Yr1-b"
   },
   "outputs": [],
   "source": [
    "# Use a utility from sklearn to split and shuffle our dataset.\n",
    "train_df, val_df = train_test_split(train, test_size=0.2)\n",
    "test_df =test\n",
    "\n",
    "# Form np arrays of labels and features.\n",
    "train_labels = np.array(train_df.pop('FDS_CATH'))\n",
    "bool_train_labels = train_labels != 0\n",
    "val_labels = np.array(val_df.pop('FDS_CATH'))\n",
    "test_labels = np.array(test_df.pop('FDS_CATH'))\n",
    "\n",
    "train_features = np.array(train_df)\n",
    "val_features = np.array(val_df)\n",
    "test_features = np.array(test_df)"
   ]
  },
  {
   "cell_type": "markdown",
   "metadata": {
    "id": "8a_Z_kBmr7Oh"
   },
   "source": [
    "sklearn StandardScaler를 사용하여 입력 기능을 정규화 합니다.\n",
    "이것은 평균은 0으로, 표준 편차는 1로 설정합니다.\n",
    "\n",
    "참고: StandardScaler는 오직 모델이 validation 또는 test set를 peeking 하지는 않았는지 확인하기 위해 train_feature를 사용할 때 적합합니다. "
   ]
  },
  {
   "cell_type": "code",
   "execution_count": 69,
   "metadata": {
    "id": "IO-qEUmJ5JQg"
   },
   "outputs": [
    {
     "name": "stdout",
     "output_type": "stream",
     "text": [
      "Training labels shape: (102679,)\n",
      "Validation labels shape: (25670,)\n",
      "Test labels shape: (8200,)\n",
      "Training features shape: (102679, 20)\n",
      "Validation features shape: (25670, 20)\n",
      "Test features shape: (8200, 20)\n"
     ]
    }
   ],
   "source": [
    "#여기선 하지 않는다\n",
    "#scaler = StandardScaler()\n",
    "#train_features = scaler.fit_transform(train_features)\n",
    "\n",
    "#val_features = scaler.transform(val_features)\n",
    "#test_features = scaler.transform(test_features)\n",
    "\n",
    "#train_features = np.clip(train_features, -5, 5)\n",
    "#val_features = np.clip(val_features, -5, 5)\n",
    "#test_features = np.clip(test_features, -5, 5)\n",
    "\n",
    "\n",
    "print('Training labels shape:', train_labels.shape)\n",
    "print('Validation labels shape:', val_labels.shape)\n",
    "print('Test labels shape:', test_labels.shape)\n",
    "\n",
    "print('Training features shape:', train_features.shape)\n",
    "print('Validation features shape:', val_features.shape)\n",
    "print('Test features shape:', test_features.shape)\n"
   ]
  },
  {
   "cell_type": "code",
   "execution_count": 70,
   "metadata": {},
   "outputs": [
    {
     "data": {
      "text/plain": [
       "array([False, False, False, ..., False, False, False])"
      ]
     },
     "execution_count": 70,
     "metadata": {},
     "output_type": "execute_result"
    }
   ],
   "source": [
    "bool_train_labels"
   ]
  },
  {
   "cell_type": "markdown",
   "metadata": {
    "id": "XF2nNfWKJ33w"
   },
   "source": [
    "주의: 모델을 배포하려면 전처리 계산을 유지하는 것이 중요합니다. 레이어로 구현하고 내보내기 전에 모델에 연결하는 것이 가장 쉬운 방법입니다.\n"
   ]
  },
  {
   "cell_type": "markdown",
   "metadata": {
    "id": "uQ7m9nqDC3W6"
   },
   "source": [
    "### 데이터 분포 살펴보기 \n",
    "\n",
    "다음으로 몇 가지 기능에 대한 긍정 및 부정 예제의 분포를 비교하십시오. 이 때 스스로에게 물어볼 좋은 질문은 다음과 같습니다.:\n",
    "\n",
    "* 이러한 분포가 의미가 있습니까?\n",
    "    * 예. 이미 입력을 정규화했으며 대부분 `+/- 2` 범위에 밀집되어 있습니다.\n",
    "* 분포의 차이를 볼 수 있습니까?\n",
    "    * 예. 긍정적인 예는 그렇지 않은 것 보다 훨씬 더 높은 극단적인 값을 포함합니다."
   ]
  },
  {
   "cell_type": "code",
   "execution_count": 72,
   "metadata": {},
   "outputs": [],
   "source": [
    "pos_df = pd.DataFrame(train_features[ bool_train_labels], columns=train_df.columns)\n",
    "neg_df = pd.DataFrame(train_features[~bool_train_labels], columns=train_df.columns)"
   ]
  },
  {
   "cell_type": "code",
   "execution_count": 73,
   "metadata": {},
   "outputs": [
    {
     "data": {
      "text/html": [
       "<div>\n",
       "<style scoped>\n",
       "    .dataframe tbody tr th:only-of-type {\n",
       "        vertical-align: middle;\n",
       "    }\n",
       "\n",
       "    .dataframe tbody tr th {\n",
       "        vertical-align: top;\n",
       "    }\n",
       "\n",
       "    .dataframe thead th {\n",
       "        text-align: right;\n",
       "    }\n",
       "</style>\n",
       "<table border=\"1\" class=\"dataframe\">\n",
       "  <thead>\n",
       "    <tr style=\"text-align: right;\">\n",
       "      <th></th>\n",
       "      <th>ACDNT_CLAS_CD2</th>\n",
       "      <th>CAR_TYPE_NM</th>\n",
       "      <th>INSR_TYPE_NM</th>\n",
       "      <th>NON_FALT_CLAS_CD</th>\n",
       "      <th>INDM_EXPC_CD</th>\n",
       "      <th>OAI_FALT_RATE_G</th>\n",
       "      <th>CURE_YN</th>\n",
       "      <th>LBS_START</th>\n",
       "      <th>FRAUD_DOUBT_CD</th>\n",
       "      <th>DISPATCH_TOWING</th>\n",
       "      <th>DRUNK_A</th>\n",
       "      <th>NO_LICENSE</th>\n",
       "      <th>DRUNK_YN</th>\n",
       "      <th>LICNS_TYPE_CD</th>\n",
       "      <th>DRIVER_VOCTN_TST_GAP_G</th>\n",
       "      <th>LIC_2MOTO</th>\n",
       "      <th>DRIVER_LICNS_STAT</th>\n",
       "      <th>LICNS_CANCEL_YN</th>\n",
       "      <th>DRIVER_INFO_AGREE</th>\n",
       "      <th>ACDNT_TOTAL_TEXT_1</th>\n",
       "    </tr>\n",
       "  </thead>\n",
       "  <tbody>\n",
       "    <tr>\n",
       "      <th>0</th>\n",
       "      <td>1</td>\n",
       "      <td>7</td>\n",
       "      <td>3</td>\n",
       "      <td>0</td>\n",
       "      <td>1</td>\n",
       "      <td>6</td>\n",
       "      <td>0</td>\n",
       "      <td>1</td>\n",
       "      <td>1</td>\n",
       "      <td>3</td>\n",
       "      <td>0</td>\n",
       "      <td>0</td>\n",
       "      <td>0</td>\n",
       "      <td>1</td>\n",
       "      <td>0</td>\n",
       "      <td>0</td>\n",
       "      <td>0</td>\n",
       "      <td>0</td>\n",
       "      <td>1</td>\n",
       "      <td>0</td>\n",
       "    </tr>\n",
       "    <tr>\n",
       "      <th>1</th>\n",
       "      <td>3</td>\n",
       "      <td>4</td>\n",
       "      <td>0</td>\n",
       "      <td>0</td>\n",
       "      <td>1</td>\n",
       "      <td>6</td>\n",
       "      <td>0</td>\n",
       "      <td>1</td>\n",
       "      <td>1</td>\n",
       "      <td>3</td>\n",
       "      <td>0</td>\n",
       "      <td>1</td>\n",
       "      <td>0</td>\n",
       "      <td>1</td>\n",
       "      <td>0</td>\n",
       "      <td>2</td>\n",
       "      <td>2</td>\n",
       "      <td>0</td>\n",
       "      <td>1</td>\n",
       "      <td>2</td>\n",
       "    </tr>\n",
       "    <tr>\n",
       "      <th>2</th>\n",
       "      <td>0</td>\n",
       "      <td>6</td>\n",
       "      <td>3</td>\n",
       "      <td>0</td>\n",
       "      <td>1</td>\n",
       "      <td>6</td>\n",
       "      <td>0</td>\n",
       "      <td>1</td>\n",
       "      <td>1</td>\n",
       "      <td>2</td>\n",
       "      <td>0</td>\n",
       "      <td>0</td>\n",
       "      <td>0</td>\n",
       "      <td>3</td>\n",
       "      <td>0</td>\n",
       "      <td>0</td>\n",
       "      <td>0</td>\n",
       "      <td>0</td>\n",
       "      <td>1</td>\n",
       "      <td>1</td>\n",
       "    </tr>\n",
       "    <tr>\n",
       "      <th>3</th>\n",
       "      <td>1</td>\n",
       "      <td>5</td>\n",
       "      <td>3</td>\n",
       "      <td>0</td>\n",
       "      <td>1</td>\n",
       "      <td>6</td>\n",
       "      <td>0</td>\n",
       "      <td>1</td>\n",
       "      <td>1</td>\n",
       "      <td>3</td>\n",
       "      <td>0</td>\n",
       "      <td>0</td>\n",
       "      <td>0</td>\n",
       "      <td>1</td>\n",
       "      <td>0</td>\n",
       "      <td>0</td>\n",
       "      <td>0</td>\n",
       "      <td>0</td>\n",
       "      <td>0</td>\n",
       "      <td>0</td>\n",
       "    </tr>\n",
       "    <tr>\n",
       "      <th>4</th>\n",
       "      <td>1</td>\n",
       "      <td>3</td>\n",
       "      <td>3</td>\n",
       "      <td>2</td>\n",
       "      <td>1</td>\n",
       "      <td>1</td>\n",
       "      <td>1</td>\n",
       "      <td>0</td>\n",
       "      <td>1</td>\n",
       "      <td>2</td>\n",
       "      <td>0</td>\n",
       "      <td>0</td>\n",
       "      <td>0</td>\n",
       "      <td>0</td>\n",
       "      <td>0</td>\n",
       "      <td>0</td>\n",
       "      <td>0</td>\n",
       "      <td>0</td>\n",
       "      <td>1</td>\n",
       "      <td>3</td>\n",
       "    </tr>\n",
       "    <tr>\n",
       "      <th>...</th>\n",
       "      <td>...</td>\n",
       "      <td>...</td>\n",
       "      <td>...</td>\n",
       "      <td>...</td>\n",
       "      <td>...</td>\n",
       "      <td>...</td>\n",
       "      <td>...</td>\n",
       "      <td>...</td>\n",
       "      <td>...</td>\n",
       "      <td>...</td>\n",
       "      <td>...</td>\n",
       "      <td>...</td>\n",
       "      <td>...</td>\n",
       "      <td>...</td>\n",
       "      <td>...</td>\n",
       "      <td>...</td>\n",
       "      <td>...</td>\n",
       "      <td>...</td>\n",
       "      <td>...</td>\n",
       "      <td>...</td>\n",
       "    </tr>\n",
       "    <tr>\n",
       "      <th>2972</th>\n",
       "      <td>2</td>\n",
       "      <td>6</td>\n",
       "      <td>3</td>\n",
       "      <td>0</td>\n",
       "      <td>1</td>\n",
       "      <td>6</td>\n",
       "      <td>1</td>\n",
       "      <td>0</td>\n",
       "      <td>1</td>\n",
       "      <td>3</td>\n",
       "      <td>0</td>\n",
       "      <td>0</td>\n",
       "      <td>0</td>\n",
       "      <td>1</td>\n",
       "      <td>0</td>\n",
       "      <td>0</td>\n",
       "      <td>0</td>\n",
       "      <td>0</td>\n",
       "      <td>1</td>\n",
       "      <td>3</td>\n",
       "    </tr>\n",
       "    <tr>\n",
       "      <th>2973</th>\n",
       "      <td>3</td>\n",
       "      <td>3</td>\n",
       "      <td>3</td>\n",
       "      <td>0</td>\n",
       "      <td>1</td>\n",
       "      <td>6</td>\n",
       "      <td>0</td>\n",
       "      <td>1</td>\n",
       "      <td>1</td>\n",
       "      <td>3</td>\n",
       "      <td>0</td>\n",
       "      <td>1</td>\n",
       "      <td>0</td>\n",
       "      <td>3</td>\n",
       "      <td>0</td>\n",
       "      <td>0</td>\n",
       "      <td>1</td>\n",
       "      <td>1</td>\n",
       "      <td>1</td>\n",
       "      <td>0</td>\n",
       "    </tr>\n",
       "    <tr>\n",
       "      <th>2974</th>\n",
       "      <td>0</td>\n",
       "      <td>7</td>\n",
       "      <td>3</td>\n",
       "      <td>0</td>\n",
       "      <td>1</td>\n",
       "      <td>5</td>\n",
       "      <td>0</td>\n",
       "      <td>1</td>\n",
       "      <td>1</td>\n",
       "      <td>3</td>\n",
       "      <td>0</td>\n",
       "      <td>0</td>\n",
       "      <td>0</td>\n",
       "      <td>1</td>\n",
       "      <td>0</td>\n",
       "      <td>0</td>\n",
       "      <td>0</td>\n",
       "      <td>0</td>\n",
       "      <td>1</td>\n",
       "      <td>0</td>\n",
       "    </tr>\n",
       "    <tr>\n",
       "      <th>2975</th>\n",
       "      <td>0</td>\n",
       "      <td>6</td>\n",
       "      <td>3</td>\n",
       "      <td>0</td>\n",
       "      <td>1</td>\n",
       "      <td>6</td>\n",
       "      <td>0</td>\n",
       "      <td>1</td>\n",
       "      <td>0</td>\n",
       "      <td>2</td>\n",
       "      <td>0</td>\n",
       "      <td>1</td>\n",
       "      <td>0</td>\n",
       "      <td>3</td>\n",
       "      <td>0</td>\n",
       "      <td>0</td>\n",
       "      <td>1</td>\n",
       "      <td>1</td>\n",
       "      <td>1</td>\n",
       "      <td>1</td>\n",
       "    </tr>\n",
       "    <tr>\n",
       "      <th>2976</th>\n",
       "      <td>2</td>\n",
       "      <td>7</td>\n",
       "      <td>3</td>\n",
       "      <td>0</td>\n",
       "      <td>1</td>\n",
       "      <td>6</td>\n",
       "      <td>0</td>\n",
       "      <td>1</td>\n",
       "      <td>0</td>\n",
       "      <td>3</td>\n",
       "      <td>0</td>\n",
       "      <td>0</td>\n",
       "      <td>0</td>\n",
       "      <td>1</td>\n",
       "      <td>0</td>\n",
       "      <td>0</td>\n",
       "      <td>0</td>\n",
       "      <td>0</td>\n",
       "      <td>1</td>\n",
       "      <td>1</td>\n",
       "    </tr>\n",
       "  </tbody>\n",
       "</table>\n",
       "<p>2977 rows × 20 columns</p>\n",
       "</div>"
      ],
      "text/plain": [
       "      ACDNT_CLAS_CD2  CAR_TYPE_NM  INSR_TYPE_NM  NON_FALT_CLAS_CD  \\\n",
       "0                  1            7             3                 0   \n",
       "1                  3            4             0                 0   \n",
       "2                  0            6             3                 0   \n",
       "3                  1            5             3                 0   \n",
       "4                  1            3             3                 2   \n",
       "...              ...          ...           ...               ...   \n",
       "2972               2            6             3                 0   \n",
       "2973               3            3             3                 0   \n",
       "2974               0            7             3                 0   \n",
       "2975               0            6             3                 0   \n",
       "2976               2            7             3                 0   \n",
       "\n",
       "      INDM_EXPC_CD  OAI_FALT_RATE_G  CURE_YN  LBS_START  FRAUD_DOUBT_CD  \\\n",
       "0                1                6        0          1               1   \n",
       "1                1                6        0          1               1   \n",
       "2                1                6        0          1               1   \n",
       "3                1                6        0          1               1   \n",
       "4                1                1        1          0               1   \n",
       "...            ...              ...      ...        ...             ...   \n",
       "2972             1                6        1          0               1   \n",
       "2973             1                6        0          1               1   \n",
       "2974             1                5        0          1               1   \n",
       "2975             1                6        0          1               0   \n",
       "2976             1                6        0          1               0   \n",
       "\n",
       "      DISPATCH_TOWING  DRUNK_A  NO_LICENSE  DRUNK_YN  LICNS_TYPE_CD  \\\n",
       "0                   3        0           0         0              1   \n",
       "1                   3        0           1         0              1   \n",
       "2                   2        0           0         0              3   \n",
       "3                   3        0           0         0              1   \n",
       "4                   2        0           0         0              0   \n",
       "...               ...      ...         ...       ...            ...   \n",
       "2972                3        0           0         0              1   \n",
       "2973                3        0           1         0              3   \n",
       "2974                3        0           0         0              1   \n",
       "2975                2        0           1         0              3   \n",
       "2976                3        0           0         0              1   \n",
       "\n",
       "      DRIVER_VOCTN_TST_GAP_G  LIC_2MOTO  DRIVER_LICNS_STAT  LICNS_CANCEL_YN  \\\n",
       "0                          0          0                  0                0   \n",
       "1                          0          2                  2                0   \n",
       "2                          0          0                  0                0   \n",
       "3                          0          0                  0                0   \n",
       "4                          0          0                  0                0   \n",
       "...                      ...        ...                ...              ...   \n",
       "2972                       0          0                  0                0   \n",
       "2973                       0          0                  1                1   \n",
       "2974                       0          0                  0                0   \n",
       "2975                       0          0                  1                1   \n",
       "2976                       0          0                  0                0   \n",
       "\n",
       "      DRIVER_INFO_AGREE  ACDNT_TOTAL_TEXT_1  \n",
       "0                     1                   0  \n",
       "1                     1                   2  \n",
       "2                     1                   1  \n",
       "3                     0                   0  \n",
       "4                     1                   3  \n",
       "...                 ...                 ...  \n",
       "2972                  1                   3  \n",
       "2973                  1                   0  \n",
       "2974                  1                   0  \n",
       "2975                  1                   1  \n",
       "2976                  1                   1  \n",
       "\n",
       "[2977 rows x 20 columns]"
      ]
     },
     "execution_count": 73,
     "metadata": {},
     "output_type": "execute_result"
    }
   ],
   "source": [
    "pos_df"
   ]
  },
  {
   "cell_type": "code",
   "execution_count": 74,
   "metadata": {
    "id": "raK7hyjd_vf6"
   },
   "outputs": [],
   "source": [
    "pos_df = pd.DataFrame(train_features[ bool_train_labels], columns=train_df.columns)\n",
    "neg_df = pd.DataFrame(train_features[~bool_train_labels], columns=train_df.columns)\n",
    "\n",
    "#sns.jointplot(pos_df['V5'], pos_df['V6'],\n",
    "              #kind='hex', xlim=(-5,5), ylim=(-5,5))\n",
    "#plt.suptitle(\"Positive distribution\")\n",
    "\n",
    "#sns.jointplot(neg_df['V5'], neg_df['V6'],\n",
    "              #kind='hex', xlim=(-5,5), ylim=(-5,5))\n",
    "#_ = plt.suptitle(\"Negative distribution\")"
   ]
  },
  {
   "cell_type": "markdown",
   "metadata": {
    "id": "qFK1u4JX16D8"
   },
   "source": [
    "## 모델 및 메트릭 정의\n",
    "\n",
    "촘촘하게 연결된 히든 레이어, 과적합을 줄이기 위한 [drop out](https://developers.google.com/machine-learning/glossary/#dropout_regularization) 레이어, 거래 사기 가능성을 반환하는 출력 sigmoid 레이어로 간단한 신경망을 생성하는 함수를 정의합니다. : "
   ]
  },
  {
   "cell_type": "code",
   "execution_count": 75,
   "metadata": {
    "id": "3JQDzUqT3UYG"
   },
   "outputs": [],
   "source": [
    "METRICS = [\n",
    "      keras.metrics.TruePositives(name='tp'),\n",
    "      keras.metrics.FalsePositives(name='fp'),\n",
    "      keras.metrics.TrueNegatives(name='tn'),\n",
    "      keras.metrics.FalseNegatives(name='fn'), \n",
    "      keras.metrics.BinaryAccuracy(name='accuracy'),\n",
    "      keras.metrics.Precision(name='precision'),\n",
    "      keras.metrics.Recall(name='recall'),\n",
    "      keras.metrics.AUC(name='auc'),\n",
    "]\n",
    "\n",
    "def make_model(metrics=METRICS, output_bias=None):\n",
    "    if output_bias is not None:\n",
    "        output_bias = tf.keras.initializers.Constant(output_bias)\n",
    "    model = keras.Sequential([\n",
    "      keras.layers.Dense(\n",
    "          16, activation='relu',\n",
    "          input_shape=(train_features.shape[-1],)),\n",
    "      keras.layers.Dropout(0.5),\n",
    "      keras.layers.Dense(1, activation='sigmoid',\n",
    "                         bias_initializer=output_bias),\n",
    "  ])\n",
    "\n",
    "    model.compile(\n",
    "      optimizer=keras.optimizers.Adam(lr=1e-3),\n",
    "      loss=keras.losses.BinaryCrossentropy(),\n",
    "      metrics=metrics)\n",
    "\n",
    "    return model"
   ]
  },
  {
   "cell_type": "markdown",
   "metadata": {
    "id": "SU0GX6E6mieP"
   },
   "source": [
    "### 유용한 메트릭 이해\n",
    "\n",
    "위에서 정의한 몇 가지 지표는 성능을 평가할 때 도움이 될 모델에 의해 계산될 수 있다는 점에 유의하십시오. \n",
    "\n",
    "\n",
    "\n",
    "*   **거짓** 음성 그리고 **거짓** 양성은 **잘못** 분류된 샘플입니다.\n",
    "*   **참** 음성 그리고 **참** 양성은 **제대로** 분류된 샘플입니다.\n",
    "*   **정확도** 는 올바르게 분류된 예제의 비율입니다.\n",
    ">   $\\frac{\\text{true samples}}{\\text{total samples}}$\n",
    "*   **정밀도** 는 올바르게 분류된 **예측** 긍정 비율입니다.\n",
    ">   $\\frac{\\text{true positives}}{\\text{true positives + false positives}}$\n",
    "*   **재현 율** 은 올바르게 분류된 **실제** 긍정 비율입니다.\n",
    ">   $\\frac{\\text{true positives}}{\\text{true positives + false negatives}}$\n",
    "*   **AUC** 는 수신자 조작 특성 곡선 아래 영역(ROC-AUC)을 나타냅니다. 이 메트릭은 분류기가 무작위 음성 샘플보다 무작위 양성 샘플의 순위를 매길 확률과 동일합니다. \n",
    "\n",
    "참고: 정확도는 이 작업에 유용한 측정 항목이 아닙니다. 항상 False를 예측해야 이 작업에서 99.8% 이상의 정확도를 얻을 수 있습니다.  \n",
    "\n",
    "Read more:\n",
    "*  [참 vs. 거짓 and 긍정 vs. 부정](https://developers.google.com/machine-learning/crash-course/classification/true-false-positive-negative)\n",
    "*  [정확성](https://developers.google.com/machine-learning/crash-course/classification/accuracy)\n",
    "*   [정밀도와 재현율](https://developers.google.com/machine-learning/crash-course/classification/precision-and-recall)\n",
    "*   [ROC-AUC](https://developers.google.com/machine-learning/crash-course/classification/roc-and-auc)"
   ]
  },
  {
   "cell_type": "markdown",
   "metadata": {
    "id": "FYdhSAoaF_TK"
   },
   "source": [
    "## 기준 모델"
   ]
  },
  {
   "cell_type": "markdown",
   "metadata": {
    "id": "IDbltVPg2m2q"
   },
   "source": [
    "### 모델 구축\n",
    "\n",
    "이제 이전에 정의한 함수를 통해서 모델을 만들고 학습시키십시오. 모델의 크기가 기본 배치 크기인 2048보다 큰 배치 크기를 사용하여야 적합한 것을 유의하십시오. 이는 각 배치에서 몇 개의 양성 샘플을 포함할 수 있는 적절한 기회를 확보하는데 있어서 중요하다. \n",
    "\n",
    "\n",
    "참고: 이 모델은 클래스의 불균형을 잘 다루지 못합니다. 이를 이 튜토리얼의 뒷부분에서 개선하게 될 겁니다."
   ]
  },
  {
   "cell_type": "code",
   "execution_count": 76,
   "metadata": {
    "id": "ouUkwPcGQsy3"
   },
   "outputs": [],
   "source": [
    "EPOCHS = 100\n",
    "BATCH_SIZE = 2048\n",
    "\n",
    "early_stopping = tf.keras.callbacks.EarlyStopping(\n",
    "    monitor='val_auc', \n",
    "    verbose=1,\n",
    "    patience=10,\n",
    "    mode='max',\n",
    "    restore_best_weights=True)"
   ]
  },
  {
   "cell_type": "code",
   "execution_count": 77,
   "metadata": {
    "id": "1xlR_dekzw7C"
   },
   "outputs": [
    {
     "name": "stdout",
     "output_type": "stream",
     "text": [
      "Model: \"sequential\"\n",
      "_________________________________________________________________\n",
      "Layer (type)                 Output Shape              Param #   \n",
      "=================================================================\n",
      "dense (Dense)                (None, 16)                336       \n",
      "_________________________________________________________________\n",
      "dropout (Dropout)            (None, 16)                0         \n",
      "_________________________________________________________________\n",
      "dense_1 (Dense)              (None, 1)                 17        \n",
      "=================================================================\n",
      "Total params: 353\n",
      "Trainable params: 353\n",
      "Non-trainable params: 0\n",
      "_________________________________________________________________\n"
     ]
    }
   ],
   "source": [
    "model = make_model()\n",
    "model.summary()"
   ]
  },
  {
   "cell_type": "markdown",
   "metadata": {
    "id": "Wx7ND3_SqckO"
   },
   "source": [
    "Test run the model:"
   ]
  },
  {
   "cell_type": "code",
   "execution_count": 78,
   "metadata": {
    "id": "LopSd-yQqO3a"
   },
   "outputs": [
    {
     "data": {
      "text/plain": [
       "array([[0.3927616 ],\n",
       "       [0.6651877 ],\n",
       "       [0.44917738],\n",
       "       [0.47580206],\n",
       "       [0.38233536],\n",
       "       [0.56602395],\n",
       "       [0.51027787],\n",
       "       [0.74186337],\n",
       "       [0.5625686 ],\n",
       "       [0.5516651 ]], dtype=float32)"
      ]
     },
     "execution_count": 78,
     "metadata": {},
     "output_type": "execute_result"
    }
   ],
   "source": [
    "model.predict(train_features[:10])"
   ]
  },
  {
   "cell_type": "markdown",
   "metadata": {
    "id": "YKIgWqHms_03"
   },
   "source": [
    "### 선택사항: 올바른 초기 바이어스를 설정합니다."
   ]
  },
  {
   "cell_type": "markdown",
   "metadata": {
    "id": "qk_3Ry6EoYDq"
   },
   "source": [
    "이러한 초기 추측은 좋지 못합니다. 데이터 세트가 불균형 하다는 것을 알고 있습니다. 그렇다면 이를 반영하도록 출력 계층의 바이어스를 설정합니다. (참조: [신경망 훈련을 위한 레시피: \"init well\"](http://karpathy.github.io/2019/04/25/recipe/#2-set-up-the-end-to-end-trainingevaluation-skeleton--get-dumb-baselines)). 이것은 초기 수렴에 도움이 될 수 있습니다. "
   ]
  },
  {
   "cell_type": "markdown",
   "metadata": {
    "id": "PdbfWDuVpo6k"
   },
   "source": [
    "기본 바이어스 초기화를 사용하면 손실은 약 `math.log(2) = 0.69314` "
   ]
  },
  {
   "cell_type": "code",
   "execution_count": 79,
   "metadata": {
    "id": "H-oPqh3SoGXk"
   },
   "outputs": [
    {
     "name": "stdout",
     "output_type": "stream",
     "text": [
      "Loss: 0.8827\n"
     ]
    }
   ],
   "source": [
    "results = model.evaluate(train_features, train_labels, batch_size=BATCH_SIZE, verbose=0)\n",
    "print(\"Loss: {:0.4f}\".format(results[0]))"
   ]
  },
  {
   "cell_type": "code",
   "execution_count": 81,
   "metadata": {},
   "outputs": [],
   "source": [
    "neg, pos = np.bincount(bool_train_labels)\n",
    "total = neg+pos"
   ]
  },
  {
   "cell_type": "code",
   "execution_count": 82,
   "metadata": {},
   "outputs": [
    {
     "data": {
      "text/plain": [
       "2977"
      ]
     },
     "execution_count": 82,
     "metadata": {},
     "output_type": "execute_result"
    }
   ],
   "source": [
    "pos"
   ]
  },
  {
   "cell_type": "code",
   "execution_count": 83,
   "metadata": {},
   "outputs": [
    {
     "data": {
      "text/plain": [
       "99702"
      ]
     },
     "execution_count": 83,
     "metadata": {},
     "output_type": "execute_result"
    }
   ],
   "source": [
    "neg"
   ]
  },
  {
   "cell_type": "markdown",
   "metadata": {
    "id": "hE-JRzfKqfhB"
   },
   "source": [
    "설정할 올바른 바이어스는 다음에서 파생 가능합니다.:\n",
    "\n",
    "$$ p_0 = pos/(pos + neg) = 1/(1+e^{-b_0}) $$\n",
    "$$ b_0 = -log_e(1/p_0 - 1) $$\n",
    "$$ b_0 = log_e(pos/neg)$$"
   ]
  },
  {
   "cell_type": "code",
   "execution_count": 84,
   "metadata": {
    "id": "F5KWPSjjstUS"
   },
   "outputs": [
    {
     "data": {
      "text/plain": [
       "array([-3.51126965])"
      ]
     },
     "execution_count": 84,
     "metadata": {},
     "output_type": "execute_result"
    }
   ],
   "source": [
    "initial_bias = np.log([pos/neg])\n",
    "initial_bias"
   ]
  },
  {
   "cell_type": "markdown",
   "metadata": {
    "id": "d1juXI9yY1KD"
   },
   "source": [
    "이를 초기 바이어스로 설정하면 모델이 훨씬 더 합리적인 초기 추측을 제공합니다. \n",
    "\n",
    "가까워 야합니다.: `pos/total = 0.0018`"
   ]
  },
  {
   "cell_type": "code",
   "execution_count": 85,
   "metadata": {
    "id": "50oyu1uss0i-"
   },
   "outputs": [
    {
     "data": {
      "text/plain": [
       "array([[0.11911696],\n",
       "       [0.13746342],\n",
       "       [0.30496004],\n",
       "       [0.13568643],\n",
       "       [0.2260642 ],\n",
       "       [0.09133568],\n",
       "       [0.12320384],\n",
       "       [0.12369373],\n",
       "       [0.11184087],\n",
       "       [0.17520711]], dtype=float32)"
      ]
     },
     "execution_count": 85,
     "metadata": {},
     "output_type": "execute_result"
    }
   ],
   "source": [
    "model = make_model(output_bias=initial_bias)\n",
    "model.predict(train_features[:10])"
   ]
  },
  {
   "cell_type": "markdown",
   "metadata": {
    "id": "4xqFYb2KqRHQ"
   },
   "source": [
    "이 초기화를 통해서 초기 손실은 대략 다음과 같아야합니다.:\n",
    "\n",
    "$$-p_0log(p_0)-(1-p_0)log(1-p_0) = 0.01317$$"
   ]
  },
  {
   "cell_type": "code",
   "execution_count": 86,
   "metadata": {
    "id": "xVDqCWXDqHSc"
   },
   "outputs": [
    {
     "name": "stdout",
     "output_type": "stream",
     "text": [
      "Loss: 0.2151\n"
     ]
    }
   ],
   "source": [
    "results = model.evaluate(train_features, train_labels, batch_size=BATCH_SIZE, verbose=0)\n",
    "print(\"Loss: {:0.4f}\".format(results[0]))"
   ]
  },
  {
   "cell_type": "markdown",
   "metadata": {
    "id": "FrDC8hvNr9yw"
   },
   "source": [
    "이 초기 손실은 단순한 상태의 초기화에서 발생했을 때 보다 약 50배 적습니다.\n",
    "\n",
    "이런 식으로 모델은 긍정적인 예시의 가능성이 낮다는 것을 배우면서 처음 몇 epoch를 보낼 필요는 없습니다. 이것은 또한 훈련 중 plot의 손실을 더 쉽게 읽어낼 수 있게 해줍니다."
   ]
  },
  {
   "cell_type": "markdown",
   "metadata": {
    "id": "0EJj9ixKVBMT"
   },
   "source": [
    "### 초기 가중치 체크 포인트\n",
    "\n",
    "다양한 훈련 실행을 더욱 비교 가능하도록 하고 싶다면 초기 모델의 가중치를 체크 포인트 파일에 보관하고 훈련 전에 각 모델에 로드 하십시오 "
   ]
  },
  {
   "cell_type": "code",
   "execution_count": 87,
   "metadata": {
    "id": "_tSUm4yAVIif"
   },
   "outputs": [],
   "source": [
    "initial_weights = os.path.join(tempfile.mkdtemp(), 'initial_weights')\n",
    "model.save_weights(initial_weights)"
   ]
  },
  {
   "cell_type": "code",
   "execution_count": 88,
   "metadata": {},
   "outputs": [
    {
     "data": {
      "text/plain": [
       "'/tmp/tmpo1tvyhf_/initial_weights'"
      ]
     },
     "execution_count": 88,
     "metadata": {},
     "output_type": "execute_result"
    }
   ],
   "source": [
    "initial_weights"
   ]
  },
  {
   "cell_type": "code",
   "execution_count": 89,
   "metadata": {},
   "outputs": [
    {
     "data": {
      "text/plain": [
       "<tensorflow.python.training.tracking.util.CheckpointLoadStatus at 0x7f76803d84a8>"
      ]
     },
     "execution_count": 89,
     "metadata": {},
     "output_type": "execute_result"
    }
   ],
   "source": [
    "model=make_model()\n",
    "model.load_weights(initial_weights)"
   ]
  },
  {
   "cell_type": "code",
   "execution_count": 90,
   "metadata": {},
   "outputs": [
    {
     "data": {
      "text/plain": [
       "<tf.Variable 'UnreadVariable' shape=(1,) dtype=float32, numpy=array([0.], dtype=float32)>"
      ]
     },
     "execution_count": 90,
     "metadata": {},
     "output_type": "execute_result"
    }
   ],
   "source": [
    "model.layers[-1].bias.assign([0.0])"
   ]
  },
  {
   "cell_type": "markdown",
   "metadata": {
    "id": "EVXiLyqyZ8AX"
   },
   "source": [
    "### 바이어스 수정이 도움이 되는지 확인\n",
    "\n",
    "계속 진행하기 전에 조심스러운 바이어스 초기화가 실제로 도움이 되었는지 빠르게 확인하십시오\n",
    "\n",
    "조심스럽게 초기화를 한 것과 사용하지 않은 것의 20 epoch 동안 모델을 훈련하고 손실을 비교합니다.: "
   ]
  },
  {
   "cell_type": "code",
   "execution_count": 91,
   "metadata": {
    "id": "Dm4-4K5RZ63Q"
   },
   "outputs": [],
   "source": [
    "model = make_model()\n",
    "model.load_weights(initial_weights)\n",
    "model.layers[-1].bias.assign([0.0])\n",
    "zero_bias_history = model.fit(\n",
    "    train_features,\n",
    "    train_labels,\n",
    "    batch_size=BATCH_SIZE,\n",
    "    epochs=20,\n",
    "    validation_data=(val_features, val_labels), \n",
    "    verbose=0)"
   ]
  },
  {
   "cell_type": "code",
   "execution_count": 92,
   "metadata": {
    "id": "j8DsLXHQaSql"
   },
   "outputs": [],
   "source": [
    "model = make_model()\n",
    "model.load_weights(initial_weights)\n",
    "careful_bias_history = model.fit(\n",
    "    train_features,\n",
    "    train_labels,\n",
    "    batch_size=BATCH_SIZE,\n",
    "    epochs=20,\n",
    "    validation_data=(val_features, val_labels), \n",
    "    verbose=0)"
   ]
  },
  {
   "cell_type": "code",
   "execution_count": 96,
   "metadata": {
    "id": "E3XsMBjhauFV"
   },
   "outputs": [],
   "source": [
    "def plot_loss(history, label, n):\n",
    "  # Use a log scale to show the wide range of values.\n",
    "    plt.semilogy(history.epoch, history.history['loss'],\n",
    "               color=colors[n], label='Train '+label)\n",
    "    plt.semilogy(history.epoch, history.history['val_loss'],\n",
    "          color=colors[n], label='Val '+label,\n",
    "          linestyle=\"--\")\n",
    "    plt.xlabel('Epoch')\n",
    "    plt.ylabel('Loss')\n",
    "  \n",
    "    plt.legend()"
   ]
  },
  {
   "cell_type": "code",
   "execution_count": 97,
   "metadata": {
    "id": "dxFaskm7beC7"
   },
   "outputs": [
    {
     "data": {
      "image/png": "[encoded data removed]",
      "text/plain": [
       "<Figure size 864x720 with 1 Axes>"
      ]
     },
     "metadata": {
      "needs_background": "light"
     },
     "output_type": "display_data"
    }
   ],
   "source": [
    "plot_loss(zero_bias_history, \"Zero Bias\", 0)\n",
    "plot_loss(careful_bias_history, \"Careful Bias\", 1)"
   ]
  },
  {
   "cell_type": "markdown",
   "metadata": {
    "id": "fKMioV0ddG3R"
   },
   "source": [
    "위의 그림은 이를 명확하게 보여줍니다. 유효성 검사 손실 측면에서 이 문제에 대해 조심스러운 초기화는 명확한 이점을 제공합니다. "
   ]
  },
  {
   "cell_type": "markdown",
   "metadata": {
    "id": "RsA_7SEntRaV"
   },
   "source": [
    "### **모델 훈련**"
   ]
  },
  {
   "cell_type": "code",
   "execution_count": 98,
   "metadata": {
    "collapsed": true,
    "id": "yZKAc8NCDnoR",
    "jupyter": {
     "outputs_hidden": true
    }
   },
   "outputs": [
    {
     "name": "stdout",
     "output_type": "stream",
     "text": [
      "Epoch 1/100\n",
      "51/51 [==============================] - 1s 16ms/step - loss: 0.1736 - tp: 48.0000 - fp: 1006.0000 - tn: 123644.0000 - fn: 3651.0000 - accuracy: 0.9637 - precision: 0.0455 - recall: 0.0130 - auc: 0.5338 - val_loss: 0.1288 - val_tp: 0.0000e+00 - val_fp: 0.0000e+00 - val_tn: 24948.0000 - val_fn: 722.0000 - val_accuracy: 0.9719 - val_precision: 0.0000e+00 - val_recall: 0.0000e+00 - val_auc: 0.5188\n",
      "Epoch 2/100\n",
      "51/51 [==============================] - 0s 6ms/step - loss: 0.1391 - tp: 0.0000e+00 - fp: 1.0000 - tn: 99701.0000 - fn: 2977.0000 - accuracy: 0.9710 - precision: 0.0000e+00 - recall: 0.0000e+00 - auc: 0.5207 - val_loss: 0.1272 - val_tp: 0.0000e+00 - val_fp: 0.0000e+00 - val_tn: 24948.0000 - val_fn: 722.0000 - val_accuracy: 0.9719 - val_precision: 0.0000e+00 - val_recall: 0.0000e+00 - val_auc: 0.5730\n",
      "Epoch 3/100\n",
      "51/51 [==============================] - 0s 6ms/step - loss: 0.1356 - tp: 1.0000 - fp: 1.0000 - tn: 99701.0000 - fn: 2976.0000 - accuracy: 0.9710 - precision: 0.5000 - recall: 3.3591e-04 - auc: 0.5396 - val_loss: 0.1258 - val_tp: 0.0000e+00 - val_fp: 0.0000e+00 - val_tn: 24948.0000 - val_fn: 722.0000 - val_accuracy: 0.9719 - val_precision: 0.0000e+00 - val_recall: 0.0000e+00 - val_auc: 0.6108\n",
      "Epoch 4/100\n",
      "51/51 [==============================] - 0s 5ms/step - loss: 0.1335 - tp: 0.0000e+00 - fp: 0.0000e+00 - tn: 99702.0000 - fn: 2977.0000 - accuracy: 0.9710 - precision: 0.0000e+00 - recall: 0.0000e+00 - auc: 0.5524 - val_loss: 0.1250 - val_tp: 0.0000e+00 - val_fp: 0.0000e+00 - val_tn: 24948.0000 - val_fn: 722.0000 - val_accuracy: 0.9719 - val_precision: 0.0000e+00 - val_recall: 0.0000e+00 - val_auc: 0.6344\n",
      "Epoch 5/100\n",
      "51/51 [==============================] - 0s 5ms/step - loss: 0.1311 - tp: 0.0000e+00 - fp: 0.0000e+00 - tn: 99702.0000 - fn: 2977.0000 - accuracy: 0.9710 - precision: 0.0000e+00 - recall: 0.0000e+00 - auc: 0.5764 - val_loss: 0.1244 - val_tp: 0.0000e+00 - val_fp: 0.0000e+00 - val_tn: 24948.0000 - val_fn: 722.0000 - val_accuracy: 0.9719 - val_precision: 0.0000e+00 - val_recall: 0.0000e+00 - val_auc: 0.6462\n",
      "Epoch 6/100\n",
      "51/51 [==============================] - 0s 5ms/step - loss: 0.1298 - tp: 0.0000e+00 - fp: 0.0000e+00 - tn: 99702.0000 - fn: 2977.0000 - accuracy: 0.9710 - precision: 0.0000e+00 - recall: 0.0000e+00 - auc: 0.5913 - val_loss: 0.1238 - val_tp: 0.0000e+00 - val_fp: 0.0000e+00 - val_tn: 24948.0000 - val_fn: 722.0000 - val_accuracy: 0.9719 - val_precision: 0.0000e+00 - val_recall: 0.0000e+00 - val_auc: 0.6512\n",
      "Epoch 7/100\n",
      "51/51 [==============================] - 0s 5ms/step - loss: 0.1289 - tp: 0.0000e+00 - fp: 0.0000e+00 - tn: 99702.0000 - fn: 2977.0000 - accuracy: 0.9710 - precision: 0.0000e+00 - recall: 0.0000e+00 - auc: 0.6015 - val_loss: 0.1234 - val_tp: 0.0000e+00 - val_fp: 0.0000e+00 - val_tn: 24948.0000 - val_fn: 722.0000 - val_accuracy: 0.9719 - val_precision: 0.0000e+00 - val_recall: 0.0000e+00 - val_auc: 0.6570\n",
      "Epoch 8/100\n",
      "51/51 [==============================] - 0s 5ms/step - loss: 0.1282 - tp: 2.0000 - fp: 0.0000e+00 - tn: 99702.0000 - fn: 2975.0000 - accuracy: 0.9710 - precision: 1.0000 - recall: 6.7182e-04 - auc: 0.6091 - val_loss: 0.1231 - val_tp: 0.0000e+00 - val_fp: 0.0000e+00 - val_tn: 24948.0000 - val_fn: 722.0000 - val_accuracy: 0.9719 - val_precision: 0.0000e+00 - val_recall: 0.0000e+00 - val_auc: 0.6623\n",
      "Epoch 9/100\n",
      "51/51 [==============================] - 0s 5ms/step - loss: 0.1276 - tp: 1.0000 - fp: 1.0000 - tn: 99701.0000 - fn: 2976.0000 - accuracy: 0.9710 - precision: 0.5000 - recall: 3.3591e-04 - auc: 0.6172 - val_loss: 0.1227 - val_tp: 0.0000e+00 - val_fp: 0.0000e+00 - val_tn: 24948.0000 - val_fn: 722.0000 - val_accuracy: 0.9719 - val_precision: 0.0000e+00 - val_recall: 0.0000e+00 - val_auc: 0.6704\n",
      "Epoch 10/100\n",
      "51/51 [==============================] - 0s 5ms/step - loss: 0.1276 - tp: 1.0000 - fp: 0.0000e+00 - tn: 99702.0000 - fn: 2976.0000 - accuracy: 0.9710 - precision: 1.0000 - recall: 3.3591e-04 - auc: 0.6202 - val_loss: 0.1224 - val_tp: 0.0000e+00 - val_fp: 0.0000e+00 - val_tn: 24948.0000 - val_fn: 722.0000 - val_accuracy: 0.9719 - val_precision: 0.0000e+00 - val_recall: 0.0000e+00 - val_auc: 0.6740\n",
      "Epoch 11/100\n",
      "51/51 [==============================] - 0s 5ms/step - loss: 0.1267 - tp: 1.0000 - fp: 2.0000 - tn: 99700.0000 - fn: 2976.0000 - accuracy: 0.9710 - precision: 0.3333 - recall: 3.3591e-04 - auc: 0.6263 - val_loss: 0.1222 - val_tp: 0.0000e+00 - val_fp: 0.0000e+00 - val_tn: 24948.0000 - val_fn: 722.0000 - val_accuracy: 0.9719 - val_precision: 0.0000e+00 - val_recall: 0.0000e+00 - val_auc: 0.6799\n",
      "Epoch 12/100\n",
      "51/51 [==============================] - 0s 6ms/step - loss: 0.1263 - tp: 4.0000 - fp: 2.0000 - tn: 99700.0000 - fn: 2973.0000 - accuracy: 0.9710 - precision: 0.6667 - recall: 0.0013 - auc: 0.6348 - val_loss: 0.1219 - val_tp: 0.0000e+00 - val_fp: 0.0000e+00 - val_tn: 24948.0000 - val_fn: 722.0000 - val_accuracy: 0.9719 - val_precision: 0.0000e+00 - val_recall: 0.0000e+00 - val_auc: 0.6823\n",
      "Epoch 13/100\n",
      "51/51 [==============================] - 0s 5ms/step - loss: 0.1258 - tp: 6.0000 - fp: 2.0000 - tn: 99700.0000 - fn: 2971.0000 - accuracy: 0.9710 - precision: 0.7500 - recall: 0.0020 - auc: 0.6355 - val_loss: 0.1214 - val_tp: 0.0000e+00 - val_fp: 0.0000e+00 - val_tn: 24948.0000 - val_fn: 722.0000 - val_accuracy: 0.9719 - val_precision: 0.0000e+00 - val_recall: 0.0000e+00 - val_auc: 0.6881\n",
      "Epoch 14/100\n",
      "51/51 [==============================] - 0s 5ms/step - loss: 0.1253 - tp: 7.0000 - fp: 2.0000 - tn: 99700.0000 - fn: 2970.0000 - accuracy: 0.9711 - precision: 0.7778 - recall: 0.0024 - auc: 0.6426 - val_loss: 0.1212 - val_tp: 0.0000e+00 - val_fp: 0.0000e+00 - val_tn: 24948.0000 - val_fn: 722.0000 - val_accuracy: 0.9719 - val_precision: 0.0000e+00 - val_recall: 0.0000e+00 - val_auc: 0.6902\n",
      "Epoch 15/100\n",
      "51/51 [==============================] - 0s 4ms/step - loss: 0.1251 - tp: 11.0000 - fp: 8.0000 - tn: 99694.0000 - fn: 2966.0000 - accuracy: 0.9710 - precision: 0.5789 - recall: 0.0037 - auc: 0.6467 - val_loss: 0.1210 - val_tp: 0.0000e+00 - val_fp: 0.0000e+00 - val_tn: 24948.0000 - val_fn: 722.0000 - val_accuracy: 0.9719 - val_precision: 0.0000e+00 - val_recall: 0.0000e+00 - val_auc: 0.6899\n",
      "Epoch 16/100\n",
      "51/51 [==============================] - 0s 5ms/step - loss: 0.1245 - tp: 14.0000 - fp: 10.0000 - tn: 99692.0000 - fn: 2963.0000 - accuracy: 0.9710 - precision: 0.5833 - recall: 0.0047 - auc: 0.6531 - val_loss: 0.1205 - val_tp: 0.0000e+00 - val_fp: 0.0000e+00 - val_tn: 24948.0000 - val_fn: 722.0000 - val_accuracy: 0.9719 - val_precision: 0.0000e+00 - val_recall: 0.0000e+00 - val_auc: 0.6943\n",
      "Epoch 17/100\n",
      "51/51 [==============================] - 0s 5ms/step - loss: 0.1243 - tp: 18.0000 - fp: 9.0000 - tn: 99693.0000 - fn: 2959.0000 - accuracy: 0.9711 - precision: 0.6667 - recall: 0.0060 - auc: 0.6566 - val_loss: 0.1202 - val_tp: 1.0000 - val_fp: 0.0000e+00 - val_tn: 24948.0000 - val_fn: 721.0000 - val_accuracy: 0.9719 - val_precision: 1.0000 - val_recall: 0.0014 - val_auc: 0.6969\n",
      "Epoch 18/100\n",
      "51/51 [==============================] - 1s 26ms/step - loss: 0.1239 - tp: 22.0000 - fp: 9.0000 - tn: 99693.0000 - fn: 2955.0000 - accuracy: 0.9711 - precision: 0.7097 - recall: 0.0074 - auc: 0.6543 - val_loss: 0.1199 - val_tp: 1.0000 - val_fp: 0.0000e+00 - val_tn: 24948.0000 - val_fn: 721.0000 - val_accuracy: 0.9719 - val_precision: 1.0000 - val_recall: 0.0014 - val_auc: 0.6956\n",
      "Epoch 19/100\n",
      "51/51 [==============================] - 1s 16ms/step - loss: 0.1237 - tp: 32.0000 - fp: 12.0000 - tn: 99690.0000 - fn: 2945.0000 - accuracy: 0.9712 - precision: 0.7273 - recall: 0.0107 - auc: 0.6570 - val_loss: 0.1197 - val_tp: 3.0000 - val_fp: 1.0000 - val_tn: 24947.0000 - val_fn: 719.0000 - val_accuracy: 0.9720 - val_precision: 0.7500 - val_recall: 0.0042 - val_auc: 0.7014\n",
      "Epoch 20/100\n",
      "51/51 [==============================] - 0s 6ms/step - loss: 0.1235 - tp: 33.0000 - fp: 16.0000 - tn: 99686.0000 - fn: 2944.0000 - accuracy: 0.9712 - precision: 0.6735 - recall: 0.0111 - auc: 0.6580 - val_loss: 0.1195 - val_tp: 3.0000 - val_fp: 2.0000 - val_tn: 24946.0000 - val_fn: 719.0000 - val_accuracy: 0.9719 - val_precision: 0.6000 - val_recall: 0.0042 - val_auc: 0.6995\n",
      "Epoch 21/100\n",
      "51/51 [==============================] - 0s 5ms/step - loss: 0.1226 - tp: 40.0000 - fp: 18.0000 - tn: 99684.0000 - fn: 2937.0000 - accuracy: 0.9712 - precision: 0.6897 - recall: 0.0134 - auc: 0.6586 - val_loss: 0.1191 - val_tp: 3.0000 - val_fp: 3.0000 - val_tn: 24945.0000 - val_fn: 719.0000 - val_accuracy: 0.9719 - val_precision: 0.5000 - val_recall: 0.0042 - val_auc: 0.7026\n",
      "Epoch 22/100\n",
      "51/51 [==============================] - 0s 5ms/step - loss: 0.1228 - tp: 53.0000 - fp: 27.0000 - tn: 99675.0000 - fn: 2924.0000 - accuracy: 0.9713 - precision: 0.6625 - recall: 0.0178 - auc: 0.6596 - val_loss: 0.1190 - val_tp: 4.0000 - val_fp: 3.0000 - val_tn: 24945.0000 - val_fn: 718.0000 - val_accuracy: 0.9719 - val_precision: 0.5714 - val_recall: 0.0055 - val_auc: 0.7007\n",
      "Epoch 23/100\n",
      "51/51 [==============================] - 0s 5ms/step - loss: 0.1223 - tp: 51.0000 - fp: 29.0000 - tn: 99673.0000 - fn: 2926.0000 - accuracy: 0.9712 - precision: 0.6375 - recall: 0.0171 - auc: 0.6657 - val_loss: 0.1185 - val_tp: 6.0000 - val_fp: 4.0000 - val_tn: 24944.0000 - val_fn: 716.0000 - val_accuracy: 0.9720 - val_precision: 0.6000 - val_recall: 0.0083 - val_auc: 0.7040\n",
      "Epoch 24/100\n",
      "51/51 [==============================] - 0s 6ms/step - loss: 0.1215 - tp: 64.0000 - fp: 41.0000 - tn: 99661.0000 - fn: 2913.0000 - accuracy: 0.9712 - precision: 0.6095 - recall: 0.0215 - auc: 0.6712 - val_loss: 0.1183 - val_tp: 7.0000 - val_fp: 5.0000 - val_tn: 24943.0000 - val_fn: 715.0000 - val_accuracy: 0.9720 - val_precision: 0.5833 - val_recall: 0.0097 - val_auc: 0.7085\n",
      "Epoch 25/100\n",
      "51/51 [==============================] - 0s 5ms/step - loss: 0.1217 - tp: 67.0000 - fp: 51.0000 - tn: 99651.0000 - fn: 2910.0000 - accuracy: 0.9712 - precision: 0.5678 - recall: 0.0225 - auc: 0.6700 - val_loss: 0.1181 - val_tp: 7.0000 - val_fp: 5.0000 - val_tn: 24943.0000 - val_fn: 715.0000 - val_accuracy: 0.9720 - val_precision: 0.5833 - val_recall: 0.0097 - val_auc: 0.7065\n",
      "Epoch 26/100\n",
      "51/51 [==============================] - 0s 5ms/step - loss: 0.1207 - tp: 96.0000 - fp: 49.0000 - tn: 99653.0000 - fn: 2881.0000 - accuracy: 0.9715 - precision: 0.6621 - recall: 0.0322 - auc: 0.6801 - val_loss: 0.1180 - val_tp: 8.0000 - val_fp: 5.0000 - val_tn: 24943.0000 - val_fn: 714.0000 - val_accuracy: 0.9720 - val_precision: 0.6154 - val_recall: 0.0111 - val_auc: 0.7069\n",
      "Epoch 27/100\n",
      "51/51 [==============================] - 0s 5ms/step - loss: 0.1208 - tp: 91.0000 - fp: 48.0000 - tn: 99654.0000 - fn: 2886.0000 - accuracy: 0.9714 - precision: 0.6547 - recall: 0.0306 - auc: 0.6784 - val_loss: 0.1179 - val_tp: 8.0000 - val_fp: 6.0000 - val_tn: 24942.0000 - val_fn: 714.0000 - val_accuracy: 0.9720 - val_precision: 0.5714 - val_recall: 0.0111 - val_auc: 0.7054\n",
      "Epoch 28/100\n",
      "51/51 [==============================] - 0s 5ms/step - loss: 0.1206 - tp: 94.0000 - fp: 61.0000 - tn: 99641.0000 - fn: 2883.0000 - accuracy: 0.9713 - precision: 0.6065 - recall: 0.0316 - auc: 0.6808 - val_loss: 0.1176 - val_tp: 8.0000 - val_fp: 10.0000 - val_tn: 24938.0000 - val_fn: 714.0000 - val_accuracy: 0.9718 - val_precision: 0.4444 - val_recall: 0.0111 - val_auc: 0.7079\n",
      "Epoch 29/100\n",
      "51/51 [==============================] - 0s 5ms/step - loss: 0.1203 - tp: 87.0000 - fp: 68.0000 - tn: 99634.0000 - fn: 2890.0000 - accuracy: 0.9712 - precision: 0.5613 - recall: 0.0292 - auc: 0.6873 - val_loss: 0.1175 - val_tp: 9.0000 - val_fp: 12.0000 - val_tn: 24936.0000 - val_fn: 713.0000 - val_accuracy: 0.9718 - val_precision: 0.4286 - val_recall: 0.0125 - val_auc: 0.7086\n",
      "Epoch 30/100\n",
      "51/51 [==============================] - 0s 5ms/step - loss: 0.1205 - tp: 110.0000 - fp: 61.0000 - tn: 99641.0000 - fn: 2867.0000 - accuracy: 0.9715 - precision: 0.6433 - recall: 0.0369 - auc: 0.6826 - val_loss: 0.1173 - val_tp: 10.0000 - val_fp: 12.0000 - val_tn: 24936.0000 - val_fn: 712.0000 - val_accuracy: 0.9718 - val_precision: 0.4545 - val_recall: 0.0139 - val_auc: 0.7092\n",
      "Epoch 31/100\n",
      "51/51 [==============================] - 0s 5ms/step - loss: 0.1198 - tp: 119.0000 - fp: 60.0000 - tn: 99642.0000 - fn: 2858.0000 - accuracy: 0.9716 - precision: 0.6648 - recall: 0.0400 - auc: 0.6874 - val_loss: 0.1171 - val_tp: 12.0000 - val_fp: 12.0000 - val_tn: 24936.0000 - val_fn: 710.0000 - val_accuracy: 0.9719 - val_precision: 0.5000 - val_recall: 0.0166 - val_auc: 0.7116\n",
      "Epoch 32/100\n",
      "51/51 [==============================] - 0s 6ms/step - loss: 0.1204 - tp: 122.0000 - fp: 78.0000 - tn: 99624.0000 - fn: 2855.0000 - accuracy: 0.9714 - precision: 0.6100 - recall: 0.0410 - auc: 0.6796 - val_loss: 0.1171 - val_tp: 12.0000 - val_fp: 12.0000 - val_tn: 24936.0000 - val_fn: 710.0000 - val_accuracy: 0.9719 - val_precision: 0.5000 - val_recall: 0.0166 - val_auc: 0.7145\n",
      "Epoch 33/100\n",
      "51/51 [==============================] - 0s 5ms/step - loss: 0.1195 - tp: 131.0000 - fp: 73.0000 - tn: 99629.0000 - fn: 2846.0000 - accuracy: 0.9716 - precision: 0.6422 - recall: 0.0440 - auc: 0.6827 - val_loss: 0.1169 - val_tp: 13.0000 - val_fp: 12.0000 - val_tn: 24936.0000 - val_fn: 709.0000 - val_accuracy: 0.9719 - val_precision: 0.5200 - val_recall: 0.0180 - val_auc: 0.7133\n",
      "Epoch 34/100\n",
      "51/51 [==============================] - 0s 5ms/step - loss: 0.1188 - tp: 146.0000 - fp: 86.0000 - tn: 99616.0000 - fn: 2831.0000 - accuracy: 0.9716 - precision: 0.6293 - recall: 0.0490 - auc: 0.6986 - val_loss: 0.1167 - val_tp: 12.0000 - val_fp: 12.0000 - val_tn: 24936.0000 - val_fn: 710.0000 - val_accuracy: 0.9719 - val_precision: 0.5000 - val_recall: 0.0166 - val_auc: 0.7161\n",
      "Epoch 35/100\n",
      "51/51 [==============================] - 0s 5ms/step - loss: 0.1198 - tp: 126.0000 - fp: 90.0000 - tn: 99612.0000 - fn: 2851.0000 - accuracy: 0.9714 - precision: 0.5833 - recall: 0.0423 - auc: 0.6858 - val_loss: 0.1167 - val_tp: 13.0000 - val_fp: 12.0000 - val_tn: 24936.0000 - val_fn: 709.0000 - val_accuracy: 0.9719 - val_precision: 0.5200 - val_recall: 0.0180 - val_auc: 0.7159\n",
      "Epoch 36/100\n",
      "51/51 [==============================] - 0s 4ms/step - loss: 0.1189 - tp: 146.0000 - fp: 102.0000 - tn: 99600.0000 - fn: 2831.0000 - accuracy: 0.9714 - precision: 0.5887 - recall: 0.0490 - auc: 0.6978 - val_loss: 0.1167 - val_tp: 13.0000 - val_fp: 12.0000 - val_tn: 24936.0000 - val_fn: 709.0000 - val_accuracy: 0.9719 - val_precision: 0.5200 - val_recall: 0.0180 - val_auc: 0.7166\n",
      "Epoch 37/100\n",
      "51/51 [==============================] - 0s 4ms/step - loss: 0.1195 - tp: 131.0000 - fp: 87.0000 - tn: 99615.0000 - fn: 2846.0000 - accuracy: 0.9714 - precision: 0.6009 - recall: 0.0440 - auc: 0.6932 - val_loss: 0.1165 - val_tp: 14.0000 - val_fp: 13.0000 - val_tn: 24935.0000 - val_fn: 708.0000 - val_accuracy: 0.9719 - val_precision: 0.5185 - val_recall: 0.0194 - val_auc: 0.7175\n",
      "Epoch 38/100\n",
      "51/51 [==============================] - 0s 4ms/step - loss: 0.1184 - tp: 150.0000 - fp: 90.0000 - tn: 99612.0000 - fn: 2827.0000 - accuracy: 0.9716 - precision: 0.6250 - recall: 0.0504 - auc: 0.7025 - val_loss: 0.1163 - val_tp: 14.0000 - val_fp: 13.0000 - val_tn: 24935.0000 - val_fn: 708.0000 - val_accuracy: 0.9719 - val_precision: 0.5185 - val_recall: 0.0194 - val_auc: 0.7220\n",
      "Epoch 39/100\n",
      "51/51 [==============================] - 0s 4ms/step - loss: 0.1190 - tp: 151.0000 - fp: 90.0000 - tn: 99612.0000 - fn: 2826.0000 - accuracy: 0.9716 - precision: 0.6266 - recall: 0.0507 - auc: 0.6986 - val_loss: 0.1163 - val_tp: 14.0000 - val_fp: 13.0000 - val_tn: 24935.0000 - val_fn: 708.0000 - val_accuracy: 0.9719 - val_precision: 0.5185 - val_recall: 0.0194 - val_auc: 0.7205\n",
      "Epoch 40/100\n",
      "51/51 [==============================] - 0s 6ms/step - loss: 0.1188 - tp: 141.0000 - fp: 103.0000 - tn: 99599.0000 - fn: 2836.0000 - accuracy: 0.9714 - precision: 0.5779 - recall: 0.0474 - auc: 0.6983 - val_loss: 0.1163 - val_tp: 14.0000 - val_fp: 13.0000 - val_tn: 24935.0000 - val_fn: 708.0000 - val_accuracy: 0.9719 - val_precision: 0.5185 - val_recall: 0.0194 - val_auc: 0.7198\n",
      "Epoch 41/100\n",
      "51/51 [==============================] - 1s 20ms/step - loss: 0.1182 - tp: 182.0000 - fp: 134.0000 - tn: 99568.0000 - fn: 2795.0000 - accuracy: 0.9715 - precision: 0.5759 - recall: 0.0611 - auc: 0.7012 - val_loss: 0.1161 - val_tp: 14.0000 - val_fp: 13.0000 - val_tn: 24935.0000 - val_fn: 708.0000 - val_accuracy: 0.9719 - val_precision: 0.5185 - val_recall: 0.0194 - val_auc: 0.7209\n",
      "Epoch 42/100\n",
      "51/51 [==============================] - 1s 14ms/step - loss: 0.1181 - tp: 183.0000 - fp: 102.0000 - tn: 99600.0000 - fn: 2794.0000 - accuracy: 0.9718 - precision: 0.6421 - recall: 0.0615 - auc: 0.7049 - val_loss: 0.1161 - val_tp: 14.0000 - val_fp: 13.0000 - val_tn: 24935.0000 - val_fn: 708.0000 - val_accuracy: 0.9719 - val_precision: 0.5185 - val_recall: 0.0194 - val_auc: 0.7212\n",
      "Epoch 43/100\n",
      "51/51 [==============================] - 0s 5ms/step - loss: 0.1181 - tp: 171.0000 - fp: 99.0000 - tn: 99603.0000 - fn: 2806.0000 - accuracy: 0.9717 - precision: 0.6333 - recall: 0.0574 - auc: 0.7065 - val_loss: 0.1158 - val_tp: 17.0000 - val_fp: 15.0000 - val_tn: 24933.0000 - val_fn: 705.0000 - val_accuracy: 0.9720 - val_precision: 0.5312 - val_recall: 0.0235 - val_auc: 0.7216\n",
      "Epoch 44/100\n",
      "51/51 [==============================] - 0s 5ms/step - loss: 0.1184 - tp: 168.0000 - fp: 110.0000 - tn: 99592.0000 - fn: 2809.0000 - accuracy: 0.9716 - precision: 0.6043 - recall: 0.0564 - auc: 0.7062 - val_loss: 0.1158 - val_tp: 16.0000 - val_fp: 15.0000 - val_tn: 24933.0000 - val_fn: 706.0000 - val_accuracy: 0.9719 - val_precision: 0.5161 - val_recall: 0.0222 - val_auc: 0.7236\n",
      "Epoch 45/100\n",
      "51/51 [==============================] - 0s 5ms/step - loss: 0.1184 - tp: 165.0000 - fp: 102.0000 - tn: 99600.0000 - fn: 2812.0000 - accuracy: 0.9716 - precision: 0.6180 - recall: 0.0554 - auc: 0.7029 - val_loss: 0.1158 - val_tp: 17.0000 - val_fp: 15.0000 - val_tn: 24933.0000 - val_fn: 705.0000 - val_accuracy: 0.9720 - val_precision: 0.5312 - val_recall: 0.0235 - val_auc: 0.7256\n",
      "Epoch 46/100\n",
      "51/51 [==============================] - 0s 5ms/step - loss: 0.1181 - tp: 179.0000 - fp: 120.0000 - tn: 99582.0000 - fn: 2798.0000 - accuracy: 0.9716 - precision: 0.5987 - recall: 0.0601 - auc: 0.7006 - val_loss: 0.1159 - val_tp: 17.0000 - val_fp: 15.0000 - val_tn: 24933.0000 - val_fn: 705.0000 - val_accuracy: 0.9720 - val_precision: 0.5312 - val_recall: 0.0235 - val_auc: 0.7245\n",
      "Epoch 47/100\n",
      "51/51 [==============================] - 0s 5ms/step - loss: 0.1181 - tp: 180.0000 - fp: 118.0000 - tn: 99584.0000 - fn: 2797.0000 - accuracy: 0.9716 - precision: 0.6040 - recall: 0.0605 - auc: 0.7100 - val_loss: 0.1158 - val_tp: 17.0000 - val_fp: 15.0000 - val_tn: 24933.0000 - val_fn: 705.0000 - val_accuracy: 0.9720 - val_precision: 0.5312 - val_recall: 0.0235 - val_auc: 0.7228\n",
      "Epoch 48/100\n",
      "51/51 [==============================] - 0s 6ms/step - loss: 0.1182 - tp: 172.0000 - fp: 118.0000 - tn: 99584.0000 - fn: 2805.0000 - accuracy: 0.9715 - precision: 0.5931 - recall: 0.0578 - auc: 0.7061 - val_loss: 0.1157 - val_tp: 19.0000 - val_fp: 16.0000 - val_tn: 24932.0000 - val_fn: 703.0000 - val_accuracy: 0.9720 - val_precision: 0.5429 - val_recall: 0.0263 - val_auc: 0.7235\n",
      "Epoch 49/100\n",
      "51/51 [==============================] - 0s 5ms/step - loss: 0.1179 - tp: 181.0000 - fp: 131.0000 - tn: 99571.0000 - fn: 2796.0000 - accuracy: 0.9715 - precision: 0.5801 - recall: 0.0608 - auc: 0.7095 - val_loss: 0.1156 - val_tp: 19.0000 - val_fp: 16.0000 - val_tn: 24932.0000 - val_fn: 703.0000 - val_accuracy: 0.9720 - val_precision: 0.5429 - val_recall: 0.0263 - val_auc: 0.7238\n",
      "Epoch 50/100\n",
      "51/51 [==============================] - 0s 6ms/step - loss: 0.1180 - tp: 179.0000 - fp: 118.0000 - tn: 99584.0000 - fn: 2798.0000 - accuracy: 0.9716 - precision: 0.6027 - recall: 0.0601 - auc: 0.7079 - val_loss: 0.1156 - val_tp: 19.0000 - val_fp: 16.0000 - val_tn: 24932.0000 - val_fn: 703.0000 - val_accuracy: 0.9720 - val_precision: 0.5429 - val_recall: 0.0263 - val_auc: 0.7233\n",
      "Epoch 51/100\n",
      "51/51 [==============================] - 0s 5ms/step - loss: 0.1181 - tp: 176.0000 - fp: 118.0000 - tn: 99584.0000 - fn: 2801.0000 - accuracy: 0.9716 - precision: 0.5986 - recall: 0.0591 - auc: 0.7083 - val_loss: 0.1156 - val_tp: 20.0000 - val_fp: 16.0000 - val_tn: 24932.0000 - val_fn: 702.0000 - val_accuracy: 0.9720 - val_precision: 0.5556 - val_recall: 0.0277 - val_auc: 0.7201\n",
      "Epoch 52/100\n",
      "51/51 [==============================] - 0s 5ms/step - loss: 0.1180 - tp: 179.0000 - fp: 96.0000 - tn: 99606.0000 - fn: 2798.0000 - accuracy: 0.9718 - precision: 0.6509 - recall: 0.0601 - auc: 0.7063 - val_loss: 0.1155 - val_tp: 21.0000 - val_fp: 16.0000 - val_tn: 24932.0000 - val_fn: 701.0000 - val_accuracy: 0.9721 - val_precision: 0.5676 - val_recall: 0.0291 - val_auc: 0.7211\n",
      "Epoch 53/100\n",
      "51/51 [==============================] - 0s 5ms/step - loss: 0.1177 - tp: 201.0000 - fp: 125.0000 - tn: 99577.0000 - fn: 2776.0000 - accuracy: 0.9717 - precision: 0.6166 - recall: 0.0675 - auc: 0.7092 - val_loss: 0.1155 - val_tp: 21.0000 - val_fp: 16.0000 - val_tn: 24932.0000 - val_fn: 701.0000 - val_accuracy: 0.9721 - val_precision: 0.5676 - val_recall: 0.0291 - val_auc: 0.7207\n",
      "Epoch 54/100\n",
      "51/51 [==============================] - 0s 5ms/step - loss: 0.1177 - tp: 189.0000 - fp: 113.0000 - tn: 99589.0000 - fn: 2788.0000 - accuracy: 0.9717 - precision: 0.6258 - recall: 0.0635 - auc: 0.7140 - val_loss: 0.1155 - val_tp: 21.0000 - val_fp: 16.0000 - val_tn: 24932.0000 - val_fn: 701.0000 - val_accuracy: 0.9721 - val_precision: 0.5676 - val_recall: 0.0291 - val_auc: 0.7240\n",
      "Epoch 55/100\n",
      "51/51 [==============================] - 0s 5ms/step - loss: 0.1175 - tp: 206.0000 - fp: 124.0000 - tn: 99578.0000 - fn: 2771.0000 - accuracy: 0.9718 - precision: 0.6242 - recall: 0.0692 - auc: 0.7092 - val_loss: 0.1156 - val_tp: 21.0000 - val_fp: 16.0000 - val_tn: 24932.0000 - val_fn: 701.0000 - val_accuracy: 0.9721 - val_precision: 0.5676 - val_recall: 0.0291 - val_auc: 0.7271\n",
      "Epoch 56/100\n",
      "51/51 [==============================] - 0s 6ms/step - loss: 0.1176 - tp: 200.0000 - fp: 128.0000 - tn: 99574.0000 - fn: 2777.0000 - accuracy: 0.9717 - precision: 0.6098 - recall: 0.0672 - auc: 0.7108 - val_loss: 0.1155 - val_tp: 21.0000 - val_fp: 16.0000 - val_tn: 24932.0000 - val_fn: 701.0000 - val_accuracy: 0.9721 - val_precision: 0.5676 - val_recall: 0.0291 - val_auc: 0.7248\n",
      "Epoch 57/100\n",
      "51/51 [==============================] - 0s 5ms/step - loss: 0.1176 - tp: 193.0000 - fp: 130.0000 - tn: 99572.0000 - fn: 2784.0000 - accuracy: 0.9716 - precision: 0.5975 - recall: 0.0648 - auc: 0.7136 - val_loss: 0.1154 - val_tp: 22.0000 - val_fp: 17.0000 - val_tn: 24931.0000 - val_fn: 700.0000 - val_accuracy: 0.9721 - val_precision: 0.5641 - val_recall: 0.0305 - val_auc: 0.7248\n",
      "Epoch 58/100\n",
      "51/51 [==============================] - 0s 5ms/step - loss: 0.1176 - tp: 197.0000 - fp: 123.0000 - tn: 99579.0000 - fn: 2780.0000 - accuracy: 0.9717 - precision: 0.6156 - recall: 0.0662 - auc: 0.7146 - val_loss: 0.1154 - val_tp: 22.0000 - val_fp: 18.0000 - val_tn: 24930.0000 - val_fn: 700.0000 - val_accuracy: 0.9720 - val_precision: 0.5500 - val_recall: 0.0305 - val_auc: 0.7259\n",
      "Epoch 59/100\n",
      "51/51 [==============================] - 0s 5ms/step - loss: 0.1170 - tp: 195.0000 - fp: 124.0000 - tn: 99578.0000 - fn: 2782.0000 - accuracy: 0.9717 - precision: 0.6113 - recall: 0.0655 - auc: 0.7158 - val_loss: 0.1152 - val_tp: 22.0000 - val_fp: 21.0000 - val_tn: 24927.0000 - val_fn: 700.0000 - val_accuracy: 0.9719 - val_precision: 0.5116 - val_recall: 0.0305 - val_auc: 0.7282\n",
      "Epoch 60/100\n",
      "51/51 [==============================] - 0s 5ms/step - loss: 0.1173 - tp: 195.0000 - fp: 115.0000 - tn: 99587.0000 - fn: 2782.0000 - accuracy: 0.9718 - precision: 0.6290 - recall: 0.0655 - auc: 0.7141 - val_loss: 0.1152 - val_tp: 27.0000 - val_fp: 23.0000 - val_tn: 24925.0000 - val_fn: 695.0000 - val_accuracy: 0.9720 - val_precision: 0.5400 - val_recall: 0.0374 - val_auc: 0.7312\n",
      "Epoch 61/100\n",
      "51/51 [==============================] - 0s 5ms/step - loss: 0.1172 - tp: 209.0000 - fp: 128.0000 - tn: 99574.0000 - fn: 2768.0000 - accuracy: 0.9718 - precision: 0.6202 - recall: 0.0702 - auc: 0.7144 - val_loss: 0.1153 - val_tp: 22.0000 - val_fp: 20.0000 - val_tn: 24928.0000 - val_fn: 700.0000 - val_accuracy: 0.9720 - val_precision: 0.5238 - val_recall: 0.0305 - val_auc: 0.7253\n",
      "Epoch 62/100\n",
      "51/51 [==============================] - 0s 5ms/step - loss: 0.1169 - tp: 209.0000 - fp: 120.0000 - tn: 99582.0000 - fn: 2768.0000 - accuracy: 0.9719 - precision: 0.6353 - recall: 0.0702 - auc: 0.7163 - val_loss: 0.1152 - val_tp: 25.0000 - val_fp: 22.0000 - val_tn: 24926.0000 - val_fn: 697.0000 - val_accuracy: 0.9720 - val_precision: 0.5319 - val_recall: 0.0346 - val_auc: 0.7271\n",
      "Epoch 63/100\n",
      "51/51 [==============================] - 0s 5ms/step - loss: 0.1173 - tp: 214.0000 - fp: 118.0000 - tn: 99584.0000 - fn: 2763.0000 - accuracy: 0.9719 - precision: 0.6446 - recall: 0.0719 - auc: 0.7095 - val_loss: 0.1152 - val_tp: 25.0000 - val_fp: 22.0000 - val_tn: 24926.0000 - val_fn: 697.0000 - val_accuracy: 0.9720 - val_precision: 0.5319 - val_recall: 0.0346 - val_auc: 0.7278\n",
      "Epoch 64/100\n",
      "51/51 [==============================] - 0s 5ms/step - loss: 0.1172 - tp: 207.0000 - fp: 122.0000 - tn: 99580.0000 - fn: 2770.0000 - accuracy: 0.9718 - precision: 0.6292 - recall: 0.0695 - auc: 0.7166 - val_loss: 0.1151 - val_tp: 27.0000 - val_fp: 22.0000 - val_tn: 24926.0000 - val_fn: 695.0000 - val_accuracy: 0.9721 - val_precision: 0.5510 - val_recall: 0.0374 - val_auc: 0.7310\n",
      "Epoch 65/100\n",
      "51/51 [==============================] - 0s 5ms/step - loss: 0.1174 - tp: 198.0000 - fp: 126.0000 - tn: 99576.0000 - fn: 2779.0000 - accuracy: 0.9717 - precision: 0.6111 - recall: 0.0665 - auc: 0.7174 - val_loss: 0.1151 - val_tp: 23.0000 - val_fp: 21.0000 - val_tn: 24927.0000 - val_fn: 699.0000 - val_accuracy: 0.9720 - val_precision: 0.5227 - val_recall: 0.0319 - val_auc: 0.7307\n",
      "Epoch 66/100\n",
      "51/51 [==============================] - 0s 5ms/step - loss: 0.1171 - tp: 208.0000 - fp: 127.0000 - tn: 99575.0000 - fn: 2769.0000 - accuracy: 0.9718 - precision: 0.6209 - recall: 0.0699 - auc: 0.7176 - val_loss: 0.1151 - val_tp: 24.0000 - val_fp: 21.0000 - val_tn: 24927.0000 - val_fn: 698.0000 - val_accuracy: 0.9720 - val_precision: 0.5333 - val_recall: 0.0332 - val_auc: 0.7248\n",
      "Epoch 67/100\n",
      "51/51 [==============================] - 0s 5ms/step - loss: 0.1169 - tp: 216.0000 - fp: 137.0000 - tn: 99565.0000 - fn: 2761.0000 - accuracy: 0.9718 - precision: 0.6119 - recall: 0.0726 - auc: 0.7164 - val_loss: 0.1150 - val_tp: 25.0000 - val_fp: 21.0000 - val_tn: 24927.0000 - val_fn: 697.0000 - val_accuracy: 0.9720 - val_precision: 0.5435 - val_recall: 0.0346 - val_auc: 0.7283\n",
      "Epoch 68/100\n",
      "51/51 [==============================] - 0s 5ms/step - loss: 0.1171 - tp: 215.0000 - fp: 124.0000 - tn: 99578.0000 - fn: 2762.0000 - accuracy: 0.9719 - precision: 0.6342 - recall: 0.0722 - auc: 0.7156 - val_loss: 0.1152 - val_tp: 22.0000 - val_fp: 21.0000 - val_tn: 24927.0000 - val_fn: 700.0000 - val_accuracy: 0.9719 - val_precision: 0.5116 - val_recall: 0.0305 - val_auc: 0.7272\n",
      "Epoch 69/100\n",
      "51/51 [==============================] - 0s 5ms/step - loss: 0.1165 - tp: 233.0000 - fp: 127.0000 - tn: 99575.0000 - fn: 2744.0000 - accuracy: 0.9720 - precision: 0.6472 - recall: 0.0783 - auc: 0.7190 - val_loss: 0.1152 - val_tp: 23.0000 - val_fp: 21.0000 - val_tn: 24927.0000 - val_fn: 699.0000 - val_accuracy: 0.9720 - val_precision: 0.5227 - val_recall: 0.0319 - val_auc: 0.7305\n",
      "Epoch 70/100\n",
      "50/51 [============================>.] - ETA: 0s - loss: 0.1167 - tp: 218.0000 - fp: 144.0000 - tn: 99285.0000 - fn: 2753.0000 - accuracy: 0.9717 - precision: 0.6022 - recall: 0.0734 - auc: 0.7200Restoring model weights from the end of the best epoch.\n",
      "51/51 [==============================] - 0s 6ms/step - loss: 0.1167 - tp: 218.0000 - fp: 144.0000 - tn: 99558.0000 - fn: 2759.0000 - accuracy: 0.9717 - precision: 0.6022 - recall: 0.0732 - auc: 0.7201 - val_loss: 0.1150 - val_tp: 28.0000 - val_fp: 22.0000 - val_tn: 24926.0000 - val_fn: 694.0000 - val_accuracy: 0.9721 - val_precision: 0.5600 - val_recall: 0.0388 - val_auc: 0.7308\n",
      "Epoch 00070: early stopping\n"
     ]
    }
   ],
   "source": [
    "model = make_model()\n",
    "model.load_weights(initial_weights)\n",
    "baseline_history = model.fit(\n",
    "    train_features,\n",
    "    train_labels,\n",
    "    batch_size=BATCH_SIZE,\n",
    "    epochs=EPOCHS,\n",
    "    callbacks=[early_stopping],\n",
    "    validation_data=(val_features, val_labels))"
   ]
  },
  {
   "cell_type": "markdown",
   "metadata": {
    "id": "iSaDBYU9xtP6"
   },
   "source": [
    "### 학습 이력 확인\n",
    "이 섹션에서는 훈련 및 검증 세트에 대한 모델의 정확도와 손실에 대한 plot을 생성합니다. 이는 과적합을 확인하는데 유용하며 이 [튜토리얼](https://www.tensorflow.org/tutorials/keras/overfit_and_underfit)에서 자세한 내용을 확인할 수 있습니다.\n",
    "\n",
    "추가적으로, 위에서 만든 모든 메트릭에 대해 이러한 plot을 생성할 수 있습니다. 거짓 음성이 포함되는 경우가 예시입니다."
   ]
  },
  {
   "cell_type": "code",
   "execution_count": 101,
   "metadata": {
    "id": "WTSkhT1jyGu6"
   },
   "outputs": [],
   "source": [
    "def plot_metrics(history):\n",
    "    metrics = ['loss', 'auc', 'precision', 'recall']\n",
    "    for n, metric in enumerate(metrics):\n",
    "        name = metric.replace(\"_\",\" \").capitalize()\n",
    "        plt.subplot(2,2,n+1)\n",
    "        plt.plot(history.epoch, history.history[metric], color=colors[0], label='Train')\n",
    "        plt.plot(history.epoch, history.history['val_'+metric],\n",
    "             color=colors[0], linestyle=\"--\", label='Val')\n",
    "        plt.xlabel('Epoch')\n",
    "        plt.ylabel(name)\n",
    "        if metric == 'loss':\n",
    "            plt.ylim([0, plt.ylim()[1]])\n",
    "        elif metric == 'auc':\n",
    "            plt.ylim([0.5,1])\n",
    "        else:\n",
    "            plt.ylim([0,1])\n",
    "\n",
    "        plt.legend()\n"
   ]
  },
  {
   "cell_type": "code",
   "execution_count": 102,
   "metadata": {
    "id": "u6LReDsqlZlk"
   },
   "outputs": [
    {
     "data": {
      "image/png": "[encoded data removed]",
      "text/plain": [
       "<Figure size 864x720 with 4 Axes>"
      ]
     },
     "metadata": {
      "needs_background": "light"
     },
     "output_type": "display_data"
    }
   ],
   "source": [
    "plot_metrics(baseline_history)"
   ]
  },
  {
   "cell_type": "markdown",
   "metadata": {
    "id": "UCa4iWo6WDKR"
   },
   "source": [
    "참고: 검증 곡선은 일반적으로 훈련 곡선보다 성능이 좋습니다. 이는 주로 모델을 평가할 때 drop out 레이어가 활성화 되지 않았기 때문에 발생합니다."
   ]
  },
  {
   "cell_type": "markdown",
   "metadata": {
    "id": "aJC1booryouo"
   },
   "source": [
    "### 메트릭 평가\n",
    "\n",
    "[혼동 행렬](https://developers.google.com/machine-learning/glossary/#confusion_matrix) 을 사용하여 X축이 예측 레이블이고 Y축이 실제 레이블인 실제 레이블과 예측 레이블을 요약할 수 있습니다."
   ]
  },
  {
   "cell_type": "code",
   "execution_count": 103,
   "metadata": {
    "id": "aNS796IJKrev"
   },
   "outputs": [],
   "source": [
    "train_predictions_baseline = model.predict(train_features, batch_size=BATCH_SIZE)\n",
    "test_predictions_baseline = model.predict(test_features, batch_size=BATCH_SIZE)"
   ]
  },
  {
   "cell_type": "code",
   "execution_count": 104,
   "metadata": {},
   "outputs": [
    {
     "name": "stdout",
     "output_type": "stream",
     "text": [
      "(102679, 1)\n"
     ]
    },
    {
     "data": {
      "text/plain": [
       "array([[0.02344939],\n",
       "       [0.00434873],\n",
       "       [0.04316524],\n",
       "       ...,\n",
       "       [0.00236452],\n",
       "       [0.02865157],\n",
       "       [0.0246512 ]], dtype=float32)"
      ]
     },
     "execution_count": 104,
     "metadata": {},
     "output_type": "execute_result"
    }
   ],
   "source": [
    "print(train_predictions_baseline.shape)\n",
    "train_predictions_baseline"
   ]
  },
  {
   "cell_type": "code",
   "execution_count": 105,
   "metadata": {},
   "outputs": [
    {
     "name": "stdout",
     "output_type": "stream",
     "text": [
      "(8200, 1)\n"
     ]
    },
    {
     "data": {
      "text/plain": [
       "array([[0.03765142],\n",
       "       [0.03200525],\n",
       "       [0.03235388],\n",
       "       ...,\n",
       "       [0.03872317],\n",
       "       [0.02631113],\n",
       "       [0.01446477]], dtype=float32)"
      ]
     },
     "execution_count": 105,
     "metadata": {},
     "output_type": "execute_result"
    }
   ],
   "source": [
    "print(test_predictions_baseline.shape)\n",
    "test_predictions_baseline"
   ]
  },
  {
   "cell_type": "code",
   "execution_count": 107,
   "metadata": {
    "id": "MVWBGfADwbWI"
   },
   "outputs": [],
   "source": [
    "def plot_cm(labels, predictions, p=0.5):\n",
    "    cm = confusion_matrix(labels, predictions > p)\n",
    "    plt.figure(figsize=(5,5))\n",
    "    sns.heatmap(cm, annot=True, fmt=\"d\")\n",
    "    plt.title('Confusion matrix @{:.2f}'.format(p))\n",
    "    plt.ylabel('Actual label')\n",
    "    plt.xlabel('Predicted label')\n",
    "\n",
    "    print('Legitimate Transactions Detected (True Negatives): ', cm[0][0])\n",
    "    print('Legitimate Transactions Incorrectly Detected (False Positives): ', cm[0][1])\n",
    "    print('Fraudulent Transactions Missed (False Negatives): ', cm[1][0])\n",
    "    print('Fraudulent Transactions Detected (True Positives): ', cm[1][1])\n",
    "    print('Total Fraudulent Transactions: ', np.sum(cm[1]))"
   ]
  },
  {
   "cell_type": "markdown",
   "metadata": {
    "id": "nOTjD5Z5Wp1U"
   },
   "source": [
    "테스트 데이터 세트에서 모델을 평가하고 위에서 만든 측정 항목의 결과를 표시합니다."
   ]
  },
  {
   "cell_type": "code",
   "execution_count": 108,
   "metadata": {
    "id": "poh_hZngt2_9"
   },
   "outputs": [
    {
     "name": "stdout",
     "output_type": "stream",
     "text": [
      "loss :  0.07216359674930573\n",
      "tp :  3.0\n",
      "fp :  11.0\n",
      "tn :  8070.0\n",
      "fn :  116.0\n",
      "accuracy :  0.984512209892273\n",
      "precision :  0.2142857164144516\n",
      "recall :  0.02521008439362049\n",
      "auc :  0.7678301930427551\n",
      "\n",
      "Legitimate Transactions Detected (True Negatives):  8070\n",
      "Legitimate Transactions Incorrectly Detected (False Positives):  11\n",
      "Fraudulent Transactions Missed (False Negatives):  116\n",
      "Fraudulent Transactions Detected (True Positives):  3\n",
      "Total Fraudulent Transactions:  119\n"
     ]
    },
    {
     "data": {
      "image/png": "[encoded data removed]",
      "text/plain": [
       "<Figure size 360x360 with 2 Axes>"
      ]
     },
     "metadata": {
      "needs_background": "light"
     },
     "output_type": "display_data"
    }
   ],
   "source": [
    "baseline_results = model.evaluate(test_features, test_labels,\n",
    "                                  batch_size=BATCH_SIZE, verbose=0)\n",
    "for name, value in zip(model.metrics_names, baseline_results):\n",
    "    print(name, ': ', value)\n",
    "print()\n",
    "\n",
    "plot_cm(test_labels, test_predictions_baseline)"
   ]
  },
  {
   "cell_type": "markdown",
   "metadata": {
    "id": "P-QpQsip_F2Q"
   },
   "source": [
    "### ROC 플로팅\n",
    "\n",
    "이제 [ROC](https://developers.google.com/machine-learning/glossary#ROC)을 플로팅 하십시오. 이 그래프는 출력 임계값을 조정하기만 해도 모델이 도달할 수 있는 성능 범위를 한눈에 보여주기 때문에 유용합니다."
   ]
  },
  {
   "cell_type": "code",
   "execution_count": 113,
   "metadata": {
    "id": "lhaxsLSvANF9"
   },
   "outputs": [],
   "source": [
    "def plot_roc(name, labels, predictions, **kwargs):\n",
    "    fp, tp, _ = sklearn.metrics.roc_curve(labels, predictions)\n",
    "\n",
    "    plt.plot(100*fp, 100*tp, label=name, linewidth=2, **kwargs)\n",
    "    plt.xlabel('False positives [%]')\n",
    "    plt.ylabel('True positives [%]')\n",
    "    plt.xlim([-0.5,40])\n",
    "    plt.ylim([30,100.5])\n",
    "    plt.grid(True)\n",
    "    ax = plt.gca()\n",
    "    ax.set_aspect('equal')"
   ]
  },
  {
   "cell_type": "code",
   "execution_count": 114,
   "metadata": {
    "id": "DfHHspttKJE0"
   },
   "outputs": [
    {
     "data": {
      "text/plain": [
       "<matplotlib.legend.Legend at 0x7f762436a8d0>"
      ]
     },
     "execution_count": 114,
     "metadata": {},
     "output_type": "execute_result"
    },
    {
     "data": {
      "image/png": "[encoded data removed]",
      "text/plain": [
       "<Figure size 864x720 with 1 Axes>"
      ]
     },
     "metadata": {
      "needs_background": "light"
     },
     "output_type": "display_data"
    }
   ],
   "source": [
    "plot_roc(\"Train Baseline\", train_labels, train_predictions_baseline, color=colors[0])\n",
    "plot_roc(\"Test Baseline\", test_labels, test_predictions_baseline, color=colors[0], linestyle='--')\n",
    "plt.legend(loc='lower right')"
   ]
  },
  {
   "cell_type": "markdown",
   "metadata": {
    "id": "gpdsFyp64DhY"
   },
   "source": [
    "비교적 정밀도가 높은 것 같지만 회수율과 ROC 곡선(AUC) 밑 면적이 마음에 들 만큼 높지 않습니다. 분류자는 정밀도와 리콜을 모두 최대화 하려고 할 때 종종 도전해야 할 문제에 직면하는데, 이는 불균형 데이터세트로 작업할 떄 특히 그러합니다. 당신이 신경쓰는 문제의 맥락에서 다른 유형의 오류의 비용을 고려하는 것이 중요합니다. 이 예시에서 거짓음성(부정 거래를 놓친 경우)은 금전적인 비용을 초래하지만 , 거짓 양성(거래가 사기 행위로 잘못 표시됨)은 사용자들의 만족도를 감소시킬 수 있습니다. "
   ]
  },
  {
   "cell_type": "code",
   "execution_count": null,
   "metadata": {},
   "outputs": [],
   "source": []
  },
  {
   "cell_type": "code",
   "execution_count": null,
   "metadata": {},
   "outputs": [],
   "source": []
  },
  {
   "cell_type": "code",
   "execution_count": null,
   "metadata": {},
   "outputs": [],
   "source": []
  },
  {
   "cell_type": "code",
   "execution_count": null,
   "metadata": {},
   "outputs": [],
   "source": []
  },
  {
   "cell_type": "code",
   "execution_count": null,
   "metadata": {},
   "outputs": [],
   "source": []
  },
  {
   "cell_type": "code",
   "execution_count": null,
   "metadata": {},
   "outputs": [],
   "source": []
  },
  {
   "cell_type": "code",
   "execution_count": null,
   "metadata": {},
   "outputs": [],
   "source": []
  },
  {
   "cell_type": "code",
   "execution_count": null,
   "metadata": {},
   "outputs": [],
   "source": []
  },
  {
   "cell_type": "code",
   "execution_count": null,
   "metadata": {},
   "outputs": [],
   "source": []
  },
  {
   "cell_type": "code",
   "execution_count": null,
   "metadata": {},
   "outputs": [],
   "source": []
  },
  {
   "cell_type": "code",
   "execution_count": null,
   "metadata": {},
   "outputs": [],
   "source": []
  },
  {
   "cell_type": "code",
   "execution_count": null,
   "metadata": {},
   "outputs": [],
   "source": []
  },
  {
   "cell_type": "code",
   "execution_count": null,
   "metadata": {},
   "outputs": [],
   "source": []
  },
  {
   "cell_type": "markdown",
   "metadata": {
    "id": "cveQoiMyGQCo"
   },
   "source": [
    "## 클래스 가중치"
   ]
  },
  {
   "cell_type": "markdown",
   "metadata": {
    "id": "ePGp6GUE1WfH"
   },
   "source": [
    "### 클래스 가중치 계산\n",
    "\n",
    "목표는 부정 거래를 식별하는 것이지만, 여러분은 작업할 수 있는 긍정적인 샘플이 많지 않기 깨문에 분류자가 이용할 수 있는 몇 가지 예에 가중치를 두고자 할 것입니다. 매개 변수를 통해 각 클래스에 대한 Keras 가중치를 전달한다면 이 과정을 할 수 있습니다. 이로 인해 모델이 덜 표현된 클래스의 예에 \"더 많은 주의를 기울이십시오\"라고 할 수도 있습니다."
   ]
  },
  {
   "cell_type": "code",
   "execution_count": 54,
   "metadata": {
    "id": "qjGWErngGny7"
   },
   "outputs": [
    {
     "name": "stdout",
     "output_type": "stream",
     "text": [
      "Weight for class 0: 0.50\n",
      "Weight for class 1: 289.44\n"
     ]
    }
   ],
   "source": [
    "# Scaling by total/2 helps keep the loss to a similar magnitude.\n",
    "# The sum of the weights of all examples stays the same.\n",
    "weight_for_0 = (1 / neg)*(total)/2.0 \n",
    "weight_for_1 = (1 / pos)*(total)/2.0\n",
    "\n",
    "class_weight = {0: weight_for_0, 1: weight_for_1}\n",
    "\n",
    "print('Weight for class 0: {:.2f}'.format(weight_for_0))\n",
    "print('Weight for class 1: {:.2f}'.format(weight_for_1))"
   ]
  },
  {
   "cell_type": "markdown",
   "metadata": {
    "id": "Mk1OOE2ZSHzy"
   },
   "source": [
    "### 클래스 가중치로 모델 교육\n",
    "\n",
    "이제 해당 모델이 예측에 어떤 영향을 미치는지 확인하기 위하여 클래스 가중치로 모델을 재 교육하고 평가해 보십시오.\n",
    "\n",
    "참고: `class_weights` 를 사용하면 손실 범위가 바뀝니다. 이는 최적기에 따라 학습의 안정성에 영향을 미칠 수 있습니다. 단계 크기가 그라데이션의 크기에 따라 달라지는 `optimizers.SGD` 와 같은 최적화 도구는 실패할 수 있습니다. 여기서 사용되는 최적화기인 `optimizers.Adam` 은 스케일링 변화에 영향을 받지 않습니다. 또한 가중치 때문에 전체 손실은 두 모델 간에 비교할 수 없습니다. "
   ]
  },
  {
   "cell_type": "code",
   "execution_count": 55,
   "metadata": {
    "collapsed": true,
    "id": "UJ589fn8ST3x",
    "jupyter": {
     "outputs_hidden": true
    }
   },
   "outputs": [
    {
     "name": "stdout",
     "output_type": "stream",
     "text": [
      "Epoch 1/100\n",
      "90/90 [==============================] - 1s 10ms/step - loss: 1.1010 - tp: 235.0000 - fp: 909.0000 - tn: 237920.0000 - fn: 174.0000 - accuracy: 0.9955 - precision: 0.2054 - recall: 0.5746 - auc: 0.8711 - val_loss: 0.0138 - val_tp: 60.0000 - val_fp: 79.0000 - val_tn: 45407.0000 - val_fn: 23.0000 - val_accuracy: 0.9978 - val_precision: 0.4317 - val_recall: 0.7229 - val_auc: 0.9255\n",
      "Epoch 2/100\n",
      "90/90 [==============================] - 0s 5ms/step - loss: 0.5462 - tp: 202.0000 - fp: 1448.0000 - tn: 180535.0000 - fn: 91.0000 - accuracy: 0.9916 - precision: 0.1224 - recall: 0.6894 - auc: 0.9294 - val_loss: 0.0210 - val_tp: 64.0000 - val_fp: 147.0000 - val_tn: 45339.0000 - val_fn: 19.0000 - val_accuracy: 0.9964 - val_precision: 0.3033 - val_recall: 0.7711 - val_auc: 0.9375\n",
      "Epoch 3/100\n",
      "90/90 [==============================] - 0s 5ms/step - loss: 0.4765 - tp: 223.0000 - fp: 2322.0000 - tn: 179661.0000 - fn: 70.0000 - accuracy: 0.9869 - precision: 0.0876 - recall: 0.7611 - auc: 0.9301 - val_loss: 0.0288 - val_tp: 65.0000 - val_fp: 245.0000 - val_tn: 45241.0000 - val_fn: 18.0000 - val_accuracy: 0.9942 - val_precision: 0.2097 - val_recall: 0.7831 - val_auc: 0.9442\n",
      "Epoch 4/100\n",
      "90/90 [==============================] - 0s 5ms/step - loss: 0.4160 - tp: 227.0000 - fp: 3212.0000 - tn: 178771.0000 - fn: 66.0000 - accuracy: 0.9820 - precision: 0.0660 - recall: 0.7747 - auc: 0.9368 - val_loss: 0.0397 - val_tp: 66.0000 - val_fp: 415.0000 - val_tn: 45071.0000 - val_fn: 17.0000 - val_accuracy: 0.9905 - val_precision: 0.1372 - val_recall: 0.7952 - val_auc: 0.9464\n",
      "Epoch 5/100\n",
      "90/90 [==============================] - 0s 5ms/step - loss: 0.3188 - tp: 246.0000 - fp: 4039.0000 - tn: 177944.0000 - fn: 47.0000 - accuracy: 0.9776 - precision: 0.0574 - recall: 0.8396 - auc: 0.9492 - val_loss: 0.0493 - val_tp: 66.0000 - val_fp: 571.0000 - val_tn: 44915.0000 - val_fn: 17.0000 - val_accuracy: 0.9871 - val_precision: 0.1036 - val_recall: 0.7952 - val_auc: 0.9545\n",
      "Epoch 6/100\n",
      "90/90 [==============================] - 0s 5ms/step - loss: 0.2991 - tp: 247.0000 - fp: 4651.0000 - tn: 177332.0000 - fn: 46.0000 - accuracy: 0.9742 - precision: 0.0504 - recall: 0.8430 - auc: 0.9567 - val_loss: 0.0568 - val_tp: 68.0000 - val_fp: 678.0000 - val_tn: 44808.0000 - val_fn: 15.0000 - val_accuracy: 0.9848 - val_precision: 0.0912 - val_recall: 0.8193 - val_auc: 0.9527\n",
      "Epoch 7/100\n",
      "90/90 [==============================] - 0s 5ms/step - loss: 0.3068 - tp: 245.0000 - fp: 5323.0000 - tn: 176660.0000 - fn: 48.0000 - accuracy: 0.9705 - precision: 0.0440 - recall: 0.8362 - auc: 0.9546 - val_loss: 0.0628 - val_tp: 69.0000 - val_fp: 767.0000 - val_tn: 44719.0000 - val_fn: 14.0000 - val_accuracy: 0.9829 - val_precision: 0.0825 - val_recall: 0.8313 - val_auc: 0.9548\n",
      "Epoch 8/100\n",
      "90/90 [==============================] - 0s 5ms/step - loss: 0.2894 - tp: 252.0000 - fp: 5426.0000 - tn: 176557.0000 - fn: 41.0000 - accuracy: 0.9700 - precision: 0.0444 - recall: 0.8601 - auc: 0.9519 - val_loss: 0.0700 - val_tp: 70.0000 - val_fp: 852.0000 - val_tn: 44634.0000 - val_fn: 13.0000 - val_accuracy: 0.9810 - val_precision: 0.0759 - val_recall: 0.8434 - val_auc: 0.9562\n",
      "Epoch 9/100\n",
      "90/90 [==============================] - 0s 5ms/step - loss: 0.2827 - tp: 250.0000 - fp: 5863.0000 - tn: 176120.0000 - fn: 43.0000 - accuracy: 0.9676 - precision: 0.0409 - recall: 0.8532 - auc: 0.9568 - val_loss: 0.0727 - val_tp: 70.0000 - val_fp: 888.0000 - val_tn: 44598.0000 - val_fn: 13.0000 - val_accuracy: 0.9802 - val_precision: 0.0731 - val_recall: 0.8434 - val_auc: 0.9574\n",
      "Epoch 10/100\n",
      "90/90 [==============================] - 0s 5ms/step - loss: 0.2466 - tp: 256.0000 - fp: 5645.0000 - tn: 176338.0000 - fn: 37.0000 - accuracy: 0.9688 - precision: 0.0434 - recall: 0.8737 - auc: 0.9641 - val_loss: 0.0728 - val_tp: 70.0000 - val_fp: 872.0000 - val_tn: 44614.0000 - val_fn: 13.0000 - val_accuracy: 0.9806 - val_precision: 0.0743 - val_recall: 0.8434 - val_auc: 0.9592\n",
      "Epoch 11/100\n",
      "90/90 [==============================] - 0s 5ms/step - loss: 0.2483 - tp: 257.0000 - fp: 5917.0000 - tn: 176066.0000 - fn: 36.0000 - accuracy: 0.9673 - precision: 0.0416 - recall: 0.8771 - auc: 0.9621 - val_loss: 0.0749 - val_tp: 70.0000 - val_fp: 892.0000 - val_tn: 44594.0000 - val_fn: 13.0000 - val_accuracy: 0.9801 - val_precision: 0.0728 - val_recall: 0.8434 - val_auc: 0.9620\n",
      "Epoch 12/100\n",
      "90/90 [==============================] - 0s 5ms/step - loss: 0.2312 - tp: 259.0000 - fp: 5876.0000 - tn: 176107.0000 - fn: 34.0000 - accuracy: 0.9676 - precision: 0.0422 - recall: 0.8840 - auc: 0.9655 - val_loss: 0.0738 - val_tp: 70.0000 - val_fp: 865.0000 - val_tn: 44621.0000 - val_fn: 13.0000 - val_accuracy: 0.9807 - val_precision: 0.0749 - val_recall: 0.8434 - val_auc: 0.9650\n",
      "Epoch 13/100\n",
      "90/90 [==============================] - 0s 5ms/step - loss: 0.2386 - tp: 258.0000 - fp: 5584.0000 - tn: 176399.0000 - fn: 35.0000 - accuracy: 0.9692 - precision: 0.0442 - recall: 0.8805 - auc: 0.9650 - val_loss: 0.0739 - val_tp: 71.0000 - val_fp: 858.0000 - val_tn: 44628.0000 - val_fn: 12.0000 - val_accuracy: 0.9809 - val_precision: 0.0764 - val_recall: 0.8554 - val_auc: 0.9653\n",
      "Epoch 14/100\n",
      "90/90 [==============================] - 0s 5ms/step - loss: 0.2408 - tp: 258.0000 - fp: 5464.0000 - tn: 176519.0000 - fn: 35.0000 - accuracy: 0.9698 - precision: 0.0451 - recall: 0.8805 - auc: 0.9627 - val_loss: 0.0764 - val_tp: 71.0000 - val_fp: 870.0000 - val_tn: 44616.0000 - val_fn: 12.0000 - val_accuracy: 0.9806 - val_precision: 0.0755 - val_recall: 0.8554 - val_auc: 0.9660\n",
      "Epoch 15/100\n",
      "90/90 [==============================] - 0s 5ms/step - loss: 0.2306 - tp: 261.0000 - fp: 5803.0000 - tn: 176180.0000 - fn: 32.0000 - accuracy: 0.9680 - precision: 0.0430 - recall: 0.8908 - auc: 0.9654 - val_loss: 0.0768 - val_tp: 71.0000 - val_fp: 866.0000 - val_tn: 44620.0000 - val_fn: 12.0000 - val_accuracy: 0.9807 - val_precision: 0.0758 - val_recall: 0.8554 - val_auc: 0.9668\n",
      "Epoch 16/100\n",
      "90/90 [==============================] - 0s 5ms/step - loss: 0.1862 - tp: 262.0000 - fp: 5719.0000 - tn: 176264.0000 - fn: 31.0000 - accuracy: 0.9685 - precision: 0.0438 - recall: 0.8942 - auc: 0.9791 - val_loss: 0.0764 - val_tp: 71.0000 - val_fp: 855.0000 - val_tn: 44631.0000 - val_fn: 12.0000 - val_accuracy: 0.9810 - val_precision: 0.0767 - val_recall: 0.8554 - val_auc: 0.9700\n",
      "Epoch 17/100\n",
      "90/90 [==============================] - 0s 5ms/step - loss: 0.2097 - tp: 263.0000 - fp: 5762.0000 - tn: 176221.0000 - fn: 30.0000 - accuracy: 0.9682 - precision: 0.0437 - recall: 0.8976 - auc: 0.9698 - val_loss: 0.0772 - val_tp: 71.0000 - val_fp: 861.0000 - val_tn: 44625.0000 - val_fn: 12.0000 - val_accuracy: 0.9808 - val_precision: 0.0762 - val_recall: 0.8554 - val_auc: 0.9704\n",
      "Epoch 18/100\n",
      "90/90 [==============================] - 0s 5ms/step - loss: 0.2170 - tp: 260.0000 - fp: 5831.0000 - tn: 176152.0000 - fn: 33.0000 - accuracy: 0.9678 - precision: 0.0427 - recall: 0.8874 - auc: 0.9697 - val_loss: 0.0766 - val_tp: 71.0000 - val_fp: 850.0000 - val_tn: 44636.0000 - val_fn: 12.0000 - val_accuracy: 0.9811 - val_precision: 0.0771 - val_recall: 0.8554 - val_auc: 0.9707\n",
      "Epoch 19/100\n",
      "90/90 [==============================] - 0s 5ms/step - loss: 0.2398 - tp: 257.0000 - fp: 5700.0000 - tn: 176283.0000 - fn: 36.0000 - accuracy: 0.9685 - precision: 0.0431 - recall: 0.8771 - auc: 0.9632 - val_loss: 0.0774 - val_tp: 71.0000 - val_fp: 848.0000 - val_tn: 44638.0000 - val_fn: 12.0000 - val_accuracy: 0.9811 - val_precision: 0.0773 - val_recall: 0.8554 - val_auc: 0.9730\n",
      "Epoch 20/100\n",
      "90/90 [==============================] - 0s 5ms/step - loss: 0.2436 - tp: 255.0000 - fp: 5579.0000 - tn: 176404.0000 - fn: 38.0000 - accuracy: 0.9692 - precision: 0.0437 - recall: 0.8703 - auc: 0.9625 - val_loss: 0.0767 - val_tp: 71.0000 - val_fp: 825.0000 - val_tn: 44661.0000 - val_fn: 12.0000 - val_accuracy: 0.9816 - val_precision: 0.0792 - val_recall: 0.8554 - val_auc: 0.9746\n",
      "Epoch 21/100\n",
      "90/90 [==============================] - 0s 5ms/step - loss: 0.2139 - tp: 262.0000 - fp: 5710.0000 - tn: 176273.0000 - fn: 31.0000 - accuracy: 0.9685 - precision: 0.0439 - recall: 0.8942 - auc: 0.9676 - val_loss: 0.0756 - val_tp: 71.0000 - val_fp: 815.0000 - val_tn: 44671.0000 - val_fn: 12.0000 - val_accuracy: 0.9819 - val_precision: 0.0801 - val_recall: 0.8554 - val_auc: 0.9748\n",
      "Epoch 22/100\n",
      "90/90 [==============================] - 0s 5ms/step - loss: 0.1789 - tp: 266.0000 - fp: 5704.0000 - tn: 176279.0000 - fn: 27.0000 - accuracy: 0.9686 - precision: 0.0446 - recall: 0.9078 - auc: 0.9769 - val_loss: 0.0732 - val_tp: 71.0000 - val_fp: 787.0000 - val_tn: 44699.0000 - val_fn: 12.0000 - val_accuracy: 0.9825 - val_precision: 0.0828 - val_recall: 0.8554 - val_auc: 0.9763\n",
      "Epoch 23/100\n",
      "90/90 [==============================] - 0s 5ms/step - loss: 0.2086 - tp: 263.0000 - fp: 5455.0000 - tn: 176528.0000 - fn: 30.0000 - accuracy: 0.9699 - precision: 0.0460 - recall: 0.8976 - auc: 0.9700 - val_loss: 0.0735 - val_tp: 71.0000 - val_fp: 784.0000 - val_tn: 44702.0000 - val_fn: 12.0000 - val_accuracy: 0.9825 - val_precision: 0.0830 - val_recall: 0.8554 - val_auc: 0.9767\n",
      "Epoch 24/100\n",
      "90/90 [==============================] - 0s 5ms/step - loss: 0.2275 - tp: 258.0000 - fp: 5525.0000 - tn: 176458.0000 - fn: 35.0000 - accuracy: 0.9695 - precision: 0.0446 - recall: 0.8805 - auc: 0.9681 - val_loss: 0.0744 - val_tp: 71.0000 - val_fp: 787.0000 - val_tn: 44699.0000 - val_fn: 12.0000 - val_accuracy: 0.9825 - val_precision: 0.0828 - val_recall: 0.8554 - val_auc: 0.9774\n",
      "Epoch 25/100\n",
      "90/90 [==============================] - 0s 5ms/step - loss: 0.2008 - tp: 262.0000 - fp: 5698.0000 - tn: 176285.0000 - fn: 31.0000 - accuracy: 0.9686 - precision: 0.0440 - recall: 0.8942 - auc: 0.9714 - val_loss: 0.0710 - val_tp: 71.0000 - val_fp: 754.0000 - val_tn: 44732.0000 - val_fn: 12.0000 - val_accuracy: 0.9832 - val_precision: 0.0861 - val_recall: 0.8554 - val_auc: 0.9776\n",
      "Epoch 26/100\n",
      "90/90 [==============================] - 0s 5ms/step - loss: 0.1972 - tp: 262.0000 - fp: 5392.0000 - tn: 176591.0000 - fn: 31.0000 - accuracy: 0.9702 - precision: 0.0463 - recall: 0.8942 - auc: 0.9741 - val_loss: 0.0708 - val_tp: 71.0000 - val_fp: 737.0000 - val_tn: 44749.0000 - val_fn: 12.0000 - val_accuracy: 0.9836 - val_precision: 0.0879 - val_recall: 0.8554 - val_auc: 0.9783\n",
      "Epoch 27/100\n",
      "90/90 [==============================] - 0s 5ms/step - loss: 0.1987 - tp: 263.0000 - fp: 5235.0000 - tn: 176748.0000 - fn: 30.0000 - accuracy: 0.9711 - precision: 0.0478 - recall: 0.8976 - auc: 0.9698 - val_loss: 0.0693 - val_tp: 71.0000 - val_fp: 724.0000 - val_tn: 44762.0000 - val_fn: 12.0000 - val_accuracy: 0.9838 - val_precision: 0.0893 - val_recall: 0.8554 - val_auc: 0.9787\n",
      "Epoch 28/100\n",
      "90/90 [==============================] - 0s 5ms/step - loss: 0.1983 - tp: 255.0000 - fp: 5570.0000 - tn: 176413.0000 - fn: 38.0000 - accuracy: 0.9692 - precision: 0.0438 - recall: 0.8703 - auc: 0.9766 - val_loss: 0.0743 - val_tp: 71.0000 - val_fp: 765.0000 - val_tn: 44721.0000 - val_fn: 12.0000 - val_accuracy: 0.9829 - val_precision: 0.0849 - val_recall: 0.8554 - val_auc: 0.9788\n",
      "Epoch 29/100\n",
      "90/90 [==============================] - 0s 5ms/step - loss: 0.1884 - tp: 263.0000 - fp: 5482.0000 - tn: 176501.0000 - fn: 30.0000 - accuracy: 0.9698 - precision: 0.0458 - recall: 0.8976 - auc: 0.9758 - val_loss: 0.0748 - val_tp: 71.0000 - val_fp: 761.0000 - val_tn: 44725.0000 - val_fn: 12.0000 - val_accuracy: 0.9830 - val_precision: 0.0853 - val_recall: 0.8554 - val_auc: 0.9794\n",
      "Epoch 30/100\n",
      "90/90 [==============================] - 0s 5ms/step - loss: 0.1943 - tp: 262.0000 - fp: 5402.0000 - tn: 176581.0000 - fn: 31.0000 - accuracy: 0.9702 - precision: 0.0463 - recall: 0.8942 - auc: 0.9729 - val_loss: 0.0708 - val_tp: 71.0000 - val_fp: 723.0000 - val_tn: 44763.0000 - val_fn: 12.0000 - val_accuracy: 0.9839 - val_precision: 0.0894 - val_recall: 0.8554 - val_auc: 0.9797\n",
      "Epoch 31/100\n",
      "90/90 [==============================] - 0s 5ms/step - loss: 0.1769 - tp: 261.0000 - fp: 5089.0000 - tn: 176894.0000 - fn: 32.0000 - accuracy: 0.9719 - precision: 0.0488 - recall: 0.8908 - auc: 0.9795 - val_loss: 0.0730 - val_tp: 71.0000 - val_fp: 753.0000 - val_tn: 44733.0000 - val_fn: 12.0000 - val_accuracy: 0.9832 - val_precision: 0.0862 - val_recall: 0.8554 - val_auc: 0.9798\n",
      "Epoch 32/100\n",
      "90/90 [==============================] - 0s 5ms/step - loss: 0.1751 - tp: 265.0000 - fp: 5328.0000 - tn: 176655.0000 - fn: 28.0000 - accuracy: 0.9706 - precision: 0.0474 - recall: 0.9044 - auc: 0.9798 - val_loss: 0.0707 - val_tp: 71.0000 - val_fp: 712.0000 - val_tn: 44774.0000 - val_fn: 12.0000 - val_accuracy: 0.9841 - val_precision: 0.0907 - val_recall: 0.8554 - val_auc: 0.9802\n",
      "Epoch 33/100\n",
      "90/90 [==============================] - 0s 4ms/step - loss: 0.1845 - tp: 267.0000 - fp: 5124.0000 - tn: 176859.0000 - fn: 26.0000 - accuracy: 0.9717 - precision: 0.0495 - recall: 0.9113 - auc: 0.9729 - val_loss: 0.0655 - val_tp: 71.0000 - val_fp: 650.0000 - val_tn: 44836.0000 - val_fn: 12.0000 - val_accuracy: 0.9855 - val_precision: 0.0985 - val_recall: 0.8554 - val_auc: 0.9807\n",
      "Epoch 34/100\n",
      "90/90 [==============================] - 0s 4ms/step - loss: 0.1723 - tp: 266.0000 - fp: 5072.0000 - tn: 176911.0000 - fn: 27.0000 - accuracy: 0.9720 - precision: 0.0498 - recall: 0.9078 - auc: 0.9805 - val_loss: 0.0667 - val_tp: 71.0000 - val_fp: 655.0000 - val_tn: 44831.0000 - val_fn: 12.0000 - val_accuracy: 0.9854 - val_precision: 0.0978 - val_recall: 0.8554 - val_auc: 0.9810\n",
      "Epoch 35/100\n",
      "90/90 [==============================] - 0s 4ms/step - loss: 0.1856 - tp: 263.0000 - fp: 4877.0000 - tn: 177106.0000 - fn: 30.0000 - accuracy: 0.9731 - precision: 0.0512 - recall: 0.8976 - auc: 0.9767 - val_loss: 0.0643 - val_tp: 70.0000 - val_fp: 620.0000 - val_tn: 44866.0000 - val_fn: 13.0000 - val_accuracy: 0.9861 - val_precision: 0.1014 - val_recall: 0.8434 - val_auc: 0.9812\n",
      "Epoch 36/100\n",
      "90/90 [==============================] - 2s 22ms/step - loss: 0.1736 - tp: 265.0000 - fp: 5092.0000 - tn: 176891.0000 - fn: 28.0000 - accuracy: 0.9719 - precision: 0.0495 - recall: 0.9044 - auc: 0.9804 - val_loss: 0.0657 - val_tp: 71.0000 - val_fp: 616.0000 - val_tn: 44870.0000 - val_fn: 12.0000 - val_accuracy: 0.9862 - val_precision: 0.1033 - val_recall: 0.8554 - val_auc: 0.9815\n",
      "Epoch 37/100\n",
      "90/90 [==============================] - 1s 6ms/step - loss: 0.1800 - tp: 262.0000 - fp: 5002.0000 - tn: 176981.0000 - fn: 31.0000 - accuracy: 0.9724 - precision: 0.0498 - recall: 0.8942 - auc: 0.9795 - val_loss: 0.0663 - val_tp: 72.0000 - val_fp: 618.0000 - val_tn: 44868.0000 - val_fn: 11.0000 - val_accuracy: 0.9862 - val_precision: 0.1043 - val_recall: 0.8675 - val_auc: 0.9818\n",
      "Epoch 38/100\n",
      "90/90 [==============================] - 0s 5ms/step - loss: 0.1580 - tp: 267.0000 - fp: 4867.0000 - tn: 177116.0000 - fn: 26.0000 - accuracy: 0.9732 - precision: 0.0520 - recall: 0.9113 - auc: 0.9804 - val_loss: 0.0646 - val_tp: 71.0000 - val_fp: 600.0000 - val_tn: 44886.0000 - val_fn: 12.0000 - val_accuracy: 0.9866 - val_precision: 0.1058 - val_recall: 0.8554 - val_auc: 0.9821\n",
      "Epoch 39/100\n",
      "90/90 [==============================] - 0s 5ms/step - loss: 0.2108 - tp: 266.0000 - fp: 4805.0000 - tn: 177178.0000 - fn: 27.0000 - accuracy: 0.9735 - precision: 0.0525 - recall: 0.9078 - auc: 0.9649 - val_loss: 0.0632 - val_tp: 70.0000 - val_fp: 578.0000 - val_tn: 44908.0000 - val_fn: 13.0000 - val_accuracy: 0.9870 - val_precision: 0.1080 - val_recall: 0.8434 - val_auc: 0.9823\n",
      "Epoch 40/100\n",
      "90/90 [==============================] - 0s 5ms/step - loss: 0.1677 - tp: 267.0000 - fp: 4736.0000 - tn: 177247.0000 - fn: 26.0000 - accuracy: 0.9739 - precision: 0.0534 - recall: 0.9113 - auc: 0.9801 - val_loss: 0.0625 - val_tp: 70.0000 - val_fp: 572.0000 - val_tn: 44914.0000 - val_fn: 13.0000 - val_accuracy: 0.9872 - val_precision: 0.1090 - val_recall: 0.8434 - val_auc: 0.9823\n",
      "Epoch 41/100\n",
      "90/90 [==============================] - 0s 5ms/step - loss: 0.1582 - tp: 269.0000 - fp: 4767.0000 - tn: 177216.0000 - fn: 24.0000 - accuracy: 0.9737 - precision: 0.0534 - recall: 0.9181 - auc: 0.9810 - val_loss: 0.0631 - val_tp: 70.0000 - val_fp: 584.0000 - val_tn: 44902.0000 - val_fn: 13.0000 - val_accuracy: 0.9869 - val_precision: 0.1070 - val_recall: 0.8434 - val_auc: 0.9824\n",
      "Epoch 42/100\n",
      "90/90 [==============================] - 0s 5ms/step - loss: 0.1537 - tp: 266.0000 - fp: 4802.0000 - tn: 177181.0000 - fn: 27.0000 - accuracy: 0.9735 - precision: 0.0525 - recall: 0.9078 - auc: 0.9834 - val_loss: 0.0605 - val_tp: 70.0000 - val_fp: 539.0000 - val_tn: 44947.0000 - val_fn: 13.0000 - val_accuracy: 0.9879 - val_precision: 0.1149 - val_recall: 0.8434 - val_auc: 0.9828\n",
      "Epoch 43/100\n",
      "90/90 [==============================] - 0s 5ms/step - loss: 0.1668 - tp: 262.0000 - fp: 4572.0000 - tn: 177411.0000 - fn: 31.0000 - accuracy: 0.9747 - precision: 0.0542 - recall: 0.8942 - auc: 0.9818 - val_loss: 0.0638 - val_tp: 70.0000 - val_fp: 600.0000 - val_tn: 44886.0000 - val_fn: 13.0000 - val_accuracy: 0.9865 - val_precision: 0.1045 - val_recall: 0.8434 - val_auc: 0.9829\n",
      "Epoch 44/100\n",
      "90/90 [==============================] - 0s 5ms/step - loss: 0.1575 - tp: 265.0000 - fp: 4998.0000 - tn: 176985.0000 - fn: 28.0000 - accuracy: 0.9724 - precision: 0.0504 - recall: 0.9044 - auc: 0.9834 - val_loss: 0.0646 - val_tp: 70.0000 - val_fp: 598.0000 - val_tn: 44888.0000 - val_fn: 13.0000 - val_accuracy: 0.9866 - val_precision: 0.1048 - val_recall: 0.8434 - val_auc: 0.9828\n",
      "Epoch 45/100\n",
      "90/90 [==============================] - 0s 5ms/step - loss: 0.1703 - tp: 266.0000 - fp: 5018.0000 - tn: 176965.0000 - fn: 27.0000 - accuracy: 0.9723 - precision: 0.0503 - recall: 0.9078 - auc: 0.9799 - val_loss: 0.0661 - val_tp: 71.0000 - val_fp: 613.0000 - val_tn: 44873.0000 - val_fn: 12.0000 - val_accuracy: 0.9863 - val_precision: 0.1038 - val_recall: 0.8554 - val_auc: 0.9829\n",
      "Epoch 46/100\n",
      "90/90 [==============================] - 0s 5ms/step - loss: 0.1627 - tp: 262.0000 - fp: 5092.0000 - tn: 176891.0000 - fn: 31.0000 - accuracy: 0.9719 - precision: 0.0489 - recall: 0.8942 - auc: 0.9831 - val_loss: 0.0680 - val_tp: 71.0000 - val_fp: 636.0000 - val_tn: 44850.0000 - val_fn: 12.0000 - val_accuracy: 0.9858 - val_precision: 0.1004 - val_recall: 0.8554 - val_auc: 0.9831\n",
      "Epoch 47/100\n",
      "90/90 [==============================] - 0s 5ms/step - loss: 0.1741 - tp: 265.0000 - fp: 5151.0000 - tn: 176832.0000 - fn: 28.0000 - accuracy: 0.9716 - precision: 0.0489 - recall: 0.9044 - auc: 0.9774 - val_loss: 0.0660 - val_tp: 71.0000 - val_fp: 614.0000 - val_tn: 44872.0000 - val_fn: 12.0000 - val_accuracy: 0.9863 - val_precision: 0.1036 - val_recall: 0.8554 - val_auc: 0.9830\n",
      "Epoch 48/100\n",
      "90/90 [==============================] - 0s 5ms/step - loss: 0.1656 - tp: 264.0000 - fp: 5027.0000 - tn: 176956.0000 - fn: 29.0000 - accuracy: 0.9723 - precision: 0.0499 - recall: 0.9010 - auc: 0.9797 - val_loss: 0.0617 - val_tp: 70.0000 - val_fp: 565.0000 - val_tn: 44921.0000 - val_fn: 13.0000 - val_accuracy: 0.9873 - val_precision: 0.1102 - val_recall: 0.8434 - val_auc: 0.9833\n",
      "Epoch 49/100\n",
      "90/90 [==============================] - 0s 5ms/step - loss: 0.2002 - tp: 263.0000 - fp: 4852.0000 - tn: 177131.0000 - fn: 30.0000 - accuracy: 0.9732 - precision: 0.0514 - recall: 0.8976 - auc: 0.9682 - val_loss: 0.0610 - val_tp: 70.0000 - val_fp: 546.0000 - val_tn: 44940.0000 - val_fn: 13.0000 - val_accuracy: 0.9877 - val_precision: 0.1136 - val_recall: 0.8434 - val_auc: 0.9834\n",
      "Epoch 50/100\n",
      "90/90 [==============================] - 0s 5ms/step - loss: 0.1549 - tp: 264.0000 - fp: 4562.0000 - tn: 177421.0000 - fn: 29.0000 - accuracy: 0.9748 - precision: 0.0547 - recall: 0.9010 - auc: 0.9810 - val_loss: 0.0579 - val_tp: 70.0000 - val_fp: 509.0000 - val_tn: 44977.0000 - val_fn: 13.0000 - val_accuracy: 0.9885 - val_precision: 0.1209 - val_recall: 0.8434 - val_auc: 0.9835\n",
      "Epoch 51/100\n",
      "90/90 [==============================] - 0s 5ms/step - loss: 0.1714 - tp: 263.0000 - fp: 4722.0000 - tn: 177261.0000 - fn: 30.0000 - accuracy: 0.9739 - precision: 0.0528 - recall: 0.8976 - auc: 0.9784 - val_loss: 0.0596 - val_tp: 70.0000 - val_fp: 527.0000 - val_tn: 44959.0000 - val_fn: 13.0000 - val_accuracy: 0.9881 - val_precision: 0.1173 - val_recall: 0.8434 - val_auc: 0.9834\n",
      "Epoch 52/100\n",
      "90/90 [==============================] - 0s 5ms/step - loss: 0.1636 - tp: 263.0000 - fp: 4662.0000 - tn: 177321.0000 - fn: 30.0000 - accuracy: 0.9743 - precision: 0.0534 - recall: 0.8976 - auc: 0.9823 - val_loss: 0.0602 - val_tp: 70.0000 - val_fp: 533.0000 - val_tn: 44953.0000 - val_fn: 13.0000 - val_accuracy: 0.9880 - val_precision: 0.1161 - val_recall: 0.8434 - val_auc: 0.9835\n",
      "Epoch 53/100\n",
      "90/90 [==============================] - 0s 5ms/step - loss: 0.1834 - tp: 263.0000 - fp: 4768.0000 - tn: 177215.0000 - fn: 30.0000 - accuracy: 0.9737 - precision: 0.0523 - recall: 0.8976 - auc: 0.9771 - val_loss: 0.0627 - val_tp: 70.0000 - val_fp: 571.0000 - val_tn: 44915.0000 - val_fn: 13.0000 - val_accuracy: 0.9872 - val_precision: 0.1092 - val_recall: 0.8434 - val_auc: 0.9834\n",
      "Epoch 54/100\n",
      "90/90 [==============================] - 0s 5ms/step - loss: 0.1213 - tp: 273.0000 - fp: 4779.0000 - tn: 177204.0000 - fn: 20.0000 - accuracy: 0.9737 - precision: 0.0540 - recall: 0.9317 - auc: 0.9897 - val_loss: 0.0601 - val_tp: 70.0000 - val_fp: 537.0000 - val_tn: 44949.0000 - val_fn: 13.0000 - val_accuracy: 0.9879 - val_precision: 0.1153 - val_recall: 0.8434 - val_auc: 0.9832\n",
      "Epoch 55/100\n",
      "90/90 [==============================] - 0s 5ms/step - loss: 0.1599 - tp: 266.0000 - fp: 4762.0000 - tn: 177221.0000 - fn: 27.0000 - accuracy: 0.9737 - precision: 0.0529 - recall: 0.9078 - auc: 0.9836 - val_loss: 0.0612 - val_tp: 70.0000 - val_fp: 559.0000 - val_tn: 44927.0000 - val_fn: 13.0000 - val_accuracy: 0.9874 - val_precision: 0.1113 - val_recall: 0.8434 - val_auc: 0.9834\n",
      "Epoch 56/100\n",
      "90/90 [==============================] - 0s 5ms/step - loss: 0.1391 - tp: 268.0000 - fp: 4918.0000 - tn: 177065.0000 - fn: 25.0000 - accuracy: 0.9729 - precision: 0.0517 - recall: 0.9147 - auc: 0.9863 - val_loss: 0.0621 - val_tp: 70.0000 - val_fp: 582.0000 - val_tn: 44904.0000 - val_fn: 13.0000 - val_accuracy: 0.9869 - val_precision: 0.1074 - val_recall: 0.8434 - val_auc: 0.9832\n",
      "Epoch 57/100\n",
      "90/90 [==============================] - 0s 5ms/step - loss: 0.1454 - tp: 268.0000 - fp: 4685.0000 - tn: 177298.0000 - fn: 25.0000 - accuracy: 0.9742 - precision: 0.0541 - recall: 0.9147 - auc: 0.9856 - val_loss: 0.0611 - val_tp: 70.0000 - val_fp: 565.0000 - val_tn: 44921.0000 - val_fn: 13.0000 - val_accuracy: 0.9873 - val_precision: 0.1102 - val_recall: 0.8434 - val_auc: 0.9832\n",
      "Epoch 58/100\n",
      "90/90 [==============================] - 0s 5ms/step - loss: 0.1239 - tp: 266.0000 - fp: 4884.0000 - tn: 177099.0000 - fn: 27.0000 - accuracy: 0.9731 - precision: 0.0517 - recall: 0.9078 - auc: 0.9905 - val_loss: 0.0619 - val_tp: 70.0000 - val_fp: 573.0000 - val_tn: 44913.0000 - val_fn: 13.0000 - val_accuracy: 0.9871 - val_precision: 0.1089 - val_recall: 0.8434 - val_auc: 0.9831\n",
      "Epoch 59/100\n",
      "90/90 [==============================] - 0s 5ms/step - loss: 0.1587 - tp: 265.0000 - fp: 4749.0000 - tn: 177234.0000 - fn: 28.0000 - accuracy: 0.9738 - precision: 0.0529 - recall: 0.9044 - auc: 0.9831 - val_loss: 0.0618 - val_tp: 70.0000 - val_fp: 574.0000 - val_tn: 44912.0000 - val_fn: 13.0000 - val_accuracy: 0.9871 - val_precision: 0.1087 - val_recall: 0.8434 - val_auc: 0.9828\n",
      "Epoch 60/100\n",
      "90/90 [==============================] - 0s 5ms/step - loss: 0.1757 - tp: 265.0000 - fp: 4912.0000 - tn: 177071.0000 - fn: 28.0000 - accuracy: 0.9729 - precision: 0.0512 - recall: 0.9044 - auc: 0.9800 - val_loss: 0.0605 - val_tp: 70.0000 - val_fp: 556.0000 - val_tn: 44930.0000 - val_fn: 13.0000 - val_accuracy: 0.9875 - val_precision: 0.1118 - val_recall: 0.8434 - val_auc: 0.9833\n",
      "Epoch 61/100\n",
      "90/90 [==============================] - 0s 5ms/step - loss: 0.1250 - tp: 272.0000 - fp: 4756.0000 - tn: 177227.0000 - fn: 21.0000 - accuracy: 0.9738 - precision: 0.0541 - recall: 0.9283 - auc: 0.9890 - val_loss: 0.0565 - val_tp: 69.0000 - val_fp: 508.0000 - val_tn: 44978.0000 - val_fn: 14.0000 - val_accuracy: 0.9885 - val_precision: 0.1196 - val_recall: 0.8313 - val_auc: 0.9833\n",
      "Epoch 62/100\n",
      "79/90 [=========================>....] - ETA: 0s - loss: 0.1519 - tp: 241.0000 - fp: 4193.0000 - tn: 157335.0000 - fn: 23.0000 - accuracy: 0.9739 - precision: 0.0544 - recall: 0.9129 - auc: 0.9859Restoring model weights from the end of the best epoch.\n",
      "90/90 [==============================] - 0s 5ms/step - loss: 0.1422 - tp: 269.0000 - fp: 4727.0000 - tn: 177256.0000 - fn: 24.0000 - accuracy: 0.9739 - precision: 0.0538 - recall: 0.9181 - auc: 0.9870 - val_loss: 0.0596 - val_tp: 69.0000 - val_fp: 545.0000 - val_tn: 44941.0000 - val_fn: 14.0000 - val_accuracy: 0.9877 - val_precision: 0.1124 - val_recall: 0.8313 - val_auc: 0.9831\n",
      "Epoch 00062: early stopping\n"
     ]
    }
   ],
   "source": [
    "weighted_model = make_model()\n",
    "weighted_model.load_weights(initial_weights)\n",
    "\n",
    "weighted_history = weighted_model.fit(\n",
    "    train_features,\n",
    "    train_labels,\n",
    "    batch_size=BATCH_SIZE,\n",
    "    epochs=EPOCHS,\n",
    "    callbacks=[early_stopping],\n",
    "    validation_data=(val_features, val_labels),\n",
    "    # The class weights go here\n",
    "    class_weight=class_weight) "
   ]
  },
  {
   "cell_type": "markdown",
   "metadata": {
    "id": "R0ynYRO0G3Lx"
   },
   "source": [
    "### 학습 이력 조회"
   ]
  },
  {
   "cell_type": "code",
   "execution_count": 56,
   "metadata": {
    "id": "BBe9FMO5ucTC"
   },
   "outputs": [
    {
     "data": {
      "image/png": "[encoded data removed]",
      "text/plain": [
       "<Figure size 864x720 with 4 Axes>"
      ]
     },
     "metadata": {
      "needs_background": "light"
     },
     "output_type": "display_data"
    }
   ],
   "source": [
    "plot_metrics(weighted_history)"
   ]
  },
  {
   "cell_type": "markdown",
   "metadata": {
    "id": "REy6WClTZIwQ"
   },
   "source": [
    "### 매트릭 평가"
   ]
  },
  {
   "cell_type": "code",
   "execution_count": 57,
   "metadata": {
    "id": "nifqscPGw-5w"
   },
   "outputs": [],
   "source": [
    "train_predictions_weighted = weighted_model.predict(train_features, batch_size=BATCH_SIZE)\n",
    "test_predictions_weighted = weighted_model.predict(test_features, batch_size=BATCH_SIZE)"
   ]
  },
  {
   "cell_type": "code",
   "execution_count": 58,
   "metadata": {
    "id": "owKL2vdMBJr6"
   },
   "outputs": [
    {
     "name": "stdout",
     "output_type": "stream",
     "text": [
      "loss :  0.05782008543610573\n",
      "tp :  104.0\n",
      "fp :  657.0\n",
      "tn :  56189.0\n",
      "fn :  12.0\n",
      "accuracy :  0.9882553219795227\n",
      "precision :  0.1366622895002365\n",
      "recall :  0.8965517282485962\n",
      "auc :  0.988943338394165\n",
      "\n",
      "Legitimate Transactions Detected (True Negatives):  56189\n",
      "Legitimate Transactions Incorrectly Detected (False Positives):  657\n",
      "Fraudulent Transactions Missed (False Negatives):  12\n",
      "Fraudulent Transactions Detected (True Positives):  104\n",
      "Total Fraudulent Transactions:  116\n"
     ]
    },
    {
     "data": {
      "image/png": "[encoded data removed]",
      "text/plain": [
       "<Figure size 360x360 with 2 Axes>"
      ]
     },
     "metadata": {
      "needs_background": "light"
     },
     "output_type": "display_data"
    }
   ],
   "source": [
    "weighted_results = weighted_model.evaluate(test_features, test_labels,\n",
    "                                           batch_size=BATCH_SIZE, verbose=0)\n",
    "for name, value in zip(weighted_model.metrics_names, weighted_results):\n",
    "    print(name, ': ', value)\n",
    "print()\n",
    "\n",
    "plot_cm(test_labels, test_predictions_weighted)"
   ]
  },
  {
   "cell_type": "markdown",
   "metadata": {
    "id": "PTh1rtDn8r4-"
   },
   "source": [
    "여기서 클래스 가중치를 사용하면 거짓 긍정이 더 많기 때문에 정확도와 정밀도가 낮다는 것을 알 수 있지만, 반대로 리콜과 AUC는 참 긍정이 더 많은 모델입니다. 정확도가 낮음에도 불구하고 이 모델은 리콜이 더 높습니다.(그리고 더 많은 부정 거래를 식별한다.) 물론 두 가지 유형의 오류에는 모두 비용이 발생합니다.(너무 많은 합법적인 거래를 사기로 표시하여 사용자를 괴롭히는 것을 원하지 않을 것입니다.) 응용 프로그램에 대하여 이러한 다양한 유형의 오류 간의 절충을 신중하게 고려하십시오."
   ]
  },
  {
   "cell_type": "markdown",
   "metadata": {
    "id": "hXDAwyr0HYdX"
   },
   "source": [
    "### ROC 플로팅"
   ]
  },
  {
   "cell_type": "code",
   "execution_count": 59,
   "metadata": {
    "id": "3hzScIVZS1Xm"
   },
   "outputs": [
    {
     "data": {
      "text/plain": [
       "<matplotlib.legend.Legend at 0x7fd004407668>"
      ]
     },
     "execution_count": 59,
     "metadata": {},
     "output_type": "execute_result"
    },
    {
     "data": {
      "image/png": "[encoded data removed]",
      "text/plain": [
       "<Figure size 864x720 with 1 Axes>"
      ]
     },
     "metadata": {
      "needs_background": "light"
     },
     "output_type": "display_data"
    }
   ],
   "source": [
    "plot_roc(\"Train Baseline\", train_labels, train_predictions_baseline, color=colors[0])\n",
    "plot_roc(\"Test Baseline\", test_labels, test_predictions_baseline, color=colors[0], linestyle='--')\n",
    "\n",
    "plot_roc(\"Train Weighted\", train_labels, train_predictions_weighted, color=colors[1])\n",
    "plot_roc(\"Test Weighted\", test_labels, test_predictions_weighted, color=colors[1], linestyle='--')\n",
    "\n",
    "\n",
    "plt.legend(loc='lower right')"
   ]
  },
  {
   "cell_type": "markdown",
   "metadata": {
    "id": "5ysRtr6xHnXP"
   },
   "source": [
    "## 오버샘플링"
   ]
  },
  {
   "cell_type": "markdown",
   "metadata": {
    "id": "18VUHNc-UF5w"
   },
   "source": [
    "### 소수 계급 과대 표본\n",
    "\n",
    "관련된 접근 방식은 소수 클래스를 오버 샘플링 하여 데이터 세트를 리 샘플링 하는 것입니다."
   ]
  },
  {
   "cell_type": "code",
   "execution_count": 38,
   "metadata": {
    "execution": {
     "iopub.execute_input": "2021-01-15T03:07:07.438983Z",
     "iopub.status.busy": "2021-01-15T03:07:07.438288Z",
     "iopub.status.idle": "2021-01-15T03:07:07.458952Z",
     "shell.execute_reply": "2021-01-15T03:07:07.458291Z"
    },
    "id": "sHirNp6u7OWp"
   },
   "outputs": [],
   "source": [
    "pos_features = train_features[bool_train_labels]\n",
    "neg_features = train_features[~bool_train_labels]\n",
    "\n",
    "pos_labels = train_labels[bool_train_labels]\n",
    "neg_labels = train_labels[~bool_train_labels]"
   ]
  },
  {
   "cell_type": "markdown",
   "metadata": {
    "id": "WgBVbX7P7QrL"
   },
   "source": [
    "#### NumPy 사용\n",
    "\n",
    "긍정적인 예에서 적절한 수의 임의 인덱스를 선택하여 데이터 세트의 균형을 \n",
    "수동으로 조정할 수 있습니다.:"
   ]
  },
  {
   "cell_type": "code",
   "execution_count": 39,
   "metadata": {
    "execution": {
     "iopub.execute_input": "2021-01-15T03:07:07.464231Z",
     "iopub.status.busy": "2021-01-15T03:07:07.463563Z",
     "iopub.status.idle": "2021-01-15T03:07:07.482849Z",
     "shell.execute_reply": "2021-01-15T03:07:07.482201Z"
    },
    "id": "BUzGjSkwqT88"
   },
   "outputs": [
    {
     "data": {
      "text/plain": [
       "(181946, 29)"
      ]
     },
     "execution_count": 1,
     "metadata": {},
     "output_type": "execute_result"
    }
   ],
   "source": [
    "ids = np.arange(len(pos_features))\n",
    "choices = np.random.choice(ids, len(neg_features))\n",
    "\n",
    "res_pos_features = pos_features[choices]\n",
    "res_pos_labels = pos_labels[choices]\n",
    "\n",
    "res_pos_features.shape"
   ]
  },
  {
   "cell_type": "code",
   "execution_count": 40,
   "metadata": {
    "execution": {
     "iopub.execute_input": "2021-01-15T03:07:07.487900Z",
     "iopub.status.busy": "2021-01-15T03:07:07.487218Z",
     "iopub.status.idle": "2021-01-15T03:07:07.580710Z",
     "shell.execute_reply": "2021-01-15T03:07:07.580199Z"
    },
    "id": "7ie_FFet6cep"
   },
   "outputs": [
    {
     "data": {
      "text/plain": [
       "(363892, 29)"
      ]
     },
     "execution_count": 1,
     "metadata": {},
     "output_type": "execute_result"
    }
   ],
   "source": [
    "resampled_features = np.concatenate([res_pos_features, neg_features], axis=0)\n",
    "resampled_labels = np.concatenate([res_pos_labels, neg_labels], axis=0)\n",
    "\n",
    "order = np.arange(len(resampled_labels))\n",
    "np.random.shuffle(order)\n",
    "resampled_features = resampled_features[order]\n",
    "resampled_labels = resampled_labels[order]\n",
    "\n",
    "resampled_features.shape"
   ]
  },
  {
   "cell_type": "markdown",
   "metadata": {
    "id": "IYfJe2Kc-FAz"
   },
   "source": [
    "#### `tf.data` 사용"
   ]
  },
  {
   "cell_type": "markdown",
   "metadata": {
    "id": "usyixaST8v5P"
   },
   "source": [
    "`tf.data` 사용하는 경우 균형 잡힌 예제를 생성하는 가장 쉬운 방법은 `positive` 그리고 `negative` 데이터 세트로 시작하여 병합하는 것입니다. 더 많은 예는 [tf.data guide](../../guide/data.ipynb) 를 참조하세요."
   ]
  },
  {
   "cell_type": "code",
   "execution_count": 41,
   "metadata": {
    "execution": {
     "iopub.execute_input": "2021-01-15T03:07:07.586595Z",
     "iopub.status.busy": "2021-01-15T03:07:07.585879Z",
     "iopub.status.idle": "2021-01-15T03:07:07.624069Z",
     "shell.execute_reply": "2021-01-15T03:07:07.624503Z"
    },
    "id": "yF4OZ-rI6xb6"
   },
   "outputs": [],
   "source": [
    "BUFFER_SIZE = 100000\n",
    "\n",
    "def make_ds(features, labels):\n",
    "  ds = tf.data.Dataset.from_tensor_slices((features, labels))#.cache()\n",
    "  ds = ds.shuffle(BUFFER_SIZE).repeat()\n",
    "  return ds\n",
    "\n",
    "pos_ds = make_ds(pos_features, pos_labels)\n",
    "neg_ds = make_ds(neg_features, neg_labels)"
   ]
  },
  {
   "cell_type": "markdown",
   "metadata": {
    "id": "RNQUx-OA-oJc"
   },
   "source": [
    "각 데이터 세트는 `(feature, label)` 쌍을 제공합니다.:"
   ]
  },
  {
   "cell_type": "code",
   "execution_count": 42,
   "metadata": {
    "execution": {
     "iopub.execute_input": "2021-01-15T03:07:07.629382Z",
     "iopub.status.busy": "2021-01-15T03:07:07.628696Z",
     "iopub.status.idle": "2021-01-15T03:07:07.641339Z",
     "shell.execute_reply": "2021-01-15T03:07:07.640801Z"
    },
    "id": "llXc9rNH7Fbz"
   },
   "outputs": [
    {
     "name": "stdout",
     "output_type": "stream",
     "text": [
      "Features:\n",
      " [-1.71716559  1.47005786 -2.47738985  0.19498166 -1.69346885 -1.480288\n",
      " -2.50054314 -1.41973413  0.16941577 -4.57371112  3.57266458 -5.\n",
      " -1.09645923 -5.          1.56465042 -5.         -5.         -3.35739236\n",
      "  1.0754794  -0.04924097  2.86749363 -0.70728706 -0.40225951  0.21121368\n",
      "  0.19880498 -2.18727931 -3.03575199 -3.05769118  0.75924124]\n",
      "\n",
      "Label:  1\n"
     ]
    }
   ],
   "source": [
    "for features, label in pos_ds.take(1):\n",
    "  print(\"Features:\\n\", features.numpy())\n",
    "  print()\n",
    "  print(\"Label: \", label.numpy())"
   ]
  },
  {
   "cell_type": "markdown",
   "metadata": {
    "id": "sLEfjZO0-vbN"
   },
   "source": [
    "`experimental.sample_from_datasets` 를 사용하여 두 가지를 병합합니다.:"
   ]
  },
  {
   "cell_type": "code",
   "execution_count": 43,
   "metadata": {
    "execution": {
     "iopub.execute_input": "2021-01-15T03:07:07.645961Z",
     "iopub.status.busy": "2021-01-15T03:07:07.645304Z",
     "iopub.status.idle": "2021-01-15T03:07:07.656160Z",
     "shell.execute_reply": "2021-01-15T03:07:07.656577Z"
    },
    "id": "e7w9UQPT9wzE"
   },
   "outputs": [],
   "source": [
    "resampled_ds = tf.data.experimental.sample_from_datasets([pos_ds, neg_ds], weights=[0.5, 0.5])\n",
    "resampled_ds = resampled_ds.batch(BATCH_SIZE).prefetch(2)"
   ]
  },
  {
   "cell_type": "code",
   "execution_count": 44,
   "metadata": {
    "execution": {
     "iopub.execute_input": "2021-01-15T03:07:07.660695Z",
     "iopub.status.busy": "2021-01-15T03:07:07.660036Z",
     "iopub.status.idle": "2021-01-15T03:07:07.876326Z",
     "shell.execute_reply": "2021-01-15T03:07:07.876771Z"
    },
    "id": "EWXARdTdAuQK"
   },
   "outputs": [
    {
     "name": "stdout",
     "output_type": "stream",
     "text": [
      "0.48779296875\n"
     ]
    }
   ],
   "source": [
    "for features, label in resampled_ds.take(1):\n",
    "  print(label.numpy().mean())"
   ]
  },
  {
   "cell_type": "markdown",
   "metadata": {
    "id": "irgqf3YxAyN0"
   },
   "source": [
    "이 데이터 세트를 사용하려면 epoch 당 단계 수가 필요합니다.\n",
    "\n",
    "이 경우 \"epoch\" 의 정의는 명확하지 않습니다. 각 부정적인 예를 한번 볼 때 필요한 배치 수라고 가정합니다.:"
   ]
  },
  {
   "cell_type": "code",
   "execution_count": 45,
   "metadata": {
    "execution": {
     "iopub.execute_input": "2021-01-15T03:07:07.881388Z",
     "iopub.status.busy": "2021-01-15T03:07:07.880693Z",
     "iopub.status.idle": "2021-01-15T03:07:07.883446Z",
     "shell.execute_reply": "2021-01-15T03:07:07.883854Z"
    },
    "id": "xH-7K46AAxpq"
   },
   "outputs": [
    {
     "data": {
      "text/plain": [
       "278.0"
      ]
     },
     "execution_count": 1,
     "metadata": {},
     "output_type": "execute_result"
    }
   ],
   "source": [
    "resampled_steps_per_epoch = np.ceil(2.0*neg/BATCH_SIZE)\n",
    "resampled_steps_per_epoch"
   ]
  },
  {
   "cell_type": "markdown",
   "metadata": {
    "id": "XZ1BvEpcBVHP"
   },
   "source": [
    "### 오버 샘플링 된 데이터에 대한 학습\n",
    "\n",
    "이제 클래스 가중치를 사용하는 대신 리 샘플링 된 데이터 세트로 모델을 학습하여 이러한 방법이 어떻게 비교되는지 확인하십시오.\n",
    "\n",
    "참고: 긍정적인 예를 복제하여 데이터가 균형을 이루었기 때문에 총 데이터 세트 크기가 더 크고 각 세대가 더 많은 학습 단계를 위해 실행됩니다. "
   ]
  },
  {
   "cell_type": "code",
   "execution_count": 46,
   "metadata": {
    "execution": {
     "iopub.execute_input": "2021-01-15T03:07:07.892850Z",
     "iopub.status.busy": "2021-01-15T03:07:07.892215Z",
     "iopub.status.idle": "2021-01-15T03:08:56.567977Z",
     "shell.execute_reply": "2021-01-15T03:08:56.567423Z"
    },
    "id": "soRQ89JYqd6b"
   },
   "outputs": [
    {
     "name": "stdout",
     "output_type": "stream",
     "text": [
      "Epoch 1/100\n",
      "278/278 [==============================] - 9s 26ms/step - loss: 0.5210 - tp: 121561.5054 - fp: 41117.0430 - tn: 158732.2222 - fn: 22263.8889 - accuracy: 0.8122 - precision: 0.7057 - recall: 0.8153 - auc: 0.9032 - val_loss: 0.2060 - val_tp: 66.0000 - val_fp: 865.0000 - val_tn: 44629.0000 - val_fn: 9.0000 - val_accuracy: 0.9808 - val_precision: 0.0709 - val_recall: 0.8800 - val_auc: 0.9745\n",
      "Epoch 2/100\n",
      "278/278 [==============================] - 7s 24ms/step - loss: 0.1969 - tp: 130064.3047 - fp: 5756.9534 - tn: 137217.6487 - fn: 13673.7527 - accuracy: 0.9305 - precision: 0.9550 - recall: 0.9039 - auc: 0.9736 - val_loss: 0.1000 - val_tp: 66.0000 - val_fp: 703.0000 - val_tn: 44791.0000 - val_fn: 9.0000 - val_accuracy: 0.9844 - val_precision: 0.0858 - val_recall: 0.8800 - val_auc: 0.9791\n",
      "Epoch 3/100\n",
      "278/278 [==============================] - 7s 25ms/step - loss: 0.1445 - tp: 131797.2867 - fp: 4093.8889 - tn: 139202.3082 - fn: 11619.1756 - accuracy: 0.9443 - precision: 0.9697 - recall: 0.9173 - auc: 0.9864 - val_loss: 0.0740 - val_tp: 67.0000 - val_fp: 706.0000 - val_tn: 44788.0000 - val_fn: 8.0000 - val_accuracy: 0.9843 - val_precision: 0.0867 - val_recall: 0.8933 - val_auc: 0.9813\n",
      "Epoch 4/100\n",
      "278/278 [==============================] - 7s 26ms/step - loss: 0.1201 - tp: 133345.2688 - fp: 3828.1900 - tn: 139604.8889 - fn: 9934.3118 - accuracy: 0.9518 - precision: 0.9721 - recall: 0.9300 - auc: 0.9911 - val_loss: 0.0624 - val_tp: 67.0000 - val_fp: 687.0000 - val_tn: 44807.0000 - val_fn: 8.0000 - val_accuracy: 0.9847 - val_precision: 0.0889 - val_recall: 0.8933 - val_auc: 0.9815\n",
      "Epoch 5/100\n",
      "278/278 [==============================] - 7s 25ms/step - loss: 0.1074 - tp: 134843.6452 - fp: 3568.9821 - tn: 139417.5663 - fn: 8882.4659 - accuracy: 0.9563 - precision: 0.9741 - recall: 0.9377 - auc: 0.9933 - val_loss: 0.0561 - val_tp: 67.0000 - val_fp: 705.0000 - val_tn: 44789.0000 - val_fn: 8.0000 - val_accuracy: 0.9844 - val_precision: 0.0868 - val_recall: 0.8933 - val_auc: 0.9829\n",
      "Epoch 6/100\n",
      "278/278 [==============================] - 7s 24ms/step - loss: 0.0984 - tp: 135411.1613 - fp: 3495.1183 - tn: 139764.0753 - fn: 8042.3047 - accuracy: 0.9596 - precision: 0.9746 - recall: 0.9438 - auc: 0.9944 - val_loss: 0.0499 - val_tp: 67.0000 - val_fp: 660.0000 - val_tn: 44834.0000 - val_fn: 8.0000 - val_accuracy: 0.9853 - val_precision: 0.0922 - val_recall: 0.8933 - val_auc: 0.9831\n",
      "Epoch 7/100\n",
      "278/278 [==============================] - 7s 24ms/step - loss: 0.0917 - tp: 136129.1254 - fp: 3363.4695 - tn: 139901.5090 - fn: 7318.5556 - accuracy: 0.9624 - precision: 0.9758 - recall: 0.9485 - auc: 0.9952 - val_loss: 0.0457 - val_tp: 67.0000 - val_fp: 635.0000 - val_tn: 44859.0000 - val_fn: 8.0000 - val_accuracy: 0.9859 - val_precision: 0.0954 - val_recall: 0.8933 - val_auc: 0.9792\n",
      "Epoch 8/100\n",
      "278/278 [==============================] - 6s 23ms/step - loss: 0.0868 - tp: 136650.6022 - fp: 3340.2581 - tn: 139912.6738 - fn: 6809.1254 - accuracy: 0.9644 - precision: 0.9762 - recall: 0.9520 - auc: 0.9959 - val_loss: 0.0417 - val_tp: 68.0000 - val_fp: 602.0000 - val_tn: 44892.0000 - val_fn: 7.0000 - val_accuracy: 0.9866 - val_precision: 0.1015 - val_recall: 0.9067 - val_auc: 0.9799\n",
      "Epoch 9/100\n",
      "278/278 [==============================] - 7s 24ms/step - loss: 0.0819 - tp: 137372.2975 - fp: 3316.8996 - tn: 139692.0573 - fn: 6331.4050 - accuracy: 0.9662 - precision: 0.9764 - recall: 0.9557 - auc: 0.9964 - val_loss: 0.0394 - val_tp: 68.0000 - val_fp: 589.0000 - val_tn: 44905.0000 - val_fn: 7.0000 - val_accuracy: 0.9869 - val_precision: 0.1035 - val_recall: 0.9067 - val_auc: 0.9802\n",
      "Epoch 10/100\n",
      "278/278 [==============================] - 6s 23ms/step - loss: 0.0768 - tp: 137785.7240 - fp: 3303.0108 - tn: 139765.3907 - fn: 5858.5341 - accuracy: 0.9681 - precision: 0.9766 - recall: 0.9592 - auc: 0.9968 - val_loss: 0.0371 - val_tp: 68.0000 - val_fp: 575.0000 - val_tn: 44919.0000 - val_fn: 7.0000 - val_accuracy: 0.9872 - val_precision: 0.1058 - val_recall: 0.9067 - val_auc: 0.9805\n",
      "Epoch 11/100\n",
      "278/278 [==============================] - 6s 23ms/step - loss: 0.0742 - tp: 137693.1935 - fp: 3364.8495 - tn: 140214.9928 - fn: 5439.6237 - accuracy: 0.9692 - precision: 0.9762 - recall: 0.9618 - auc: 0.9970 - val_loss: 0.0351 - val_tp: 68.0000 - val_fp: 548.0000 - val_tn: 44946.0000 - val_fn: 7.0000 - val_accuracy: 0.9878 - val_precision: 0.1104 - val_recall: 0.9067 - val_auc: 0.9806\n",
      "Epoch 12/100\n",
      "278/278 [==============================] - 6s 23ms/step - loss: 0.0711 - tp: 138494.5376 - fp: 3374.0323 - tn: 139773.1541 - fn: 5070.9355 - accuracy: 0.9704 - precision: 0.9762 - recall: 0.9645 - auc: 0.9972 - val_loss: 0.0325 - val_tp: 68.0000 - val_fp: 508.0000 - val_tn: 44986.0000 - val_fn: 7.0000 - val_accuracy: 0.9887 - val_precision: 0.1181 - val_recall: 0.9067 - val_auc: 0.9808\n",
      "Epoch 13/100\n",
      "278/278 [==============================] - 6s 23ms/step - loss: 0.0679 - tp: 138309.3513 - fp: 3278.0323 - tn: 140222.7993 - fn: 4902.4767 - accuracy: 0.9714 - precision: 0.9768 - recall: 0.9655 - auc: 0.9974 - val_loss: 0.0311 - val_tp: 68.0000 - val_fp: 504.0000 - val_tn: 44990.0000 - val_fn: 7.0000 - val_accuracy: 0.9888 - val_precision: 0.1189 - val_recall: 0.9067 - val_auc: 0.9808\n",
      "Epoch 14/100\n",
      "278/278 [==============================] - 6s 23ms/step - loss: 0.0666 - tp: 138519.0502 - fp: 3255.0502 - tn: 140034.3369 - fn: 4904.2222 - accuracy: 0.9713 - precision: 0.9769 - recall: 0.9656 - auc: 0.9974 - val_loss: 0.0301 - val_tp: 67.0000 - val_fp: 490.0000 - val_tn: 45004.0000 - val_fn: 8.0000 - val_accuracy: 0.9891 - val_precision: 0.1203 - val_recall: 0.8933 - val_auc: 0.9808\n",
      "Epoch 15/100\n",
      "278/278 [==============================] - 6s 23ms/step - loss: 0.0633 - tp: 139042.3333 - fp: 3276.7455 - tn: 139769.9176 - fn: 4623.6631 - accuracy: 0.9723 - precision: 0.9769 - recall: 0.9676 - auc: 0.9977 - val_loss: 0.0284 - val_tp: 67.0000 - val_fp: 468.0000 - val_tn: 45026.0000 - val_fn: 8.0000 - val_accuracy: 0.9896 - val_precision: 0.1252 - val_recall: 0.8933 - val_auc: 0.9812\n",
      "Epoch 16/100\n",
      "278/278 [==============================] - 6s 23ms/step - loss: 0.0625 - tp: 139156.4480 - fp: 3319.3943 - tn: 139969.8244 - fn: 4266.9928 - accuracy: 0.9735 - precision: 0.9766 - recall: 0.9703 - auc: 0.9977 - val_loss: 0.0266 - val_tp: 67.0000 - val_fp: 455.0000 - val_tn: 45039.0000 - val_fn: 8.0000 - val_accuracy: 0.9898 - val_precision: 0.1284 - val_recall: 0.8933 - val_auc: 0.9751\n",
      "Restoring model weights from the end of the best epoch.\n",
      "Epoch 00016: early stopping\n"
     ]
    }
   ],
   "source": [
    "resampled_model = make_model()\n",
    "resampled_model.load_weights(initial_weights)\n",
    "\n",
    "# Reset the bias to zero, since this dataset is balanced.\n",
    "output_layer = resampled_model.layers[-1] \n",
    "output_layer.bias.assign([0])\n",
    "\n",
    "val_ds = tf.data.Dataset.from_tensor_slices((val_features, val_labels)).cache()\n",
    "val_ds = val_ds.batch(BATCH_SIZE).prefetch(2) \n",
    "\n",
    "resampled_history = resampled_model.fit(\n",
    "    resampled_ds,\n",
    "    epochs=EPOCHS,\n",
    "    steps_per_epoch=resampled_steps_per_epoch,\n",
    "    callbacks=[early_stopping],\n",
    "    validation_data=val_ds)"
   ]
  },
  {
   "cell_type": "markdown",
   "metadata": {
    "id": "avALvzUp3T_c"
   },
   "source": [
    "만약 훈련 프로세스가 각 기울기 업데이트에서 전체 데이터 세트를 고려하는 경우, 이 오버 샘플링은 기본적으로 클래스 가중치와 동일합니다. \n",
    "\n",
    "그러나 여기에서 한 것처럼 모델을 배치 방식으로 훈련 할 때 오버 샘플링 된 데이터는 더 부드러운 기울기 신호를 제공합니다. 각각의 긍정적인 예가 큰 가중치를 가진 하나의 배치로 표시되는 대신, 그것들은 작은 가중치로 매 회 많은 다른 배치로 보여집니다. \n",
    "\n",
    "이 부드러운 기울기 신호는 모델을 더 쉽게 훈련 할 수 있습니다."
   ]
  },
  {
   "cell_type": "markdown",
   "metadata": {
    "id": "klHZ0HV76VC5"
   },
   "source": [
    "### 교육 이력 확인\n",
    "\n",
    "학습 데이터의 분포가 검증 및 테스트 데이터와 완전히 다르기 때문에 여기서 측정 항목의 분포가 다를 수 있습니다. "
   ]
  },
  {
   "cell_type": "code",
   "execution_count": 47,
   "metadata": {
    "execution": {
     "iopub.execute_input": "2021-01-15T03:08:56.581986Z",
     "iopub.status.busy": "2021-01-15T03:08:56.581272Z",
     "iopub.status.idle": "2021-01-15T03:08:57.218812Z",
     "shell.execute_reply": "2021-01-15T03:08:57.219251Z"
    },
    "id": "YoUGfr1vuivl"
   },
   "outputs": [
    {
     "data": {
      "image/png": "[encoded data removed]",
      "text/plain": [
       "<Figure size 864x720 with 4 Axes>"
      ]
     },
     "metadata": {
      "needs_background": "light"
     },
     "output_type": "display_data"
    }
   ],
   "source": [
    "plot_metrics(resampled_history)"
   ]
  },
  {
   "cell_type": "markdown",
   "metadata": {
    "id": "1PuH3A2vnwrh"
   },
   "source": [
    "### 재교육\n"
   ]
  },
  {
   "cell_type": "markdown",
   "metadata": {
    "id": "KFLxRL8eoDE5"
   },
   "source": [
    "균형 잡힌 데이터에 대한 훈련이 더 쉽기 때문에 위의 훈련 절차가 빠르게 과적합 될 수 있습니다. \n",
    "\n",
    "따라서 epochs를 분리하여 `callbacks.EarlyStopping`을 제공하십시오. "
   ]
  },
  {
   "cell_type": "code",
   "execution_count": 48,
   "metadata": {
    "execution": {
     "iopub.execute_input": "2021-01-15T03:08:57.228112Z",
     "iopub.status.busy": "2021-01-15T03:08:57.227430Z",
     "iopub.status.idle": "2021-01-15T03:09:30.976252Z",
     "shell.execute_reply": "2021-01-15T03:09:30.975760Z"
    },
    "id": "e_yn9I26qAHU"
   },
   "outputs": [
    {
     "name": "stdout",
     "output_type": "stream",
     "text": [
      "Epoch 1/1000\n",
      "20/20 [==============================] - 3s 64ms/step - loss: 0.8553 - tp: 7544.1429 - fp: 5543.8095 - tn: 51153.8571 - fn: 3757.6667 - accuracy: 0.8716 - precision: 0.5583 - recall: 0.6545 - auc: 0.9162 - val_loss: 0.6783 - val_tp: 70.0000 - val_fp: 18281.0000 - val_tn: 27213.0000 - val_fn: 5.0000 - val_accuracy: 0.5987 - val_precision: 0.0038 - val_recall: 0.9333 - val_auc: 0.9343\n",
      "Epoch 2/1000\n",
      "20/20 [==============================] - 1s 29ms/step - loss: 0.5958 - tp: 8912.1905 - fp: 4871.4762 - tn: 6467.1905 - fn: 2179.6190 - accuracy: 0.6800 - precision: 0.6406 - recall: 0.7979 - auc: 0.8074 - val_loss: 0.6313 - val_tp: 71.0000 - val_fp: 15726.0000 - val_tn: 29768.0000 - val_fn: 4.0000 - val_accuracy: 0.6548 - val_precision: 0.0045 - val_recall: 0.9467 - val_auc: 0.9452\n",
      "Epoch 3/1000\n",
      "20/20 [==============================] - 1s 30ms/step - loss: 0.5067 - tp: 9444.6667 - fp: 4316.9524 - tn: 6978.1905 - fn: 1690.6667 - accuracy: 0.7280 - precision: 0.6817 - recall: 0.8441 - auc: 0.8618 - val_loss: 0.5710 - val_tp: 70.0000 - val_fp: 12275.0000 - val_tn: 33219.0000 - val_fn: 5.0000 - val_accuracy: 0.7305 - val_precision: 0.0057 - val_recall: 0.9333 - val_auc: 0.9505\n",
      "Epoch 4/1000\n",
      "20/20 [==============================] - 1s 29ms/step - loss: 0.4389 - tp: 9821.0000 - fp: 3629.6190 - tn: 7496.9048 - fn: 1482.9524 - accuracy: 0.7695 - precision: 0.7279 - recall: 0.8684 - auc: 0.8942 - val_loss: 0.5116 - val_tp: 69.0000 - val_fp: 8797.0000 - val_tn: 36697.0000 - val_fn: 6.0000 - val_accuracy: 0.8068 - val_precision: 0.0078 - val_recall: 0.9200 - val_auc: 0.9550\n",
      "Epoch 5/1000\n",
      "20/20 [==============================] - 1s 31ms/step - loss: 0.4016 - tp: 9779.7143 - fp: 3008.5714 - tn: 8206.9524 - fn: 1435.2381 - accuracy: 0.7993 - precision: 0.7615 - recall: 0.8710 - auc: 0.9086 - val_loss: 0.4603 - val_tp: 69.0000 - val_fp: 6221.0000 - val_tn: 39273.0000 - val_fn: 6.0000 - val_accuracy: 0.8634 - val_precision: 0.0110 - val_recall: 0.9200 - val_auc: 0.9591\n",
      "Epoch 6/1000\n",
      "20/20 [==============================] - 1s 29ms/step - loss: 0.3720 - tp: 9862.1905 - fp: 2487.6667 - tn: 8702.4286 - fn: 1378.1905 - accuracy: 0.8250 - precision: 0.7945 - recall: 0.8763 - auc: 0.9198 - val_loss: 0.4176 - val_tp: 69.0000 - val_fp: 4449.0000 - val_tn: 41045.0000 - val_fn: 6.0000 - val_accuracy: 0.9022 - val_precision: 0.0153 - val_recall: 0.9200 - val_auc: 0.9629\n",
      "Epoch 7/1000\n",
      "20/20 [==============================] - 1s 30ms/step - loss: 0.3434 - tp: 9884.2857 - fp: 2132.1429 - tn: 9100.8571 - fn: 1313.1905 - accuracy: 0.8445 - precision: 0.8204 - recall: 0.8818 - auc: 0.9310 - val_loss: 0.3800 - val_tp: 69.0000 - val_fp: 3168.0000 - val_tn: 42326.0000 - val_fn: 6.0000 - val_accuracy: 0.9303 - val_precision: 0.0213 - val_recall: 0.9200 - val_auc: 0.9657\n",
      "Epoch 8/1000\n",
      "20/20 [==============================] - 1s 30ms/step - loss: 0.3185 - tp: 9896.0952 - fp: 1687.2381 - tn: 9618.8095 - fn: 1228.3333 - accuracy: 0.8688 - precision: 0.8522 - recall: 0.8900 - auc: 0.9407 - val_loss: 0.3446 - val_tp: 69.0000 - val_fp: 2300.0000 - val_tn: 43194.0000 - val_fn: 6.0000 - val_accuracy: 0.9494 - val_precision: 0.0291 - val_recall: 0.9200 - val_auc: 0.9681\n",
      "Epoch 9/1000\n",
      "20/20 [==============================] - 1s 29ms/step - loss: 0.2999 - tp: 10051.6190 - fp: 1368.1905 - tn: 9791.8571 - fn: 1218.8095 - accuracy: 0.8839 - precision: 0.8790 - recall: 0.8916 - auc: 0.9447 - val_loss: 0.3133 - val_tp: 67.0000 - val_fp: 1682.0000 - val_tn: 43812.0000 - val_fn: 8.0000 - val_accuracy: 0.9629 - val_precision: 0.0383 - val_recall: 0.8933 - val_auc: 0.9705\n",
      "Epoch 10/1000\n",
      "20/20 [==============================] - 1s 30ms/step - loss: 0.2823 - tp: 10050.8571 - fp: 1147.0476 - tn: 10040.3810 - fn: 1192.1905 - accuracy: 0.8952 - precision: 0.8972 - recall: 0.8938 - auc: 0.9503 - val_loss: 0.2866 - val_tp: 67.0000 - val_fp: 1332.0000 - val_tn: 44162.0000 - val_fn: 8.0000 - val_accuracy: 0.9706 - val_precision: 0.0479 - val_recall: 0.8933 - val_auc: 0.9720\n",
      "Epoch 11/1000\n",
      "20/20 [==============================] - 1s 31ms/step - loss: 0.2664 - tp: 10064.9048 - fp: 943.3333 - tn: 10248.6190 - fn: 1173.6190 - accuracy: 0.9048 - precision: 0.9120 - recall: 0.8965 - auc: 0.9546 - val_loss: 0.2625 - val_tp: 67.0000 - val_fp: 1139.0000 - val_tn: 44355.0000 - val_fn: 8.0000 - val_accuracy: 0.9748 - val_precision: 0.0556 - val_recall: 0.8933 - val_auc: 0.9728\n",
      "Epoch 12/1000\n",
      "20/20 [==============================] - 1s 32ms/step - loss: 0.2483 - tp: 10024.4762 - fp: 803.2381 - tn: 10445.5714 - fn: 1157.1905 - accuracy: 0.9122 - precision: 0.9257 - recall: 0.8961 - auc: 0.9603 - val_loss: 0.2407 - val_tp: 67.0000 - val_fp: 1033.0000 - val_tn: 44461.0000 - val_fn: 8.0000 - val_accuracy: 0.9772 - val_precision: 0.0609 - val_recall: 0.8933 - val_auc: 0.9733\n",
      "Epoch 13/1000\n",
      "20/20 [==============================] - 1s 30ms/step - loss: 0.2410 - tp: 10077.0000 - fp: 735.9524 - tn: 10467.8095 - fn: 1149.7143 - accuracy: 0.9155 - precision: 0.9310 - recall: 0.8977 - auc: 0.9620 - val_loss: 0.2206 - val_tp: 67.0000 - val_fp: 930.0000 - val_tn: 44564.0000 - val_fn: 8.0000 - val_accuracy: 0.9794 - val_precision: 0.0672 - val_recall: 0.8933 - val_auc: 0.9741\n",
      "Epoch 14/1000\n",
      "20/20 [==============================] - 1s 30ms/step - loss: 0.2272 - tp: 10106.8571 - fp: 612.7143 - tn: 10571.2857 - fn: 1139.6190 - accuracy: 0.9214 - precision: 0.9418 - recall: 0.8988 - auc: 0.9657 - val_loss: 0.2042 - val_tp: 66.0000 - val_fp: 862.0000 - val_tn: 44632.0000 - val_fn: 9.0000 - val_accuracy: 0.9809 - val_precision: 0.0711 - val_recall: 0.8800 - val_auc: 0.9746\n",
      "Epoch 15/1000\n",
      "20/20 [==============================] - 1s 31ms/step - loss: 0.2199 - tp: 10124.0952 - fp: 576.3810 - tn: 10610.2857 - fn: 1119.7143 - accuracy: 0.9245 - precision: 0.9456 - recall: 0.9009 - auc: 0.9679 - val_loss: 0.1896 - val_tp: 66.0000 - val_fp: 835.0000 - val_tn: 44659.0000 - val_fn: 9.0000 - val_accuracy: 0.9815 - val_precision: 0.0733 - val_recall: 0.8800 - val_auc: 0.9752\n",
      "Epoch 16/1000\n",
      "20/20 [==============================] - 1s 30ms/step - loss: 0.2083 - tp: 10153.4762 - fp: 542.4286 - tn: 10636.2381 - fn: 1098.3333 - accuracy: 0.9273 - precision: 0.9491 - recall: 0.9038 - auc: 0.9711 - val_loss: 0.1764 - val_tp: 66.0000 - val_fp: 802.0000 - val_tn: 44692.0000 - val_fn: 9.0000 - val_accuracy: 0.9822 - val_precision: 0.0760 - val_recall: 0.8800 - val_auc: 0.9752\n",
      "Epoch 17/1000\n",
      "20/20 [==============================] - 1s 31ms/step - loss: 0.2030 - tp: 10231.3333 - fp: 491.6667 - tn: 10618.0000 - fn: 1089.4762 - accuracy: 0.9290 - precision: 0.9535 - recall: 0.9039 - auc: 0.9722 - val_loss: 0.1652 - val_tp: 66.0000 - val_fp: 777.0000 - val_tn: 44717.0000 - val_fn: 9.0000 - val_accuracy: 0.9828 - val_precision: 0.0783 - val_recall: 0.8800 - val_auc: 0.9754\n",
      "Epoch 18/1000\n",
      "20/20 [==============================] - 1s 30ms/step - loss: 0.1973 - tp: 10162.3810 - fp: 468.5714 - tn: 10724.2381 - fn: 1075.2857 - accuracy: 0.9306 - precision: 0.9564 - recall: 0.9034 - auc: 0.9734 - val_loss: 0.1553 - val_tp: 66.0000 - val_fp: 763.0000 - val_tn: 44731.0000 - val_fn: 9.0000 - val_accuracy: 0.9831 - val_precision: 0.0796 - val_recall: 0.8800 - val_auc: 0.9761\n",
      "Epoch 19/1000\n",
      "20/20 [==============================] - 1s 30ms/step - loss: 0.1903 - tp: 10121.1905 - fp: 421.9048 - tn: 10824.8095 - fn: 1062.5714 - accuracy: 0.9331 - precision: 0.9602 - recall: 0.9037 - auc: 0.9752 - val_loss: 0.1456 - val_tp: 66.0000 - val_fp: 729.0000 - val_tn: 44765.0000 - val_fn: 9.0000 - val_accuracy: 0.9838 - val_precision: 0.0830 - val_recall: 0.8800 - val_auc: 0.9764\n",
      "Epoch 20/1000\n",
      "20/20 [==============================] - 1s 30ms/step - loss: 0.1877 - tp: 10224.0476 - fp: 388.5714 - tn: 10744.8571 - fn: 1073.0000 - accuracy: 0.9344 - precision: 0.9636 - recall: 0.9046 - auc: 0.9763 - val_loss: 0.1381 - val_tp: 66.0000 - val_fp: 728.0000 - val_tn: 44766.0000 - val_fn: 9.0000 - val_accuracy: 0.9838 - val_precision: 0.0831 - val_recall: 0.8800 - val_auc: 0.9767\n",
      "Epoch 21/1000\n",
      "20/20 [==============================] - 1s 30ms/step - loss: 0.1758 - tp: 10158.1429 - fp: 391.3810 - tn: 10873.1429 - fn: 1007.8095 - accuracy: 0.9379 - precision: 0.9633 - recall: 0.9097 - auc: 0.9789 - val_loss: 0.1309 - val_tp: 66.0000 - val_fp: 727.0000 - val_tn: 44767.0000 - val_fn: 9.0000 - val_accuracy: 0.9838 - val_precision: 0.0832 - val_recall: 0.8800 - val_auc: 0.9772\n",
      "Epoch 22/1000\n",
      "20/20 [==============================] - 1s 32ms/step - loss: 0.1725 - tp: 10208.1905 - fp: 398.1429 - tn: 10781.5238 - fn: 1042.6190 - accuracy: 0.9360 - precision: 0.9625 - recall: 0.9077 - auc: 0.9800 - val_loss: 0.1249 - val_tp: 66.0000 - val_fp: 730.0000 - val_tn: 44764.0000 - val_fn: 9.0000 - val_accuracy: 0.9838 - val_precision: 0.0829 - val_recall: 0.8800 - val_auc: 0.9774\n",
      "Epoch 23/1000\n",
      "20/20 [==============================] - 1s 30ms/step - loss: 0.1704 - tp: 10120.0952 - fp: 386.0476 - tn: 10890.6667 - fn: 1033.6667 - accuracy: 0.9364 - precision: 0.9632 - recall: 0.9067 - auc: 0.9802 - val_loss: 0.1197 - val_tp: 66.0000 - val_fp: 728.0000 - val_tn: 44766.0000 - val_fn: 9.0000 - val_accuracy: 0.9838 - val_precision: 0.0831 - val_recall: 0.8800 - val_auc: 0.9778\n",
      "Epoch 24/1000\n",
      "20/20 [==============================] - 1s 31ms/step - loss: 0.1665 - tp: 10213.6190 - fp: 371.2381 - tn: 10848.7143 - fn: 996.9048 - accuracy: 0.9389 - precision: 0.9656 - recall: 0.9102 - auc: 0.9816 - val_loss: 0.1151 - val_tp: 66.0000 - val_fp: 734.0000 - val_tn: 44760.0000 - val_fn: 9.0000 - val_accuracy: 0.9837 - val_precision: 0.0825 - val_recall: 0.8800 - val_auc: 0.9783\n",
      "Epoch 25/1000\n",
      "20/20 [==============================] - 1s 31ms/step - loss: 0.1636 - tp: 10314.7143 - fp: 370.1905 - tn: 10772.6667 - fn: 972.9048 - accuracy: 0.9401 - precision: 0.9662 - recall: 0.9130 - auc: 0.9820 - val_loss: 0.1102 - val_tp: 66.0000 - val_fp: 718.0000 - val_tn: 44776.0000 - val_fn: 9.0000 - val_accuracy: 0.9840 - val_precision: 0.0842 - val_recall: 0.8800 - val_auc: 0.9789\n",
      "Epoch 26/1000\n",
      "20/20 [==============================] - 1s 32ms/step - loss: 0.1578 - tp: 10331.5714 - fp: 373.0952 - tn: 10761.1905 - fn: 964.6190 - accuracy: 0.9402 - precision: 0.9651 - recall: 0.9143 - auc: 0.9838 - val_loss: 0.1060 - val_tp: 66.0000 - val_fp: 710.0000 - val_tn: 44784.0000 - val_fn: 9.0000 - val_accuracy: 0.9842 - val_precision: 0.0851 - val_recall: 0.8800 - val_auc: 0.9787\n",
      "Epoch 27/1000\n",
      "20/20 [==============================] - 1s 30ms/step - loss: 0.1549 - tp: 10324.9524 - fp: 341.7619 - tn: 10831.1905 - fn: 932.5714 - accuracy: 0.9431 - precision: 0.9677 - recall: 0.9171 - auc: 0.9840 - val_loss: 0.1025 - val_tp: 66.0000 - val_fp: 708.0000 - val_tn: 44786.0000 - val_fn: 9.0000 - val_accuracy: 0.9843 - val_precision: 0.0853 - val_recall: 0.8800 - val_auc: 0.9791\n",
      "Epoch 28/1000\n",
      "20/20 [==============================] - 1s 29ms/step - loss: 0.1514 - tp: 10375.1429 - fp: 323.7143 - tn: 10845.5714 - fn: 886.0476 - accuracy: 0.9457 - precision: 0.9694 - recall: 0.9212 - auc: 0.9846 - val_loss: 0.0999 - val_tp: 66.0000 - val_fp: 712.0000 - val_tn: 44782.0000 - val_fn: 9.0000 - val_accuracy: 0.9842 - val_precision: 0.0848 - val_recall: 0.8800 - val_auc: 0.9791\n",
      "Epoch 29/1000\n",
      "20/20 [==============================] - 1s 31ms/step - loss: 0.1483 - tp: 10390.6667 - fp: 317.6190 - tn: 10799.4286 - fn: 922.7619 - accuracy: 0.9447 - precision: 0.9708 - recall: 0.9182 - auc: 0.9854 - val_loss: 0.0973 - val_tp: 66.0000 - val_fp: 718.0000 - val_tn: 44776.0000 - val_fn: 9.0000 - val_accuracy: 0.9840 - val_precision: 0.0842 - val_recall: 0.8800 - val_auc: 0.9794\n",
      "Epoch 30/1000\n",
      "20/20 [==============================] - 1s 30ms/step - loss: 0.1463 - tp: 10395.8095 - fp: 331.7143 - tn: 10816.5238 - fn: 886.4286 - accuracy: 0.9460 - precision: 0.9697 - recall: 0.9214 - auc: 0.9864 - val_loss: 0.0937 - val_tp: 66.0000 - val_fp: 714.0000 - val_tn: 44780.0000 - val_fn: 9.0000 - val_accuracy: 0.9841 - val_precision: 0.0846 - val_recall: 0.8800 - val_auc: 0.9797\n",
      "Epoch 31/1000\n",
      "20/20 [==============================] - 1s 29ms/step - loss: 0.1419 - tp: 10402.0952 - fp: 317.3810 - tn: 10827.2381 - fn: 883.7619 - accuracy: 0.9464 - precision: 0.9703 - recall: 0.9219 - auc: 0.9867 - val_loss: 0.0908 - val_tp: 66.0000 - val_fp: 709.0000 - val_tn: 44785.0000 - val_fn: 9.0000 - val_accuracy: 0.9842 - val_precision: 0.0852 - val_recall: 0.8800 - val_auc: 0.9802\n",
      "Epoch 32/1000\n",
      "20/20 [==============================] - 1s 32ms/step - loss: 0.1426 - tp: 10358.5238 - fp: 294.6190 - tn: 10879.2857 - fn: 898.0476 - accuracy: 0.9470 - precision: 0.9727 - recall: 0.9200 - auc: 0.9864 - val_loss: 0.0885 - val_tp: 66.0000 - val_fp: 701.0000 - val_tn: 44793.0000 - val_fn: 9.0000 - val_accuracy: 0.9844 - val_precision: 0.0860 - val_recall: 0.8800 - val_auc: 0.9805\n",
      "Epoch 33/1000\n",
      "20/20 [==============================] - 1s 30ms/step - loss: 0.1406 - tp: 10374.8095 - fp: 340.7143 - tn: 10850.9524 - fn: 864.0000 - accuracy: 0.9463 - precision: 0.9677 - recall: 0.9237 - auc: 0.9873 - val_loss: 0.0866 - val_tp: 67.0000 - val_fp: 706.0000 - val_tn: 44788.0000 - val_fn: 8.0000 - val_accuracy: 0.9843 - val_precision: 0.0867 - val_recall: 0.8933 - val_auc: 0.9794\n",
      "Epoch 34/1000\n",
      "20/20 [==============================] - 1s 30ms/step - loss: 0.1361 - tp: 10266.7143 - fp: 300.0952 - tn: 11002.8095 - fn: 860.8571 - accuracy: 0.9489 - precision: 0.9727 - recall: 0.9227 - auc: 0.9878 - val_loss: 0.0847 - val_tp: 67.0000 - val_fp: 711.0000 - val_tn: 44783.0000 - val_fn: 8.0000 - val_accuracy: 0.9842 - val_precision: 0.0861 - val_recall: 0.8933 - val_auc: 0.9799\n",
      "Epoch 35/1000\n",
      "20/20 [==============================] - 1s 32ms/step - loss: 0.1353 - tp: 10441.9524 - fp: 314.0000 - tn: 10797.2857 - fn: 877.2381 - accuracy: 0.9466 - precision: 0.9708 - recall: 0.9221 - auc: 0.9881 - val_loss: 0.0835 - val_tp: 67.0000 - val_fp: 715.0000 - val_tn: 44779.0000 - val_fn: 8.0000 - val_accuracy: 0.9841 - val_precision: 0.0857 - val_recall: 0.8933 - val_auc: 0.9803\n",
      "Epoch 36/1000\n",
      "20/20 [==============================] - 1s 29ms/step - loss: 0.1361 - tp: 10322.4762 - fp: 298.2857 - tn: 10957.6667 - fn: 852.0476 - accuracy: 0.9490 - precision: 0.9723 - recall: 0.9240 - auc: 0.9880 - val_loss: 0.0820 - val_tp: 67.0000 - val_fp: 719.0000 - val_tn: 44775.0000 - val_fn: 8.0000 - val_accuracy: 0.9840 - val_precision: 0.0852 - val_recall: 0.8933 - val_auc: 0.9804\n",
      "Epoch 37/1000\n",
      "20/20 [==============================] - 1s 32ms/step - loss: 0.1319 - tp: 10396.8571 - fp: 311.3810 - tn: 10876.4286 - fn: 845.8095 - accuracy: 0.9479 - precision: 0.9707 - recall: 0.9239 - auc: 0.9892 - val_loss: 0.0810 - val_tp: 67.0000 - val_fp: 725.0000 - val_tn: 44769.0000 - val_fn: 8.0000 - val_accuracy: 0.9839 - val_precision: 0.0846 - val_recall: 0.8933 - val_auc: 0.9808\n",
      "Epoch 38/1000\n",
      "20/20 [==============================] - 1s 30ms/step - loss: 0.1286 - tp: 10339.0000 - fp: 301.0476 - tn: 10960.5714 - fn: 829.8571 - accuracy: 0.9498 - precision: 0.9723 - recall: 0.9259 - auc: 0.9897 - val_loss: 0.0793 - val_tp: 67.0000 - val_fp: 722.0000 - val_tn: 44772.0000 - val_fn: 8.0000 - val_accuracy: 0.9840 - val_precision: 0.0849 - val_recall: 0.8933 - val_auc: 0.9808\n",
      "Epoch 39/1000\n",
      "20/20 [==============================] - 1s 31ms/step - loss: 0.1288 - tp: 10322.3333 - fp: 309.8095 - tn: 10955.0476 - fn: 843.2857 - accuracy: 0.9487 - precision: 0.9713 - recall: 0.9241 - auc: 0.9897 - val_loss: 0.0781 - val_tp: 67.0000 - val_fp: 724.0000 - val_tn: 44770.0000 - val_fn: 8.0000 - val_accuracy: 0.9839 - val_precision: 0.0847 - val_recall: 0.8933 - val_auc: 0.9808\n",
      "Epoch 40/1000\n",
      "20/20 [==============================] - 1s 30ms/step - loss: 0.1287 - tp: 10419.9048 - fp: 307.4286 - tn: 10876.5714 - fn: 826.5714 - accuracy: 0.9492 - precision: 0.9709 - recall: 0.9268 - auc: 0.9893 - val_loss: 0.0769 - val_tp: 67.0000 - val_fp: 724.0000 - val_tn: 44770.0000 - val_fn: 8.0000 - val_accuracy: 0.9839 - val_precision: 0.0847 - val_recall: 0.8933 - val_auc: 0.9812\n",
      "Epoch 41/1000\n",
      "20/20 [==============================] - 1s 31ms/step - loss: 0.1271 - tp: 10389.7619 - fp: 306.0000 - tn: 10920.8095 - fn: 813.9048 - accuracy: 0.9504 - precision: 0.9719 - recall: 0.9272 - auc: 0.9901 - val_loss: 0.0753 - val_tp: 67.0000 - val_fp: 717.0000 - val_tn: 44777.0000 - val_fn: 8.0000 - val_accuracy: 0.9841 - val_precision: 0.0855 - val_recall: 0.8933 - val_auc: 0.9816\n",
      "Epoch 42/1000\n",
      "20/20 [==============================] - 1s 30ms/step - loss: 0.1314 - tp: 10331.9048 - fp: 325.7143 - tn: 10955.4762 - fn: 817.3810 - accuracy: 0.9484 - precision: 0.9692 - recall: 0.9256 - auc: 0.9892 - val_loss: 0.0729 - val_tp: 67.0000 - val_fp: 691.0000 - val_tn: 44803.0000 - val_fn: 8.0000 - val_accuracy: 0.9847 - val_precision: 0.0884 - val_recall: 0.8933 - val_auc: 0.9815\n",
      "Epoch 43/1000\n",
      "20/20 [==============================] - 1s 30ms/step - loss: 0.1238 - tp: 10418.0476 - fp: 275.6190 - tn: 10904.6667 - fn: 832.1429 - accuracy: 0.9506 - precision: 0.9746 - recall: 0.9254 - auc: 0.9904 - val_loss: 0.0719 - val_tp: 67.0000 - val_fp: 691.0000 - val_tn: 44803.0000 - val_fn: 8.0000 - val_accuracy: 0.9847 - val_precision: 0.0884 - val_recall: 0.8933 - val_auc: 0.9819\n",
      "Epoch 44/1000\n",
      "20/20 [==============================] - 1s 30ms/step - loss: 0.1202 - tp: 10372.1905 - fp: 265.4286 - tn: 10982.9524 - fn: 809.9048 - accuracy: 0.9518 - precision: 0.9754 - recall: 0.9264 - auc: 0.9912 - val_loss: 0.0711 - val_tp: 67.0000 - val_fp: 696.0000 - val_tn: 44798.0000 - val_fn: 8.0000 - val_accuracy: 0.9846 - val_precision: 0.0878 - val_recall: 0.8933 - val_auc: 0.9817\n",
      "Epoch 45/1000\n",
      "20/20 [==============================] - 1s 30ms/step - loss: 0.1243 - tp: 10359.1905 - fp: 332.1905 - tn: 10949.0952 - fn: 790.0000 - accuracy: 0.9499 - precision: 0.9692 - recall: 0.9291 - auc: 0.9904 - val_loss: 0.0700 - val_tp: 67.0000 - val_fp: 696.0000 - val_tn: 44798.0000 - val_fn: 8.0000 - val_accuracy: 0.9846 - val_precision: 0.0878 - val_recall: 0.8933 - val_auc: 0.9797\n",
      "Epoch 46/1000\n",
      "20/20 [==============================] - 1s 30ms/step - loss: 0.1208 - tp: 10439.7143 - fp: 299.7143 - tn: 10922.0000 - fn: 769.0476 - accuracy: 0.9525 - precision: 0.9728 - recall: 0.9311 - auc: 0.9909 - val_loss: 0.0696 - val_tp: 67.0000 - val_fp: 706.0000 - val_tn: 44788.0000 - val_fn: 8.0000 - val_accuracy: 0.9843 - val_precision: 0.0867 - val_recall: 0.8933 - val_auc: 0.9798\n",
      "Epoch 47/1000\n",
      "20/20 [==============================] - 1s 31ms/step - loss: 0.1204 - tp: 10425.1905 - fp: 291.2381 - tn: 10959.9524 - fn: 754.0952 - accuracy: 0.9531 - precision: 0.9725 - recall: 0.9325 - auc: 0.9912 - val_loss: 0.0681 - val_tp: 67.0000 - val_fp: 683.0000 - val_tn: 44811.0000 - val_fn: 8.0000 - val_accuracy: 0.9848 - val_precision: 0.0893 - val_recall: 0.8933 - val_auc: 0.9795\n",
      "Epoch 48/1000\n",
      "20/20 [==============================] - 1s 29ms/step - loss: 0.1150 - tp: 10465.5238 - fp: 267.5238 - tn: 10911.5238 - fn: 785.9048 - accuracy: 0.9526 - precision: 0.9751 - recall: 0.9297 - auc: 0.9919 - val_loss: 0.0681 - val_tp: 67.0000 - val_fp: 706.0000 - val_tn: 44788.0000 - val_fn: 8.0000 - val_accuracy: 0.9843 - val_precision: 0.0867 - val_recall: 0.8933 - val_auc: 0.9796\n",
      "Epoch 49/1000\n",
      "20/20 [==============================] - 1s 31ms/step - loss: 0.1167 - tp: 10359.1429 - fp: 305.0000 - tn: 10998.6667 - fn: 767.6667 - accuracy: 0.9522 - precision: 0.9721 - recall: 0.9306 - auc: 0.9917 - val_loss: 0.0675 - val_tp: 67.0000 - val_fp: 708.0000 - val_tn: 44786.0000 - val_fn: 8.0000 - val_accuracy: 0.9843 - val_precision: 0.0865 - val_recall: 0.8933 - val_auc: 0.9798\n",
      "Epoch 50/1000\n",
      "20/20 [==============================] - 1s 30ms/step - loss: 0.1151 - tp: 10490.0476 - fp: 304.0952 - tn: 10879.2857 - fn: 757.0476 - accuracy: 0.9529 - precision: 0.9717 - recall: 0.9330 - auc: 0.9921 - val_loss: 0.0667 - val_tp: 67.0000 - val_fp: 706.0000 - val_tn: 44788.0000 - val_fn: 8.0000 - val_accuracy: 0.9843 - val_precision: 0.0867 - val_recall: 0.8933 - val_auc: 0.9800\n",
      "Epoch 51/1000\n",
      "20/20 [==============================] - 1s 30ms/step - loss: 0.1158 - tp: 10527.9048 - fp: 288.8095 - tn: 10840.4762 - fn: 773.2857 - accuracy: 0.9525 - precision: 0.9736 - recall: 0.9313 - auc: 0.9920 - val_loss: 0.0661 - val_tp: 67.0000 - val_fp: 701.0000 - val_tn: 44793.0000 - val_fn: 8.0000 - val_accuracy: 0.9844 - val_precision: 0.0872 - val_recall: 0.8933 - val_auc: 0.9802\n",
      "Epoch 52/1000\n",
      "20/20 [==============================] - 1s 30ms/step - loss: 0.1161 - tp: 10471.1429 - fp: 263.7143 - tn: 10940.3333 - fn: 755.2857 - accuracy: 0.9547 - precision: 0.9751 - recall: 0.9333 - auc: 0.9921 - val_loss: 0.0653 - val_tp: 67.0000 - val_fp: 696.0000 - val_tn: 44798.0000 - val_fn: 8.0000 - val_accuracy: 0.9846 - val_precision: 0.0878 - val_recall: 0.8933 - val_auc: 0.9803\n",
      "Epoch 53/1000\n",
      "20/20 [==============================] - 1s 30ms/step - loss: 0.1137 - tp: 10386.5714 - fp: 310.0000 - tn: 10969.0000 - fn: 764.9048 - accuracy: 0.9516 - precision: 0.9704 - recall: 0.9308 - auc: 0.9921 - val_loss: 0.0644 - val_tp: 67.0000 - val_fp: 686.0000 - val_tn: 44808.0000 - val_fn: 8.0000 - val_accuracy: 0.9848 - val_precision: 0.0890 - val_recall: 0.8933 - val_auc: 0.9805\n",
      "Restoring model weights from the end of the best epoch.\n",
      "Epoch 00053: early stopping\n"
     ]
    }
   ],
   "source": [
    "resampled_model = make_model()\n",
    "resampled_model.load_weights(initial_weights)\n",
    "\n",
    "# Reset the bias to zero, since this dataset is balanced.\n",
    "output_layer = resampled_model.layers[-1] \n",
    "output_layer.bias.assign([0])\n",
    "\n",
    "resampled_history = resampled_model.fit(\n",
    "    resampled_ds,\n",
    "    # These are not real epochs\n",
    "    steps_per_epoch=20,\n",
    "    epochs=10*EPOCHS,\n",
    "    callbacks=[early_stopping],\n",
    "    validation_data=(val_ds))"
   ]
  },
  {
   "cell_type": "markdown",
   "metadata": {
    "id": "UuJYKv0gpBK1"
   },
   "source": [
    "### 훈련 이력 재확인"
   ]
  },
  {
   "cell_type": "code",
   "execution_count": 49,
   "metadata": {
    "execution": {
     "iopub.execute_input": "2021-01-15T03:09:30.989833Z",
     "iopub.status.busy": "2021-01-15T03:09:30.989204Z",
     "iopub.status.idle": "2021-01-15T03:09:31.568161Z",
     "shell.execute_reply": "2021-01-15T03:09:31.568604Z"
    },
    "id": "FMycrpJwn39w"
   },
   "outputs": [
    {
     "data": {
      "image/png": "[encoded data removed]",
      "text/plain": [
       "<Figure size 864x720 with 4 Axes>"
      ]
     },
     "metadata": {
      "needs_background": "light"
     },
     "output_type": "display_data"
    }
   ],
   "source": [
    "plot_metrics(resampled_history)"
   ]
  },
  {
   "cell_type": "markdown",
   "metadata": {
    "id": "bUuE5HOWZiwP"
   },
   "source": [
    "### 메트릭 평가"
   ]
  },
  {
   "cell_type": "code",
   "execution_count": 50,
   "metadata": {
    "execution": {
     "iopub.execute_input": "2021-01-15T03:09:31.573523Z",
     "iopub.status.busy": "2021-01-15T03:09:31.572869Z",
     "iopub.status.idle": "2021-01-15T03:09:31.833549Z",
     "shell.execute_reply": "2021-01-15T03:09:31.832945Z"
    },
    "id": "C0fmHSgXxFdW"
   },
   "outputs": [],
   "source": [
    "train_predictions_resampled = resampled_model.predict(train_features, batch_size=BATCH_SIZE)\n",
    "test_predictions_resampled = resampled_model.predict(test_features, batch_size=BATCH_SIZE)"
   ]
  },
  {
   "cell_type": "code",
   "execution_count": 51,
   "metadata": {
    "execution": {
     "iopub.execute_input": "2021-01-15T03:09:31.838574Z",
     "iopub.status.busy": "2021-01-15T03:09:31.837882Z",
     "iopub.status.idle": "2021-01-15T03:09:32.988455Z",
     "shell.execute_reply": "2021-01-15T03:09:32.987903Z"
    },
    "id": "FO0mMOYUDWFk"
   },
   "outputs": [
    {
     "name": "stdout",
     "output_type": "stream",
     "text": [
      "loss :  0.0707845687866211\n",
      "tp :  74.0\n",
      "fp :  828.0\n",
      "tn :  56047.0\n",
      "fn :  13.0\n",
      "accuracy :  0.9852357506752014\n",
      "precision :  0.08203991502523422\n",
      "recall :  0.8505747318267822\n",
      "auc :  0.944765031337738\n",
      "\n",
      "Legitimate Transactions Detected (True Negatives):  56047\n",
      "Legitimate Transactions Incorrectly Detected (False Positives):  828\n",
      "Fraudulent Transactions Missed (False Negatives):  13\n",
      "Fraudulent Transactions Detected (True Positives):  74\n",
      "Total Fraudulent Transactions:  87\n"
     ]
    },
    {
     "data": {
      "image/png": "[encoded data removed]",
      "text/plain": [
       "<Figure size 360x360 with 2 Axes>"
      ]
     },
     "metadata": {
      "needs_background": "light"
     },
     "output_type": "display_data"
    }
   ],
   "source": [
    "resampled_results = resampled_model.evaluate(test_features, test_labels,\n",
    "                                             batch_size=BATCH_SIZE, verbose=0)\n",
    "for name, value in zip(resampled_model.metrics_names, resampled_results):\n",
    "  print(name, ': ', value)\n",
    "print()\n",
    "\n",
    "plot_cm(test_labels, test_predictions_resampled)"
   ]
  },
  {
   "cell_type": "markdown",
   "metadata": {
    "id": "_xYozM1IIITq"
   },
   "source": [
    "### ROC 플로팅"
   ]
  },
  {
   "cell_type": "code",
   "execution_count": 52,
   "metadata": {
    "execution": {
     "iopub.execute_input": "2021-01-15T03:09:32.994761Z",
     "iopub.status.busy": "2021-01-15T03:09:32.994009Z",
     "iopub.status.idle": "2021-01-15T03:09:33.418613Z",
     "shell.execute_reply": "2021-01-15T03:09:33.419046Z"
    },
    "id": "fye_CiuYrZ1U"
   },
   "outputs": [
    {
     "data": {
      "text/plain": [
       "<matplotlib.legend.Legend at 0x7ff2a836b860>"
      ]
     },
     "execution_count": 1,
     "metadata": {},
     "output_type": "execute_result"
    },
    {
     "data": {
      "image/png": "[encoded data removed]",
      "text/plain": [
       "<Figure size 864x720 with 1 Axes>"
      ]
     },
     "metadata": {
      "needs_background": "light"
     },
     "output_type": "display_data"
    }
   ],
   "source": [
    "plot_roc(\"Train Baseline\", train_labels, train_predictions_baseline, color=colors[0])\n",
    "plot_roc(\"Test Baseline\", test_labels, test_predictions_baseline, color=colors[0], linestyle='--')\n",
    "\n",
    "plot_roc(\"Train Weighted\", train_labels, train_predictions_weighted, color=colors[1])\n",
    "plot_roc(\"Test Weighted\", test_labels, test_predictions_weighted, color=colors[1], linestyle='--')\n",
    "\n",
    "plot_roc(\"Train Resampled\", train_labels, train_predictions_resampled, color=colors[2])\n",
    "plot_roc(\"Test Resampled\", test_labels, test_predictions_resampled, color=colors[2], linestyle='--')\n",
    "plt.legend(loc='lower right')"
   ]
  }
 ],
 "metadata": {
  "colab": {
   "collapsed_sections": [],
   "name": "imbalanced_data.ipynb",
   "toc_visible": true
  },
  "kernelspec": {
   "display_name": "Python 3",
   "language": "python",
   "name": "python3"
  },
  "language_info": {
   "codemirror_mode": {
    "name": "ipython",
    "version": 3
   },
   "file_extension": ".py",
   "mimetype": "text/x-python",
   "name": "python",
   "nbconvert_exporter": "python",
   "pygments_lexer": "ipython3",
   "version": "3.6.8"
  }
 },
 "nbformat": 4,
 "nbformat_minor": 4
}
